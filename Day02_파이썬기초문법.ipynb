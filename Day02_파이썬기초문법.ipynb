{
  "nbformat": 4,
  "nbformat_minor": 0,
  "metadata": {
    "colab": {
      "name": "Day2-파이썬기초문법.ipynb",
      "version": "0.3.2",
      "provenance": [],
      "collapsed_sections": [],
      "include_colab_link": true
    },
    "kernelspec": {
      "name": "python3",
      "display_name": "Python 3"
    },
    "accelerator": "GPU"
  },
  "cells": [
    {
      "cell_type": "markdown",
      "metadata": {
        "id": "view-in-github",
        "colab_type": "text"
      },
      "source": [
        "<a href=\"https://colab.research.google.com/github/DionKimmm/2019SummerML/blob/master/Day2_%ED%8C%8C%EC%9D%B4%EC%8D%AC%EA%B8%B0%EC%B4%88%EB%AC%B8%EB%B2%95.ipynb\" target=\"_parent\"><img src=\"https://colab.research.google.com/assets/colab-badge.svg\" alt=\"Open In Colab\"/></a>"
      ]
    },
    {
      "cell_type": "code",
      "metadata": {
        "id": "MLouX3CUMQmh",
        "colab_type": "code",
        "outputId": "e5f1eb57-0fe8-4fb6-b252-c8172817c07e",
        "colab": {
          "base_uri": "https://localhost:8080/",
          "height": 89
        }
      },
      "source": [
        "print(2+3)\n",
        "print(5-2)\n",
        "print(4*5)\n",
        "print(1/2)"
      ],
      "execution_count": 0,
      "outputs": [
        {
          "output_type": "stream",
          "text": [
            "5\n",
            "3\n",
            "20\n",
            "0.5\n"
          ],
          "name": "stdout"
        }
      ]
    },
    {
      "cell_type": "code",
      "metadata": {
        "id": "_znn65byN5lK",
        "colab_type": "code",
        "outputId": "4614af1f-448a-4a01-81e6-0d53bcbe00fb",
        "colab": {
          "base_uri": "https://localhost:8080/",
          "height": 89
        }
      },
      "source": [
        "print(5//3)\n",
        "print(5**2)\n",
        "print(5**3)\n",
        "print(20%3)"
      ],
      "execution_count": 0,
      "outputs": [
        {
          "output_type": "stream",
          "text": [
            "1\n",
            "25\n",
            "125\n",
            "2\n"
          ],
          "name": "stdout"
        }
      ]
    },
    {
      "cell_type": "code",
      "metadata": {
        "id": "BJhikdRoWOkL",
        "colab_type": "code",
        "outputId": "e5fdd6c7-e90c-4459-b0a7-460568d21b0e",
        "colab": {
          "base_uri": "https://localhost:8080/",
          "height": 107
        }
      },
      "source": [
        "print(5 < 6)\n",
        "print('Hello' > 'World!')\n",
        "print('홍길동' != '허균')\n",
        "result = 13==4\n",
        "print(result)\n",
        "print(type(result))"
      ],
      "execution_count": 0,
      "outputs": [
        {
          "output_type": "stream",
          "text": [
            "True\n",
            "False\n",
            "True\n",
            "False\n",
            "<class 'bool'>\n"
          ],
          "name": "stdout"
        }
      ]
    },
    {
      "cell_type": "code",
      "metadata": {
        "id": "YY1_wzSgWcxN",
        "colab_type": "code",
        "outputId": "4f5a3d1d-2baa-426c-c089-6ba9dff1bd77",
        "colab": {
          "base_uri": "https://localhost:8080/",
          "height": 53
        }
      },
      "source": [
        "age = 10\n",
        "if age == 10:\n",
        "  print('10살입니다')\n",
        "print('다른블럭입니다')\n",
        "#기본적으로 블럭 나눌 때는 스페이스바 2칸 권장"
      ],
      "execution_count": 0,
      "outputs": [
        {
          "output_type": "stream",
          "text": [
            "10살입니다\n",
            "다른블럭입니다\n"
          ],
          "name": "stdout"
        }
      ]
    },
    {
      "cell_type": "code",
      "metadata": {
        "id": "8UkiPqfqWqAo",
        "colab_type": "code",
        "outputId": "98e47852-b147-428f-b780-de8e3ac215a2",
        "colab": {
          "base_uri": "https://localhost:8080/",
          "height": 71
        }
      },
      "source": [
        "print('Hello, world!')\n",
        "print(age)\n",
        "name = '홍길동'\n",
        "print('나의 이름은 ' + name)"
      ],
      "execution_count": 0,
      "outputs": [
        {
          "output_type": "stream",
          "text": [
            "Hello, world!\n",
            "10\n",
            "나의 이름은 홍길동\n"
          ],
          "name": "stdout"
        }
      ]
    },
    {
      "cell_type": "code",
      "metadata": {
        "id": "zjpcbCh8W4Xm",
        "colab_type": "code",
        "outputId": "ef961ccb-f724-41fe-f9f2-6309fbd32256",
        "colab": {
          "base_uri": "https://localhost:8080/",
          "height": 161
        }
      },
      "source": [
        "age = 20 \n",
        "name = '홍길동' \n",
        "print(name, age) \n",
        "print('이름은', name, '나이는', age) \n",
        "print('이름은 '+ name + '나이는 '+str(age)) \n",
        "print('이름은 {} 나이는 {}'.format(name, age)) \n",
        "print('이름은 {0} 나이는 {1}'.format(name, age)) \n",
        "print('이름은 {1} 나이는 {0}'.format(age, name)) \n",
        "print('이름은 %s 나이는 %d'%(name, age)) \n",
        "print('pi = %f'%3.14)"
      ],
      "execution_count": 0,
      "outputs": [
        {
          "output_type": "stream",
          "text": [
            "홍길동 20\n",
            "이름은 홍길동 나이는 20\n",
            "이름은 홍길동나이는 20\n",
            "이름은 홍길동 나이는 20\n",
            "이름은 홍길동 나이는 20\n",
            "이름은 홍길동 나이는 20\n",
            "이름은 홍길동 나이는 20\n",
            "pi = 3.140000.ff\n"
          ],
          "name": "stdout"
        }
      ]
    },
    {
      "cell_type": "code",
      "metadata": {
        "id": "U6F2aiazXC5L",
        "colab_type": "code",
        "outputId": "74939b42-faaf-4f05-e46f-38cc00a0b87a",
        "colab": {
          "base_uri": "https://localhost:8080/",
          "height": 71
        }
      },
      "source": [
        "print('나이는', age)\n",
        "print('나이는 {}'.format(age))\n",
        "print('나이는 ' + str(age))"
      ],
      "execution_count": 0,
      "outputs": [
        {
          "output_type": "stream",
          "text": [
            "나이는 20\n",
            "나이는 20\n",
            "나이는 20\n"
          ],
          "name": "stdout"
        }
      ]
    },
    {
      "cell_type": "markdown",
      "metadata": {
        "id": "oxHHR637Ylwl",
        "colab_type": "text"
      },
      "source": [
        "# 시퀀스 자료형"
      ]
    },
    {
      "cell_type": "markdown",
      "metadata": {
        "id": "eWl1O-hUZfKY",
        "colab_type": "text"
      },
      "source": [
        "### list"
      ]
    },
    {
      "cell_type": "code",
      "metadata": {
        "id": "zHtr07IwZlmY",
        "colab_type": "code",
        "outputId": "53dcf274-59a2-42d6-b7ed-28dc7a95d7d1",
        "colab": {
          "base_uri": "https://localhost:8080/",
          "height": 35
        }
      },
      "source": [
        "score = [30, 50, 90, 89, 56, 87, 45]\n",
        "print(score)"
      ],
      "execution_count": 0,
      "outputs": [
        {
          "output_type": "stream",
          "text": [
            "[30, 50, 90, 89, 56, 87, 45]\n"
          ],
          "name": "stdout"
        }
      ]
    },
    {
      "cell_type": "code",
      "metadata": {
        "id": "fNPSL8lFZmk3",
        "colab_type": "code",
        "outputId": "d4c135fa-e560-4006-e50b-06240d770153",
        "colab": {
          "base_uri": "https://localhost:8080/",
          "height": 35
        }
      },
      "source": [
        "items = [1, 3, 'Hello', 5.6, False, 89, 'World']\n",
        "print(items)"
      ],
      "execution_count": 0,
      "outputs": [
        {
          "output_type": "stream",
          "text": [
            "[1, 3, 'Hello', 5.6, False, 89, 'World']\n"
          ],
          "name": "stdout"
        }
      ]
    },
    {
      "cell_type": "code",
      "metadata": {
        "id": "4_mqS2pTZsSj",
        "colab_type": "code",
        "outputId": "d508da89-c9c4-4bc0-fd2a-1c2c1a0cc5ec",
        "colab": {
          "base_uri": "https://localhost:8080/",
          "height": 53
        }
      },
      "source": [
        "print(score[-1])\n",
        "print(score[-3])"
      ],
      "execution_count": 0,
      "outputs": [
        {
          "output_type": "stream",
          "text": [
            "45\n",
            "56\n"
          ],
          "name": "stdout"
        }
      ]
    },
    {
      "cell_type": "code",
      "metadata": {
        "id": "YB9V4kYlbNm-",
        "colab_type": "code",
        "outputId": "bf47f3b3-b888-48aa-c719-a51cc19802a6",
        "colab": {
          "base_uri": "https://localhost:8080/",
          "height": 35
        }
      },
      "source": [
        "items.insert(2, 'world') #index [2] 자리에 world가 추가된다.\n",
        "print(items)"
      ],
      "execution_count": 0,
      "outputs": [
        {
          "output_type": "stream",
          "text": [
            "[1, 3, 'world', 'world', 'Hello', 5.6, False, 89, 'World']\n"
          ],
          "name": "stdout"
        }
      ]
    },
    {
      "cell_type": "code",
      "metadata": {
        "id": "6TAiwu7tj9az",
        "colab_type": "code",
        "outputId": "a3010fe7-a267-4ab0-bd77-9df50dda995f",
        "colab": {
          "base_uri": "https://localhost:8080/",
          "height": 71
        }
      },
      "source": [
        "scores = [30, 50, 90, 89, 56]\n",
        "length = len(scores)\n",
        "print(length)\n",
        "\n",
        "list1 = [1, 2, 3, 4, 5]\n",
        "list2 = [5, 6, 7, 8, 9, 10]\n",
        "print(list1 + list2)\n",
        "print(list1 * 3)"
      ],
      "execution_count": 0,
      "outputs": [
        {
          "output_type": "stream",
          "text": [
            "5\n",
            "[1, 2, 3, 4, 5, 5, 6, 7, 8, 9, 10]\n",
            "[1, 2, 3, 4, 5, 1, 2, 3, 4, 5, 1, 2, 3, 4, 5]\n"
          ],
          "name": "stdout"
        }
      ]
    },
    {
      "cell_type": "code",
      "metadata": {
        "id": "K6WIAUcckQgf",
        "colab_type": "code",
        "outputId": "e00ed9cf-2e18-43db-8be5-dc29a8e8c358",
        "colab": {
          "base_uri": "https://localhost:8080/",
          "height": 107
        }
      },
      "source": [
        "numbers = [0, 10, 20, 30, 40, 50, 60, 70, 80, 90]\n",
        "print(numbers[0:4])\n",
        "print(numbers[:4])\n",
        "print(numbers[7:9])\n",
        "print(numbers[7:11])\n",
        "print(numbers[7:])"
      ],
      "execution_count": 0,
      "outputs": [
        {
          "output_type": "stream",
          "text": [
            "[0, 10, 20, 30]\n",
            "[0, 10, 20, 30]\n",
            "[70, 80]\n",
            "[70, 80, 90]\n",
            "[70, 80, 90]\n"
          ],
          "name": "stdout"
        }
      ]
    },
    {
      "cell_type": "code",
      "metadata": {
        "id": "EpCqlshCkc0b",
        "colab_type": "code",
        "outputId": "6a0406f8-fb67-4b63-a491-9c87969770d3",
        "colab": {
          "base_uri": "https://localhost:8080/",
          "height": 89
        }
      },
      "source": [
        "list1 = list(range(10)) # 0 ~ 9까지의 범위를 생성 \n",
        "print(list1)\n",
        "list2 = list(range(1, 10)) # 1 ~ 9까지의 범위를 생성 \n",
        "print(list2)\n",
        "list3 = list(range(1, 10, 2)) # 1 ~ 9까지의 범위에서 2씩 증가하는 범위\n",
        "print(list3)\n",
        "list4 = list(range(10, 0, -1)) # 10 ~ 1까지의 범위에서 1씩 감소하는 범위\n",
        "print(list4)"
      ],
      "execution_count": 0,
      "outputs": [
        {
          "output_type": "stream",
          "text": [
            "[0, 1, 2, 3, 4, 5, 6, 7, 8, 9]\n",
            "[1, 2, 3, 4, 5, 6, 7, 8, 9]\n",
            "[1, 3, 5, 7, 9]\n",
            "[10, 9, 8, 7, 6, 5, 4, 3, 2, 1]\n"
          ],
          "name": "stdout"
        }
      ]
    },
    {
      "cell_type": "markdown",
      "metadata": {
        "id": "WEhJ0Z12lAI5",
        "colab_type": "text"
      },
      "source": [
        ""
      ]
    }
  ]
}
