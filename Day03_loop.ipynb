{
  "nbformat": 4,
  "nbformat_minor": 0,
  "metadata": {
    "colab": {
      "name": "Day3.ipynb",
      "version": "0.3.2",
      "provenance": [],
      "include_colab_link": true
    },
    "kernelspec": {
      "name": "python3",
      "display_name": "Python 3"
    },
    "accelerator": "GPU"
  },
  "cells": [
    {
      "cell_type": "markdown",
      "metadata": {
        "id": "view-in-github",
        "colab_type": "text"
      },
      "source": [
        "<a href=\"https://colab.research.google.com/github/DionKimmm/2019SummerML/blob/master/Day3_loop.ipynb\" target=\"_parent\"><img src=\"https://colab.research.google.com/assets/colab-badge.svg\" alt=\"Open In Colab\"/></a>"
      ]
    },
    {
      "cell_type": "markdown",
      "metadata": {
        "id": "BLCmHnxhNT8R",
        "colab_type": "text"
      },
      "source": [
        "## RANGE"
      ]
    },
    {
      "cell_type": "code",
      "metadata": {
        "id": "pzdJ-us2NYHE",
        "colab_type": "code",
        "colab": {
          "base_uri": "https://localhost:8080/",
          "height": 89
        },
        "outputId": "beb66fdc-0cd8-47e6-cfd0-1383108d5638"
      },
      "source": [
        "list1 = list(range(10)) # 0 ~ 9까지의 범위를 생성 \n",
        "print(list1)\n",
        "list2 = list(range(1, 10)) # 1 ~ 9까지의 범위를 생성 \n",
        "print(list2)\n",
        "list3 = tuple(range(1, 10, 2)) # 1 ~ 9까지의 범위에서 2씩 증가하는 범위\n",
        "print(list3)\n",
        "list4 = set(range(10, 0, -1)) # 10 ~ 1까지의 범위에서 1씩 감소하는 범위\n",
        "print(list4)"
      ],
      "execution_count": 2,
      "outputs": [
        {
          "output_type": "stream",
          "text": [
            "[0, 1, 2, 3, 4, 5, 6, 7, 8, 9]\n",
            "[1, 2, 3, 4, 5, 6, 7, 8, 9]\n",
            "(1, 3, 5, 7, 9)\n",
            "{1, 2, 3, 4, 5, 6, 7, 8, 9, 10}\n"
          ],
          "name": "stdout"
        }
      ]
    },
    {
      "cell_type": "markdown",
      "metadata": {
        "id": "7-1MZGSQNlNR",
        "colab_type": "text"
      },
      "source": [
        "# 목록 자료형은 괄호를 기준으로 자료형이 나뉘어집니다."
      ]
    },
    {
      "cell_type": "code",
      "metadata": {
        "id": "gAmlt7ctVgcH",
        "colab_type": "code",
        "colab": {}
      },
      "source": [
        "\n",
        "t = ()     #tuple 자료형 선언\n",
        "l = []     #list 자료형 선언\n",
        "s = {}     #set 자료형 선언"
      ],
      "execution_count": 0,
      "outputs": []
    },
    {
      "cell_type": "code",
      "metadata": {
        "id": "MriP7m8SQNqh",
        "colab_type": "code",
        "colab": {
          "base_uri": "https://localhost:8080/",
          "height": 136
        },
        "outputId": "2064fb57-d02d-4322-efa4-472f259ec2d2"
      },
      "source": [
        "adult = 18 \n",
        "age = 17\n",
        "gender = 'male'\n",
        "\n",
        "if age<adult :  \n",
        "  print('당신은 미성년자입니다.')\n",
        "  if gender == 'male' :\n",
        "    print('당신은 소년입니다.') # 미성년자 이면서 남성\n",
        "  else :\n",
        "    print('당신은 소녀입니다.') # 미성년자 이면서 여성\n",
        "else :  \n",
        "    print('당신은 성인입니다.')\n"
      ],
      "execution_count": 4,
      "outputs": [
        {
          "output_type": "error",
          "ename": "SyntaxError",
          "evalue": "ignored",
          "traceback": [
            "\u001b[0;36m  File \u001b[0;32m\"<ipython-input-4-690b55e0bdcf>\"\u001b[0;36m, line \u001b[0;32m12\u001b[0m\n\u001b[0;31m    print(\"당신은 성인입니다.)\u001b[0m\n\u001b[0m                      ^\u001b[0m\n\u001b[0;31mSyntaxError\u001b[0m\u001b[0;31m:\u001b[0m EOL while scanning string literal\n"
          ]
        }
      ]
    },
    {
      "cell_type": "markdown",
      "metadata": {
        "id": "bb87bcMAa_uK",
        "colab_type": "text"
      },
      "source": [
        "## 실습) 구구단 출력"
      ]
    },
    {
      "cell_type": "code",
      "metadata": {
        "id": "Re4EFXlcc0Bo",
        "colab_type": "code",
        "colab": {
          "base_uri": "https://localhost:8080/",
          "height": 161
        },
        "outputId": "cce3c420-222a-4762-d628-d507e4710225"
      },
      "source": [
        "for x in range(2,10) :\n",
        "  for y in range(2,10):\n",
        "    print(x*y, end=' ')\n",
        "  print()"
      ],
      "execution_count": 10,
      "outputs": [
        {
          "output_type": "stream",
          "text": [
            "4 6 8 10 12 14 16 18 \n",
            "6 9 12 15 18 21 24 27 \n",
            "8 12 16 20 24 28 32 36 \n",
            "10 15 20 25 30 35 40 45 \n",
            "12 18 24 30 36 42 48 54 \n",
            "14 21 28 35 42 49 56 63 \n",
            "16 24 32 40 48 56 64 72 \n",
            "18 27 36 45 54 63 72 81 \n"
          ],
          "name": "stdout"
        }
      ]
    },
    {
      "cell_type": "markdown",
      "metadata": {
        "id": "zjx2C6F5c83h",
        "colab_type": "text"
      },
      "source": [
        "## 실습) 홀수 출력"
      ]
    },
    {
      "cell_type": "code",
      "metadata": {
        "id": "6qk1BlORwbE0",
        "colab_type": "code",
        "colab": {
          "base_uri": "https://localhost:8080/",
          "height": 107
        },
        "outputId": "922c4a20-5ade-4e0b-f365-d292b6c06ee5"
      },
      "source": [
        "for i in range(1, 11) :\n",
        "  if i % 2 == 0 :\n",
        "    continue\n",
        "  print(i)"
      ],
      "execution_count": 11,
      "outputs": [
        {
          "output_type": "stream",
          "text": [
            "1\n",
            "3\n",
            "5\n",
            "7\n",
            "9\n"
          ],
          "name": "stdout"
        }
      ]
    },
    {
      "cell_type": "code",
      "metadata": {
        "id": "Dw14SvpWxJxH",
        "colab_type": "code",
        "colab": {}
      },
      "source": [
        ""
      ],
      "execution_count": 0,
      "outputs": []
    }
  ]
}
