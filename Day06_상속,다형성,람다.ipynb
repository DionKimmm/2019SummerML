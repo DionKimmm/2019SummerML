{
  "nbformat": 4,
  "nbformat_minor": 0,
  "metadata": {
    "colab": {
      "name": "Day6_상속,다형성,람다.ipynb",
      "version": "0.3.2",
      "provenance": [],
      "include_colab_link": true
    },
    "kernelspec": {
      "name": "python3",
      "display_name": "Python 3"
    }
  },
  "cells": [
    {
      "cell_type": "markdown",
      "metadata": {
        "id": "view-in-github",
        "colab_type": "text"
      },
      "source": [
        "<a href=\"https://colab.research.google.com/github/DionKimmm/2019SummerML/blob/master/Day6_%EC%83%81%EC%86%8D%2C%EB%8B%A4%ED%98%95%EC%84%B1%2C%EB%9E%8C%EB%8B%A4.ipynb\" target=\"_parent\"><img src=\"https://colab.research.google.com/assets/colab-badge.svg\" alt=\"Open In Colab\"/></a>"
      ]
    },
    {
      "cell_type": "markdown",
      "metadata": {
        "id": "3d4lCvf1vYCG",
        "colab_type": "text"
      },
      "source": [
        "# OS에 의한 메모리 구분\n",
        "##Stack, Heap, Data, Code(Text)"
      ]
    },
    {
      "cell_type": "code",
      "metadata": {
        "id": "0JWThublvNsN",
        "colab_type": "code",
        "colab": {}
      },
      "source": [
        "class Vehicle: # Code 영역\n",
        "  def __init__(self, wheels, seats, engine):\n",
        "    self.wheels = wheels\n",
        "    self.seats = seats\n",
        "    self.engine = engine\n",
        "    \n",
        "  def drive(self):\n",
        "    print('Run')"
      ],
      "execution_count": 0,
      "outputs": []
    },
    {
      "cell_type": "code",
      "metadata": {
        "id": "PvyjlTiIuMN6",
        "colab_type": "code",
        "colab": {}
      },
      "source": [
        "bike = Vehicle(2, 1, 2) \n",
        "# 새로운 Vehicle을 불러냈습니다.\n",
        "# 고로 stack 영역에 bike가 생성되고, Heap영역에 bike에 대한 Vehicle의 Instance가 생깁니다\n"
      ],
      "execution_count": 0,
      "outputs": []
    },
    {
      "cell_type": "code",
      "metadata": {
        "id": "BPB74g4oud0u",
        "colab_type": "code",
        "colab": {
          "base_uri": "https://localhost:8080/",
          "height": 73
        },
        "outputId": "a4b1710d-a2f2-48eb-886f-c2aca752e1b0"
      },
      "source": [
        "car = Vehicle(4, 4, 4) \n",
        "# 또 다른 새로운 Vehicle이 생성되었습니다.\n",
        "# 고로 stack 영역에 car가 생성되고, Heap영역에 car2에 대한 Vehicle의 Instance가 생깁니다\n",
        "print('car.wheels = ', car.wheels)\n",
        "print('car.seats = ', car.seats)\n",
        "car.drive()"
      ],
      "execution_count": 68,
      "outputs": [
        {
          "output_type": "stream",
          "text": [
            "car.wheels =  4\n",
            "car.seats =  4\n",
            "Run\n"
          ],
          "name": "stdout"
        }
      ]
    },
    {
      "cell_type": "code",
      "metadata": {
        "id": "1YiH3iA6uq-8",
        "colab_type": "code",
        "colab": {
          "base_uri": "https://localhost:8080/",
          "height": 36
        },
        "outputId": "26e741a7-cdaa-409f-ac2d-668315dd6d62"
      },
      "source": [
        "copy_bike = bike \n",
        "# stack 영역에 copy_bike가 생성되고, \n",
        "# Heap 영역에는 bike에 대한 Instance가 copy_bike에 대한 instance로 업데이트 됩니다.\n",
        "copy_bike.wheels = 4\n",
        "print('bike.wheels = ', copy_bike.wheels)\n"
      ],
      "execution_count": 67,
      "outputs": [
        {
          "output_type": "stream",
          "text": [
            "bike.wheels =  4\n"
          ],
          "name": "stdout"
        }
      ]
    },
    {
      "cell_type": "markdown",
      "metadata": {
        "id": "akiTrDtgwNUM",
        "colab_type": "text"
      },
      "source": [
        "![대체 텍스트](https://user-images.githubusercontent.com/38340645/60754827-c3272c00-a021-11e9-82dc-9a3765b3e4b7.png)"
      ]
    },
    {
      "cell_type": "markdown",
      "metadata": {
        "id": "PABeH30owNwd",
        "colab_type": "text"
      },
      "source": [
        ""
      ]
    },
    {
      "cell_type": "code",
      "metadata": {
        "id": "EDuYvF48uvM9",
        "colab_type": "code",
        "colab": {
          "base_uri": "https://localhost:8080/",
          "height": 73
        },
        "outputId": "98f20fc5-dcdb-4f5f-f051-9dee14637f87"
      },
      "source": [
        "class Car(Vehicle):\n",
        "  def __init(self):\n",
        "    super().__init__(4, 5, 4)\n",
        "    \n",
        "  def shift_gear():\n",
        "    print('변속')\n",
        "    \n",
        "car1 = Car(4, 5, 4)\n",
        "car1.wheels = 6\n",
        "print('car1.wheels = ', car1.wheels)\n",
        "print('car1.seats = ', car1.seats)\n",
        "car1.drive()"
      ],
      "execution_count": 9,
      "outputs": [
        {
          "output_type": "stream",
          "text": [
            "car1.wheels =  6\n",
            "car1.seats =  5\n",
            "Run\n"
          ],
          "name": "stdout"
        }
      ]
    },
    {
      "cell_type": "markdown",
      "metadata": {
        "id": "zFNUJDtmxazC",
        "colab_type": "text"
      },
      "source": [
        "![image](https://user-images.githubusercontent.com/38340645/60754850-3466df00-a022-11e9-93ae-9ec6b1ccbb48.png)"
      ]
    },
    {
      "cell_type": "markdown",
      "metadata": {
        "id": "fdVcq0iExs0S",
        "colab_type": "text"
      },
      "source": [
        "# 다형성"
      ]
    },
    {
      "cell_type": "code",
      "metadata": {
        "id": "JnS7rZx3yBrD",
        "colab_type": "code",
        "colab": {}
      },
      "source": [
        "class Vehicle():\n",
        "  def drive(self):\n",
        "    print('Run')\n",
        "\n",
        "class Sedan(Vehicle):\n",
        "  def drive(self):\n",
        "    print('Run Sedan')\n",
        "\n",
        "class Truck(Vehicle):\n",
        "  def drive(self):\n",
        "    print('Run Truck')\n",
        "  \n",
        "class Boat():\n",
        "  def drive(self):\n",
        "    print('Fly')"
      ],
      "execution_count": 0,
      "outputs": []
    },
    {
      "cell_type": "code",
      "metadata": {
        "id": "aO1juP0D233c",
        "colab_type": "code",
        "colab": {
          "base_uri": "https://localhost:8080/",
          "height": 36
        },
        "outputId": "1282df56-ec2a-4f0c-f1c8-1b259f7c6e4b"
      },
      "source": [
        "def drive(vehicle): #전역함수, global function, 가장 먼저 실행되는 지점\n",
        "  if isinstance(vehicle, Vehicle):\n",
        "    vehicle.drive()\n",
        "    \n",
        "sedan = Sedan()\n",
        "drive(sedan)"
      ],
      "execution_count": 36,
      "outputs": [
        {
          "output_type": "stream",
          "text": [
            "Run Sedan\n"
          ],
          "name": "stdout"
        }
      ]
    },
    {
      "cell_type": "markdown",
      "metadata": {
        "id": "RXqjmgm6yJx2",
        "colab_type": "text"
      },
      "source": [
        "# Lambda Function\n",
        "* 일반 함수를 이용하면 필요한 기능의 재사용이 가능하다\n",
        "> 함수를 정의한 후 필요할 때마다 호출하여 사용\n",
        "\n",
        "* 가끔씩은 함수를 만들지 않고 함수화된 기능만을 불러 사용하고자 할 경우가 있다.\n",
        ">프로그램을 단순하게 만들 수 있다.\n",
        ">1회용으로 함수를 만들고 싶은데 def xxx(): 과 같은 이름을 짓는 것이 번거롭게 느껴질 수 있다.\n",
        "\n"
      ]
    },
    {
      "cell_type": "markdown",
      "metadata": {
        "id": "obrghVyJygyl",
        "colab_type": "text"
      },
      "source": [
        "* 람다, 람다 표현식이라고도 불리우는 람다 함수는 이름이 없는 함수\n",
        "> 익명함수(anonymous function)로 부르기도 함\n",
        "> 이름이 필요할 경우 할당하여 사용할 수 있다\n",
        "\n",
        "* 주의: 표현식 안에서 새 변수를 선언할 수 없다\n",
        "* 반환값은 변수없이 식 한줄로 표현할 수 있어야 하며, 복잡한 함수가 필요하면 def로 함수를 정의하여야 한다.\n",
        "* return 문이 필요 없다"
      ]
    },
    {
      "cell_type": "markdown",
      "metadata": {
        "id": "a42LL0fKzOay",
        "colab_type": "text"
      },
      "source": [
        "## 사용법"
      ]
    },
    {
      "cell_type": "code",
      "metadata": {
        "id": "ogpj6idbzRGR",
        "colab_type": "code",
        "colab": {
          "base_uri": "https://localhost:8080/",
          "height": 55
        },
        "outputId": "8822eba4-9c2b-4417-e5f9-ca5bd0a96ba5"
      },
      "source": [
        "def add(x, y):\n",
        "  return x + y\n",
        "\n",
        "f = lambda x, y: x + y\n",
        "\n",
        "print(add(1, 2))\n",
        "print(f(1, 2))"
      ],
      "execution_count": 13,
      "outputs": [
        {
          "output_type": "stream",
          "text": [
            "3\n",
            "3\n"
          ],
          "name": "stdout"
        }
      ]
    },
    {
      "cell_type": "code",
      "metadata": {
        "id": "x4dz1jc5z6Cb",
        "colab_type": "code",
        "colab": {
          "base_uri": "https://localhost:8080/",
          "height": 55
        },
        "outputId": "b6dfb5cb-5cb1-48a9-8e5d-f6d3c452ec3d"
      },
      "source": [
        "def divide3(x):\n",
        "  if x % 3 == 0:\n",
        "    return 0\n",
        "  else:\n",
        "    return x\n",
        "  \n",
        "  \n",
        "f = lambda x: 0 if x % 3 == 0 else x\n",
        "print(f(3))\n",
        "print(f(4))"
      ],
      "execution_count": 16,
      "outputs": [
        {
          "output_type": "stream",
          "text": [
            "0\n",
            "4\n"
          ],
          "name": "stdout"
        }
      ]
    },
    {
      "cell_type": "markdown",
      "metadata": {
        "id": "1-Y4VoqXz_w0",
        "colab_type": "text"
      },
      "source": [
        "# 맵(map) 함수와 람다\n",
        "* 파이썬은 map() 이라는 내장함수를 제공하는데 열거가능한 자료형의 각 요소들에 대해서 매핑 함수를 적용한다"
      ]
    },
    {
      "cell_type": "code",
      "metadata": {
        "id": "s1u30X0d0mfW",
        "colab_type": "code",
        "colab": {
          "base_uri": "https://localhost:8080/",
          "height": 55
        },
        "outputId": "14c534a5-4bfc-480e-c73c-cfa1b615e62b"
      },
      "source": [
        "a = [1, 2, 3, 4, 5, 6, 7]\n",
        "print(list(map(lambda x: x**2, a)))\n",
        "print(tuple(map(lambda x: x**3, a)))"
      ],
      "execution_count": 21,
      "outputs": [
        {
          "output_type": "stream",
          "text": [
            "[1, 4, 9, 16, 25, 36, 49]\n",
            "(1, 8, 27, 64, 125, 216, 343)\n"
          ],
          "name": "stdout"
        }
      ]
    },
    {
      "cell_type": "markdown",
      "metadata": {
        "id": "m_kkRqVA1UJC",
        "colab_type": "text"
      },
      "source": [
        "# 필터(filter) 함수와 람다\n",
        "* 리스트에서 다룬 filter() 함수는 순환가능한 요소들을 함수에 넣어 그 리턴값이 참인 것만 묶어서 반환한다.\n"
      ]
    },
    {
      "cell_type": "code",
      "metadata": {
        "id": "-4KIm3iK16Oj",
        "colab_type": "code",
        "colab": {
          "base_uri": "https://localhost:8080/",
          "height": 167
        },
        "outputId": "61d0ea9c-8f40-4324-e85a-6770ea83f261"
      },
      "source": [
        "ages = [18, 19, 20, 39, 12, 43, 13, 21, 25]\n",
        "\n",
        "def adult_func(age):\n",
        "  if age >= 19:\n",
        "    return True\n",
        "  else:\n",
        "    return False\n",
        "\n",
        "\n",
        "for age in filter(lambda age: age >=19, ages):\n",
        "  print(age)\n",
        "  \n",
        "adultAgesList = list(filter(lambda age: age>=19, ages))\n",
        "print(adultAgesList)\n",
        "\n",
        "adultAgesList = filter(lambda age: age>=19, ages)\n",
        "print(type(adultAgesList))"
      ],
      "execution_count": 71,
      "outputs": [
        {
          "output_type": "stream",
          "text": [
            "19\n",
            "20\n",
            "39\n",
            "43\n",
            "21\n",
            "25\n",
            "[19, 20, 39, 43, 21, 25]\n",
            "<class 'filter'>\n"
          ],
          "name": "stdout"
        }
      ]
    },
    {
      "cell_type": "markdown",
      "metadata": {
        "id": "sABUtPve1_qc",
        "colab_type": "text"
      },
      "source": [
        "# 람다 실습\n",
        "* 1부터 10 사이의 정수를 가진 리스트에서 짝수만 나오게 필\n",
        "터링한 결과 리스트의 모든 원소에 대해 제곱을 수행해서 리\n",
        "스트로 반환하는 코드를 필터와 맵과 람다를 이용해서 작성\n",
        "하시요."
      ]
    },
    {
      "cell_type": "code",
      "metadata": {
        "id": "OwGbfn_o4ToS",
        "colab_type": "code",
        "colab": {
          "base_uri": "https://localhost:8080/",
          "height": 73
        },
        "outputId": "e609db19-6be1-4918-e5ad-0176362c951b"
      },
      "source": [
        "a = list(range(1,10))\n",
        "\n",
        "# for x in range(10):\n",
        "#   a.append(x)\n",
        "\n",
        "# 전체 원소 제곱한 리스트\n",
        "square_a = list(map(lambda x:x**2, a))\n",
        "print(square_a)\n",
        "\n",
        "#짝수만 나오게 필터링한 리스트\n",
        "a_odd = list(filter(lambda x: x%2==0, a))\n",
        "print(a_odd)\n",
        "\n",
        "#짝수 제곱 리스트\n",
        "square_a_odd = list(map(lambda x:x**2, a_odd))\n",
        "print(square_a_odd)"
      ],
      "execution_count": 55,
      "outputs": [
        {
          "output_type": "stream",
          "text": [
            "[1, 4, 9, 16, 25, 36, 49, 64, 81]\n",
            "[2, 4, 6, 8]\n",
            "[4, 16, 36, 64]\n"
          ],
          "name": "stdout"
        }
      ]
    },
    {
      "cell_type": "markdown",
      "metadata": {
        "id": "fITcmu9E4v9n",
        "colab_type": "text"
      },
      "source": [
        "# Reduce 함수\n",
        "* functools 모듈에 포함되어 있음\n",
        "* 순환 가능 요소들을 같은 방법으로 연산하여 하나의 값을 얻는데 사용할 수 있다.\n",
        "![image](https://user-images.githubusercontent.com/38340645/60755273-582d2380-a028-11e9-98f1-26d5b9fd8bc8.png)\n",
        "![image](https://user-images.githubusercontent.com/38340645/60755278-6aa75d00-a028-11e9-881f-cb7ca9b3164b.png)\n"
      ]
    },
    {
      "cell_type": "code",
      "metadata": {
        "id": "HfRFA6p373fp",
        "colab_type": "code",
        "colab": {
          "base_uri": "https://localhost:8080/",
          "height": 55
        },
        "outputId": "4f204eb0-f026-4dc4-d279-863ba3abf298"
      },
      "source": [
        "from functools import reduce\n",
        "\n",
        "nums = list(range(1, 5))\n",
        "sum = reduce(lambda x, y: x+y, nums)\n",
        "print(sum) # 1+2 = 3 +3 = 6 +4 = 10\n",
        "\n",
        "mul = reduce(lambda x, y: x*y, nums)\n",
        "print(mul) #1*2 = 2 *3 = 6 *4 = 24"
      ],
      "execution_count": 53,
      "outputs": [
        {
          "output_type": "stream",
          "text": [
            "10\n",
            "24\n"
          ],
          "name": "stdout"
        }
      ]
    },
    {
      "cell_type": "markdown",
      "metadata": {
        "id": "po0fdX4r8rfB",
        "colab_type": "text"
      },
      "source": [
        "# 실습\n",
        "* 1부터 10 사이의 정수를 가진 리스트에서 짝수만 나오게 필\n",
        "터링한 결과 리스트의 모든 원소의 곱을 구하는 코드를\n",
        "lambda, filter, reduce 함수를 사용해서 작성하시요."
      ]
    },
    {
      "cell_type": "code",
      "metadata": {
        "id": "dj3gCeix8K58",
        "colab_type": "code",
        "colab": {
          "base_uri": "https://localhost:8080/",
          "height": 55
        },
        "outputId": "e0d0c09f-4501-47cc-93af-7b311c5fef9a"
      },
      "source": [
        "print(a_odd)\n",
        "\n",
        "\n",
        "a_odd_reduce = reduce(lambda x, y: x*y, a_odd)\n",
        "print(a_odd_reduce)"
      ],
      "execution_count": 57,
      "outputs": [
        {
          "output_type": "stream",
          "text": [
            "[2, 4, 6, 8]\n",
            "384\n"
          ],
          "name": "stdout"
        }
      ]
    },
    {
      "cell_type": "markdown",
      "metadata": {
        "id": "eyshJInz8yoS",
        "colab_type": "text"
      },
      "source": [
        "아래 코드는 reduce함수를 이용하는 것을 포함하여 파이썬으로 1-100 까지의 합을 구하는 총 3가지 방법입니다. \n"
      ]
    },
    {
      "cell_type": "code",
      "metadata": {
        "id": "uHCQxBjg91Vf",
        "colab_type": "code",
        "colab": {}
      },
      "source": [
        "# 1-100 까지의 합을 구하라 \n",
        " \n",
        "# C 언어 스타일의 해법\n",
        "sum_value = 0\n",
        "for i in range(1, 101) :\n",
        "    sum_value += i \n",
        "print(sum_value)\n",
        " \n",
        "# python 스러운 해법\n",
        "sum_value = reduce((lambda x,y : x+y), [x for x in range(1,101)])\n",
        "print(sum_value)\n",
        " \n",
        "# 하지만 Data scientist가 가장 먼저 생각해는 해법 \n",
        "import numpy as np\n",
        "print(np.sum([x for x in range(1,101)])\n",
        "\n",
        "\n",
        "\n",
        "출처: https://3months.tistory.com/338 [Deep Play]"
      ],
      "execution_count": 0,
      "outputs": []
    }
  ]
}
