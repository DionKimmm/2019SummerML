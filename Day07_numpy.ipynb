{
  "nbformat": 4,
  "nbformat_minor": 0,
  "metadata": {
    "colab": {
      "name": "Day07_numpy.ipynb",
      "version": "0.3.2",
      "provenance": [],
      "collapsed_sections": [],
      "include_colab_link": true
    },
    "kernelspec": {
      "name": "python3",
      "display_name": "Python 3"
    }
  },
  "cells": [
    {
      "cell_type": "markdown",
      "metadata": {
        "id": "view-in-github",
        "colab_type": "text"
      },
      "source": [
        "<a href=\"https://colab.research.google.com/github/DionKimmm/2019SummerML/blob/master/Day07_numpy.ipynb\" target=\"_parent\"><img src=\"https://colab.research.google.com/assets/colab-badge.svg\" alt=\"Open In Colab\"/></a>"
      ]
    },
    {
      "cell_type": "markdown",
      "metadata": {
        "id": "aapmVGERwK7n",
        "colab_type": "text"
      },
      "source": [
        "![numpy logo](http://drive.google.com/uc?export=view&id=1As8PTCtVHZb8wTPm6hxHcBAG4FCqjNxO)"
      ]
    },
    {
      "cell_type": "markdown",
      "metadata": {
        "id": "0VQ91AXuh184",
        "colab_type": "text"
      },
      "source": [
        "\n",
        "\n",
        "### *   NumPy는 파이썬을 이용하여 과학계산을 할때 사용하는 기본적인 패키지\n",
        "### * 다차원 배열과 행렬 객체가 포함\n",
        "### * 배열(행렬) 객체를 처리하는 고급 함수들이 있어서, 반복문이 불필요\n",
        "### * 유용한 선형대수 풀이, 푸리에 변환, 난수 계산기 등의 다양한 기능\n",
        "### *   머신러닝에 필수적인 큰 수치 데이터를 다루게 되는데 이러한 수치 데이터 처리에 적합한 패키지\n",
        "### * 행렬 계산의 사실상 표준 패키지\n",
        "### * 빠른 연산이 필요한 경우 적합\n",
        "### * 고급 선형대수학 라이브러리를 제공\n",
        "\n",
        "![대체 텍스트](http://drive.google.com/uc?export=view&id=1cmHjBhz9nfXvwU3aE_S63COPV-oCfsH2)\n",
        "![대체 텍스트](http://drive.google.com/uc?export=view&id=13CI7_9UsMWYn6KGDm4ihowwbXvLCQWC5)\n",
        "![대체 텍스트](http://drive.google.com/uc?export=view&id=10CXHgg5yEQxuH6R_xXWbNFMpoj8RtfaC)\n",
        "\n",
        "\n"
      ]
    },
    {
      "cell_type": "markdown",
      "metadata": {
        "id": "cx0PNy7L9qS1",
        "colab_type": "text"
      },
      "source": [
        "<div>NumPy는 수치해석을 위한 라이브러리인만큼 숫자형 자료형에 대해서는&nbsp;<a href=\"https://kongdols-room.tistory.com/23\" target=\"_blank\" class=\"tx-link\">파이썬</a><a href=\"https://kongdols-room.tistory.com/23\" target=\"_blank\" class=\"tx-link\">&nbsp;내장 숫자자료형</a>에 비해&nbsp;다양한 자료형들이 존재한다.</div><p><br /></p><p><b><span style=\"font-size: 12pt;\">NumPy에서의 자료형</span></b></p><p><br /></p><p>NumPy에서는 제공하는 숫자형 자료형의 종류는&nbsp;정수(int), 부호없는 정수(uint), 실수(float), 복소수(complex), 논리(bool)로 총 5가지로&nbsp;나뉜다.</p><p>자료형뒤에 숫자는 일반적으로 bit수(memory)를 의미한다.</p><p>아래에 설명하는 데이터 타입들은 전부 자료형 정의 및 변경을 위한 함수로써 사용이 가능하다.</p><p><br /></p><p><b>정수형 자료형</b></p><p>&nbsp;&nbsp;○ NumPy에서 제공하는 정수형 자료형은 크게 2가지로 나뉜다.</p><p>&nbsp; &nbsp;&nbsp;▷ int는 음수와 양수를 다 아우르는 정수형 자료형이다.</p><p>&nbsp; &nbsp; ▷ uint는 0을 포함한 양수를 혹은 부호없는 정수를&nbsp;제공하는 자료형이다.</p><p>&nbsp; ○&nbsp;NumPy에서 사용하는 정수형 자료형에 대한 설명이 다음 표와 같이 제시되어 있다.</p><div>&nbsp; &nbsp;&nbsp;▷ 기본적으로 int나 uint 뒤에 오는 숫자는 bit의 개수를 의미한다. (bit는 0과 1만 존재하는 컴퓨터에서 가장 작은 단위의 자료형이다.)</div><div>&nbsp; &nbsp; ▷ 예를들어, 뒤에 숫자가 8이면 2^8개 만큼의 정수를 표현하는 것이 가능하다.</div><p style=\"text-align: left;\"><br /></p><table class=\"txc-table\" width=\"528\" cellspacing=\"0\" cellpadding=\"0\" border=\"0\" style=\"border: none; border-collapse: collapse; width: 528px;\" 맑은=\"\" 고딕\",=\"\" sans-serif;font-size:13px\"=\"\"><tbody><tr><td style=\"width: 143px; height: 24px; border-width: 1px; border-style: solid; border-color: rgb(204, 204, 204);\"><p style=\"text-align: center;\"><b>데이터 타입</b></p></td>\n",
        "<td style=\"width: 384px; height: 24px; border-bottom: 1px solid rgb(204, 204, 204); border-right: 1px solid rgb(204, 204, 204); border-top: 1px solid rgb(204, 204, 204);\"><p style=\"text-align: center;\"><b>설명</b></p></td>\n",
        "</tr>\n",
        "<tr><td style=\"width: 143px; height: 24px; border-bottom: 1px solid rgb(204, 204, 204); border-right: 1px solid rgb(204, 204, 204); border-left: 1px solid rgb(204, 204, 204);\"><p style=\"text-align: center;\">int_</p></td>\n",
        "<td style=\"width: 384px; height: 24px; border-bottom: 1px solid rgb(204, 204, 204); border-right: 1px solid rgb(204, 204, 204);\"><p style=\"text-align: left;\">&nbsp; - 정수형 자료형 기본값</p><p style=\"text-align: left;\">&nbsp; - C언어에서 long과 같다.</p><p style=\"text-align: left;\">&nbsp; - 일반적으로 int64나 int32이다.</p></td>\n",
        "</tr>\n",
        "<tr><td style=\"width: 143px; height: 24px; border-bottom: 1px solid rgb(204, 204, 204); border-right: 1px solid rgb(204, 204, 204); border-left: 1px solid rgb(204, 204, 204);\"><p style=\"text-align: center;\">&nbsp;intc</p></td>\n",
        "<td style=\"width: 384px; height: 24px; border-bottom: 1px solid rgb(204, 204, 204); border-right: 1px solid rgb(204, 204, 204);\"><p style=\"text-align: left;\">&nbsp; - C언어 int와 동일하다.</p><p style=\"text-align: left;\">&nbsp; - 일반적으로 int32와 int64이다.</p></td>\n",
        "</tr>\n",
        "<tr><td style=\"width: 143px; height: 24px; border-bottom: 1px solid rgb(204, 204, 204); border-right: 1px solid rgb(204, 204, 204); border-left: 1px solid rgb(204, 204, 204);\"><p style=\"text-align: center;\">&nbsp;intp</p></td>\n",
        "<td style=\"width: 384px; height: 24px; border-bottom: 1px solid rgb(204, 204, 204); border-right: 1px solid rgb(204, 204, 204);\"><p style=\"text-align: left;\">&nbsp; - 인덱싱에 사용되는 정수형이다.</p><p style=\"text-align: left;\">&nbsp; - C언어에서&nbsp; ssize_t와 동일하다.</p><p style=\"text-align: left;\">&nbsp; - 일반적으로 int32나 int64이다.</p></td>\n",
        "</tr>\n",
        "<tr><td style=\"width: 143px; height: 52px; border-bottom: 1px solid rgb(204, 204, 204); border-right: 1px solid rgb(204, 204, 204); border-left: 1px solid rgb(204, 204, 204);\"><p style=\"text-align: center;\">&nbsp;int8</p></td>\n",
        "<td style=\"width: 384px; height: 52px; border-bottom: 1px solid rgb(204, 204, 204); border-right: 1px solid rgb(204, 204, 204);\"><p style=\"text-align: left;\">&nbsp; - 1바이트 만큼의 정수 표현이 가능하다.</p><p style=\"text-align: left;\">&nbsp; - 즉, 2^8 개수 만큼 표현이 가능하다.</p><p style=\"text-align: left;\">&nbsp; - -128 ~ 127</p></td>\n",
        "</tr>\n",
        "<tr><td style=\"width: 143px; height: 35px; border-bottom: 1px solid rgb(204, 204, 204); border-right: 1px solid rgb(204, 204, 204); border-left: 1px solid rgb(204, 204, 204);\"><p style=\"text-align: center;\">&nbsp;int16</p></td>\n",
        "<td style=\"width: 384px; height: 35px; border-bottom: 1px solid rgb(204, 204, 204); border-right: 1px solid rgb(204, 204, 204);\"><p style=\"text-align: left;\">&nbsp; - 2^16개수 만큼&nbsp;표현이 가능하다.</p><p style=\"text-align: left;\">&nbsp; - -32,768 ~&nbsp;32,767</p></td>\n",
        "</tr>\n",
        "<tr><td style=\"width: 143px; height: 35px; border-bottom: 1px solid rgb(204, 204, 204); border-right: 1px solid rgb(204, 204, 204); border-left: 1px solid rgb(204, 204, 204);\"><p style=\"text-align: center;\">&nbsp;int32</p></td>\n",
        "<td style=\"width: 384px; height: 35px; border-bottom: 1px solid rgb(204, 204, 204); border-right: 1px solid rgb(204, 204, 204);\"><p style=\"text-align: left;\">&nbsp; - 2^32개수 만큼 표현이 가능하다.</p><p style=\"text-align: left;\">&nbsp; -&nbsp;-2,147,483,648 ~&nbsp;2,147,483,647</p></td>\n",
        "</tr>\n",
        "\n",
        "<tr><td style=\"width: 143px; height: 52px; border-bottom: 1px solid rgb(204, 204, 204); border-right: 1px solid rgb(204, 204, 204); border-left: 1px solid rgb(204, 204, 204);\"><p style=\"text-align: center;\">&nbsp;uint8</p></td>\n",
        "<td style=\"width: 384px; height: 52px; border-bottom: 1px solid rgb(204, 204, 204); border-right: 1px solid rgb(204, 204, 204);\"><p style=\"text-align: left;\">&nbsp; - 양수만 표현이 가능하다.</p><p style=\"text-align: left;\">&nbsp; - 2^8개수 만큼 표현이 가능하다.</p><p style=\"text-align: left;\">&nbsp; -&nbsp;0 ~&nbsp;255</p></td>\n",
        "</tr>\n",
        "<tr><td style=\"width: 143px; height: 35px; border-bottom: 1px solid rgb(204, 204, 204); border-right: 1px solid rgb(204, 204, 204); border-left: 1px solid rgb(204, 204, 204);\"><p style=\"text-align: center;\">&nbsp;uint16</p></td>\n",
        "<td style=\"width: 384px; height: 35px; border-bottom: 1px solid rgb(204, 204, 204); border-right: 1px solid rgb(204, 204, 204);\"><p style=\"text-align: left;\">&nbsp; -&nbsp;2^16개수 만큼 표현이 가능하다.</p><p style=\"text-align: left;\">&nbsp; - 0 ~&nbsp;65,535</p></td>\n",
        "</tr>\n",
        "<tr><td style=\"width: 143px; height: 35px; border-bottom: 1px solid rgb(204, 204, 204); border-right: 1px solid rgb(204, 204, 204); border-left: 1px solid rgb(204, 204, 204);\" rowspan=\"1\"><p style=\"text-align: center;\">&nbsp;uint32</p></td><td style=\"width: 384px; height: 35px; border-bottom: 1px solid rgb(204, 204, 204); border-right: 1px solid rgb(204, 204, 204);\" rowspan=\"1\"><p style=\"text-align: left;\">&nbsp; - 2^32개수 만큼 표현이 가능하다.</p><p style=\"text-align: left;\">&nbsp; -&nbsp;0 ~&nbsp;4,294,967,295</p></td></tr><tr><td style=\"width: 143px; height: 24px; border-bottom: 1px solid rgb(204, 204, 204); border-right: 1px solid rgb(204, 204, 204); border-left: 1px solid rgb(204, 204, 204);\" rowspan=\"1\"><p style=\"text-align: center;\">&nbsp;uint64</p></td><td style=\"width: 384px; height: 24px; border-bottom: 1px solid rgb(204, 204, 204); border-right: 1px solid rgb(204, 204, 204);\" rowspan=\"1\"><p style=\"text-align: left;\">&nbsp; -&nbsp;2^64개수 만큼 표현이 가능하다.</p><p style=\"text-align: left;\">&nbsp; -&nbsp;0 ~&nbsp;18,446,744,073,709,551,615</p></td></tr></tbody></table><p style=\"text-align: center;\"></p><p><br /></p><p><br /></p><p><b>실수형 자료형</b></p><p>&nbsp;&nbsp;○ 아래&nbsp;표는 NumPy에서&nbsp;실수형 자료형을 보여준다.</p><p>&nbsp; &nbsp;&nbsp;▷ 자료형 뒤에 숫자는 정수와 마찬가지로 bit수를 의미한다.</p><p><br /></p><table class=\"txc-table\" width=\"531\" cellspacing=\"0\" cellpadding=\"0\" border=\"0\" 맑은=\"\" 고딕\",=\"\" sans-serif;font-size:13px\"=\"\" style=\"border: none; border-collapse: collapse; width: 531px;\"><tbody><tr><td style=\"width: 143px; height: 24px; border-width: 1px; border-style: solid; border-color: rgb(204, 204, 204);\"><p style=\"text-align: center;\">&nbsp;데이터 타입</p></td><td style=\"width: 387px; height: 24px; border-bottom: 1px solid rgb(204, 204, 204); border-right: 1px solid rgb(204, 204, 204); border-top: 1px solid rgb(204, 204, 204);\"><p style=\"text-align: center;\">&nbsp;설명</p></td></tr><tr><td style=\"width: 143px; height: 24px; border-bottom: 1px solid rgb(204, 204, 204); border-right: 1px solid rgb(204, 204, 204); border-left: 1px solid rgb(204, 204, 204);\"><p style=\"text-align: center;\">float_</p></td><td style=\"width: 387px; height: 24px; border-bottom: 1px solid rgb(204, 204, 204); border-right: 1px solid rgb(204, 204, 204);\"><p>&nbsp; - float64의 약칭이다.</p></td></tr><tr><td style=\"width: 143px; height: 35px; border-bottom: 1px solid rgb(204, 204, 204); border-right: 1px solid rgb(204, 204, 204); border-left: 1px solid rgb(204, 204, 204);\"><p style=\"text-align: center;\">&nbsp;float16</p></td><td style=\"width: 387px; height: 35px; border-bottom: 1px solid rgb(204, 204, 204); border-right: 1px solid rgb(204, 204, 204);\"><p>&nbsp;&nbsp;- 반정밀도(Half precision)를 가지는 실수형 자료형이다.</p><p>&nbsp; - 5 bit의 지수와, 10 bit의 소수로 구성된다.</p></td></tr><tr><td style=\"width: 143px; height: 35px; border-bottom: 1px solid rgb(204, 204, 204); border-right: 1px solid rgb(204, 204, 204); border-left: 1px solid rgb(204, 204, 204);\"><p style=\"text-align: center;\">&nbsp;float32</p></td><td style=\"width: 387px; height: 35px; border-bottom: 1px solid rgb(204, 204, 204); border-right: 1px solid rgb(204, 204, 204);\"><p>&nbsp; - 단정밀도(Single precision)를 가지는 실수형 자료형이다.</p><p>&nbsp; - 8&nbsp;bit의 지수와, 23&nbsp;bit의 소수로 구성된다.</p></td></tr><tr><td style=\"width: 143px; height: 24px; border-bottom: 1px solid rgb(204, 204, 204); border-right: 1px solid rgb(204, 204, 204); border-left: 1px solid rgb(204, 204, 204);\"><p style=\"text-align: center;\">&nbsp;float64</p></td><td style=\"width: 387px; height: 24px; border-bottom: 1px solid rgb(204, 204, 204); border-right: 1px solid rgb(204, 204, 204);\"><p>&nbsp; - 배정밀도(Double&nbsp;precision)를 가지는 실수형 자료형이다.</p><p>&nbsp; - 11&nbsp;bit의 지수와, 52&nbsp;bit의 소수로 구성된다.</p></td></tr></tbody></table><p><br /></p><p><br /></p><p><b>복소수형 자료형</b></p><p>&nbsp; ○ 다음 표는 복소수형 자료형을 보여주며 숫자의 의미는 정수,&nbsp;실수와 같다.</p><p><br /></p><table class=\"txc-table\" width=\"532\" cellspacing=\"0\" cellpadding=\"0\" border=\"0\" 맑은=\"\" 고딕\",=\"\" sans-serif;font-size:13px\"=\"\" style=\"border: none; border-collapse: collapse; width: 532px;\"><tbody><tr><td style=\"width: 143px; height: 24px; border-width: 1px; border-style: solid; border-color: rgb(204, 204, 204);\"><p style=\"text-align: center;\">&nbsp;데이터 타입</p></td><td style=\"width: 388px; height: 24px; border-bottom: 1px solid rgb(204, 204, 204); border-right: 1px solid rgb(204, 204, 204); border-top: 1px solid rgb(204, 204, 204);\"><p style=\"text-align: center;\">&nbsp;설명</p></td></tr><tr><td style=\"width: 143px; height: 24px; border-bottom: 1px solid rgb(204, 204, 204); border-right: 1px solid rgb(204, 204, 204); border-left: 1px solid rgb(204, 204, 204);\"><p style=\"text-align: center;\">complex_</p></td><td style=\"width: 388px; height: 24px; border-bottom: 1px solid rgb(204, 204, 204); border-right: 1px solid rgb(204, 204, 204);\"><p>&nbsp; - complex128의 약칭이다.</p></td></tr><tr><td style=\"width: 143px; height: 24px; border-bottom: 1px solid rgb(204, 204, 204); border-right: 1px solid rgb(204, 204, 204); border-left: 1px solid rgb(204, 204, 204);\"><p style=\"text-align: center;\">complex64</p></td><td style=\"width: 388px; height: 24px; border-bottom: 1px solid rgb(204, 204, 204); border-right: 1px solid rgb(204, 204, 204);\"><p>&nbsp; - 실수부분과 허수부분에 각각 floalt32의 자료형을 가진다.</p></td></tr><tr><td style=\"width: 143px; height: 24px; border-bottom: 1px solid rgb(204, 204, 204); border-right: 1px solid rgb(204, 204, 204); border-left: 1px solid rgb(204, 204, 204);\"><p style=\"text-align: center;\">&nbsp;complex128</p></td><td style=\"width: 388px; height: 24px; border-bottom: 1px solid rgb(204, 204, 204); border-right: 1px solid rgb(204, 204, 204);\"><p>&nbsp; -&nbsp;실수부분과 허수부분에 각각 floalt64의 자료형을 가진다.</p></td></tr></tbody></table><p><br /></p><p><br /></p><p><b>논리형 자료형</b></p><p>&nbsp; ○ NumPy는 논리형 자료형도 취급하며 다음 표에 설명되어 있다.</p><p><br /></p><table class=\"txc-table\" width=\"531\" cellspacing=\"0\" cellpadding=\"0\" border=\"0\" 맑은=\"\" 고딕\",=\"\" sans-serif;font-size:13px\"=\"\" style=\"border: none; border-collapse: collapse; width: 531px;\"><tbody><tr><td style=\"width: 143px; height: 24px; border-width: 1px; border-style: solid; border-color: rgb(204, 204, 204);\"><p style=\"text-align: center;\">&nbsp;데이터 타입</p></td><td style=\"width: 387px; height: 24px; border-bottom: 1px solid rgb(204, 204, 204); border-right: 1px solid rgb(204, 204, 204); border-top: 1px solid rgb(204, 204, 204);\"><p style=\"text-align: center;\">&nbsp;설명</p></td></tr><tr><td style=\"width: 143px; height: 24px; border-bottom: 1px solid rgb(204, 204, 204); border-right: 1px solid rgb(204, 204, 204); border-left: 1px solid rgb(204, 204, 204);\"><p style=\"text-align: center;\">bool_ 혹은 bool</p></td><td style=\"width: 387px; height: 24px; border-bottom: 1px solid rgb(204, 204, 204); border-right: 1px solid rgb(204, 204, 204);\"><p>&nbsp; - 하나의 바이트로 거짓(False)과 참(True)을 표현한&nbsp;자료형이다.</p></td></tr></tbody></table><p><br /></p><p><br /></p><p><b><span style=\"font-size: 12pt;\">NumPy&nbsp;자료형과 관련된 함수/메서드</span></b></p><p>&nbsp; ○ 위에 설명한 자료형과 관련된 함수 말고도 자료형을 확인하거나 변경시킬 수 있는 함수가 존재한다.</p><p><br /></p><table class=\"txc-table\" width=\"799\" cellspacing=\"0\" cellpadding=\"0\" border=\"0\" style=\"border: none; border-collapse: collapse; width: 799px;\" 맑은=\"\" 고딕\",=\"\" sans-serif;font-size:13px\"=\"\"><tbody><tr><td style=\"width: 141px; height: 24px; border-width: 1px; border-style: solid; border-color: rgb(204, 204, 204);\"><p style=\"text-align: center;\">함수&nbsp;</p></td><td style=\"width: 218px; height: 24px; border-width: 1px; border-style: solid; border-color: rgb(204, 204, 204);\" colspan=\"1\"><p style=\"text-align: center;\">&nbsp;사용 예</p></td>\n",
        "<td style=\"width: 439px; height: 24px; border-bottom: 1px solid rgb(204, 204, 204); border-right: 1px solid rgb(204, 204, 204); border-top: 1px solid rgb(204, 204, 204);\"><p style=\"text-align: center;\">설명</p></td>\n",
        "</tr>\n",
        "<tr><td style=\"width: 141px; height: 24px; border-bottom: 1px solid rgb(204, 204, 204); border-right: 1px solid rgb(204, 204, 204); border-left: 1px solid rgb(204, 204, 204);\"><p style=\"text-align: center;\">&nbsp;dtype</p></td><td style=\"width: 218px; height: 24px; border-bottom: 1px solid rgb(204, 204, 204); border-right: 1px solid rgb(204, 204, 204); border-left: 1px solid rgb(204, 204, 204);\" colspan=\"1\"><p style=\"text-align: center;\">x.dtype&nbsp;</p></td>\n",
        "<td style=\"width: 439px; height: 24px; border-bottom: 1px solid rgb(204, 204, 204); border-right: 1px solid rgb(204, 204, 204);\"><p style=\"text-align: left;\">&nbsp; - 변수 x의 자료형을 출력한다.</p></td>\n",
        "</tr>\n",
        "<tr><td style=\"width: 141px; height: 24px; border-bottom: 1px solid rgb(204, 204, 204); border-right: 1px solid rgb(204, 204, 204); border-left: 1px solid rgb(204, 204, 204);\"><p style=\"text-align: center;\">&nbsp;astype()</p></td><td style=\"width: 218px; height: 24px; border-bottom: 1px solid rgb(204, 204, 204); border-right: 1px solid rgb(204, 204, 204); border-left: 1px solid rgb(204, 204, 204);\" colspan=\"1\"><p style=\"text-align: center;\">x.astype(<i>dtype</i>)</p></td>\n",
        "<td style=\"width: 439px; height: 24px; border-bottom: 1px solid rgb(204, 204, 204); border-right: 1px solid rgb(204, 204, 204);\"><p style=\"text-align: left;\">&nbsp; - 변수 x를 <i>dtype</i>의 자료형으로 변경하여 출력한다.</p></td>\n",
        "</tr>\n",
        "<tr><td style=\"width: 141px; height: 24px; border-bottom: 1px solid rgb(204, 204, 204); border-right: 1px solid rgb(204, 204, 204); border-left: 1px solid rgb(204, 204, 204);\"><p style=\"text-align: center;\">issubtype( , )&nbsp;</p></td><td style=\"width: 218px; height: 24px; border-bottom: 1px solid rgb(204, 204, 204); border-right: 1px solid rgb(204, 204, 204); border-left: 1px solid rgb(204, 204, 204);\" colspan=\"1\"><p style=\"text-align: center;\">np.issubdtype(<i>dtype, upperdtype</i>)&nbsp;</p></td>\n",
        "<td style=\"width: 439px; height: 24px; border-bottom: 1px solid rgb(204, 204, 204); border-right: 1px solid rgb(204, 204, 204);\"><p style=\"text-align: left;\">&nbsp; - 자료형 <i>dtype</i>이&nbsp;<i>upperdatatype</i>의 하위자료형이면&nbsp;참(True)을&nbsp;아니면 거짓(False)를 출력한다.&nbsp;</p></td>\n",
        "</tr>\n",
        "\n",
        "</tbody></table>"
      ]
    },
    {
      "cell_type": "code",
      "metadata": {
        "id": "vW8Rzuiyi_RG",
        "colab_type": "code",
        "colab": {}
      },
      "source": [
        "import numpy as np"
      ],
      "execution_count": 0,
      "outputs": []
    },
    {
      "cell_type": "code",
      "metadata": {
        "id": "9gid7I-C-1s8",
        "colab_type": "code",
        "outputId": "a7f8b835-987a-4fb4-ce04-4378c54a4481",
        "colab": {
          "base_uri": "https://localhost:8080/",
          "height": 53
        }
      },
      "source": [
        "i = np.int64(5)\n",
        "print(i, type(i), i.dtype)\n",
        "\n",
        "i1 = np.int64(0)\n",
        "print(i1, type(i1), i1.dtype)"
      ],
      "execution_count": 0,
      "outputs": [
        {
          "output_type": "stream",
          "text": [
            "5 <class 'numpy.int64'> int64\n",
            "0 <class 'numpy.int64'> int64\n"
          ],
          "name": "stdout"
        }
      ]
    },
    {
      "cell_type": "code",
      "metadata": {
        "id": "gm-HwiUS_JLE",
        "colab_type": "code",
        "outputId": "7c65cc24-c42a-4391-c528-9afb7c733b3b",
        "colab": {
          "base_uri": "https://localhost:8080/",
          "height": 50
        }
      },
      "source": [
        "f = np.float64()\n",
        "print(f, f.dtype)\n",
        "\n",
        "f1 = np.float64(5)\n",
        "print(f1, type(f1))"
      ],
      "execution_count": 0,
      "outputs": [
        {
          "output_type": "stream",
          "text": [
            "0.0 float64\n",
            "5.0 <class 'numpy.float64'>\n"
          ],
          "name": "stdout"
        }
      ]
    },
    {
      "cell_type": "markdown",
      "metadata": {
        "id": "xhwriVhjA9Ju",
        "colab_type": "text"
      },
      "source": [
        "## ndarray\n",
        "\n",
        "* 파이썬의 numpy 패키지에는 ndarray라는 다차원 배열 클래스가 있다\n",
        "* 동일한 형의 자료값을 저장\n",
        "* 동일한 차원의 배열에 대해서 덧셈, 뺄셈이 가능함\n",
        "* 리스트 연산에 비해 연산 속도가 빠르다\n",
        "* 인덱싱, 크기 구하기 연산이 가능하며, shape, 아이템의 크기, 차원, 아이템 바이트 등의 속성이 있다\n"
      ]
    },
    {
      "cell_type": "code",
      "metadata": {
        "id": "-Rlv4jt0BRZb",
        "colab_type": "code",
        "outputId": "d6317266-c78a-4c69-906d-8b9fadcfb879",
        "colab": {
          "base_uri": "https://localhost:8080/",
          "height": 35
        }
      },
      "source": [
        "list1 = [1.3, 2., 3, 4, 5]\n",
        "arr = np.array(list1)\n",
        "print(arr, type(arr), arr.dtype)"
      ],
      "execution_count": 0,
      "outputs": [
        {
          "output_type": "stream",
          "text": [
            "[1. 2. 3. 4. 5.] <class 'numpy.ndarray'> float64\n"
          ],
          "name": "stdout"
        }
      ]
    },
    {
      "cell_type": "code",
      "metadata": {
        "id": "TfMBC0-lBtsH",
        "colab_type": "code",
        "outputId": "86dfa078-d23a-42df-941b-0f990c0a5825",
        "colab": {
          "base_uri": "https://localhost:8080/",
          "height": 71
        }
      },
      "source": [
        "list2 = [[1,2],[3,4]]\n",
        "print(list2)\n",
        "arr1 = np.array(list2)\n",
        "print(arr1, type(arr1), arr1.dtype)"
      ],
      "execution_count": 0,
      "outputs": [
        {
          "output_type": "stream",
          "text": [
            "[[1, 2], [3, 4]]\n",
            "[[1 2]\n",
            " [3 4]] <class 'numpy.ndarray'> int64\n"
          ],
          "name": "stdout"
        }
      ]
    },
    {
      "cell_type": "markdown",
      "metadata": {
        "id": "A2glQwIOMNPo",
        "colab_type": "text"
      },
      "source": [
        "## 배열의 연산"
      ]
    },
    {
      "cell_type": "markdown",
      "metadata": {
        "id": "w_JgwWcIjfSw",
        "colab_type": "text"
      },
      "source": [
        "![대체 텍스트](http://drive.google.com/uc?export=view&id=1yFoUH7Io8hRKdQW4i-L02oyT1lazIfhW)"
      ]
    },
    {
      "cell_type": "code",
      "metadata": {
        "id": "e7fJvy_HjEKr",
        "colab_type": "code",
        "outputId": "311fee4f-dd41-44f2-b017-50877f5e1498",
        "colab": {
          "base_uri": "https://localhost:8080/",
          "height": 84
        }
      },
      "source": [
        "a = np.array([[1, 2], [3, 4]])\n",
        "print(a)\n",
        "\n",
        "b = np.array([[10, 20], [30, 40]])\n",
        "print(b)"
      ],
      "execution_count": 0,
      "outputs": [
        {
          "output_type": "stream",
          "text": [
            "[[1 2]\n",
            " [3 4]]\n",
            "[[10 20]\n",
            " [30 40]]\n"
          ],
          "name": "stdout"
        }
      ]
    },
    {
      "cell_type": "markdown",
      "metadata": {
        "id": "oJ37MnH0i3ta",
        "colab_type": "text"
      },
      "source": [
        "* shape: shape 속성은 배열의 차원 정보를 가지고 있다\n",
        "* 예를들어 (3, 4)라는 shape 이 있다면 3행 4열의 2차원 배열을 의미함\n",
        "* ndim: 배열의 축(차원)의 개수를 포함하고 있음\n",
        "* dtype: 배열 원소 객체의 자료형을 기술함\n",
        "* itemsize: 배열 원소 객체의 크기를 바이트 단위로 표시함, float64라는 자료형은 8바이트이므로 itemsize는 8이 된다\n",
        "* size: 배열 원소의 개수인데 shape (3, 4)일 경우 3 * 4 = 12개임"
      ]
    },
    {
      "cell_type": "code",
      "metadata": {
        "id": "ajHDxQg5jK8s",
        "colab_type": "code",
        "outputId": "de37d67e-cf59-428a-f14f-849aa773e53c",
        "colab": {
          "base_uri": "https://localhost:8080/",
          "height": 34
        }
      },
      "source": [
        "a.ndim"
      ],
      "execution_count": 0,
      "outputs": [
        {
          "output_type": "execute_result",
          "data": {
            "text/plain": [
              "2"
            ]
          },
          "metadata": {
            "tags": []
          },
          "execution_count": 35
        }
      ]
    },
    {
      "cell_type": "code",
      "metadata": {
        "id": "vV5zTHTWwA90",
        "colab_type": "code",
        "outputId": "20d1a916-11f7-466e-aa81-74469ee0555e",
        "colab": {
          "base_uri": "https://localhost:8080/",
          "height": 34
        }
      },
      "source": [
        "a.shape"
      ],
      "execution_count": 0,
      "outputs": [
        {
          "output_type": "execute_result",
          "data": {
            "text/plain": [
              "(2, 2)"
            ]
          },
          "metadata": {
            "tags": []
          },
          "execution_count": 36
        }
      ]
    },
    {
      "cell_type": "code",
      "metadata": {
        "id": "aPhGMNW0IcC9",
        "colab_type": "code",
        "outputId": "fac34bd6-4334-4869-c804-25f5a860ce4c",
        "colab": {
          "base_uri": "https://localhost:8080/",
          "height": 50
        }
      },
      "source": [
        "b = np.array([1,2,3,4])\n",
        "print(b.ndim, b.shape)\n",
        "print((4))"
      ],
      "execution_count": 0,
      "outputs": [
        {
          "output_type": "stream",
          "text": [
            "1 (4,)\n",
            "4\n"
          ],
          "name": "stdout"
        }
      ]
    },
    {
      "cell_type": "markdown",
      "metadata": {
        "id": "FH2R02Ubob3x",
        "colab_type": "text"
      },
      "source": [
        "\n",
        "##### 덧셈\n",
        "\n",
        "![대체 텍스트](http://drive.google.com/uc?export=view&id=1Y9BH1jf2R5EQr9JkkM9KvxywjF3XTiL1)"
      ]
    },
    {
      "cell_type": "code",
      "metadata": {
        "id": "Z_OHagK2pzLj",
        "colab_type": "code",
        "outputId": "147e1626-bb5d-4f1a-8f6c-111c4debca76",
        "colab": {
          "base_uri": "https://localhost:8080/",
          "height": 53
        }
      },
      "source": [
        "c = a + b\n",
        "print(c)"
      ],
      "execution_count": 0,
      "outputs": [
        {
          "output_type": "stream",
          "text": [
            "[[11 22]\n",
            " [33 44]]\n"
          ],
          "name": "stdout"
        }
      ]
    },
    {
      "cell_type": "markdown",
      "metadata": {
        "id": "IygJ0Gq3ozDJ",
        "colab_type": "text"
      },
      "source": [
        "#### 뺄셈 \n",
        "\n",
        "![대체 텍스트](http://drive.google.com/uc?export=view&id=1K-k7_D9eZHri6QAQ2qVnpDtUo1iUhFzz)"
      ]
    },
    {
      "cell_type": "code",
      "metadata": {
        "id": "1w9DuPJkp6kR",
        "colab_type": "code",
        "outputId": "faccbf60-34b1-4148-9c28-86ab433dba33",
        "colab": {
          "base_uri": "https://localhost:8080/",
          "height": 53
        }
      },
      "source": [
        "d = b - a\n",
        "print(d)"
      ],
      "execution_count": 0,
      "outputs": [
        {
          "output_type": "stream",
          "text": [
            "[[ 9 18]\n",
            " [27 36]]\n"
          ],
          "name": "stdout"
        }
      ]
    },
    {
      "cell_type": "markdown",
      "metadata": {
        "id": "zVFF50ggo9mh",
        "colab_type": "text"
      },
      "source": [
        "#### 곱셈\n",
        "\n",
        "![대체 텍스트](http://drive.google.com/uc?export=view&id=1I698Y0exq06sxhSTrk5yHpM57WP11Q8D)"
      ]
    },
    {
      "cell_type": "code",
      "metadata": {
        "id": "Di4ncBcyqFWM",
        "colab_type": "code",
        "outputId": "eb2a4c34-965d-45ac-e981-cda2ae050694",
        "colab": {
          "base_uri": "https://localhost:8080/",
          "height": 53
        }
      },
      "source": [
        "e = a * b\n",
        "print(e)"
      ],
      "execution_count": 0,
      "outputs": [
        {
          "output_type": "stream",
          "text": [
            "[[ 10  40]\n",
            " [ 90 160]]\n"
          ],
          "name": "stdout"
        }
      ]
    },
    {
      "cell_type": "markdown",
      "metadata": {
        "id": "dG1YLGrupcik",
        "colab_type": "text"
      },
      "source": [
        "#### 행렬곱\n",
        "\n",
        "![대체 텍스트](http://drive.google.com/uc?export=view&id=1Fl_Ob3oVlEBBlgtvxGJA9Dx0tkxWZQCX)"
      ]
    },
    {
      "cell_type": "code",
      "metadata": {
        "id": "qlTkhc_cLIez",
        "colab_type": "code",
        "colab": {}
      },
      "source": [
        "b = np.array([[10,20],[30,40]])"
      ],
      "execution_count": 0,
      "outputs": []
    },
    {
      "cell_type": "code",
      "metadata": {
        "id": "GzFUQTJVo75G",
        "colab_type": "code",
        "outputId": "41387d02-4491-46ed-9384-3dfb320e9cad",
        "colab": {
          "base_uri": "https://localhost:8080/",
          "height": 89
        }
      },
      "source": [
        "f = np.matmul(a, b)\n",
        "print(f)\n",
        "\n",
        "f = a @ b\n",
        "print(f)"
      ],
      "execution_count": 0,
      "outputs": [
        {
          "output_type": "stream",
          "text": [
            "[[ 70 100]\n",
            " [150 220]]\n",
            "[[ 70 100]\n",
            " [150 220]]\n"
          ],
          "name": "stdout"
        }
      ]
    },
    {
      "cell_type": "code",
      "metadata": {
        "id": "ZfEnv7EfMe5n",
        "colab_type": "code",
        "outputId": "6bf5cdcc-be9c-4733-9bbd-8a0b1cda4d1d",
        "colab": {
          "base_uri": "https://localhost:8080/",
          "height": 107
        }
      },
      "source": [
        "a1 = np.array([[1,2,3],[4,5,6]])\n",
        "print(a1)\n",
        "b1 = np.array([[10,20,30],[40,50,60],[70,80,90]])\n",
        "print(b1)"
      ],
      "execution_count": 0,
      "outputs": [
        {
          "output_type": "stream",
          "text": [
            "[[1 2 3]\n",
            " [4 5 6]]\n",
            "[[10 20 30]\n",
            " [40 50 60]\n",
            " [70 80 90]]\n"
          ],
          "name": "stdout"
        }
      ]
    },
    {
      "cell_type": "code",
      "metadata": {
        "id": "CJyVXhE5MvCF",
        "colab_type": "code",
        "outputId": "913f8664-af0a-437d-e7d3-618708ecaa99",
        "colab": {
          "base_uri": "https://localhost:8080/",
          "height": 53
        }
      },
      "source": [
        "a1@b1\n"
      ],
      "execution_count": 0,
      "outputs": [
        {
          "output_type": "execute_result",
          "data": {
            "text/plain": [
              "array([[300, 360, 420],\n",
              "       [660, 810, 960]])"
            ]
          },
          "metadata": {
            "tags": []
          },
          "execution_count": 87
        }
      ]
    },
    {
      "cell_type": "markdown",
      "metadata": {
        "id": "DiYt-tT6spvD",
        "colab_type": "text"
      },
      "source": [
        "## 배열 생성 관련 함수\n",
        "\n"
      ]
    },
    {
      "cell_type": "markdown",
      "metadata": {
        "id": "bLi6AxXhrvc7",
        "colab_type": "text"
      },
      "source": [
        "* zeros((n, m)) 함수: n x m 배열(행렬)을 생성하며 초기값은 0으로 한다.\n",
        "\n",
        "![대체 텍스트](http://drive.google.com/uc?export=view&id=1OLVkq7HpUaLqQO3QpNoPckG4bO3L9Gga)"
      ]
    },
    {
      "cell_type": "code",
      "metadata": {
        "id": "Dw-PcfArth7R",
        "colab_type": "code",
        "outputId": "05719959-2087-4657-e46d-4dfbe2ea8e7f",
        "colab": {
          "base_uri": "https://localhost:8080/",
          "height": 53
        }
      },
      "source": [
        "a = np.zeros((2, 3))\n",
        "print(a)"
      ],
      "execution_count": 0,
      "outputs": [
        {
          "output_type": "stream",
          "text": [
            "[[0. 0. 0.]\n",
            " [0. 0. 0.]]\n"
          ],
          "name": "stdout"
        }
      ]
    },
    {
      "cell_type": "markdown",
      "metadata": {
        "id": "vDarVBdWrznO",
        "colab_type": "text"
      },
      "source": [
        "* ones((n, m)) 함수: n x m 배열(행렬)을 생성하며 초기값은 1로 한다.\n",
        "\n",
        "![대체 텍스트](http://drive.google.com/uc?export=view&id=1mA3bkLrNQ4pnMfrVS6YsEhimpcPl9g_M)"
      ]
    },
    {
      "cell_type": "code",
      "metadata": {
        "id": "GPFu_bq8tuUx",
        "colab_type": "code",
        "outputId": "8da1e340-a398-4124-8840-0a35b41438fc",
        "colab": {
          "base_uri": "https://localhost:8080/",
          "height": 53
        }
      },
      "source": [
        "b = np.ones((2, 3))\n",
        "print(b)"
      ],
      "execution_count": 0,
      "outputs": [
        {
          "output_type": "stream",
          "text": [
            "[[1. 1. 1.]\n",
            " [1. 1. 1.]]\n"
          ],
          "name": "stdout"
        }
      ]
    },
    {
      "cell_type": "markdown",
      "metadata": {
        "id": "t0S4VujFr-zY",
        "colab_type": "text"
      },
      "source": [
        "* full((n, m),x) 함수: n x m 배열(행렬)을 생성하며 초기값은 x로 한다.\n",
        "\n",
        "![대체 텍스트](http://drive.google.com/uc?export=view&id=1WNZ0U1-AzsHu4NsufafLWsHFL0XApTz0)"
      ]
    },
    {
      "cell_type": "code",
      "metadata": {
        "id": "1wZdyxYqt3Kx",
        "colab_type": "code",
        "outputId": "e6f734d7-11ed-4533-d944-4f31a6631303",
        "colab": {
          "base_uri": "https://localhost:8080/",
          "height": 53
        }
      },
      "source": [
        "c = np.full((2, 3), 100)\n",
        "print(c)"
      ],
      "execution_count": 0,
      "outputs": [
        {
          "output_type": "stream",
          "text": [
            "[[100 100 100]\n",
            " [100 100 100]]\n"
          ],
          "name": "stdout"
        }
      ]
    },
    {
      "cell_type": "markdown",
      "metadata": {
        "id": "XVq3-yH7sFrW",
        "colab_type": "text"
      },
      "source": [
        "* eye(n) 함수: n x n 크기의 단위행렬(Identity Matrix)을 생성한다.\n",
        "\n",
        "![대체 텍스트](http://drive.google.com/uc?export=view&id=1xtUyn0it-wmEAJiqT4hkHmdAv0uQdBZg)"
      ]
    },
    {
      "cell_type": "code",
      "metadata": {
        "id": "4c3TnaypuMNR",
        "colab_type": "code",
        "outputId": "3d3dcf12-de05-49b4-c955-46c5af27d40a",
        "colab": {
          "base_uri": "https://localhost:8080/",
          "height": 71
        }
      },
      "source": [
        "d = np.eye(3)\n",
        "print(d)"
      ],
      "execution_count": 0,
      "outputs": [
        {
          "output_type": "stream",
          "text": [
            "[[1. 0. 0.]\n",
            " [0. 1. 0.]\n",
            " [0. 0. 1.]]\n"
          ],
          "name": "stdout"
        }
      ]
    },
    {
      "cell_type": "markdown",
      "metadata": {
        "id": "OM_ai6AKsJyr",
        "colab_type": "text"
      },
      "source": [
        "random.random((n, m)) 함수: n x m 배열(행렬)을 생성하며 초기값은 임의의 난수 값으로 한다\n",
        "\n",
        "![대체 텍스트](http://drive.google.com/uc?export=view&id=1t4wIbXFpx0ZU3ejU0IJLePIinBTbuAKE)"
      ]
    },
    {
      "cell_type": "code",
      "metadata": {
        "id": "RqqYGoPPpdi4",
        "colab_type": "code",
        "outputId": "05c785b0-0570-4b65-bfa2-7a1d3fb6d5c2",
        "colab": {
          "base_uri": "https://localhost:8080/",
          "height": 67
        }
      },
      "source": [
        "e = np.random.random((3,4))\n",
        "print(e)"
      ],
      "execution_count": 0,
      "outputs": [
        {
          "output_type": "stream",
          "text": [
            "[[0.44899164 0.6393012  0.07529802 0.58296643]\n",
            " [0.93037114 0.35437491 0.27044275 0.04172   ]\n",
            " [0.31413158 0.09334704 0.89464562 0.48166649]]\n"
          ],
          "name": "stdout"
        }
      ]
    },
    {
      "cell_type": "markdown",
      "metadata": {
        "id": "557LJD6tug3k",
        "colab_type": "text"
      },
      "source": [
        "## 숫자의 열을 생성하는 함수"
      ]
    },
    {
      "cell_type": "markdown",
      "metadata": {
        "id": "lr3z0qR7umIf",
        "colab_type": "text"
      },
      "source": [
        "* arange(m,n) 함수: m에서 n-1까지 연속적인 정수나 실수를 생성함\n"
      ]
    },
    {
      "cell_type": "code",
      "metadata": {
        "id": "WTB8lGEIsKlz",
        "colab_type": "code",
        "outputId": "22a60816-c3dd-4332-e3c3-a91f3c1312d8",
        "colab": {
          "base_uri": "https://localhost:8080/",
          "height": 35
        }
      },
      "source": [
        "a = np.arange(0, 10)\n",
        "print(a)"
      ],
      "execution_count": 0,
      "outputs": [
        {
          "output_type": "stream",
          "text": [
            "[0 1 2 3 4 5 6 7 8 9]\n"
          ],
          "name": "stdout"
        }
      ]
    },
    {
      "cell_type": "markdown",
      "metadata": {
        "id": "428d0d7EuxDv",
        "colab_type": "text"
      },
      "source": [
        "* arange(m,n,step) 함수: m에서 n-1까지 step만큼 건너뛰며 연속적인 정수나 실수를 생성함\n"
      ]
    },
    {
      "cell_type": "code",
      "metadata": {
        "id": "uWGQMGimusiw",
        "colab_type": "code",
        "outputId": "28c4b5d6-c486-40b4-f27b-e09d48fad07f",
        "colab": {
          "base_uri": "https://localhost:8080/",
          "height": 53
        }
      },
      "source": [
        "b = np.arange(0, 10, 2)\n",
        "print(b)\n",
        "c = np.arange(0, 1.0, 0.2)\n",
        "print(c)"
      ],
      "execution_count": 0,
      "outputs": [
        {
          "output_type": "stream",
          "text": [
            "[0 2 4 6 8]\n",
            "[0.  0.2 0.4 0.6 0.8]\n"
          ],
          "name": "stdout"
        }
      ]
    },
    {
      "cell_type": "markdown",
      "metadata": {
        "id": "Py9qxNsru6iY",
        "colab_type": "text"
      },
      "source": [
        "arange().reshape(m,n) 함수: arange() 함수가 만든 연속적인 값을 m x n 형태의 행렬로 재구성함"
      ]
    },
    {
      "cell_type": "code",
      "metadata": {
        "id": "FNmcpGuEu4cc",
        "colab_type": "code",
        "outputId": "18b099f1-18c3-4811-f0c4-ca68b91296d3",
        "colab": {
          "base_uri": "https://localhost:8080/",
          "height": 53
        }
      },
      "source": [
        "np.arange(0, 10).reshape(2,5)"
      ],
      "execution_count": 0,
      "outputs": [
        {
          "output_type": "execute_result",
          "data": {
            "text/plain": [
              "array([[0, 1, 2, 3, 4],\n",
              "       [5, 6, 7, 8, 9]])"
            ]
          },
          "metadata": {
            "tags": []
          },
          "execution_count": 16
        }
      ]
    },
    {
      "cell_type": "code",
      "metadata": {
        "id": "VqlGSuSivjz3",
        "colab_type": "code",
        "outputId": "4bfd1fa8-5450-4128-c438-14e506f18bcd",
        "colab": {
          "base_uri": "https://localhost:8080/",
          "height": 107
        }
      },
      "source": [
        "np.arange(0, 10).reshape(5,2)"
      ],
      "execution_count": 0,
      "outputs": [
        {
          "output_type": "execute_result",
          "data": {
            "text/plain": [
              "array([[0, 1],\n",
              "       [2, 3],\n",
              "       [4, 5],\n",
              "       [6, 7],\n",
              "       [8, 9]])"
            ]
          },
          "metadata": {
            "tags": []
          },
          "execution_count": 17
        }
      ]
    },
    {
      "cell_type": "code",
      "metadata": {
        "id": "3sqS0FxpvnQd",
        "colab_type": "code",
        "outputId": "3a47f977-77a4-49e6-f819-75a0502aa639",
        "colab": {
          "base_uri": "https://localhost:8080/",
          "height": 302
        }
      },
      "source": [
        "arr = np.arange(0, 24).reshape(4,3,2)\n",
        "print(arr)\n",
        "print(arr.ndim)\n",
        "print(arr.shape)"
      ],
      "execution_count": 0,
      "outputs": [
        {
          "output_type": "stream",
          "text": [
            "[[[ 0  1]\n",
            "  [ 2  3]\n",
            "  [ 4  5]]\n",
            "\n",
            " [[ 6  7]\n",
            "  [ 8  9]\n",
            "  [10 11]]\n",
            "\n",
            " [[12 13]\n",
            "  [14 15]\n",
            "  [16 17]]\n",
            "\n",
            " [[18 19]\n",
            "  [20 21]\n",
            "  [22 23]]]\n",
            "3\n",
            "(4, 3, 2)\n"
          ],
          "name": "stdout"
        }
      ]
    },
    {
      "cell_type": "markdown",
      "metadata": {
        "id": "S6pOIxgnI5DA",
        "colab_type": "text"
      },
      "source": [
        "## Broadcasting\n",
        "\n",
        "\n",
        "![대체 텍스트](http://drive.google.com/uc?export=view&id=1DwNUKP37i9zIrvR-BX535SzqkCzWURdA)"
      ]
    },
    {
      "cell_type": "code",
      "metadata": {
        "id": "qv5Yp6AsJABX",
        "colab_type": "code",
        "outputId": "cabfff7f-b00f-4eba-9afd-7d361889f6c1",
        "colab": {
          "base_uri": "https://localhost:8080/",
          "height": 50
        }
      },
      "source": [
        "arr1 = np.arange(3)\n",
        "print(arr1)\n",
        "arr2 = arr1+5\n",
        "print(arr2)"
      ],
      "execution_count": 0,
      "outputs": [
        {
          "output_type": "stream",
          "text": [
            "[0 1 2]\n",
            "[5 6 7]\n"
          ],
          "name": "stdout"
        }
      ]
    },
    {
      "cell_type": "code",
      "metadata": {
        "id": "S8cqdjJOJQl9",
        "colab_type": "code",
        "outputId": "9ea1e5d6-8733-4452-a717-d2f4e4926423",
        "colab": {
          "base_uri": "https://localhost:8080/",
          "height": 134
        }
      },
      "source": [
        "arr1 = np.ones((3,3))\n",
        "print(arr1)\n",
        "arr2 = np.arange(3)\n",
        "print(arr2)\n",
        "print(arr1+arr2)"
      ],
      "execution_count": 0,
      "outputs": [
        {
          "output_type": "stream",
          "text": [
            "[[1. 1. 1.]\n",
            " [1. 1. 1.]\n",
            " [1. 1. 1.]]\n",
            "[0 1 2]\n",
            "[[1. 2. 3.]\n",
            " [1. 2. 3.]\n",
            " [1. 2. 3.]]\n"
          ],
          "name": "stdout"
        }
      ]
    },
    {
      "cell_type": "code",
      "metadata": {
        "id": "FjC8D3j-LfZQ",
        "colab_type": "code",
        "outputId": "4bd5d1f6-ab49-423c-c31a-88adf0d4008b",
        "colab": {
          "base_uri": "https://localhost:8080/",
          "height": 67
        }
      },
      "source": [
        "arr1 = np.arange(3).reshape(3,1)\n",
        "arr2 = np.arange(3)\n",
        "print(arr1+arr2)"
      ],
      "execution_count": 0,
      "outputs": [
        {
          "output_type": "stream",
          "text": [
            "[[0 1 2]\n",
            " [1 2 3]\n",
            " [2 3 4]]\n"
          ],
          "name": "stdout"
        }
      ]
    },
    {
      "cell_type": "markdown",
      "metadata": {
        "id": "Qn7eHG11xHv2",
        "colab_type": "text"
      },
      "source": [
        "## 배열의 인덱스"
      ]
    },
    {
      "cell_type": "markdown",
      "metadata": {
        "id": "DJ4eljawxS95",
        "colab_type": "text"
      },
      "source": [
        "* numpy 배열에서 원소를 참조하기 위해서는 원소의 위치를 알아야 한다\n",
        "* 이를 위해서는 인덱스를 사용한다\n",
        "* 1차원 배열의 경우 인덱스 값이 파이썬 리스트의 인덱스 값과 동일하다\n",
        "  * 인덱스를 사용하기 위해서는 배열이름[x]와 같이 대괄호를 사용\n",
        "* 2차원 배열과 3차원 배열의 경우 인덱스를 각각 2개, 3개 사용하여 개별 원소를 참조할 수 있다 \n",
        "\n",
        "\n",
        "---\n",
        "\n"
      ]
    },
    {
      "cell_type": "markdown",
      "metadata": {
        "id": "ApE9S0L00Viq",
        "colab_type": "text"
      },
      "source": [
        "* 1차원 배열"
      ]
    },
    {
      "cell_type": "code",
      "metadata": {
        "id": "mFJNizZV0bq3",
        "colab_type": "code",
        "outputId": "c07edf39-059e-4458-d3df-ed56aac13b6e",
        "colab": {
          "base_uri": "https://localhost:8080/",
          "height": 71
        }
      },
      "source": [
        "a = np.arange(0,4)\n",
        "print(a)\n",
        "print(a[1])\n",
        "print(a[3])"
      ],
      "execution_count": 0,
      "outputs": [
        {
          "output_type": "stream",
          "text": [
            "[0 1 2 3]\n",
            "1\n",
            "3\n"
          ],
          "name": "stdout"
        }
      ]
    },
    {
      "cell_type": "code",
      "metadata": {
        "id": "Pj3u4DY80icj",
        "colab_type": "code",
        "colab": {}
      },
      "source": [
        ""
      ],
      "execution_count": 0,
      "outputs": []
    },
    {
      "cell_type": "markdown",
      "metadata": {
        "id": "p7a8Zd2yyLCN",
        "colab_type": "text"
      },
      "source": [
        "* 2차원 배열"
      ]
    },
    {
      "cell_type": "code",
      "metadata": {
        "id": "GIbosLBBv1Mw",
        "colab_type": "code",
        "outputId": "90cf2e71-f806-48c3-e884-e4cba439f392",
        "colab": {
          "base_uri": "https://localhost:8080/",
          "height": 67
        }
      },
      "source": [
        "b = np.arange(0, 6).reshape(3,2)\n",
        "print(b)"
      ],
      "execution_count": 0,
      "outputs": [
        {
          "output_type": "stream",
          "text": [
            "[[0 1]\n",
            " [2 3]\n",
            " [4 5]]\n"
          ],
          "name": "stdout"
        }
      ]
    },
    {
      "cell_type": "code",
      "metadata": {
        "id": "bx3Q5QpcxHdr",
        "colab_type": "code",
        "outputId": "d4fe94ac-2b21-40a5-e46a-4d7e0851b681",
        "colab": {
          "base_uri": "https://localhost:8080/",
          "height": 84
        }
      },
      "source": [
        "print(b[0, 0])\n",
        "print(b[1, 1])\n",
        "print(b[2, 0])\n",
        "print(b[1])"
      ],
      "execution_count": 0,
      "outputs": [
        {
          "output_type": "stream",
          "text": [
            "0\n",
            "3\n",
            "4\n",
            "[2 3]\n"
          ],
          "name": "stdout"
        }
      ]
    },
    {
      "cell_type": "markdown",
      "metadata": {
        "id": "mxCdHmKgyVAg",
        "colab_type": "text"
      },
      "source": [
        "* 3차원 배열"
      ]
    },
    {
      "cell_type": "code",
      "metadata": {
        "id": "Jlza3dqhx4j-",
        "colab_type": "code",
        "outputId": "85c31f3d-78b8-4909-8d15-c5b97c7e1834",
        "colab": {
          "base_uri": "https://localhost:8080/",
          "height": 287
        }
      },
      "source": [
        "c = np.arange(0, 24).reshape(4,3,2)\n",
        "print(c)"
      ],
      "execution_count": 0,
      "outputs": [
        {
          "output_type": "stream",
          "text": [
            "[[[ 0  1]\n",
            "  [ 2  3]\n",
            "  [ 4  5]]\n",
            "\n",
            " [[ 6  7]\n",
            "  [ 8  9]\n",
            "  [10 11]]\n",
            "\n",
            " [[12 13]\n",
            "  [14 15]\n",
            "  [16 17]]\n",
            "\n",
            " [[18 19]\n",
            "  [20 21]\n",
            "  [22 23]]]\n"
          ],
          "name": "stdout"
        }
      ]
    },
    {
      "cell_type": "code",
      "metadata": {
        "id": "xE-cg873ydxK",
        "colab_type": "code",
        "outputId": "09d659b1-8df5-47b1-c145-85e2b20d7d0b",
        "colab": {
          "base_uri": "https://localhost:8080/",
          "height": 233
        }
      },
      "source": [
        "print(c[0])\n",
        "print()\n",
        "print(c[0, 1])\n",
        "print()\n",
        "print(c[1])\n",
        "print()\n",
        "print(c[3,2])"
      ],
      "execution_count": 0,
      "outputs": [
        {
          "output_type": "stream",
          "text": [
            "[[0 1]\n",
            " [2 3]\n",
            " [4 5]]\n",
            "\n",
            "[2 3]\n",
            "\n",
            "[[ 6  7]\n",
            " [ 8  9]\n",
            " [10 11]]\n",
            "\n",
            "[22 23]\n",
            "<class 'numpy.ndarray'>\n"
          ],
          "name": "stdout"
        }
      ]
    },
    {
      "cell_type": "code",
      "metadata": {
        "id": "Uwcn3fxaztIe",
        "colab_type": "code",
        "outputId": "117c16e9-66c9-4b25-f392-f2eaa5e55d36",
        "colab": {
          "base_uri": "https://localhost:8080/",
          "height": 107
        }
      },
      "source": [
        "print(c[0,0,0])\n",
        "print(c[0,1,1])\n",
        "print(c[1,1,1])\n",
        "print(c[2,1,1])\n",
        "print(c[3,1,0])"
      ],
      "execution_count": 0,
      "outputs": [
        {
          "output_type": "stream",
          "text": [
            "0\n",
            "3\n",
            "9\n",
            "15\n",
            "20\n"
          ],
          "name": "stdout"
        }
      ]
    },
    {
      "cell_type": "markdown",
      "metadata": {
        "id": "w9MMUfT1CoI3",
        "colab_type": "text"
      },
      "source": [
        "## ndarray의 형변환"
      ]
    },
    {
      "cell_type": "code",
      "metadata": {
        "id": "FNqpEK7-ythS",
        "colab_type": "code",
        "outputId": "d3717d3f-dfda-420b-da78-b83fce8475b6",
        "colab": {
          "base_uri": "https://localhost:8080/",
          "height": 34
        }
      },
      "source": [
        "arr = np.array([1,2,3,4,5])\n",
        "print(arr, arr.dtype)"
      ],
      "execution_count": 0,
      "outputs": [
        {
          "output_type": "stream",
          "text": [
            "[1 2 3 4 5] int64\n"
          ],
          "name": "stdout"
        }
      ]
    },
    {
      "cell_type": "code",
      "metadata": {
        "id": "9a6SOK1DCz2a",
        "colab_type": "code",
        "outputId": "4969e73f-b476-4b09-9a0d-3a30aa4055d0",
        "colab": {
          "base_uri": "https://localhost:8080/",
          "height": 34
        }
      },
      "source": [
        "f_arr = arr.astype(np.float64)\n",
        "print(f_arr, f_arr.dtype)"
      ],
      "execution_count": 0,
      "outputs": [
        {
          "output_type": "stream",
          "text": [
            "[1. 2. 3. 4. 5.] float64\n"
          ],
          "name": "stdout"
        }
      ]
    },
    {
      "cell_type": "code",
      "metadata": {
        "id": "_PZbl6ZPDG6p",
        "colab_type": "code",
        "colab": {}
      },
      "source": [
        ""
      ],
      "execution_count": 0,
      "outputs": []
    },
    {
      "cell_type": "markdown",
      "metadata": {
        "id": "wT1f5X3zNTIN",
        "colab_type": "text"
      },
      "source": [
        "# 난수발생"
      ]
    },
    {
      "cell_type": "markdown",
      "metadata": {
        "id": "gb4_47nwN1LX",
        "colab_type": "text"
      },
      "source": [
        "\n",
        "### random.randint(n1, n2)\n",
        "* 주어진 숫자사이의 균일 분포의 난수 1개 생성\n",
        "* n1을 생략하면 0\n",
        "* n2 포함되지 않음\n"
      ]
    },
    {
      "cell_type": "code",
      "metadata": {
        "id": "zHfXcF4LNngO",
        "colab_type": "code",
        "outputId": "26d538ac-aff6-46c5-ea93-c54086398a5f",
        "colab": {
          "base_uri": "https://localhost:8080/",
          "height": 35
        }
      },
      "source": [
        "np.random.randint(5)\n",
        "\n",
        "np.random.randint(7)"
      ],
      "execution_count": 0,
      "outputs": [
        {
          "output_type": "execute_result",
          "data": {
            "text/plain": [
              "0"
            ]
          },
          "metadata": {
            "tags": []
          },
          "execution_count": 92
        }
      ]
    },
    {
      "cell_type": "code",
      "metadata": {
        "id": "1AhrIXxtNr9J",
        "colab_type": "code",
        "outputId": "8dac365a-a6bd-41a5-e2d3-0519a53e5bf4",
        "colab": {
          "base_uri": "https://localhost:8080/",
          "height": 34
        }
      },
      "source": [
        "np.random.randint(3,10)"
      ],
      "execution_count": 0,
      "outputs": [
        {
          "output_type": "execute_result",
          "data": {
            "text/plain": [
              "5"
            ]
          },
          "metadata": {
            "tags": []
          },
          "execution_count": 58
        }
      ]
    },
    {
      "cell_type": "markdown",
      "metadata": {
        "id": "hVenzkmhONgY",
        "colab_type": "text"
      },
      "source": [
        "### np.random.rand(m, n)\n",
        "* 0~1 사이의 균일분포의  난수로 구성된 array 생성\n"
      ]
    },
    {
      "cell_type": "code",
      "metadata": {
        "id": "KqC8QfSNOL98",
        "colab_type": "code",
        "outputId": "ad701fe5-6c27-4aaa-8f97-31f598fcb4cd",
        "colab": {
          "base_uri": "https://localhost:8080/",
          "height": 34
        }
      },
      "source": [
        "np.random.rand(5)"
      ],
      "execution_count": 0,
      "outputs": [
        {
          "output_type": "execute_result",
          "data": {
            "text/plain": [
              "array([0.72555112, 0.17350868, 0.36547557, 0.18921254, 0.3012673 ])"
            ]
          },
          "metadata": {
            "tags": []
          },
          "execution_count": 59
        }
      ]
    },
    {
      "cell_type": "code",
      "metadata": {
        "id": "xCDRvsqQPmyu",
        "colab_type": "code",
        "outputId": "7a906f1b-56f2-4316-984b-b66bb2d8e030",
        "colab": {
          "base_uri": "https://localhost:8080/",
          "height": 67
        }
      },
      "source": [
        "np.random.rand(3,4)"
      ],
      "execution_count": 0,
      "outputs": [
        {
          "output_type": "execute_result",
          "data": {
            "text/plain": [
              "array([[0.44675765, 0.15456547, 0.66313713, 0.27745846],\n",
              "       [0.38037648, 0.27121051, 0.16786421, 0.0480652 ],\n",
              "       [0.64356117, 0.49157225, 0.13641183, 0.28940589]])"
            ]
          },
          "metadata": {
            "tags": []
          },
          "execution_count": 60
        }
      ]
    },
    {
      "cell_type": "markdown",
      "metadata": {
        "id": "YWYKEQsIPyot",
        "colab_type": "text"
      },
      "source": [
        "### np.random.randn(m, n)\n",
        "* 평균 0, 표준편차 1의 가우시안 표준정규분포의 난수로 구성된 array 생성"
      ]
    },
    {
      "cell_type": "code",
      "metadata": {
        "id": "FYpQiM2LPxHm",
        "colab_type": "code",
        "outputId": "440d0652-df1d-4a77-c4c1-207b900e0e88",
        "colab": {
          "base_uri": "https://localhost:8080/",
          "height": 34
        }
      },
      "source": [
        "np.random.randn(5)"
      ],
      "execution_count": 0,
      "outputs": [
        {
          "output_type": "execute_result",
          "data": {
            "text/plain": [
              "array([ 1.34098678,  0.91486347,  0.1751477 , -0.46060273, -0.28662309])"
            ]
          },
          "metadata": {
            "tags": []
          },
          "execution_count": 61
        }
      ]
    },
    {
      "cell_type": "code",
      "metadata": {
        "id": "2t7ZKS7rPqSp",
        "colab_type": "code",
        "outputId": "ccbdd333-1354-444d-e520-f86ad93d8c49",
        "colab": {
          "base_uri": "https://localhost:8080/",
          "height": 67
        }
      },
      "source": [
        "np.random.randn(3,2)"
      ],
      "execution_count": 0,
      "outputs": [
        {
          "output_type": "execute_result",
          "data": {
            "text/plain": [
              "array([[-1.04476131,  1.00358122],\n",
              "       [-1.25777289,  0.54288373],\n",
              "       [ 0.13264682, -0.29130549]])"
            ]
          },
          "metadata": {
            "tags": []
          },
          "execution_count": 62
        }
      ]
    },
    {
      "cell_type": "markdown",
      "metadata": {
        "id": "UbGv6vk0QXv9",
        "colab_type": "text"
      },
      "source": [
        "### np.random.shuffle\n",
        "* 데이터의 순서를 무작위로 바꿈"
      ]
    },
    {
      "cell_type": "code",
      "metadata": {
        "id": "CT74gnQFQXPV",
        "colab_type": "code",
        "outputId": "6c4cfd63-0c2b-4d16-bb03-15d60141bd73",
        "colab": {
          "base_uri": "https://localhost:8080/",
          "height": 53
        }
      },
      "source": [
        "arr = np.arange(10)\n",
        "print(arr)\n",
        "np.random.shuffle(arr)\n",
        "print(arr)"
      ],
      "execution_count": 0,
      "outputs": [
        {
          "output_type": "stream",
          "text": [
            "[0 1 2 3 4 5 6 7 8 9]\n",
            "[3 7 1 9 2 4 8 5 6 0]\n"
          ],
          "name": "stdout"
        }
      ]
    },
    {
      "cell_type": "code",
      "metadata": {
        "id": "RTP4Twhs4PQx",
        "colab_type": "code",
        "outputId": "93a05f0b-7a60-4513-c8e5-b896b7fccd95",
        "colab": {
          "base_uri": "https://localhost:8080/",
          "height": 151
        }
      },
      "source": [
        "arr1 = np.arange(0, 24).reshape(4, 6)\n",
        "print(arr1)\n",
        "np.random.shuffle(arr1)\n",
        "print(arr1)"
      ],
      "execution_count": 0,
      "outputs": [
        {
          "output_type": "stream",
          "text": [
            "[[ 0  1  2  3  4  5]\n",
            " [ 6  7  8  9 10 11]\n",
            " [12 13 14 15 16 17]\n",
            " [18 19 20 21 22 23]]\n",
            "[[12 13 14 15 16 17]\n",
            " [18 19 20 21 22 23]\n",
            " [ 0  1  2  3  4  5]\n",
            " [ 6  7  8  9 10 11]]\n"
          ],
          "name": "stdout"
        }
      ]
    },
    {
      "cell_type": "code",
      "metadata": {
        "id": "UV-KAvdeQRg4",
        "colab_type": "code",
        "outputId": "d956c2c2-65dc-4742-ca07-c085255ce265",
        "colab": {
          "base_uri": "https://localhost:8080/",
          "height": 521
        }
      },
      "source": [
        "arr2 = np.arange(0, 24).reshape(4,3,2)\n",
        "print(arr2)\n",
        "np.random.shuffle(arr2)\n",
        "print(arr2)"
      ],
      "execution_count": 0,
      "outputs": [
        {
          "output_type": "stream",
          "text": [
            "[[[ 0  1]\n",
            "  [ 2  3]\n",
            "  [ 4  5]]\n",
            "\n",
            " [[ 6  7]\n",
            "  [ 8  9]\n",
            "  [10 11]]\n",
            "\n",
            " [[12 13]\n",
            "  [14 15]\n",
            "  [16 17]]\n",
            "\n",
            " [[18 19]\n",
            "  [20 21]\n",
            "  [22 23]]]\n",
            "[[[ 6  7]\n",
            "  [ 8  9]\n",
            "  [10 11]]\n",
            "\n",
            " [[18 19]\n",
            "  [20 21]\n",
            "  [22 23]]\n",
            "\n",
            " [[ 0  1]\n",
            "  [ 2  3]\n",
            "  [ 4  5]]\n",
            "\n",
            " [[12 13]\n",
            "  [14 15]\n",
            "  [16 17]]]\n"
          ],
          "name": "stdout"
        }
      ]
    },
    {
      "cell_type": "code",
      "metadata": {
        "id": "9TcMYJTp4IfO",
        "colab_type": "code",
        "colab": {}
      },
      "source": [
        ""
      ],
      "execution_count": 0,
      "outputs": []
    }
  ]
}