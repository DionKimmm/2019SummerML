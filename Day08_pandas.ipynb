{
  "nbformat": 4,
  "nbformat_minor": 0,
  "metadata": {
    "colab": {
      "name": "Day08_pandas.ipynb",
      "version": "0.3.2",
      "provenance": [],
      "collapsed_sections": [],
      "include_colab_link": true
    },
    "kernelspec": {
      "name": "python3",
      "display_name": "Python 3"
    }
  },
  "cells": [
    {
      "cell_type": "markdown",
      "metadata": {
        "id": "view-in-github",
        "colab_type": "text"
      },
      "source": [
        "<a href=\"https://colab.research.google.com/github/DionKimmm/2019SummerML/blob/master/Day08_pandas.ipynb\" target=\"_parent\"><img src=\"https://colab.research.google.com/assets/colab-badge.svg\" alt=\"Open In Colab\"/></a>"
      ]
    },
    {
      "cell_type": "markdown",
      "metadata": {
        "id": "5Y4YLrl9WS77",
        "colab_type": "text"
      },
      "source": [
        "![pandas logo](http://drive.google.com/uc?export=view&id=1a2QGwlq1iltY7-9T0b07JZxaEBkL_xG_)\n",
        "\n",
        "# Pandas\n",
        "* 컬럼의 이름을 따라 데이터를 정렬할 수 있는 자료 구조(data structure). \n",
        "\n",
        "* 다양한 소스에서 가져온 다양한 방식으로 색인된 데이터를 핸들링 가능한 기능\n",
        "\n",
        "\n",
        "* 시계열, 비시계열 데이터 모두 다룰 수 있는 자료 구조\n",
        "\n",
        "* 산술연산 및 한 축(column을 의미하는 듯)의 모든 값을 더하는 등의 축약연산이 가능\n",
        "\n",
        "* 누락된 데이터의 유연한 처리 기능\n",
        "\n",
        "* SQL 같은 관계연산 수행 기능"
      ]
    },
    {
      "cell_type": "markdown",
      "metadata": {
        "id": "0HRx208yWukh",
        "colab_type": "text"
      },
      "source": [
        "## Series\n",
        "* 1차원 배열과 같은구조\n",
        "* 값을 저장하는 value와 색인를 저장하는 index로 구성\n",
        "* 동일한 종류의 자료를 저장"
      ]
    },
    {
      "cell_type": "code",
      "metadata": {
        "id": "oxB8XzBP1TZm",
        "colab_type": "code",
        "colab": {}
      },
      "source": [
        "import pandas as pd\n",
        "import numpy as np\n",
        "import matplotlib.pyplot as plt"
      ],
      "execution_count": 0,
      "outputs": []
    },
    {
      "cell_type": "code",
      "metadata": {
        "id": "gjwOmTYCWh7-",
        "colab_type": "code",
        "colab": {}
      },
      "source": [
        ""
      ],
      "execution_count": 0,
      "outputs": []
    },
    {
      "cell_type": "code",
      "metadata": {
        "id": "rFBtFBm31-Xl",
        "colab_type": "code",
        "colab": {}
      },
      "source": [
        "s = pd.Series(np.random.randn(5))\n",
        "print(s)"
      ],
      "execution_count": 0,
      "outputs": []
    },
    {
      "cell_type": "code",
      "metadata": {
        "id": "OJBbrbNw1Xi0",
        "colab_type": "code",
        "colab": {}
      },
      "source": [
        "s = pd.Series(np.random.randn(5), index=['a', 'b', 'c', 'd', 'e'])\n",
        "print(s)"
      ],
      "execution_count": 0,
      "outputs": []
    },
    {
      "cell_type": "code",
      "metadata": {
        "id": "8SueQ8gXBDu_",
        "colab_type": "code",
        "outputId": "def031a9-c7a8-45c9-fef2-ce1b03a0e9c8",
        "colab": {
          "base_uri": "https://localhost:8080/",
          "height": 286
        }
      },
      "source": [
        "s.plot()"
      ],
      "execution_count": 0,
      "outputs": [
        {
          "output_type": "execute_result",
          "data": {
            "text/plain": [
              "<matplotlib.axes._subplots.AxesSubplot at 0x7ff6141e2320>"
            ]
          },
          "metadata": {
            "tags": []
          },
          "execution_count": 4
        },
        {
          "output_type": "display_data",
          "data": {
            "image/png": "[encoded data removed]",
            "text/plain": [
              "<Figure size 432x288 with 1 Axes>"
            ]
          },
          "metadata": {
            "tags": []
          }
        }
      ]
    },
    {
      "cell_type": "code",
      "metadata": {
        "id": "sWZJYWnv1jtt",
        "colab_type": "code",
        "outputId": "07056d14-185b-4584-b1c1-5dd38b9d8cdd",
        "colab": {
          "base_uri": "https://localhost:8080/",
          "height": 34
        }
      },
      "source": [
        "s.index"
      ],
      "execution_count": 0,
      "outputs": [
        {
          "output_type": "execute_result",
          "data": {
            "text/plain": [
              "Index(['a', 'b', 'c', 'd', 'e'], dtype='object')"
            ]
          },
          "metadata": {
            "tags": []
          },
          "execution_count": 5
        }
      ]
    },
    {
      "cell_type": "code",
      "metadata": {
        "id": "6068N1xq1p7r",
        "colab_type": "code",
        "outputId": "6eee51c9-b3d2-4942-f0bc-4589e5d942a2",
        "colab": {
          "base_uri": "https://localhost:8080/",
          "height": 34
        }
      },
      "source": [
        "s.values"
      ],
      "execution_count": 0,
      "outputs": [
        {
          "output_type": "execute_result",
          "data": {
            "text/plain": [
              "array([-0.49508106, -0.98805677,  0.1943138 ,  1.56071342, -0.07757762])"
            ]
          },
          "metadata": {
            "tags": []
          },
          "execution_count": 6
        }
      ]
    },
    {
      "cell_type": "code",
      "metadata": {
        "id": "Z6II-Ye01rJZ",
        "colab_type": "code",
        "colab": {}
      },
      "source": [
        "dic = {'a': 0, 'b': 1,  'c': 2}\n",
        "series1 = pd.Series(dic)"
      ],
      "execution_count": 0,
      "outputs": []
    },
    {
      "cell_type": "code",
      "metadata": {
        "id": "8QFN1bjK14QC",
        "colab_type": "code",
        "outputId": "ef7bb6a6-b53f-47c3-c3af-fc63abe5637a",
        "colab": {
          "base_uri": "https://localhost:8080/",
          "height": 101
        }
      },
      "source": [
        "pd.Series(dic, index=['b', 'c', 'd', 'a'])"
      ],
      "execution_count": 0,
      "outputs": [
        {
          "output_type": "execute_result",
          "data": {
            "text/plain": [
              "b    1.0\n",
              "c    2.0\n",
              "d    NaN\n",
              "a    0.0\n",
              "dtype: float64"
            ]
          },
          "metadata": {
            "tags": []
          },
          "execution_count": 8
        }
      ]
    },
    {
      "cell_type": "markdown",
      "metadata": {
        "id": "D2FsIFj02eSc",
        "colab_type": "text"
      },
      "source": [
        "* NaN (not a number) 결측치 - 값이 없거나 형식이 안맞는 경우\n"
      ]
    },
    {
      "cell_type": "code",
      "metadata": {
        "id": "0AtzCCir2ZpV",
        "colab_type": "code",
        "outputId": "0d8cf436-073e-459a-ba9b-4067a7329e11",
        "colab": {
          "base_uri": "https://localhost:8080/",
          "height": 134
        }
      },
      "source": [
        "s = pd.Series([1, 3, 5, np.nan, 6, 8])\n",
        "print(s)"
      ],
      "execution_count": 0,
      "outputs": [
        {
          "output_type": "stream",
          "text": [
            "0    1.0\n",
            "1    3.0\n",
            "2    5.0\n",
            "3    NaN\n",
            "4    6.0\n",
            "5    8.0\n",
            "dtype: float64\n"
          ],
          "name": "stdout"
        }
      ]
    },
    {
      "cell_type": "code",
      "metadata": {
        "id": "gB7ozMxP28mL",
        "colab_type": "code",
        "outputId": "b9a02109-1098-4eff-bd4e-3affbe46ca43",
        "colab": {
          "base_uri": "https://localhost:8080/",
          "height": 71
        }
      },
      "source": [
        "dates = pd.date_range('20130101', periods=6)\n",
        "print(dates)"
      ],
      "execution_count": 0,
      "outputs": [
        {
          "output_type": "stream",
          "text": [
            "DatetimeIndex(['2013-01-01', '2013-01-02', '2013-01-03', '2013-01-04',\n",
            "               '2013-01-05', '2013-01-06'],\n",
            "              dtype='datetime64[ns]', freq='D')\n"
          ],
          "name": "stdout"
        }
      ]
    },
    {
      "cell_type": "markdown",
      "metadata": {
        "id": "IBuYIBQAXmzQ",
        "colab_type": "text"
      },
      "source": [
        "## DataFrame\n",
        "\n",
        "* 엑셀과 같이 여러가지의 데이터가 모인 자료구조\n",
        "* 여러개의 Series가 모인 자료구조"
      ]
    },
    {
      "cell_type": "code",
      "metadata": {
        "id": "c6gOPVM13KEN",
        "colab_type": "code",
        "outputId": "63e851f8-10be-487e-c21f-4588abc6bba7",
        "colab": {
          "base_uri": "https://localhost:8080/",
          "height": 143
        }
      },
      "source": [
        "df = pd.DataFrame(np.random.randn(6,4), index=dates, columns=list('ABCD'))\n",
        "print(df)"
      ],
      "execution_count": 0,
      "outputs": [
        {
          "output_type": "stream",
          "text": [
            "                   A         B         C         D\n",
            "2013-01-01 -0.816515 -0.754784 -0.867407 -0.252371\n",
            "2013-01-02 -0.607788  0.841311 -0.523780  0.768206\n",
            "2013-01-03 -1.051236  0.341588 -0.059844 -0.065160\n",
            "2013-01-04 -0.821683  0.039288  0.343185  1.535739\n",
            "2013-01-05 -0.178736  0.933309  0.303133 -0.397563\n",
            "2013-01-06  0.195095 -0.387006  0.549300 -0.747031\n"
          ],
          "name": "stdout"
        }
      ]
    },
    {
      "cell_type": "code",
      "metadata": {
        "id": "Kg7TsMVo3Ow-",
        "colab_type": "code",
        "outputId": "5b7c00a5-dbdb-4613-fc50-25bb35e245af",
        "colab": {
          "base_uri": "https://localhost:8080/",
          "height": 101
        }
      },
      "source": [
        "df2 = pd.DataFrame({'A': 1.,\n",
        "                    'B': pd.Timestamp('20130102'),\n",
        "                    'C': pd.Series(1, index=list(range(4)), dtype='float32'),\n",
        "                    'D': np.array([3]*4, dtype='int32'),\n",
        "                    'E':['test', 'train', 'test', 'train'],\n",
        "                    'F': 'foo'})\n",
        "print(df2)"
      ],
      "execution_count": 0,
      "outputs": [
        {
          "output_type": "stream",
          "text": [
            "     A          B    C  D      E    F\n",
            "0  1.0 2013-01-02  1.0  3   test  foo\n",
            "1  1.0 2013-01-02  1.0  3  train  foo\n",
            "2  1.0 2013-01-02  1.0  3   test  foo\n",
            "3  1.0 2013-01-02  1.0  3  train  foo\n"
          ],
          "name": "stdout"
        }
      ]
    },
    {
      "cell_type": "code",
      "metadata": {
        "id": "RkFsdc4v3Vnv",
        "colab_type": "code",
        "outputId": "8a9f2b37-37a0-47bf-cb82-061c4c765ec1",
        "colab": {
          "base_uri": "https://localhost:8080/",
          "height": 134
        }
      },
      "source": [
        "df2.dtypes"
      ],
      "execution_count": 0,
      "outputs": [
        {
          "output_type": "execute_result",
          "data": {
            "text/plain": [
              "A           float64\n",
              "B    datetime64[ns]\n",
              "C           float32\n",
              "D             int32\n",
              "E            object\n",
              "F            object\n",
              "dtype: object"
            ]
          },
          "metadata": {
            "tags": []
          },
          "execution_count": 13
        }
      ]
    },
    {
      "cell_type": "markdown",
      "metadata": {
        "id": "5GdKbM3h3vWK",
        "colab_type": "text"
      },
      "source": [
        "### 데이터 확인하기"
      ]
    },
    {
      "cell_type": "markdown",
      "metadata": {
        "id": "V5QiFPtU32OK",
        "colab_type": "text"
      },
      "source": [
        "####  df.head()\n",
        " * 처음 5개 데이터 표시\n",
        " \n",
        "#### df.head(n)\n",
        "* 처음 n개 데이터 표시"
      ]
    },
    {
      "cell_type": "code",
      "metadata": {
        "id": "xVAMhBYk3Xpp",
        "colab_type": "code",
        "colab": {}
      },
      "source": [
        "df.head()"
      ],
      "execution_count": 0,
      "outputs": []
    },
    {
      "cell_type": "markdown",
      "metadata": {
        "id": "cqtmzC6SdVmx",
        "colab_type": "text"
      },
      "source": [
        "#### df.tail()\n",
        "* 마지막 5개 데이터 표시\n",
        "\n",
        "#### df.tail(n)\n",
        "* 마지막 n개 데이터 표시"
      ]
    },
    {
      "cell_type": "code",
      "metadata": {
        "id": "IRyCrSo_3tiv",
        "colab_type": "code",
        "colab": {}
      },
      "source": [
        "df.tail(3)"
      ],
      "execution_count": 0,
      "outputs": []
    },
    {
      "cell_type": "markdown",
      "metadata": {
        "id": "5d56zsmN4PAG",
        "colab_type": "text"
      },
      "source": [
        "#### df.index\n",
        "* DataFrame의 인덱스를 추출\n",
        "* 함수가 아니고 속성임\n",
        "\n",
        "* 컬럼을 보려면 .columns 속성\n",
        "* numpy 데이터를 보려면 .values 속성을 통해 확인하면 됩니다."
      ]
    },
    {
      "cell_type": "code",
      "metadata": {
        "id": "c_KaPaQx4CUm",
        "colab_type": "code",
        "outputId": "07ad39e6-e3a6-4801-f2bc-7f0bfbb14607",
        "colab": {
          "base_uri": "https://localhost:8080/",
          "height": 67
        }
      },
      "source": [
        "df.index"
      ],
      "execution_count": 0,
      "outputs": [
        {
          "output_type": "execute_result",
          "data": {
            "text/plain": [
              "DatetimeIndex(['2013-01-01', '2013-01-02', '2013-01-03', '2013-01-04',\n",
              "               '2013-01-05', '2013-01-06'],\n",
              "              dtype='datetime64[ns]', freq='D')"
            ]
          },
          "metadata": {
            "tags": []
          },
          "execution_count": 16
        }
      ]
    },
    {
      "cell_type": "markdown",
      "metadata": {
        "id": "gx3iBzhCd1eK",
        "colab_type": "text"
      },
      "source": [
        "#### df.colums\n",
        "* DataFrame의 컬럼들을 추출\n",
        "* 함수가 아니고 속성임"
      ]
    },
    {
      "cell_type": "code",
      "metadata": {
        "id": "2Mdp0XyB4Hh6",
        "colab_type": "code",
        "outputId": "a8e3e068-3719-4729-86c0-4ca8563f2911",
        "colab": {
          "base_uri": "https://localhost:8080/",
          "height": 34
        }
      },
      "source": [
        "df.columns"
      ],
      "execution_count": 0,
      "outputs": [
        {
          "output_type": "execute_result",
          "data": {
            "text/plain": [
              "Index(['A', 'B', 'C', 'D'], dtype='object')"
            ]
          },
          "metadata": {
            "tags": []
          },
          "execution_count": 17
        }
      ]
    },
    {
      "cell_type": "markdown",
      "metadata": {
        "id": "kKpHgnspeNrM",
        "colab_type": "text"
      },
      "source": [
        "#### df.values\n",
        "* DataFrame의 value를 추출\n",
        "* 함수가 아니고 속성임"
      ]
    },
    {
      "cell_type": "code",
      "metadata": {
        "id": "UEeUpQp74IZz",
        "colab_type": "code",
        "outputId": "dc202ce6-3b03-41ea-f3d2-9d73edb4459f",
        "colab": {
          "base_uri": "https://localhost:8080/",
          "height": 118
        }
      },
      "source": [
        "df.values"
      ],
      "execution_count": 0,
      "outputs": [
        {
          "output_type": "execute_result",
          "data": {
            "text/plain": [
              "array([[-0.78847283, -0.19029675,  0.54119444,  0.20729664],\n",
              "       [ 0.65829266,  0.12233702, -0.05399776, -0.04247865],\n",
              "       [-1.58956454, -0.50497195,  0.98378894,  0.78696723],\n",
              "       [-0.17154334, -0.17287825, -0.50315372, -0.41716768],\n",
              "       [-0.24681028,  0.97204613, -0.1573483 ,  0.03400614],\n",
              "       [ 0.5152666 , -0.83307193,  0.25590301,  0.95172909]])"
            ]
          },
          "metadata": {
            "tags": []
          },
          "execution_count": 18
        }
      ]
    },
    {
      "cell_type": "markdown",
      "metadata": {
        "id": "p3WicFT94j-w",
        "colab_type": "text"
      },
      "source": [
        "#### df.describe()\n",
        " DataFrame의 요약된 통계 정보를 보여줌"
      ]
    },
    {
      "cell_type": "code",
      "metadata": {
        "id": "A7ALH4al4JR4",
        "colab_type": "code",
        "outputId": "9eb203b8-eb91-4b66-da63-7468f33909bf",
        "colab": {
          "base_uri": "https://localhost:8080/",
          "height": 284
        }
      },
      "source": [
        "df.describe()"
      ],
      "execution_count": 0,
      "outputs": [
        {
          "output_type": "execute_result",
          "data": {
            "text/html": [
              "<div>\n",
              "<style scoped>\n",
              "    .dataframe tbody tr th:only-of-type {\n",
              "        vertical-align: middle;\n",
              "    }\n",
              "\n",
              "    .dataframe tbody tr th {\n",
              "        vertical-align: top;\n",
              "    }\n",
              "\n",
              "    .dataframe thead th {\n",
              "        text-align: right;\n",
              "    }\n",
              "</style>\n",
              "<table border=\"1\" class=\"dataframe\">\n",
              "  <thead>\n",
              "    <tr style=\"text-align: right;\">\n",
              "      <th></th>\n",
              "      <th>A</th>\n",
              "      <th>B</th>\n",
              "      <th>C</th>\n",
              "      <th>D</th>\n",
              "    </tr>\n",
              "  </thead>\n",
              "  <tbody>\n",
              "    <tr>\n",
              "      <th>count</th>\n",
              "      <td>6.000000</td>\n",
              "      <td>6.000000</td>\n",
              "      <td>6.000000</td>\n",
              "      <td>6.000000</td>\n",
              "    </tr>\n",
              "    <tr>\n",
              "      <th>mean</th>\n",
              "      <td>-0.270472</td>\n",
              "      <td>-0.101139</td>\n",
              "      <td>0.177731</td>\n",
              "      <td>0.253392</td>\n",
              "    </tr>\n",
              "    <tr>\n",
              "      <th>std</th>\n",
              "      <td>0.836501</td>\n",
              "      <td>0.618639</td>\n",
              "      <td>0.532452</td>\n",
              "      <td>0.521502</td>\n",
              "    </tr>\n",
              "    <tr>\n",
              "      <th>min</th>\n",
              "      <td>-1.589565</td>\n",
              "      <td>-0.833072</td>\n",
              "      <td>-0.503154</td>\n",
              "      <td>-0.417168</td>\n",
              "    </tr>\n",
              "    <tr>\n",
              "      <th>25%</th>\n",
              "      <td>-0.653057</td>\n",
              "      <td>-0.426303</td>\n",
              "      <td>-0.131511</td>\n",
              "      <td>-0.023357</td>\n",
              "    </tr>\n",
              "    <tr>\n",
              "      <th>50%</th>\n",
              "      <td>-0.209177</td>\n",
              "      <td>-0.181587</td>\n",
              "      <td>0.100953</td>\n",
              "      <td>0.120651</td>\n",
              "    </tr>\n",
              "    <tr>\n",
              "      <th>75%</th>\n",
              "      <td>0.343564</td>\n",
              "      <td>0.048533</td>\n",
              "      <td>0.469872</td>\n",
              "      <td>0.642050</td>\n",
              "    </tr>\n",
              "    <tr>\n",
              "      <th>max</th>\n",
              "      <td>0.658293</td>\n",
              "      <td>0.972046</td>\n",
              "      <td>0.983789</td>\n",
              "      <td>0.951729</td>\n",
              "    </tr>\n",
              "  </tbody>\n",
              "</table>\n",
              "</div>"
            ],
            "text/plain": [
              "              A         B         C         D\n",
              "count  6.000000  6.000000  6.000000  6.000000\n",
              "mean  -0.270472 -0.101139  0.177731  0.253392\n",
              "std    0.836501  0.618639  0.532452  0.521502\n",
              "min   -1.589565 -0.833072 -0.503154 -0.417168\n",
              "25%   -0.653057 -0.426303 -0.131511 -0.023357\n",
              "50%   -0.209177 -0.181587  0.100953  0.120651\n",
              "75%    0.343564  0.048533  0.469872  0.642050\n",
              "max    0.658293  0.972046  0.983789  0.951729"
            ]
          },
          "metadata": {
            "tags": []
          },
          "execution_count": 19
        }
      ]
    },
    {
      "cell_type": "markdown",
      "metadata": {
        "id": "7ctOedb04_B0",
        "colab_type": "text"
      },
      "source": [
        "#### df .T \n",
        "* DataFrame에서 index와 column을 바꾼 형태의 DataFrame \n",
        "* 속성"
      ]
    },
    {
      "cell_type": "code",
      "metadata": {
        "id": "OmLF83ox4bxG",
        "colab_type": "code",
        "outputId": "1e5737a9-9604-40d9-db95-2c2bde284962",
        "colab": {
          "base_uri": "https://localhost:8080/",
          "height": 166
        }
      },
      "source": [
        "df.T"
      ],
      "execution_count": 0,
      "outputs": [
        {
          "output_type": "execute_result",
          "data": {
            "text/html": [
              "<div>\n",
              "<style scoped>\n",
              "    .dataframe tbody tr th:only-of-type {\n",
              "        vertical-align: middle;\n",
              "    }\n",
              "\n",
              "    .dataframe tbody tr th {\n",
              "        vertical-align: top;\n",
              "    }\n",
              "\n",
              "    .dataframe thead th {\n",
              "        text-align: right;\n",
              "    }\n",
              "</style>\n",
              "<table border=\"1\" class=\"dataframe\">\n",
              "  <thead>\n",
              "    <tr style=\"text-align: right;\">\n",
              "      <th></th>\n",
              "      <th>2013-01-01 00:00:00</th>\n",
              "      <th>2013-01-02 00:00:00</th>\n",
              "      <th>2013-01-03 00:00:00</th>\n",
              "      <th>2013-01-04 00:00:00</th>\n",
              "      <th>2013-01-05 00:00:00</th>\n",
              "      <th>2013-01-06 00:00:00</th>\n",
              "    </tr>\n",
              "  </thead>\n",
              "  <tbody>\n",
              "    <tr>\n",
              "      <th>A</th>\n",
              "      <td>-0.788473</td>\n",
              "      <td>0.658293</td>\n",
              "      <td>-1.589565</td>\n",
              "      <td>-0.171543</td>\n",
              "      <td>-0.246810</td>\n",
              "      <td>0.515267</td>\n",
              "    </tr>\n",
              "    <tr>\n",
              "      <th>B</th>\n",
              "      <td>-0.190297</td>\n",
              "      <td>0.122337</td>\n",
              "      <td>-0.504972</td>\n",
              "      <td>-0.172878</td>\n",
              "      <td>0.972046</td>\n",
              "      <td>-0.833072</td>\n",
              "    </tr>\n",
              "    <tr>\n",
              "      <th>C</th>\n",
              "      <td>0.541194</td>\n",
              "      <td>-0.053998</td>\n",
              "      <td>0.983789</td>\n",
              "      <td>-0.503154</td>\n",
              "      <td>-0.157348</td>\n",
              "      <td>0.255903</td>\n",
              "    </tr>\n",
              "    <tr>\n",
              "      <th>D</th>\n",
              "      <td>0.207297</td>\n",
              "      <td>-0.042479</td>\n",
              "      <td>0.786967</td>\n",
              "      <td>-0.417168</td>\n",
              "      <td>0.034006</td>\n",
              "      <td>0.951729</td>\n",
              "    </tr>\n",
              "  </tbody>\n",
              "</table>\n",
              "</div>"
            ],
            "text/plain": [
              "   2013-01-01  2013-01-02  2013-01-03  2013-01-04  2013-01-05  2013-01-06\n",
              "A   -0.788473    0.658293   -1.589565   -0.171543   -0.246810    0.515267\n",
              "B   -0.190297    0.122337   -0.504972   -0.172878    0.972046   -0.833072\n",
              "C    0.541194   -0.053998    0.983789   -0.503154   -0.157348    0.255903\n",
              "D    0.207297   -0.042479    0.786967   -0.417168    0.034006    0.951729"
            ]
          },
          "metadata": {
            "tags": []
          },
          "execution_count": 20
        }
      ]
    },
    {
      "cell_type": "markdown",
      "metadata": {
        "id": "Y9efTu-b5LKx",
        "colab_type": "text"
      },
      "source": [
        "#### df.sort_index()\n",
        "* axis = 0 : index를 기준으로 정렬\n",
        "* axis = 1 : column을 기준으로 정렬\n",
        "* ascending = True : 오름차순\n",
        "* ascending = Fals : 내림차순"
      ]
    },
    {
      "cell_type": "code",
      "metadata": {
        "id": "ZVcwNjtf5C7l",
        "colab_type": "code",
        "outputId": "5ae8c6cb-7ddf-450e-835f-af060384e656",
        "colab": {
          "base_uri": "https://localhost:8080/",
          "height": 225
        }
      },
      "source": [
        "df.sort_index(axis=0, ascending=True)"
      ],
      "execution_count": 0,
      "outputs": [
        {
          "output_type": "execute_result",
          "data": {
            "text/html": [
              "<div>\n",
              "<style scoped>\n",
              "    .dataframe tbody tr th:only-of-type {\n",
              "        vertical-align: middle;\n",
              "    }\n",
              "\n",
              "    .dataframe tbody tr th {\n",
              "        vertical-align: top;\n",
              "    }\n",
              "\n",
              "    .dataframe thead th {\n",
              "        text-align: right;\n",
              "    }\n",
              "</style>\n",
              "<table border=\"1\" class=\"dataframe\">\n",
              "  <thead>\n",
              "    <tr style=\"text-align: right;\">\n",
              "      <th></th>\n",
              "      <th>A</th>\n",
              "      <th>B</th>\n",
              "      <th>C</th>\n",
              "      <th>D</th>\n",
              "    </tr>\n",
              "  </thead>\n",
              "  <tbody>\n",
              "    <tr>\n",
              "      <th>2013-01-01</th>\n",
              "      <td>-0.788473</td>\n",
              "      <td>-0.190297</td>\n",
              "      <td>0.541194</td>\n",
              "      <td>0.207297</td>\n",
              "    </tr>\n",
              "    <tr>\n",
              "      <th>2013-01-02</th>\n",
              "      <td>0.658293</td>\n",
              "      <td>0.122337</td>\n",
              "      <td>-0.053998</td>\n",
              "      <td>-0.042479</td>\n",
              "    </tr>\n",
              "    <tr>\n",
              "      <th>2013-01-03</th>\n",
              "      <td>-1.589565</td>\n",
              "      <td>-0.504972</td>\n",
              "      <td>0.983789</td>\n",
              "      <td>0.786967</td>\n",
              "    </tr>\n",
              "    <tr>\n",
              "      <th>2013-01-04</th>\n",
              "      <td>-0.171543</td>\n",
              "      <td>-0.172878</td>\n",
              "      <td>-0.503154</td>\n",
              "      <td>-0.417168</td>\n",
              "    </tr>\n",
              "    <tr>\n",
              "      <th>2013-01-05</th>\n",
              "      <td>-0.246810</td>\n",
              "      <td>0.972046</td>\n",
              "      <td>-0.157348</td>\n",
              "      <td>0.034006</td>\n",
              "    </tr>\n",
              "    <tr>\n",
              "      <th>2013-01-06</th>\n",
              "      <td>0.515267</td>\n",
              "      <td>-0.833072</td>\n",
              "      <td>0.255903</td>\n",
              "      <td>0.951729</td>\n",
              "    </tr>\n",
              "  </tbody>\n",
              "</table>\n",
              "</div>"
            ],
            "text/plain": [
              "                   A         B         C         D\n",
              "2013-01-01 -0.788473 -0.190297  0.541194  0.207297\n",
              "2013-01-02  0.658293  0.122337 -0.053998 -0.042479\n",
              "2013-01-03 -1.589565 -0.504972  0.983789  0.786967\n",
              "2013-01-04 -0.171543 -0.172878 -0.503154 -0.417168\n",
              "2013-01-05 -0.246810  0.972046 -0.157348  0.034006\n",
              "2013-01-06  0.515267 -0.833072  0.255903  0.951729"
            ]
          },
          "metadata": {
            "tags": []
          },
          "execution_count": 21
        }
      ]
    },
    {
      "cell_type": "code",
      "metadata": {
        "id": "SG-T8eGJ5X82",
        "colab_type": "code",
        "outputId": "17ef5390-e814-4dbc-e7db-3f8fb24e2988",
        "colab": {
          "base_uri": "https://localhost:8080/",
          "height": 225
        }
      },
      "source": [
        "df.sort_index(axis=1, ascending=False)"
      ],
      "execution_count": 0,
      "outputs": [
        {
          "output_type": "execute_result",
          "data": {
            "text/html": [
              "<div>\n",
              "<style scoped>\n",
              "    .dataframe tbody tr th:only-of-type {\n",
              "        vertical-align: middle;\n",
              "    }\n",
              "\n",
              "    .dataframe tbody tr th {\n",
              "        vertical-align: top;\n",
              "    }\n",
              "\n",
              "    .dataframe thead th {\n",
              "        text-align: right;\n",
              "    }\n",
              "</style>\n",
              "<table border=\"1\" class=\"dataframe\">\n",
              "  <thead>\n",
              "    <tr style=\"text-align: right;\">\n",
              "      <th></th>\n",
              "      <th>D</th>\n",
              "      <th>C</th>\n",
              "      <th>B</th>\n",
              "      <th>A</th>\n",
              "    </tr>\n",
              "  </thead>\n",
              "  <tbody>\n",
              "    <tr>\n",
              "      <th>2013-01-01</th>\n",
              "      <td>0.207297</td>\n",
              "      <td>0.541194</td>\n",
              "      <td>-0.190297</td>\n",
              "      <td>-0.788473</td>\n",
              "    </tr>\n",
              "    <tr>\n",
              "      <th>2013-01-02</th>\n",
              "      <td>-0.042479</td>\n",
              "      <td>-0.053998</td>\n",
              "      <td>0.122337</td>\n",
              "      <td>0.658293</td>\n",
              "    </tr>\n",
              "    <tr>\n",
              "      <th>2013-01-03</th>\n",
              "      <td>0.786967</td>\n",
              "      <td>0.983789</td>\n",
              "      <td>-0.504972</td>\n",
              "      <td>-1.589565</td>\n",
              "    </tr>\n",
              "    <tr>\n",
              "      <th>2013-01-04</th>\n",
              "      <td>-0.417168</td>\n",
              "      <td>-0.503154</td>\n",
              "      <td>-0.172878</td>\n",
              "      <td>-0.171543</td>\n",
              "    </tr>\n",
              "    <tr>\n",
              "      <th>2013-01-05</th>\n",
              "      <td>0.034006</td>\n",
              "      <td>-0.157348</td>\n",
              "      <td>0.972046</td>\n",
              "      <td>-0.246810</td>\n",
              "    </tr>\n",
              "    <tr>\n",
              "      <th>2013-01-06</th>\n",
              "      <td>0.951729</td>\n",
              "      <td>0.255903</td>\n",
              "      <td>-0.833072</td>\n",
              "      <td>0.515267</td>\n",
              "    </tr>\n",
              "  </tbody>\n",
              "</table>\n",
              "</div>"
            ],
            "text/plain": [
              "                   D         C         B         A\n",
              "2013-01-01  0.207297  0.541194 -0.190297 -0.788473\n",
              "2013-01-02 -0.042479 -0.053998  0.122337  0.658293\n",
              "2013-01-03  0.786967  0.983789 -0.504972 -1.589565\n",
              "2013-01-04 -0.417168 -0.503154 -0.172878 -0.171543\n",
              "2013-01-05  0.034006 -0.157348  0.972046 -0.246810\n",
              "2013-01-06  0.951729  0.255903 -0.833072  0.515267"
            ]
          },
          "metadata": {
            "tags": []
          },
          "execution_count": 22
        }
      ]
    },
    {
      "cell_type": "markdown",
      "metadata": {
        "id": "tMR3H0NX5hNB",
        "colab_type": "text"
      },
      "source": [
        "### 데이터 선택하기 (Selection)"
      ]
    },
    {
      "cell_type": "code",
      "metadata": {
        "id": "q5Ny4Efy5eh3",
        "colab_type": "code",
        "outputId": "e5f18e13-d1af-494c-e5f8-2ab3a5417c01",
        "colab": {
          "base_uri": "https://localhost:8080/",
          "height": 151
        }
      },
      "source": [
        "print(df['A'])\n",
        "type(df['A'])"
      ],
      "execution_count": 0,
      "outputs": [
        {
          "output_type": "stream",
          "text": [
            "2013-01-01   -0.788473\n",
            "2013-01-02    0.658293\n",
            "2013-01-03   -1.589565\n",
            "2013-01-04   -0.171543\n",
            "2013-01-05   -0.246810\n",
            "2013-01-06    0.515267\n",
            "Freq: D, Name: A, dtype: float64\n"
          ],
          "name": "stdout"
        },
        {
          "output_type": "execute_result",
          "data": {
            "text/plain": [
              "pandas.core.series.Series"
            ]
          },
          "metadata": {
            "tags": []
          },
          "execution_count": 23
        }
      ]
    },
    {
      "cell_type": "code",
      "metadata": {
        "id": "MyqUzARq5g1w",
        "colab_type": "code",
        "outputId": "7a7c18df-d260-47ed-c52e-160eefc9e1e6",
        "colab": {
          "base_uri": "https://localhost:8080/",
          "height": 136
        }
      },
      "source": [
        "df[0:3]"
      ],
      "execution_count": 0,
      "outputs": [
        {
          "output_type": "execute_result",
          "data": {
            "text/html": [
              "<div>\n",
              "<style scoped>\n",
              "    .dataframe tbody tr th:only-of-type {\n",
              "        vertical-align: middle;\n",
              "    }\n",
              "\n",
              "    .dataframe tbody tr th {\n",
              "        vertical-align: top;\n",
              "    }\n",
              "\n",
              "    .dataframe thead th {\n",
              "        text-align: right;\n",
              "    }\n",
              "</style>\n",
              "<table border=\"1\" class=\"dataframe\">\n",
              "  <thead>\n",
              "    <tr style=\"text-align: right;\">\n",
              "      <th></th>\n",
              "      <th>A</th>\n",
              "      <th>B</th>\n",
              "      <th>C</th>\n",
              "      <th>D</th>\n",
              "    </tr>\n",
              "  </thead>\n",
              "  <tbody>\n",
              "    <tr>\n",
              "      <th>2013-01-01</th>\n",
              "      <td>-0.788473</td>\n",
              "      <td>-0.190297</td>\n",
              "      <td>0.541194</td>\n",
              "      <td>0.207297</td>\n",
              "    </tr>\n",
              "    <tr>\n",
              "      <th>2013-01-02</th>\n",
              "      <td>0.658293</td>\n",
              "      <td>0.122337</td>\n",
              "      <td>-0.053998</td>\n",
              "      <td>-0.042479</td>\n",
              "    </tr>\n",
              "    <tr>\n",
              "      <th>2013-01-03</th>\n",
              "      <td>-1.589565</td>\n",
              "      <td>-0.504972</td>\n",
              "      <td>0.983789</td>\n",
              "      <td>0.786967</td>\n",
              "    </tr>\n",
              "  </tbody>\n",
              "</table>\n",
              "</div>"
            ],
            "text/plain": [
              "                   A         B         C         D\n",
              "2013-01-01 -0.788473 -0.190297  0.541194  0.207297\n",
              "2013-01-02  0.658293  0.122337 -0.053998 -0.042479\n",
              "2013-01-03 -1.589565 -0.504972  0.983789  0.786967"
            ]
          },
          "metadata": {
            "tags": []
          },
          "execution_count": 24
        }
      ]
    },
    {
      "cell_type": "code",
      "metadata": {
        "id": "R74sAZVu6fjh",
        "colab_type": "code",
        "outputId": "4cc3e6d2-f1f2-40d9-a895-95cb9873d56f",
        "colab": {
          "base_uri": "https://localhost:8080/",
          "height": 136
        }
      },
      "source": [
        "df['20130102':'20130104']"
      ],
      "execution_count": 0,
      "outputs": [
        {
          "output_type": "execute_result",
          "data": {
            "text/html": [
              "<div>\n",
              "<style scoped>\n",
              "    .dataframe tbody tr th:only-of-type {\n",
              "        vertical-align: middle;\n",
              "    }\n",
              "\n",
              "    .dataframe tbody tr th {\n",
              "        vertical-align: top;\n",
              "    }\n",
              "\n",
              "    .dataframe thead th {\n",
              "        text-align: right;\n",
              "    }\n",
              "</style>\n",
              "<table border=\"1\" class=\"dataframe\">\n",
              "  <thead>\n",
              "    <tr style=\"text-align: right;\">\n",
              "      <th></th>\n",
              "      <th>A</th>\n",
              "      <th>B</th>\n",
              "      <th>C</th>\n",
              "      <th>D</th>\n",
              "    </tr>\n",
              "  </thead>\n",
              "  <tbody>\n",
              "    <tr>\n",
              "      <th>2013-01-02</th>\n",
              "      <td>0.658293</td>\n",
              "      <td>0.122337</td>\n",
              "      <td>-0.053998</td>\n",
              "      <td>-0.042479</td>\n",
              "    </tr>\n",
              "    <tr>\n",
              "      <th>2013-01-03</th>\n",
              "      <td>-1.589565</td>\n",
              "      <td>-0.504972</td>\n",
              "      <td>0.983789</td>\n",
              "      <td>0.786967</td>\n",
              "    </tr>\n",
              "    <tr>\n",
              "      <th>2013-01-04</th>\n",
              "      <td>-0.171543</td>\n",
              "      <td>-0.172878</td>\n",
              "      <td>-0.503154</td>\n",
              "      <td>-0.417168</td>\n",
              "    </tr>\n",
              "  </tbody>\n",
              "</table>\n",
              "</div>"
            ],
            "text/plain": [
              "                   A         B         C         D\n",
              "2013-01-02  0.658293  0.122337 -0.053998 -0.042479\n",
              "2013-01-03 -1.589565 -0.504972  0.983789  0.786967\n",
              "2013-01-04 -0.171543 -0.172878 -0.503154 -0.417168"
            ]
          },
          "metadata": {
            "tags": []
          },
          "execution_count": 25
        }
      ]
    },
    {
      "cell_type": "code",
      "metadata": {
        "id": "La8KJQhqgIwa",
        "colab_type": "code",
        "outputId": "b54272ab-b8df-4703-9668-18ae239593b3",
        "colab": {
          "base_uri": "https://localhost:8080/",
          "height": 101
        }
      },
      "source": [
        "df.iloc[3]"
      ],
      "execution_count": 0,
      "outputs": [
        {
          "output_type": "execute_result",
          "data": {
            "text/plain": [
              "A   -0.171543\n",
              "B   -0.172878\n",
              "C   -0.503154\n",
              "D   -0.417168\n",
              "Name: 2013-01-04 00:00:00, dtype: float64"
            ]
          },
          "metadata": {
            "tags": []
          },
          "execution_count": 26
        }
      ]
    },
    {
      "cell_type": "code",
      "metadata": {
        "id": "Lf-vOuD8goXy",
        "colab_type": "code",
        "outputId": "67211e4e-8715-4944-cd2c-0b27ee7e5dfc",
        "colab": {
          "base_uri": "https://localhost:8080/",
          "height": 106
        }
      },
      "source": [
        "df.iloc[3:5,0:2]"
      ],
      "execution_count": 0,
      "outputs": [
        {
          "output_type": "execute_result",
          "data": {
            "text/html": [
              "<div>\n",
              "<style scoped>\n",
              "    .dataframe tbody tr th:only-of-type {\n",
              "        vertical-align: middle;\n",
              "    }\n",
              "\n",
              "    .dataframe tbody tr th {\n",
              "        vertical-align: top;\n",
              "    }\n",
              "\n",
              "    .dataframe thead th {\n",
              "        text-align: right;\n",
              "    }\n",
              "</style>\n",
              "<table border=\"1\" class=\"dataframe\">\n",
              "  <thead>\n",
              "    <tr style=\"text-align: right;\">\n",
              "      <th></th>\n",
              "      <th>A</th>\n",
              "      <th>B</th>\n",
              "    </tr>\n",
              "  </thead>\n",
              "  <tbody>\n",
              "    <tr>\n",
              "      <th>2013-01-04</th>\n",
              "      <td>-0.171543</td>\n",
              "      <td>-0.172878</td>\n",
              "    </tr>\n",
              "    <tr>\n",
              "      <th>2013-01-05</th>\n",
              "      <td>-0.246810</td>\n",
              "      <td>0.972046</td>\n",
              "    </tr>\n",
              "  </tbody>\n",
              "</table>\n",
              "</div>"
            ],
            "text/plain": [
              "                   A         B\n",
              "2013-01-04 -0.171543 -0.172878\n",
              "2013-01-05 -0.246810  0.972046"
            ]
          },
          "metadata": {
            "tags": []
          },
          "execution_count": 27
        }
      ]
    },
    {
      "cell_type": "code",
      "metadata": {
        "id": "ENoQ3xi8g1za",
        "colab_type": "code",
        "outputId": "aa756049-b640-469f-8b0f-d01e856440e9",
        "colab": {
          "base_uri": "https://localhost:8080/",
          "height": 136
        }
      },
      "source": [
        "df.iloc[[1,2,4],[0,2]]"
      ],
      "execution_count": 0,
      "outputs": [
        {
          "output_type": "execute_result",
          "data": {
            "text/html": [
              "<div>\n",
              "<style scoped>\n",
              "    .dataframe tbody tr th:only-of-type {\n",
              "        vertical-align: middle;\n",
              "    }\n",
              "\n",
              "    .dataframe tbody tr th {\n",
              "        vertical-align: top;\n",
              "    }\n",
              "\n",
              "    .dataframe thead th {\n",
              "        text-align: right;\n",
              "    }\n",
              "</style>\n",
              "<table border=\"1\" class=\"dataframe\">\n",
              "  <thead>\n",
              "    <tr style=\"text-align: right;\">\n",
              "      <th></th>\n",
              "      <th>A</th>\n",
              "      <th>C</th>\n",
              "    </tr>\n",
              "  </thead>\n",
              "  <tbody>\n",
              "    <tr>\n",
              "      <th>2013-01-02</th>\n",
              "      <td>0.658293</td>\n",
              "      <td>-0.053998</td>\n",
              "    </tr>\n",
              "    <tr>\n",
              "      <th>2013-01-03</th>\n",
              "      <td>-1.589565</td>\n",
              "      <td>0.983789</td>\n",
              "    </tr>\n",
              "    <tr>\n",
              "      <th>2013-01-05</th>\n",
              "      <td>-0.246810</td>\n",
              "      <td>-0.157348</td>\n",
              "    </tr>\n",
              "  </tbody>\n",
              "</table>\n",
              "</div>"
            ],
            "text/plain": [
              "                   A         C\n",
              "2013-01-02  0.658293 -0.053998\n",
              "2013-01-03 -1.589565  0.983789\n",
              "2013-01-05 -0.246810 -0.157348"
            ]
          },
          "metadata": {
            "tags": []
          },
          "execution_count": 28
        }
      ]
    },
    {
      "cell_type": "code",
      "metadata": {
        "id": "X7ZDCmBXg5WS",
        "colab_type": "code",
        "outputId": "8774137c-174c-4034-ef85-d35b1a551b11",
        "colab": {
          "base_uri": "https://localhost:8080/",
          "height": 106
        }
      },
      "source": [
        "df.iloc[1:3,:]"
      ],
      "execution_count": 0,
      "outputs": [
        {
          "output_type": "execute_result",
          "data": {
            "text/html": [
              "<div>\n",
              "<style scoped>\n",
              "    .dataframe tbody tr th:only-of-type {\n",
              "        vertical-align: middle;\n",
              "    }\n",
              "\n",
              "    .dataframe tbody tr th {\n",
              "        vertical-align: top;\n",
              "    }\n",
              "\n",
              "    .dataframe thead th {\n",
              "        text-align: right;\n",
              "    }\n",
              "</style>\n",
              "<table border=\"1\" class=\"dataframe\">\n",
              "  <thead>\n",
              "    <tr style=\"text-align: right;\">\n",
              "      <th></th>\n",
              "      <th>A</th>\n",
              "      <th>B</th>\n",
              "      <th>C</th>\n",
              "      <th>D</th>\n",
              "    </tr>\n",
              "  </thead>\n",
              "  <tbody>\n",
              "    <tr>\n",
              "      <th>2013-01-02</th>\n",
              "      <td>0.658293</td>\n",
              "      <td>0.122337</td>\n",
              "      <td>-0.053998</td>\n",
              "      <td>-0.042479</td>\n",
              "    </tr>\n",
              "    <tr>\n",
              "      <th>2013-01-03</th>\n",
              "      <td>-1.589565</td>\n",
              "      <td>-0.504972</td>\n",
              "      <td>0.983789</td>\n",
              "      <td>0.786967</td>\n",
              "    </tr>\n",
              "  </tbody>\n",
              "</table>\n",
              "</div>"
            ],
            "text/plain": [
              "                   A         B         C         D\n",
              "2013-01-02  0.658293  0.122337 -0.053998 -0.042479\n",
              "2013-01-03 -1.589565 -0.504972  0.983789  0.786967"
            ]
          },
          "metadata": {
            "tags": []
          },
          "execution_count": 29
        }
      ]
    },
    {
      "cell_type": "markdown",
      "metadata": {
        "id": "xE5Pvymi8ieH",
        "colab_type": "text"
      },
      "source": [
        "### 조건을 이용하여 선택하기"
      ]
    },
    {
      "cell_type": "code",
      "metadata": {
        "id": "iyffWZu46jy8",
        "colab_type": "code",
        "outputId": "e07b00f9-c6ea-4e9b-95c3-6332d9e97258",
        "colab": {
          "base_uri": "https://localhost:8080/",
          "height": 236
        }
      },
      "source": [
        "print(df)\n",
        "df[(df.B > 0) & (df.C > 0)]"
      ],
      "execution_count": 0,
      "outputs": [
        {
          "output_type": "stream",
          "text": [
            "                   A         B         C         D\n",
            "2013-01-01 -0.816515 -0.754784 -0.867407 -0.252371\n",
            "2013-01-02 -0.607788  0.841311 -0.523780  0.768206\n",
            "2013-01-03 -1.051236  0.341588 -0.059844 -0.065160\n",
            "2013-01-04 -0.821683  0.039288  0.343185  1.535739\n",
            "2013-01-05 -0.178736  0.933309  0.303133 -0.397563\n",
            "2013-01-06  0.195095 -0.387006  0.549300 -0.747031\n"
          ],
          "name": "stdout"
        },
        {
          "output_type": "execute_result",
          "data": {
            "text/html": [
              "<div>\n",
              "<style scoped>\n",
              "    .dataframe tbody tr th:only-of-type {\n",
              "        vertical-align: middle;\n",
              "    }\n",
              "\n",
              "    .dataframe tbody tr th {\n",
              "        vertical-align: top;\n",
              "    }\n",
              "\n",
              "    .dataframe thead th {\n",
              "        text-align: right;\n",
              "    }\n",
              "</style>\n",
              "<table border=\"1\" class=\"dataframe\">\n",
              "  <thead>\n",
              "    <tr style=\"text-align: right;\">\n",
              "      <th></th>\n",
              "      <th>A</th>\n",
              "      <th>B</th>\n",
              "      <th>C</th>\n",
              "      <th>D</th>\n",
              "    </tr>\n",
              "  </thead>\n",
              "  <tbody>\n",
              "    <tr>\n",
              "      <th>2013-01-04</th>\n",
              "      <td>-0.821683</td>\n",
              "      <td>0.039288</td>\n",
              "      <td>0.343185</td>\n",
              "      <td>1.535739</td>\n",
              "    </tr>\n",
              "    <tr>\n",
              "      <th>2013-01-05</th>\n",
              "      <td>-0.178736</td>\n",
              "      <td>0.933309</td>\n",
              "      <td>0.303133</td>\n",
              "      <td>-0.397563</td>\n",
              "    </tr>\n",
              "  </tbody>\n",
              "</table>\n",
              "</div>"
            ],
            "text/plain": [
              "                   A         B         C         D\n",
              "2013-01-04 -0.821683  0.039288  0.343185  1.535739\n",
              "2013-01-05 -0.178736  0.933309  0.303133 -0.397563"
            ]
          },
          "metadata": {
            "tags": []
          },
          "execution_count": 12
        }
      ]
    },
    {
      "cell_type": "markdown",
      "metadata": {
        "id": "G3Vtyt-W88nS",
        "colab_type": "text"
      },
      "source": [
        "### 연산\n",
        "\n"
      ]
    },
    {
      "cell_type": "markdown",
      "metadata": {
        "id": "UOGOig17cPqY",
        "colab_type": "text"
      },
      "source": [
        "#### mean() \n",
        "* 평균구하기\n",
        "* 컬럼별로 평균"
      ]
    },
    {
      "cell_type": "code",
      "metadata": {
        "id": "0WLA1gq_Wl1x",
        "colab_type": "code",
        "outputId": "f75f63bf-6d37-413f-9dd0-d9f5fecb251b",
        "colab": {
          "base_uri": "https://localhost:8080/",
          "height": 101
        }
      },
      "source": [
        "df.mean()"
      ],
      "execution_count": 0,
      "outputs": [
        {
          "output_type": "execute_result",
          "data": {
            "text/plain": [
              "A   -0.270472\n",
              "B   -0.101139\n",
              "C    0.177731\n",
              "D    0.253392\n",
              "dtype: float64"
            ]
          },
          "metadata": {
            "tags": []
          },
          "execution_count": 31
        }
      ]
    },
    {
      "cell_type": "markdown",
      "metadata": {
        "id": "2mZELpjhcWjb",
        "colab_type": "text"
      },
      "source": [
        "#### mean(1)\n",
        "* index 기준으로 평균"
      ]
    },
    {
      "cell_type": "code",
      "metadata": {
        "id": "TF5Y8Z2LWysb",
        "colab_type": "code",
        "outputId": "245fc99f-bd9a-4c2f-d5ef-3aea49a75821",
        "colab": {
          "base_uri": "https://localhost:8080/",
          "height": 134
        }
      },
      "source": [
        "df.mean(1)"
      ],
      "execution_count": 0,
      "outputs": [
        {
          "output_type": "execute_result",
          "data": {
            "text/plain": [
              "2013-01-01   -0.057570\n",
              "2013-01-02    0.171038\n",
              "2013-01-03   -0.080945\n",
              "2013-01-04   -0.316186\n",
              "2013-01-05    0.150473\n",
              "2013-01-06    0.222457\n",
              "Freq: D, dtype: float64"
            ]
          },
          "metadata": {
            "tags": []
          },
          "execution_count": 32
        }
      ]
    },
    {
      "cell_type": "markdown",
      "metadata": {
        "id": "Rm1GjNBkXiqw",
        "colab_type": "text"
      },
      "source": [
        "### 데이터 합치기\n",
        " \n",
        " "
      ]
    },
    {
      "cell_type": "markdown",
      "metadata": {
        "id": "Pt2-ORVUXwkW",
        "colab_type": "text"
      },
      "source": [
        "#### concat"
      ]
    },
    {
      "cell_type": "code",
      "metadata": {
        "id": "xFQ3t7ZOX3c3",
        "colab_type": "code",
        "outputId": "b85087f4-3959-4388-d602-4386795f28a4",
        "colab": {
          "base_uri": "https://localhost:8080/",
          "height": 215
        }
      },
      "source": [
        "df = pd.DataFrame(np.random.randn(10, 4), columns=list('ABCD'))\n",
        "print(df)"
      ],
      "execution_count": 0,
      "outputs": [
        {
          "output_type": "stream",
          "text": [
            "          A         B         C         D\n",
            "0 -0.864839 -1.744247  1.394333  2.157303\n",
            "1 -1.239989 -0.520578 -1.101941 -1.537443\n",
            "2 -0.949169 -0.013183 -1.005318  0.689450\n",
            "3 -0.133275  0.810338 -0.740206 -0.452096\n",
            "4 -0.002749  0.579461  0.657609 -1.430407\n",
            "5  2.103698 -0.490106  0.141132  0.021476\n",
            "6  0.523234 -0.479610  0.361724 -0.243116\n",
            "7  0.027446 -1.140889 -1.070930  1.262966\n",
            "8  0.538778  0.498457 -1.198304 -0.470741\n",
            "9  1.852740 -0.601611  0.719923 -0.579715\n"
          ],
          "name": "stdout"
        }
      ]
    },
    {
      "cell_type": "code",
      "metadata": {
        "id": "ME8kIDSDX9N_",
        "colab_type": "code",
        "colab": {}
      },
      "source": [
        "pieces = [df[:3], df[3:7], df[7:]]\n",
        "print(pieces[0])\n",
        "print(pieces[1])\n",
        "print(pieces[2])"
      ],
      "execution_count": 0,
      "outputs": []
    },
    {
      "cell_type": "code",
      "metadata": {
        "id": "_hN-vq9XYkAf",
        "colab_type": "code",
        "outputId": "5c20e9d7-8715-4f09-e6e1-e82055f3f7b0",
        "colab": {
          "base_uri": "https://localhost:8080/",
          "height": 343
        }
      },
      "source": [
        "pd.concat(pieces)"
      ],
      "execution_count": 0,
      "outputs": [
        {
          "output_type": "execute_result",
          "data": {
            "text/html": [
              "<div>\n",
              "<style scoped>\n",
              "    .dataframe tbody tr th:only-of-type {\n",
              "        vertical-align: middle;\n",
              "    }\n",
              "\n",
              "    .dataframe tbody tr th {\n",
              "        vertical-align: top;\n",
              "    }\n",
              "\n",
              "    .dataframe thead th {\n",
              "        text-align: right;\n",
              "    }\n",
              "</style>\n",
              "<table border=\"1\" class=\"dataframe\">\n",
              "  <thead>\n",
              "    <tr style=\"text-align: right;\">\n",
              "      <th></th>\n",
              "      <th>A</th>\n",
              "      <th>B</th>\n",
              "      <th>C</th>\n",
              "      <th>D</th>\n",
              "    </tr>\n",
              "  </thead>\n",
              "  <tbody>\n",
              "    <tr>\n",
              "      <th>0</th>\n",
              "      <td>-0.109318</td>\n",
              "      <td>-0.255184</td>\n",
              "      <td>-1.228720</td>\n",
              "      <td>-0.460782</td>\n",
              "    </tr>\n",
              "    <tr>\n",
              "      <th>1</th>\n",
              "      <td>-0.739769</td>\n",
              "      <td>0.372388</td>\n",
              "      <td>0.032185</td>\n",
              "      <td>0.307066</td>\n",
              "    </tr>\n",
              "    <tr>\n",
              "      <th>2</th>\n",
              "      <td>-1.090253</td>\n",
              "      <td>-0.129609</td>\n",
              "      <td>1.376017</td>\n",
              "      <td>0.876980</td>\n",
              "    </tr>\n",
              "    <tr>\n",
              "      <th>3</th>\n",
              "      <td>-0.918436</td>\n",
              "      <td>-1.105901</td>\n",
              "      <td>0.130717</td>\n",
              "      <td>1.741716</td>\n",
              "    </tr>\n",
              "    <tr>\n",
              "      <th>4</th>\n",
              "      <td>0.570184</td>\n",
              "      <td>-1.678889</td>\n",
              "      <td>-0.334162</td>\n",
              "      <td>-1.525498</td>\n",
              "    </tr>\n",
              "    <tr>\n",
              "      <th>5</th>\n",
              "      <td>0.633631</td>\n",
              "      <td>-0.224343</td>\n",
              "      <td>-1.923253</td>\n",
              "      <td>1.790623</td>\n",
              "    </tr>\n",
              "    <tr>\n",
              "      <th>6</th>\n",
              "      <td>1.085334</td>\n",
              "      <td>0.846396</td>\n",
              "      <td>1.582270</td>\n",
              "      <td>-0.054239</td>\n",
              "    </tr>\n",
              "    <tr>\n",
              "      <th>7</th>\n",
              "      <td>0.392023</td>\n",
              "      <td>0.015620</td>\n",
              "      <td>0.383075</td>\n",
              "      <td>-0.302815</td>\n",
              "    </tr>\n",
              "    <tr>\n",
              "      <th>8</th>\n",
              "      <td>-1.495101</td>\n",
              "      <td>-3.037318</td>\n",
              "      <td>-0.323565</td>\n",
              "      <td>-1.731351</td>\n",
              "    </tr>\n",
              "    <tr>\n",
              "      <th>9</th>\n",
              "      <td>1.627042</td>\n",
              "      <td>-0.823900</td>\n",
              "      <td>-0.240779</td>\n",
              "      <td>-1.601275</td>\n",
              "    </tr>\n",
              "  </tbody>\n",
              "</table>\n",
              "</div>"
            ],
            "text/plain": [
              "          A         B         C         D\n",
              "0 -0.109318 -0.255184 -1.228720 -0.460782\n",
              "1 -0.739769  0.372388  0.032185  0.307066\n",
              "2 -1.090253 -0.129609  1.376017  0.876980\n",
              "3 -0.918436 -1.105901  0.130717  1.741716\n",
              "4  0.570184 -1.678889 -0.334162 -1.525498\n",
              "5  0.633631 -0.224343 -1.923253  1.790623\n",
              "6  1.085334  0.846396  1.582270 -0.054239\n",
              "7  0.392023  0.015620  0.383075 -0.302815\n",
              "8 -1.495101 -3.037318 -0.323565 -1.731351\n",
              "9  1.627042 -0.823900 -0.240779 -1.601275"
            ]
          },
          "metadata": {
            "tags": []
          },
          "execution_count": 35
        }
      ]
    },
    {
      "cell_type": "markdown",
      "metadata": {
        "id": "P-QYMM9VN0_I",
        "colab_type": "text"
      },
      "source": [
        "#### join"
      ]
    },
    {
      "cell_type": "code",
      "metadata": {
        "id": "Iu4adI99YwIg",
        "colab_type": "code",
        "outputId": "8ed8bcaf-37d8-4df6-c0ed-647e1aaa8350",
        "colab": {
          "base_uri": "https://localhost:8080/",
          "height": 71
        }
      },
      "source": [
        "left = pd.DataFrame({'key': ['foo', 'foo'], 'lval': [1, 2]})\n",
        "print(left)"
      ],
      "execution_count": 0,
      "outputs": [
        {
          "output_type": "stream",
          "text": [
            "   key  lval\n",
            "0  foo     1\n",
            "1  foo     2\n"
          ],
          "name": "stdout"
        }
      ]
    },
    {
      "cell_type": "code",
      "metadata": {
        "id": "doZ-Vm6WZJFu",
        "colab_type": "code",
        "outputId": "cb0aa835-b490-4ec9-b49c-cb39e3f42a50",
        "colab": {
          "base_uri": "https://localhost:8080/",
          "height": 71
        }
      },
      "source": [
        "right = pd.DataFrame({'key': ['foo', 'foo'], 'rval': [4, 5]})\n",
        "print(right)"
      ],
      "execution_count": 0,
      "outputs": [
        {
          "output_type": "stream",
          "text": [
            "   key  rval\n",
            "0  foo     4\n",
            "1  foo     5\n"
          ],
          "name": "stdout"
        }
      ]
    },
    {
      "cell_type": "code",
      "metadata": {
        "id": "-HB2aISoZJPd",
        "colab_type": "code",
        "outputId": "84d20297-cbc1-4713-be86-62b8743d2339",
        "colab": {
          "base_uri": "https://localhost:8080/",
          "height": 107
        }
      },
      "source": [
        "merged = pd.merge(left, right, on='key')\n",
        "print(merged)"
      ],
      "execution_count": 0,
      "outputs": [
        {
          "output_type": "stream",
          "text": [
            "   key  lval  rval\n",
            "0  foo     1     4\n",
            "1  foo     1     5\n",
            "2  foo     2     4\n",
            "3  foo     2     5\n"
          ],
          "name": "stdout"
        }
      ]
    },
    {
      "cell_type": "code",
      "metadata": {
        "id": "xP6b1R0WOd2T",
        "colab_type": "code",
        "outputId": "c0c6e4bd-c77b-4a03-bd1c-0745317a7cc3",
        "colab": {
          "base_uri": "https://localhost:8080/",
          "height": 314
        }
      },
      "source": [
        "df = pd.DataFrame(np.random.randn(8, 4), columns=['A', 'B', 'C', 'D'])\n",
        "s = df.iloc[3]\n",
        "df.append(s, ignore_index=True)"
      ],
      "execution_count": 0,
      "outputs": [
        {
          "output_type": "execute_result",
          "data": {
            "text/html": [
              "<div>\n",
              "<style scoped>\n",
              "    .dataframe tbody tr th:only-of-type {\n",
              "        vertical-align: middle;\n",
              "    }\n",
              "\n",
              "    .dataframe tbody tr th {\n",
              "        vertical-align: top;\n",
              "    }\n",
              "\n",
              "    .dataframe thead th {\n",
              "        text-align: right;\n",
              "    }\n",
              "</style>\n",
              "<table border=\"1\" class=\"dataframe\">\n",
              "  <thead>\n",
              "    <tr style=\"text-align: right;\">\n",
              "      <th></th>\n",
              "      <th>A</th>\n",
              "      <th>B</th>\n",
              "      <th>C</th>\n",
              "      <th>D</th>\n",
              "    </tr>\n",
              "  </thead>\n",
              "  <tbody>\n",
              "    <tr>\n",
              "      <th>0</th>\n",
              "      <td>0.180519</td>\n",
              "      <td>0.971945</td>\n",
              "      <td>-0.689293</td>\n",
              "      <td>-0.062675</td>\n",
              "    </tr>\n",
              "    <tr>\n",
              "      <th>1</th>\n",
              "      <td>0.807041</td>\n",
              "      <td>0.070674</td>\n",
              "      <td>-0.740652</td>\n",
              "      <td>0.019363</td>\n",
              "    </tr>\n",
              "    <tr>\n",
              "      <th>2</th>\n",
              "      <td>-1.079841</td>\n",
              "      <td>0.697301</td>\n",
              "      <td>0.221466</td>\n",
              "      <td>0.249245</td>\n",
              "    </tr>\n",
              "    <tr>\n",
              "      <th>3</th>\n",
              "      <td>0.564097</td>\n",
              "      <td>-0.156620</td>\n",
              "      <td>0.209924</td>\n",
              "      <td>0.450662</td>\n",
              "    </tr>\n",
              "    <tr>\n",
              "      <th>4</th>\n",
              "      <td>-0.878281</td>\n",
              "      <td>0.062991</td>\n",
              "      <td>2.935862</td>\n",
              "      <td>0.813046</td>\n",
              "    </tr>\n",
              "    <tr>\n",
              "      <th>5</th>\n",
              "      <td>-0.922396</td>\n",
              "      <td>0.761114</td>\n",
              "      <td>0.510297</td>\n",
              "      <td>1.311046</td>\n",
              "    </tr>\n",
              "    <tr>\n",
              "      <th>6</th>\n",
              "      <td>2.527006</td>\n",
              "      <td>0.148133</td>\n",
              "      <td>-0.808713</td>\n",
              "      <td>1.829058</td>\n",
              "    </tr>\n",
              "    <tr>\n",
              "      <th>7</th>\n",
              "      <td>0.613008</td>\n",
              "      <td>0.652039</td>\n",
              "      <td>0.585250</td>\n",
              "      <td>0.805483</td>\n",
              "    </tr>\n",
              "    <tr>\n",
              "      <th>8</th>\n",
              "      <td>0.564097</td>\n",
              "      <td>-0.156620</td>\n",
              "      <td>0.209924</td>\n",
              "      <td>0.450662</td>\n",
              "    </tr>\n",
              "  </tbody>\n",
              "</table>\n",
              "</div>"
            ],
            "text/plain": [
              "          A         B         C         D\n",
              "0  0.180519  0.971945 -0.689293 -0.062675\n",
              "1  0.807041  0.070674 -0.740652  0.019363\n",
              "2 -1.079841  0.697301  0.221466  0.249245\n",
              "3  0.564097 -0.156620  0.209924  0.450662\n",
              "4 -0.878281  0.062991  2.935862  0.813046\n",
              "5 -0.922396  0.761114  0.510297  1.311046\n",
              "6  2.527006  0.148133 -0.808713  1.829058\n",
              "7  0.613008  0.652039  0.585250  0.805483\n",
              "8  0.564097 -0.156620  0.209924  0.450662"
            ]
          },
          "metadata": {
            "tags": []
          },
          "execution_count": 39
        }
      ]
    },
    {
      "cell_type": "markdown",
      "metadata": {
        "id": "-7CRx0U6PhGy",
        "colab_type": "text"
      },
      "source": [
        "### 범주형"
      ]
    },
    {
      "cell_type": "code",
      "metadata": {
        "id": "FPior-MDPOvl",
        "colab_type": "code",
        "outputId": "8592c0f0-1ac8-49ac-d658-ff4a8c9ef73f",
        "colab": {
          "base_uri": "https://localhost:8080/",
          "height": 225
        }
      },
      "source": [
        "df2 = pd.DataFrame({\"id\": [1, 2, 3, 4, 5, 6],\n",
        "                   \"raw_grade\": ['a', 'b', 'b', 'a', 'a', 'e']})\n",
        "df2"
      ],
      "execution_count": 0,
      "outputs": [
        {
          "output_type": "execute_result",
          "data": {
            "text/html": [
              "<div>\n",
              "<style scoped>\n",
              "    .dataframe tbody tr th:only-of-type {\n",
              "        vertical-align: middle;\n",
              "    }\n",
              "\n",
              "    .dataframe tbody tr th {\n",
              "        vertical-align: top;\n",
              "    }\n",
              "\n",
              "    .dataframe thead th {\n",
              "        text-align: right;\n",
              "    }\n",
              "</style>\n",
              "<table border=\"1\" class=\"dataframe\">\n",
              "  <thead>\n",
              "    <tr style=\"text-align: right;\">\n",
              "      <th></th>\n",
              "      <th>id</th>\n",
              "      <th>raw_grade</th>\n",
              "    </tr>\n",
              "  </thead>\n",
              "  <tbody>\n",
              "    <tr>\n",
              "      <th>0</th>\n",
              "      <td>1</td>\n",
              "      <td>a</td>\n",
              "    </tr>\n",
              "    <tr>\n",
              "      <th>1</th>\n",
              "      <td>2</td>\n",
              "      <td>b</td>\n",
              "    </tr>\n",
              "    <tr>\n",
              "      <th>2</th>\n",
              "      <td>3</td>\n",
              "      <td>b</td>\n",
              "    </tr>\n",
              "    <tr>\n",
              "      <th>3</th>\n",
              "      <td>4</td>\n",
              "      <td>a</td>\n",
              "    </tr>\n",
              "    <tr>\n",
              "      <th>4</th>\n",
              "      <td>5</td>\n",
              "      <td>a</td>\n",
              "    </tr>\n",
              "    <tr>\n",
              "      <th>5</th>\n",
              "      <td>6</td>\n",
              "      <td>e</td>\n",
              "    </tr>\n",
              "  </tbody>\n",
              "</table>\n",
              "</div>"
            ],
            "text/plain": [
              "   id raw_grade\n",
              "0   1         a\n",
              "1   2         b\n",
              "2   3         b\n",
              "3   4         a\n",
              "4   5         a\n",
              "5   6         e"
            ]
          },
          "metadata": {
            "tags": []
          },
          "execution_count": 40
        }
      ]
    },
    {
      "cell_type": "code",
      "metadata": {
        "id": "wI_acN8kPlY2",
        "colab_type": "code",
        "outputId": "8e68e73e-9095-49ca-f39b-9575d18cdf09",
        "colab": {
          "base_uri": "https://localhost:8080/",
          "height": 151
        }
      },
      "source": [
        "df2['grade'] = df2['raw_grade'].astype('category')\n",
        "df2['grade']"
      ],
      "execution_count": 0,
      "outputs": [
        {
          "output_type": "execute_result",
          "data": {
            "text/plain": [
              "0    a\n",
              "1    b\n",
              "2    b\n",
              "3    a\n",
              "4    a\n",
              "5    e\n",
              "Name: grade, dtype: category\n",
              "Categories (3, object): [a, b, e]"
            ]
          },
          "metadata": {
            "tags": []
          },
          "execution_count": 41
        }
      ]
    },
    {
      "cell_type": "code",
      "metadata": {
        "id": "Yf9ZWnavPxFs",
        "colab_type": "code",
        "outputId": "d49bd3f7-c76b-4257-a04b-b5f3073bab42",
        "colab": {
          "base_uri": "https://localhost:8080/",
          "height": 151
        }
      },
      "source": [
        "df2['grade'].cat.categories = ['very good', 'good', 'very bad']\n",
        "df2['grade']\n"
      ],
      "execution_count": 0,
      "outputs": [
        {
          "output_type": "execute_result",
          "data": {
            "text/plain": [
              "0    very good\n",
              "1         good\n",
              "2         good\n",
              "3    very good\n",
              "4    very good\n",
              "5     very bad\n",
              "Name: grade, dtype: category\n",
              "Categories (3, object): [very good, good, very bad]"
            ]
          },
          "metadata": {
            "tags": []
          },
          "execution_count": 42
        }
      ]
    },
    {
      "cell_type": "code",
      "metadata": {
        "id": "iunEBbS2QwZB",
        "colab_type": "code",
        "outputId": "ac6247e3-6408-480d-9221-59acb1fa42f9",
        "colab": {
          "base_uri": "https://localhost:8080/",
          "height": 151
        }
      },
      "source": [
        "df2[\"grade\"].cat.set_categories([\"very good\", \"good\", \"very bad\"])\n",
        "print(df2['grade'])"
      ],
      "execution_count": 0,
      "outputs": [
        {
          "output_type": "stream",
          "text": [
            "0    very good\n",
            "1         good\n",
            "2         good\n",
            "3    very good\n",
            "4    very good\n",
            "5     very bad\n",
            "Name: grade, dtype: category\n",
            "Categories (3, object): [very good, good, very bad]\n"
          ],
          "name": "stdout"
        }
      ]
    }
  ]
}