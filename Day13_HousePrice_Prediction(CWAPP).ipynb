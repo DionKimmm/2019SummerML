{
  "nbformat": 4,
  "nbformat_minor": 0,
  "metadata": {
    "colab": {
      "name": "Day13_HousePrice_Prediction(CWAPP)",
      "version": "0.3.2",
      "provenance": [],
      "collapsed_sections": [],
      "toc_visible": true,
      "include_colab_link": true
    },
    "kernelspec": {
      "name": "python3",
      "display_name": "Python 3"
    },
    "accelerator": "GPU"
  },
  "cells": [
    {
      "cell_type": "markdown",
      "metadata": {
        "id": "view-in-github",
        "colab_type": "text"
      },
      "source": [
        "<a href=\"https://colab.research.google.com/github/DionKimmm/2019SummerML/blob/master/Day13_HousePrice_Prediction(CWAPP).ipynb\" target=\"_parent\"><img src=\"https://colab.research.google.com/assets/colab-badge.svg\" alt=\"Open In Colab\"/></a>"
      ]
    },
    {
      "cell_type": "markdown",
      "metadata": {
        "id": "FjIlimCWFGqB",
        "colab_type": "text"
      },
      "source": [
        "# 2019 ML Month(Kaggle Korea) : House Price Prediction\n",
        "## 목차\n",
        "* 데이터 탐색\n",
        "  * 문제 정의\n",
        "  * 시각화\n",
        "  * 이상치 및 결측치 확인\n",
        "  * 유니크 갯수\n",
        "* 데이터 전처리(Preprocessing)\n",
        "  * 이상치 및 결측치 처리\n",
        "  * 정규화\n",
        "  * 변수 생성\n",
        "* 모델링\n",
        "  * SVR(Support Vector Regressor)\n",
        "  \n",
        "  \n",
        "  <br><br><br>\n",
        "###[참고 커널](https://www.kaggle.com/chocozzz/house-price-prediction-eda-updated-2019-03-12)"
      ]
    },
    {
      "cell_type": "markdown",
      "metadata": {
        "id": "A9Ql15lUGqwd",
        "colab_type": "text"
      },
      "source": [
        "## 1. 데이터 탐색"
      ]
    },
    {
      "cell_type": "markdown",
      "metadata": {
        "id": "7Onk78RXjU6u",
        "colab_type": "text"
      },
      "source": [
        "### 1.1 문제 정의"
      ]
    },
    {
      "cell_type": "code",
      "metadata": {
        "id": "Bji0YF1CG0uW",
        "colab_type": "code",
        "colab": {}
      },
      "source": [
        "# Loading packages\n",
        "import numpy as np\n",
        "import pandas as pd\n",
        "import seaborn as sns\n",
        "import matplotlib.pyplot as plt\n",
        "from scipy import stats\n",
        "import warnings\n",
        "warnings.filterwarnings('ignore')\n",
        "%matplotlib inline\n",
        "import gc"
      ],
      "execution_count": 0,
      "outputs": []
    },
    {
      "cell_type": "code",
      "metadata": {
        "id": "n-6sVrglZfTU",
        "colab_type": "code",
        "colab": {}
      },
      "source": [
        "# %cd ../root\n",
        "# !ls -al"
      ],
      "execution_count": 0,
      "outputs": []
    },
    {
      "cell_type": "code",
      "metadata": {
        "id": "yIrf9NagZ_L1",
        "colab_type": "code",
        "colab": {}
      },
      "source": [
        "# %cd ../content"
      ],
      "execution_count": 0,
      "outputs": []
    },
    {
      "cell_type": "code",
      "metadata": {
        "id": "4P9x-DvqZLQc",
        "colab_type": "code",
        "colab": {}
      },
      "source": [
        "# !cp kaggle.json ../root/.kaggle\n",
        "# !chmod 600 ../root/.kaggle/kaggle.json"
      ],
      "execution_count": 0,
      "outputs": []
    },
    {
      "cell_type": "code",
      "metadata": {
        "id": "KczCQJOsHJ6E",
        "colab_type": "code",
        "colab": {}
      },
      "source": [
        "# 분석할 데이터를 받아 와보도록 합시다.\n",
        "# !kaggle competitions download -c 2019-2nd-ml-month-with-kakr\n",
        "# !unzip train.csv.zip"
      ],
      "execution_count": 0,
      "outputs": []
    },
    {
      "cell_type": "code",
      "metadata": {
        "id": "Mko6slx1IVT-",
        "colab_type": "code",
        "colab": {}
      },
      "source": [
        "# 훈련데이터와 시험데이터를 불러와봅시다.\n",
        "df_train = pd.read_csv('train.csv')\n",
        "df_test = pd.read_csv('test.csv')"
      ],
      "execution_count": 0,
      "outputs": []
    },
    {
      "cell_type": "code",
      "metadata": {
        "id": "qe1_oVZAJixR",
        "colab_type": "code",
        "outputId": "e0387945-6900-4f8d-863f-f4269728f884",
        "colab": {
          "base_uri": "https://localhost:8080/",
          "height": 51
        }
      },
      "source": [
        "# shape을 확인해봅시다.\n",
        "print(df_train.shape)\n",
        "print(df_train.shape)"
      ],
      "execution_count": 0,
      "outputs": [
        {
          "output_type": "stream",
          "text": [
            "(15035, 21)\n",
            "(15035, 21)\n"
          ],
          "name": "stdout"
        }
      ]
    },
    {
      "cell_type": "code",
      "metadata": {
        "id": "hgThuR2JJ8PI",
        "colab_type": "code",
        "colab": {}
      },
      "source": [
        "# 전체적으로 보기위해\n",
        "pd.options.display.max_columns = 10000\n",
        "pd.options.display.max_rows = 500"
      ],
      "execution_count": 0,
      "outputs": []
    },
    {
      "cell_type": "markdown",
      "metadata": {
        "id": "xsPE5AdqKemN",
        "colab_type": "text"
      },
      "source": [
        "훈련데이터와 시험데이터의 크기는 각각 15035, 6468으로 적은편이고, 비율이 5:2로 심하게 불균등하지는 않습니다. 변수의 갯수가 20개로 적은 편이어서 좋은 피처를 만들어 내는 것이 모델 성능에 관건으로 생각됩니다."
      ]
    },
    {
      "cell_type": "markdown",
      "metadata": {
        "id": "Sob_hLrwKgYv",
        "colab_type": "text"
      },
      "source": [
        "### 1.2 변수 설명\n",
        "* ID : 집을 구분하는 번호\n",
        "* date : 집을 구매한 날짜\n",
        "* price : 집의 가격(Target variable)\n",
        "* bedrooms : 침실의 수\n",
        "* bathrooms : 화장실의 수\n",
        "* sqft_living : 주거 공간의 평방 피트(면적)\n",
        "* sqft_lot : 부지의 평방 피트(면적)\n",
        "* floors : 집의 층 수\n",
        "* waterfront : 집의 전방에 강이 흐르는지 유무 (a.k.a. 리버뷰)\n",
        "* view : Has been viewed\n",
        "* condition : 집의 전반적인 상태\n",
        "* grade : King County grading 시스템 기준으로 매긴 집의 등급\n",
        "* sqft_above : 지하실을 제외한 평방 피트(면적)\n",
        "* sqft_basement : 지하실의 평방 피트(면적)\n",
        "* yr_built : 지어진 년도\n",
        "* yr_renovated : 집을 재건축한 년도\n",
        "* zipcode : 우편번호\n",
        "* lat : 위도\n",
        "* long : 경도\n",
        "* sqft_living15 : 2015년 기준 주거 공간의 평방 피트(면적, 집을 재건축했다면, 변화가 있을 수 있음)\n",
        "* sqft_lot15 : 2015년 기준 주차 공간의 평방 피트(면적, 집을 재건축했다면, 변화가 있을 수 있음"
      ]
    },
    {
      "cell_type": "code",
      "metadata": {
        "id": "BO4alVrYKgsw",
        "colab_type": "code",
        "outputId": "595b3805-7e0e-47b9-8b8f-a288c4e19ce4",
        "colab": {
          "base_uri": "https://localhost:8080/",
          "height": 379
        }
      },
      "source": [
        "# 데이터 만나보기\n",
        "df_train.head(10)"
      ],
      "execution_count": 0,
      "outputs": [
        {
          "output_type": "execute_result",
          "data": {
            "text/html": [
              "<div>\n",
              "<style scoped>\n",
              "    .dataframe tbody tr th:only-of-type {\n",
              "        vertical-align: middle;\n",
              "    }\n",
              "\n",
              "    .dataframe tbody tr th {\n",
              "        vertical-align: top;\n",
              "    }\n",
              "\n",
              "    .dataframe thead th {\n",
              "        text-align: right;\n",
              "    }\n",
              "</style>\n",
              "<table border=\"1\" class=\"dataframe\">\n",
              "  <thead>\n",
              "    <tr style=\"text-align: right;\">\n",
              "      <th></th>\n",
              "      <th>id</th>\n",
              "      <th>date</th>\n",
              "      <th>price</th>\n",
              "      <th>bedrooms</th>\n",
              "      <th>bathrooms</th>\n",
              "      <th>sqft_living</th>\n",
              "      <th>sqft_lot</th>\n",
              "      <th>floors</th>\n",
              "      <th>waterfront</th>\n",
              "      <th>view</th>\n",
              "      <th>condition</th>\n",
              "      <th>grade</th>\n",
              "      <th>sqft_above</th>\n",
              "      <th>sqft_basement</th>\n",
              "      <th>yr_built</th>\n",
              "      <th>yr_renovated</th>\n",
              "      <th>zipcode</th>\n",
              "      <th>lat</th>\n",
              "      <th>long</th>\n",
              "      <th>sqft_living15</th>\n",
              "      <th>sqft_lot15</th>\n",
              "    </tr>\n",
              "  </thead>\n",
              "  <tbody>\n",
              "    <tr>\n",
              "      <th>0</th>\n",
              "      <td>0</td>\n",
              "      <td>20141013T000000</td>\n",
              "      <td>221900.0</td>\n",
              "      <td>3</td>\n",
              "      <td>1.00</td>\n",
              "      <td>1180</td>\n",
              "      <td>5650</td>\n",
              "      <td>1.0</td>\n",
              "      <td>0</td>\n",
              "      <td>0</td>\n",
              "      <td>3</td>\n",
              "      <td>7</td>\n",
              "      <td>1180</td>\n",
              "      <td>0</td>\n",
              "      <td>1955</td>\n",
              "      <td>0</td>\n",
              "      <td>98178</td>\n",
              "      <td>47.5112</td>\n",
              "      <td>-122.257</td>\n",
              "      <td>1340</td>\n",
              "      <td>5650</td>\n",
              "    </tr>\n",
              "    <tr>\n",
              "      <th>1</th>\n",
              "      <td>1</td>\n",
              "      <td>20150225T000000</td>\n",
              "      <td>180000.0</td>\n",
              "      <td>2</td>\n",
              "      <td>1.00</td>\n",
              "      <td>770</td>\n",
              "      <td>10000</td>\n",
              "      <td>1.0</td>\n",
              "      <td>0</td>\n",
              "      <td>0</td>\n",
              "      <td>3</td>\n",
              "      <td>6</td>\n",
              "      <td>770</td>\n",
              "      <td>0</td>\n",
              "      <td>1933</td>\n",
              "      <td>0</td>\n",
              "      <td>98028</td>\n",
              "      <td>47.7379</td>\n",
              "      <td>-122.233</td>\n",
              "      <td>2720</td>\n",
              "      <td>8062</td>\n",
              "    </tr>\n",
              "    <tr>\n",
              "      <th>2</th>\n",
              "      <td>2</td>\n",
              "      <td>20150218T000000</td>\n",
              "      <td>510000.0</td>\n",
              "      <td>3</td>\n",
              "      <td>2.00</td>\n",
              "      <td>1680</td>\n",
              "      <td>8080</td>\n",
              "      <td>1.0</td>\n",
              "      <td>0</td>\n",
              "      <td>0</td>\n",
              "      <td>3</td>\n",
              "      <td>8</td>\n",
              "      <td>1680</td>\n",
              "      <td>0</td>\n",
              "      <td>1987</td>\n",
              "      <td>0</td>\n",
              "      <td>98074</td>\n",
              "      <td>47.6168</td>\n",
              "      <td>-122.045</td>\n",
              "      <td>1800</td>\n",
              "      <td>7503</td>\n",
              "    </tr>\n",
              "    <tr>\n",
              "      <th>3</th>\n",
              "      <td>3</td>\n",
              "      <td>20140627T000000</td>\n",
              "      <td>257500.0</td>\n",
              "      <td>3</td>\n",
              "      <td>2.25</td>\n",
              "      <td>1715</td>\n",
              "      <td>6819</td>\n",
              "      <td>2.0</td>\n",
              "      <td>0</td>\n",
              "      <td>0</td>\n",
              "      <td>3</td>\n",
              "      <td>7</td>\n",
              "      <td>1715</td>\n",
              "      <td>0</td>\n",
              "      <td>1995</td>\n",
              "      <td>0</td>\n",
              "      <td>98003</td>\n",
              "      <td>47.3097</td>\n",
              "      <td>-122.327</td>\n",
              "      <td>2238</td>\n",
              "      <td>6819</td>\n",
              "    </tr>\n",
              "    <tr>\n",
              "      <th>4</th>\n",
              "      <td>4</td>\n",
              "      <td>20150115T000000</td>\n",
              "      <td>291850.0</td>\n",
              "      <td>3</td>\n",
              "      <td>1.50</td>\n",
              "      <td>1060</td>\n",
              "      <td>9711</td>\n",
              "      <td>1.0</td>\n",
              "      <td>0</td>\n",
              "      <td>0</td>\n",
              "      <td>3</td>\n",
              "      <td>7</td>\n",
              "      <td>1060</td>\n",
              "      <td>0</td>\n",
              "      <td>1963</td>\n",
              "      <td>0</td>\n",
              "      <td>98198</td>\n",
              "      <td>47.4095</td>\n",
              "      <td>-122.315</td>\n",
              "      <td>1650</td>\n",
              "      <td>9711</td>\n",
              "    </tr>\n",
              "    <tr>\n",
              "      <th>5</th>\n",
              "      <td>5</td>\n",
              "      <td>20150403T000000</td>\n",
              "      <td>662500.0</td>\n",
              "      <td>3</td>\n",
              "      <td>2.50</td>\n",
              "      <td>3560</td>\n",
              "      <td>9796</td>\n",
              "      <td>1.0</td>\n",
              "      <td>0</td>\n",
              "      <td>0</td>\n",
              "      <td>3</td>\n",
              "      <td>8</td>\n",
              "      <td>1860</td>\n",
              "      <td>1700</td>\n",
              "      <td>1965</td>\n",
              "      <td>0</td>\n",
              "      <td>98007</td>\n",
              "      <td>47.6007</td>\n",
              "      <td>-122.145</td>\n",
              "      <td>2210</td>\n",
              "      <td>8925</td>\n",
              "    </tr>\n",
              "    <tr>\n",
              "      <th>6</th>\n",
              "      <td>6</td>\n",
              "      <td>20140527T000000</td>\n",
              "      <td>468000.0</td>\n",
              "      <td>2</td>\n",
              "      <td>1.00</td>\n",
              "      <td>1160</td>\n",
              "      <td>6000</td>\n",
              "      <td>1.0</td>\n",
              "      <td>0</td>\n",
              "      <td>0</td>\n",
              "      <td>4</td>\n",
              "      <td>7</td>\n",
              "      <td>860</td>\n",
              "      <td>300</td>\n",
              "      <td>1942</td>\n",
              "      <td>0</td>\n",
              "      <td>98115</td>\n",
              "      <td>47.6900</td>\n",
              "      <td>-122.292</td>\n",
              "      <td>1330</td>\n",
              "      <td>6000</td>\n",
              "    </tr>\n",
              "    <tr>\n",
              "      <th>7</th>\n",
              "      <td>7</td>\n",
              "      <td>20140528T000000</td>\n",
              "      <td>310000.0</td>\n",
              "      <td>3</td>\n",
              "      <td>1.00</td>\n",
              "      <td>1430</td>\n",
              "      <td>19901</td>\n",
              "      <td>1.5</td>\n",
              "      <td>0</td>\n",
              "      <td>0</td>\n",
              "      <td>4</td>\n",
              "      <td>7</td>\n",
              "      <td>1430</td>\n",
              "      <td>0</td>\n",
              "      <td>1927</td>\n",
              "      <td>0</td>\n",
              "      <td>98028</td>\n",
              "      <td>47.7558</td>\n",
              "      <td>-122.229</td>\n",
              "      <td>1780</td>\n",
              "      <td>12697</td>\n",
              "    </tr>\n",
              "    <tr>\n",
              "      <th>8</th>\n",
              "      <td>8</td>\n",
              "      <td>20141007T000000</td>\n",
              "      <td>400000.0</td>\n",
              "      <td>3</td>\n",
              "      <td>1.75</td>\n",
              "      <td>1370</td>\n",
              "      <td>9680</td>\n",
              "      <td>1.0</td>\n",
              "      <td>0</td>\n",
              "      <td>0</td>\n",
              "      <td>4</td>\n",
              "      <td>7</td>\n",
              "      <td>1370</td>\n",
              "      <td>0</td>\n",
              "      <td>1977</td>\n",
              "      <td>0</td>\n",
              "      <td>98074</td>\n",
              "      <td>47.6127</td>\n",
              "      <td>-122.045</td>\n",
              "      <td>1370</td>\n",
              "      <td>10208</td>\n",
              "    </tr>\n",
              "    <tr>\n",
              "      <th>9</th>\n",
              "      <td>9</td>\n",
              "      <td>20150312T000000</td>\n",
              "      <td>530000.0</td>\n",
              "      <td>5</td>\n",
              "      <td>2.00</td>\n",
              "      <td>1810</td>\n",
              "      <td>4850</td>\n",
              "      <td>1.5</td>\n",
              "      <td>0</td>\n",
              "      <td>0</td>\n",
              "      <td>3</td>\n",
              "      <td>7</td>\n",
              "      <td>1810</td>\n",
              "      <td>0</td>\n",
              "      <td>1900</td>\n",
              "      <td>0</td>\n",
              "      <td>98107</td>\n",
              "      <td>47.6700</td>\n",
              "      <td>-122.394</td>\n",
              "      <td>1360</td>\n",
              "      <td>4850</td>\n",
              "    </tr>\n",
              "  </tbody>\n",
              "</table>\n",
              "</div>"
            ],
            "text/plain": [
              "   id             date     price  bedrooms  bathrooms  sqft_living  sqft_lot  \\\n",
              "0   0  20141013T000000  221900.0         3       1.00         1180      5650   \n",
              "1   1  20150225T000000  180000.0         2       1.00          770     10000   \n",
              "2   2  20150218T000000  510000.0         3       2.00         1680      8080   \n",
              "3   3  20140627T000000  257500.0         3       2.25         1715      6819   \n",
              "4   4  20150115T000000  291850.0         3       1.50         1060      9711   \n",
              "5   5  20150403T000000  662500.0         3       2.50         3560      9796   \n",
              "6   6  20140527T000000  468000.0         2       1.00         1160      6000   \n",
              "7   7  20140528T000000  310000.0         3       1.00         1430     19901   \n",
              "8   8  20141007T000000  400000.0         3       1.75         1370      9680   \n",
              "9   9  20150312T000000  530000.0         5       2.00         1810      4850   \n",
              "\n",
              "   floors  waterfront  view  condition  grade  sqft_above  sqft_basement  \\\n",
              "0     1.0           0     0          3      7        1180              0   \n",
              "1     1.0           0     0          3      6         770              0   \n",
              "2     1.0           0     0          3      8        1680              0   \n",
              "3     2.0           0     0          3      7        1715              0   \n",
              "4     1.0           0     0          3      7        1060              0   \n",
              "5     1.0           0     0          3      8        1860           1700   \n",
              "6     1.0           0     0          4      7         860            300   \n",
              "7     1.5           0     0          4      7        1430              0   \n",
              "8     1.0           0     0          4      7        1370              0   \n",
              "9     1.5           0     0          3      7        1810              0   \n",
              "\n",
              "   yr_built  yr_renovated  zipcode      lat     long  sqft_living15  \\\n",
              "0      1955             0    98178  47.5112 -122.257           1340   \n",
              "1      1933             0    98028  47.7379 -122.233           2720   \n",
              "2      1987             0    98074  47.6168 -122.045           1800   \n",
              "3      1995             0    98003  47.3097 -122.327           2238   \n",
              "4      1963             0    98198  47.4095 -122.315           1650   \n",
              "5      1965             0    98007  47.6007 -122.145           2210   \n",
              "6      1942             0    98115  47.6900 -122.292           1330   \n",
              "7      1927             0    98028  47.7558 -122.229           1780   \n",
              "8      1977             0    98074  47.6127 -122.045           1370   \n",
              "9      1900             0    98107  47.6700 -122.394           1360   \n",
              "\n",
              "   sqft_lot15  \n",
              "0        5650  \n",
              "1        8062  \n",
              "2        7503  \n",
              "3        6819  \n",
              "4        9711  \n",
              "5        8925  \n",
              "6        6000  \n",
              "7       12697  \n",
              "8       10208  \n",
              "9        4850  "
            ]
          },
          "metadata": {
            "tags": []
          },
          "execution_count": 5
        }
      ]
    },
    {
      "cell_type": "markdown",
      "metadata": {
        "id": "yF5frTAUKgwx",
        "colab_type": "text"
      },
      "source": [
        "* date의 경우 yyyy-mm-dd + T000000의 형태로 제가 필요한 건 앞의 8자리 입니다.\n",
        "* yr_renovated의 경우 0의 값이 보이는데, 0년도에 건축되었다는 의미가 아니라 재건축을 하지 않았다는 의미입니다."
      ]
    },
    {
      "cell_type": "code",
      "metadata": {
        "id": "eId5CuWKKg0S",
        "colab_type": "code",
        "colab": {}
      },
      "source": [
        "# 전체적인 정보를 보도록 합시다.\n"
      ],
      "execution_count": 0,
      "outputs": []
    },
    {
      "cell_type": "markdown",
      "metadata": {
        "id": "4dPwU9MwJ6hH",
        "colab_type": "text"
      },
      "source": [
        "### 1.3 변수 시각화"
      ]
    },
    {
      "cell_type": "markdown",
      "metadata": {
        "id": "Dakmq-86UZBh",
        "colab_type": "text"
      },
      "source": [
        "#### 1.3.1 목적 변수\n",
        "데이터를  그래프나 도표로 시각화를 하면 Raw로 데이터를 확인 했을때보다 더욱 특징을 빠르고 명확하게 볼 수 있습니다. 따라서 저희는 예측할 대상인 집값('price') column을 시각화 해 볼 수 있도록 합시다."
      ]
    },
    {
      "cell_type": "code",
      "metadata": {
        "id": "MPhT_ZMWNdge",
        "colab_type": "code",
        "colab": {}
      },
      "source": [
        "# describe statistics summary\n"
      ],
      "execution_count": 0,
      "outputs": []
    },
    {
      "cell_type": "code",
      "metadata": {
        "id": "sKyBii6tPDWP",
        "colab_type": "code",
        "colab": {}
      },
      "source": [
        "# skewness and kurtosis\n",
        "print('Skewness :', )\n",
        "print('Kurtosis :', )"
      ],
      "execution_count": 0,
      "outputs": []
    },
    {
      "cell_type": "markdown",
      "metadata": {
        "id": "pLO1Hh4pkCnd",
        "colab_type": "text"
      },
      "source": [
        "* 왜도(skewness) : 데이터 분포가 얼마나 치우쳤는지 보여주는 척도로서, 왼쪽으로 꼬리가 길수록 음수 방향으로 값이 커지고, 오른쪽으로 꼬리가 길수록 양수 방향으로 값이 커진다.\n",
        "* 첨도(kurtosis) : 데이터 분포가 분포 가운데에 얼마나 몰려있는지 보여주는 척도로서, 첨도 값(K)이 3에 가까울 경우 그래프는 정규분포에 가깝고, (K<3)이면 정규분포보다 더 평탄하다고 판단할 수 있으며, (K>3)인 경우 정규분포보다 더 뾰족한 분포로 간주 할 수 있다.\n",
        "<br><br>\n",
        "위의 목적 변수의 경우 왜도도 정규분포를 따르지 않고 분산 또한 매우 큰것을 확인할 수 있습니다. 회귀 모델 사용을 위해 정규화(Normalize)를 통해 price의 분포가 정규분포에 가깝도록 가공해 주겠습니다. 데이터의 분포를 정규분포에 가깝게 재표현을 해 줌으로써 자료 해석이 용이하고 모델 성능이 올라갑니다."
      ]
    },
    {
      "cell_type": "code",
      "metadata": {
        "id": "bXR3YGH6tPXT",
        "colab_type": "code",
        "colab": {}
      },
      "source": [
        "# 데이터의 밀도를 확인해 보도록 합시다.\n"
      ],
      "execution_count": 0,
      "outputs": []
    },
    {
      "cell_type": "markdown",
      "metadata": {
        "id": "eAJmKBAvtqmS",
        "colab_type": "text"
      },
      "source": [
        "위에서 보시다시피 오른쪽으로 꼬리가 긴 분포를 가지는 것을 확인해 볼 수 있습니다."
      ]
    },
    {
      "cell_type": "code",
      "metadata": {
        "id": "GWj-pqqnkLzf",
        "colab_type": "code",
        "colab": {}
      },
      "source": [
        "# 정규확률플롯을 그려봅시다\n",
        "fig, axes = plt.subplots(nrows=1, ncols=2)\n",
        "fig.set_size_inches(10,8)\n"
      ],
      "execution_count": 0,
      "outputs": []
    },
    {
      "cell_type": "markdown",
      "metadata": {
        "id": "Mn6-q6r0xnip",
        "colab_type": "text"
      },
      "source": [
        "위와 같이 price데이터에 상용로그를 취해주면 기존보다 더 정규성을 가지는 것을 확인할 수 있습니다."
      ]
    },
    {
      "cell_type": "code",
      "metadata": {
        "id": "_c4kS3VDQVE1",
        "colab_type": "code",
        "colab": {}
      },
      "source": [
        "# 목적변수인 price 피처의 값을 상용로그로 scaling 해줍시다.\n",
        "\n",
        "\n",
        "# 이제 다시 price 피처 데이터의 밀도를 확인해 보도록 합시다.\n"
      ],
      "execution_count": 0,
      "outputs": []
    },
    {
      "cell_type": "code",
      "metadata": {
        "id": "mlu6qPROW_LG",
        "colab_type": "code",
        "colab": {}
      },
      "source": [
        "# skewness and kurtosis\n",
        "print('Skewness :', )\n",
        "print('Kurtosis :', )"
      ],
      "execution_count": 0,
      "outputs": []
    },
    {
      "cell_type": "markdown",
      "metadata": {
        "id": "M-SGNUVjTgKI",
        "colab_type": "text"
      },
      "source": [
        "#### 1.3.2 반응변수"
      ]
    },
    {
      "cell_type": "markdown",
      "metadata": {
        "id": "m4rKEVeVUkPs",
        "colab_type": "text"
      },
      "source": [
        "이제 반응변수를 살펴보도록 합시다. 반응변수들 하나하나 시각화해가며 확인하기에는 시간이 많이 걸리기 때문에 목적변수인 price 피처(집값)과의 상관관계를 확인해 가장 상관관계가 높은 피처들을 시각화 해 보도록 하겠습니다."
      ]
    },
    {
      "cell_type": "code",
      "metadata": {
        "id": "kGdy-uucbxC4",
        "colab_type": "code",
        "colab": {}
      },
      "source": [
        "# 연속형 변수와 범주형 변수가 섞여있기때문에\n",
        "# 피어슨 상관계수가 아닌 스피어만 상관계수를 사용\n",
        "k = 8 # 가장 상관도가 높은 k개의 피처만 시각화 해 보겠습니다.\n",
        "corrmat = np.abs(df_train.corr(method='spearman'))\n",
        "cols = corrmat.nlargest(k, 'price').index\n",
        "\n",
        "cor = np.array(stats.spearmanr(df_train[cols].values))[0]\n",
        "\n",
        "plt.figure(figsize=(15,10))\n",
        "sns.heatmap(data=cor, cbar=True, annot=True, annot_kws={'size':10}, xticklabels=cols.values, yticklabels=cols.values, fmt='.2f', square=True)"
      ],
      "execution_count": 0,
      "outputs": []
    },
    {
      "cell_type": "markdown",
      "metadata": {
        "id": "q99S9bsjcJOc",
        "colab_type": "text"
      },
      "source": [
        "목적변수와 상관도가 높은 변수는 집의 등급 - 주거공간의 크기 - 전체 크기순이고, 위도를 뜻하는 lat라는 값도 들어있습니다. 양의 상관관계인것을 보니 위도가 증가할수록 가격의 값이 증가한다는 뜻인데, 왜 이렇것인지, 어떻게 활용할 수 있을지는 탐구가 필요할 듯 합니다.\n",
        "* 집의 평수가 넓을수록 등급도 함께 높아지는 경향이 있다.\n",
        "* 그리고 이 등급은 가격에 큰 영향을 미친다.<br><br>\n",
        "그렇다면 이제 위에서 나온 상관관계를 바탕으로 반응변수들을 하나씩 시각화 해 볼 수 있도록 하겠습니다."
      ]
    },
    {
      "cell_type": "markdown",
      "metadata": {
        "id": "ZfCVxmpDfDBy",
        "colab_type": "text"
      },
      "source": [
        "##### 1) Grade(등급)"
      ]
    },
    {
      "cell_type": "code",
      "metadata": {
        "id": "Bo9AsRglkCdg",
        "colab_type": "code",
        "colab": {}
      },
      "source": [
        "print(df_train['grade'].unique())\n",
        "print(len(df_train['grade'].unique()))"
      ],
      "execution_count": 0,
      "outputs": []
    },
    {
      "cell_type": "markdown",
      "metadata": {
        "id": "y1_gk0FZnlOh",
        "colab_type": "text"
      },
      "source": [
        "훈련 데이터에는 총 12개의 등급이 있고, 그 범위가 명확히 정해져 있습니다. 따라서 grade 피처는 범주형 데이터(Categorical Data)입니다.'"
      ]
    },
    {
      "cell_type": "code",
      "metadata": {
        "id": "JANqjzxIfjOi",
        "colab_type": "code",
        "colab": {}
      },
      "source": [
        "# 반응 변수 grade에 대한 목적 변수 price의 boxplot을 그려봅시다\n",
        "data = pd.concat([df_train['grade'], df_train['price']], axis=1)\n",
        "fig, ax = plt.subplots(figsize=(10,8))\n",
        "sns.boxplot(x='grade', y='price', data=data, ax=ax)"
      ],
      "execution_count": 0,
      "outputs": []
    },
    {
      "cell_type": "markdown",
      "metadata": {
        "id": "UJMD1eRJv8WX",
        "colab_type": "text"
      },
      "source": [
        "집의 등급이 높으면 가격이 높아지는 것은 위의 히트맵에서도 봤듯이 당연한 결과입니다. 그리고 전반적으로 상승곡선 형태도 보이고 있습니다. 하지만\n",
        "* **등급 6,7,8,9 에서 이상치(outlier)가 많은 이유**\n",
        "* **등급 8과 11에서 차이가 큰 이상치가 나타나는 이유**\n",
        "<br>\n",
        "위의 두가지는 좀 더 살펴볼 여지가 있어보입니다."
      ]
    },
    {
      "cell_type": "markdown",
      "metadata": {
        "id": "JD3XJKdk7VNU",
        "colab_type": "text"
      },
      "source": [
        "##### 2) sqft_living(주거 공간의 평방 피트)\n",
        "주거공간의 평방 피트는 연속형 피처입니다. 따라서 regplot을 사용해보도록 하겠습니다."
      ]
    },
    {
      "cell_type": "code",
      "metadata": {
        "id": "BUPdmzJ87zB-",
        "colab_type": "code",
        "colab": {}
      },
      "source": [
        "# sqft_living과 price사이의 regplot을 그려봅시다.\n",
        "data = pd.concat([df_train['sqft_living'], df_train['price']], axis=1)\n"
      ],
      "execution_count": 0,
      "outputs": []
    },
    {
      "cell_type": "markdown",
      "metadata": {
        "id": "zFwzGS_78Xvx",
        "colab_type": "text"
      },
      "source": [
        "전반적으로 선형성을 보이지만 가격 14~15사이에 sqft_living이 14000이나 되는 값은 꽤나 이상한 값(이상치)으로 보입니다. 제거할 지 말 지는 저 값을 확인해보고 결정해 보도록 하겠습니다.<br><br>\n",
        "또한 scatterplot을 확인해 보면 데이터들의 밀도가 낮은쪽으로 치우친 경향을 보이는 것을 확인할 수 있습니다. 이것 또한 재표현의 여지가 보입니다."
      ]
    },
    {
      "cell_type": "code",
      "metadata": {
        "id": "PzLQ9P5Y9MLd",
        "colab_type": "code",
        "colab": {}
      },
      "source": [
        "# 밀도를 확인해 보도록 하겠습니다.\n"
      ],
      "execution_count": 0,
      "outputs": []
    },
    {
      "cell_type": "code",
      "metadata": {
        "id": "D_fR2pjS-A1q",
        "colab_type": "code",
        "colab": {}
      },
      "source": [
        "# skewness and kurtosis\n",
        "print('Skewness :', )\n",
        "print('Kurtosis :', )"
      ],
      "execution_count": 0,
      "outputs": []
    },
    {
      "cell_type": "markdown",
      "metadata": {
        "id": "qSdQHftg-cWh",
        "colab_type": "text"
      },
      "source": [
        "##### 3) sqft_living15(2015년 기준 주거 공간의 평방 피트)"
      ]
    },
    {
      "cell_type": "code",
      "metadata": {
        "id": "ZjdxqBeQ_tFy",
        "colab_type": "code",
        "colab": {}
      },
      "source": [
        "# sqft_living15와 price사이의 regplot을 그려봅시다.\n",
        "data = pd.concat([df_train['sqft_living15'], df_train['price']], axis=1)\n"
      ],
      "execution_count": 0,
      "outputs": []
    },
    {
      "cell_type": "code",
      "metadata": {
        "id": "rkqfoPyrAIqz",
        "colab_type": "code",
        "colab": {}
      },
      "source": [
        "# sqft_living15와 price사이의 regplot을 그려봅시다.\n"
      ],
      "execution_count": 0,
      "outputs": []
    },
    {
      "cell_type": "markdown",
      "metadata": {
        "id": "QcgibIkDhoDG",
        "colab_type": "text"
      },
      "source": [
        "sqft_living15의 경우 15년도 기준이다보니 가격의 분산이 비교적 큽니다. 아무래도 재건축으로 인한 영향일것으로 생각되어지고 sqft_living15 그 자체를 사용하기보다는 적절한 Feature Engineering이 필요해 보입니다."
      ]
    },
    {
      "cell_type": "markdown",
      "metadata": {
        "id": "lsQaoSIXA4nB",
        "colab_type": "text"
      },
      "source": [
        "##### 4) sqft_above(지하실을 제외한 평방 피트)\n",
        "sqft_above 역시 연속형 수치데이터이기 때문에 regplot을 사용했습니다."
      ]
    },
    {
      "cell_type": "code",
      "metadata": {
        "id": "L0eh5ExKR8nx",
        "colab_type": "code",
        "colab": {}
      },
      "source": [
        "# sqft_above와 price의 regplot을 그려보겠습니다.\n",
        "data = pd.concat([df_train['sqft_above'], df_train['price']], axis=1)\n"
      ],
      "execution_count": 0,
      "outputs": []
    },
    {
      "cell_type": "markdown",
      "metadata": {
        "id": "KiqCYYMUffnt",
        "colab_type": "text"
      },
      "source": [
        "마찬가지로 전반적으로 선형성을 보이고 있지만 sqft_above데이터가 8000이 넘어가는 이상치가 관측됩니다. 이 역시 탐구의 여지가 있습니다. 또한 데이터가 낮은쪽에 몰려있는거 같습니다.<br>\n",
        "마찬가지로 밀도를 확인해 보겠습니다."
      ]
    },
    {
      "cell_type": "code",
      "metadata": {
        "id": "lzqhttz5fsaA",
        "colab_type": "code",
        "colab": {}
      },
      "source": [
        "# sqft_above피처의 밀도를 확인해 봅시다.\n"
      ],
      "execution_count": 0,
      "outputs": []
    },
    {
      "cell_type": "markdown",
      "metadata": {
        "id": "i9AgEu5yiQwM",
        "colab_type": "text"
      },
      "source": [
        "##### 5) bathrooms(욕실의 수)"
      ]
    },
    {
      "cell_type": "code",
      "metadata": {
        "id": "yCZUGQwmkxdH",
        "colab_type": "code",
        "colab": {}
      },
      "source": [
        "# bathrooms와 price 데이터 사이의 관계를 boxplot으로 시각화 해 보겠습니다\n",
        "data = pd.concat([df_train['bathrooms'], df_train['price']], axis=1)\n"
      ],
      "execution_count": 0,
      "outputs": []
    },
    {
      "cell_type": "markdown",
      "metadata": {
        "id": "NDRhXR-0lOTd",
        "colab_type": "text"
      },
      "source": [
        "bathrooms 같은 경우 소수점이 있어 헷갈릴 수도 있습니다. 각각의 값이 의미하는 것은 아래와 같고, 위의 값만을 가지고 각각의 값이 몇개 있는지는 구분하기 힘들어 보입니다.\n",
        "* 0.5 : 세면대, 화장실\n",
        "* 0.75 : 세면대, 화장실, 샤워실\n",
        "* 1 : 세면대, 화장실, 샤워실, 욕조"
      ]
    },
    {
      "cell_type": "markdown",
      "metadata": {
        "id": "Qx_MCkLnll3E",
        "colab_type": "text"
      },
      "source": [
        "##### 6) bedrooms(침실의 수)"
      ]
    },
    {
      "cell_type": "code",
      "metadata": {
        "id": "TJ2OoMcWm-Es",
        "colab_type": "code",
        "colab": {}
      },
      "source": [
        "# bedrooms와 price와의 관계를 boxplot으로 그려보도록 하겠습니다\n",
        "data = pd.concat([df_train['bedrooms'], df_train['waterfront'],df_train['price']], axis=1)\n"
      ],
      "execution_count": 0,
      "outputs": []
    },
    {
      "cell_type": "markdown",
      "metadata": {
        "id": "cUIWz21onLYY",
        "colab_type": "text"
      },
      "source": [
        "### 1.4 결측치\n",
        "결측치를 올바르게 처리하는 것 역시 모델의 성능을 상승시키는데 큰 역할을 합니다.<br>\n",
        "결측치가 있는지 여부를 확인하고, 있다면 어떤 이유에서 결측치가 생겼는지 알아내는 것은 해당 결측치를 어떻게 처리할 지에 대한 인사이트를 줍니다."
      ]
    },
    {
      "cell_type": "code",
      "metadata": {
        "id": "a7mdmzALPjL0",
        "colab_type": "code",
        "colab": {}
      },
      "source": [
        "# missingno 모듈을 사용해 결측치를 확인해 봅시다.\n",
        "# !pip install missingno\n"
      ],
      "execution_count": 0,
      "outputs": []
    },
    {
      "cell_type": "markdown",
      "metadata": {
        "id": "Pxvh6ivjXQnQ",
        "colab_type": "text"
      },
      "source": [
        "다행히도 결측치는 없어 보입니다."
      ]
    },
    {
      "cell_type": "markdown",
      "metadata": {
        "id": "orL4WxA3ZfXT",
        "colab_type": "text"
      },
      "source": [
        "### 1.5 이상치(Outlier)\n",
        "이상치란 데이터들의 일반적인 경향(평균, 중위수와 같은 대표값 주위)에서 크게 벗어난 데이터를 말합니다.<br> 이상치 역시 모델의 성능을 크게 좌우 합니다. 결측치와 마찬가지로 이러한 이상치가 나타난 이유를 파악하고 올바르게 처리하는 것이 중요합니다."
      ]
    },
    {
      "cell_type": "markdown",
      "metadata": {
        "id": "rsMlWd7jcYka",
        "colab_type": "text"
      },
      "source": [
        "#### 1) Grade"
      ]
    },
    {
      "cell_type": "code",
      "metadata": {
        "id": "kr-h0n7reW_4",
        "colab_type": "code",
        "colab": {}
      },
      "source": [
        "df_train[df_train['price'] > 14.5].head(20)"
      ],
      "execution_count": 0,
      "outputs": []
    },
    {
      "cell_type": "code",
      "metadata": {
        "id": "M2dUmasadw1f",
        "colab_type": "code",
        "colab": {}
      },
      "source": [
        "# 8등급의 집들중에서 이상치들을 살펴봅시다\n"
      ],
      "execution_count": 0,
      "outputs": []
    },
    {
      "cell_type": "markdown",
      "metadata": {
        "id": "TWkUq5zmeSFq",
        "colab_type": "text"
      },
      "source": [
        "14.5 = e^14.5(1,202,604 $)<br>\n",
        "이상한 데이터라기엔 고려해야 할 것이 많고 눈에띄게 이상한 점이 보이지가 않습니다. 다만 id 7173은 다른 조건들에 비해 가격이 좀 많이 높아보입니다. 삭제해주도록 하겠습니다."
      ]
    },
    {
      "cell_type": "code",
      "metadata": {
        "id": "ruy4_mN_dRGO",
        "colab_type": "code",
        "colab": {}
      },
      "source": [
        "# id 7173인 데이터는 삭제해주도록 하겠습니다\n"
      ],
      "execution_count": 0,
      "outputs": []
    },
    {
      "cell_type": "markdown",
      "metadata": {
        "id": "Rzkbv8RhlVSr",
        "colab_type": "text"
      },
      "source": [
        "#### 2) sqft_living\n",
        "위에서 살펴봤던 정보를 바탕으로 이상치를 확인해 보도록 합시다."
      ]
    },
    {
      "cell_type": "code",
      "metadata": {
        "id": "IPPgYWAKlZlc",
        "colab_type": "code",
        "colab": {}
      },
      "source": [
        "# 주거공간의 평방피트가 11000이 넘는 데이터를 살펴봅시다\n"
      ],
      "execution_count": 0,
      "outputs": []
    },
    {
      "cell_type": "markdown",
      "metadata": {
        "id": "VO01JNiJpxRE",
        "colab_type": "text"
      },
      "source": [
        "두 거주공간 역시 거주공간 평방피트가 11000피트(약 300평)가 넘는데 5000(약 140평)피트 대와 집값이 비슷합니다.<br>\n",
        "혹시나 다른 이유가 있을 수가 있지만, 아무래도 이상해 보이니 이 두 데이터는 삭제하도록 하겠습니다."
      ]
    },
    {
      "cell_type": "code",
      "metadata": {
        "id": "c_f3GyA6OVIa",
        "colab_type": "code",
        "colab": {}
      },
      "source": [
        "# 이상치 데이터를 지워주도록 합시다\n"
      ],
      "execution_count": 0,
      "outputs": []
    },
    {
      "cell_type": "code",
      "metadata": {
        "id": "KbNoR_mSPRWV",
        "colab_type": "code",
        "colab": {}
      },
      "source": [
        "df_train.shape"
      ],
      "execution_count": 0,
      "outputs": []
    },
    {
      "cell_type": "markdown",
      "metadata": {
        "id": "e6NEXnIvPfc8",
        "colab_type": "text"
      },
      "source": [
        "#### 3) sqft_living15\n",
        "마찬가지로 해당 피처의 이상치 데이터를 확인해 보도록 합시다."
      ]
    },
    {
      "cell_type": "code",
      "metadata": {
        "id": "OSP_h2euQSPD",
        "colab_type": "code",
        "colab": {}
      },
      "source": [
        "# sqft_living의 boxplot을 그려보도록 합시다\n"
      ],
      "execution_count": 0,
      "outputs": []
    },
    {
      "cell_type": "markdown",
      "metadata": {
        "id": "IKM24UdZRcre",
        "colab_type": "text"
      },
      "source": [
        "6000피트이상인 데이터만 보도록 하겠습니다."
      ]
    },
    {
      "cell_type": "code",
      "metadata": {
        "id": "HY1f7MJySX9z",
        "colab_type": "code",
        "colab": {}
      },
      "source": [
        "# 6000피트 이상인 데이터 확인\n"
      ],
      "execution_count": 0,
      "outputs": []
    },
    {
      "cell_type": "markdown",
      "metadata": {
        "id": "CKLZPq-GXJ4G",
        "colab_type": "text"
      },
      "source": [
        "다른 데이터들에 비해 비정상적으로 보일 정도록 벗어난 느낌은 없기 때문에 삭제는 하지 않겠습니다. 하지만, 많은 이상치로 인해 재표현의 여지는 있어 보입니다."
      ]
    },
    {
      "cell_type": "markdown",
      "metadata": {
        "id": "4oxyhhXAa-dN",
        "colab_type": "text"
      },
      "source": [
        "#### 4) sqft_above"
      ]
    },
    {
      "cell_type": "code",
      "metadata": {
        "id": "RF4r7oQOb5d5",
        "colab_type": "code",
        "colab": {}
      },
      "source": [
        "# 이상치를 확인해 보도록 합시다\n"
      ],
      "execution_count": 0,
      "outputs": []
    },
    {
      "cell_type": "markdown",
      "metadata": {
        "id": "Lq4NktHtdpJc",
        "colab_type": "text"
      },
      "source": [
        "비교적 신축이고 등급도 높은 편, 방의 개수와 땅의 넓이도 높은편이라 가격도 높은편입니다. 이상한 데이터로는 보이지 않습니다."
      ]
    },
    {
      "cell_type": "markdown",
      "metadata": {
        "id": "pO47wSQVdw0i",
        "colab_type": "text"
      },
      "source": [
        "#### 5) bathrooms"
      ]
    },
    {
      "cell_type": "code",
      "metadata": {
        "id": "V3TlNv2meR_w",
        "colab_type": "code",
        "colab": {}
      },
      "source": [
        "# bathrooms가 4.5, 5.25인 이상치만 확인해보도록 하겠습니다.\n"
      ],
      "execution_count": 0,
      "outputs": []
    },
    {
      "cell_type": "markdown",
      "metadata": {
        "id": "hy_eMrdCfj8p",
        "colab_type": "text"
      },
      "source": [
        "재건축을 비교적 최근에 한 편이고 주거공간도 넓은 편, 등급도 높습니다. 삭제하지 않겠습니다."
      ]
    },
    {
      "cell_type": "markdown",
      "metadata": {
        "id": "wBHXMdSHhe9Q",
        "colab_type": "text"
      },
      "source": [
        "옛날에 지어진 건물이라 가격은 많이 떨어지는 편이지만, 같은 연도에 지어진 건물과 비교하면 방들의 수는 훨씬 많은 편인데 가격은 더 떨어집니다. 이상치로 판단하고 지우도록 하겠습니다."
      ]
    },
    {
      "cell_type": "code",
      "metadata": {
        "id": "Rg82tvbGhfK2",
        "colab_type": "code",
        "colab": {}
      },
      "source": [
        "# id 11701삭제\n"
      ],
      "execution_count": 0,
      "outputs": []
    },
    {
      "cell_type": "markdown",
      "metadata": {
        "id": "ZdNmiERjgq-H",
        "colab_type": "text"
      },
      "source": [
        "#### 6) bedrooms"
      ]
    },
    {
      "cell_type": "code",
      "metadata": {
        "id": "05h8ltH7gxft",
        "colab_type": "code",
        "colab": {}
      },
      "source": [
        "# bedrooms가 5,6인 집중에 가격이 15.5을 넘는 데이터만 보겠습니다.\n"
      ],
      "execution_count": 0,
      "outputs": []
    },
    {
      "cell_type": "markdown",
      "metadata": {
        "id": "DZUHbFxok_e8",
        "colab_type": "text"
      },
      "source": [
        "비슷한 가격대의 집들에 비해 넓은 땅의 면적이 가격을 더 올리는데 큰 역할을 한 듯 합니다. 그래도 두겠습니다."
      ]
    },
    {
      "cell_type": "markdown",
      "metadata": {
        "id": "o4la0UnxlOyp",
        "colab_type": "text"
      },
      "source": [
        "### 1.6 유니크 갯수\n",
        "범주형 데이터들 각각의 범주의 수를 나타내 보도록 하겠습니다."
      ]
    },
    {
      "cell_type": "code",
      "metadata": {
        "id": "Hip_QqoRy9qg",
        "colab_type": "code",
        "colab": {}
      },
      "source": [
        "# 각각의 범주의 수를 그래프로 그려봅시다\n",
        "categorical_cols = ['bedrooms', 'bathrooms', 'floors', 'waterfront', 'view', 'condition', 'grade', 'zipcode']\n",
        "num_unique = df_train[categorical_cols].nunique()\n",
        "fig, ax = plt.subplots(figsize=(10,8))\n",
        "sns.barplot(x=num_unique.index, y=num_unique, order=num_unique.sort_values(ascending=False).index)"
      ],
      "execution_count": 0,
      "outputs": []
    },
    {
      "cell_type": "code",
      "metadata": {
        "id": "z-Jo029TzE2N",
        "colab_type": "code",
        "colab": {}
      },
      "source": [
        "num_unique.sort_values(ascending=False)"
      ],
      "execution_count": 0,
      "outputs": []
    },
    {
      "cell_type": "markdown",
      "metadata": {
        "id": "ol4npq_-23VX",
        "colab_type": "text"
      },
      "source": [
        "## 2. 데이터 전처리(Data Preprocessing)\n",
        "이제 앞서 본 정보들을 바탕으로 본격적으로 전처리를 해주도록 하겠습니다. 전처리는 모델의 성능에 크게 영향을 미치기 때문에 시간을 길게 잡고 여러가지 실험 해보는 것이 좋습니다."
      ]
    },
    {
      "cell_type": "markdown",
      "metadata": {
        "id": "mPvDllCq5mDc",
        "colab_type": "text"
      },
      "source": [
        "### 2.1 이상치와 결측치 처리\n",
        "이상치와 결측치는 앞선 탐색 과정에서 처리해버렸기 때문에 넘어가겠습니다."
      ]
    },
    {
      "cell_type": "markdown",
      "metadata": {
        "id": "UmN_WS0o5v0H",
        "colab_type": "text"
      },
      "source": [
        "### 2.2 정규화(Normalization)\n",
        "살펴 본 데이터들 중에서 편향된 데이터들은 정규분포에 가깝게 정규화를 시켜주겠습니다."
      ]
    },
    {
      "cell_type": "code",
      "metadata": {
        "id": "xmquV4hlld09",
        "colab_type": "code",
        "colab": {}
      },
      "source": [
        "# 처리하기 전 시각화"
      ],
      "execution_count": 0,
      "outputs": []
    },
    {
      "cell_type": "code",
      "metadata": {
        "id": "wYoTV3hq5zlF",
        "colab_type": "code",
        "colab": {}
      },
      "source": [
        "skew_columns = ['sqft_living', 'sqft_lot', 'sqft_above', 'sqft_basement']\n",
        "skew_columns2 = ['sqft_living15', 'sqft_lot15'] # 1/3 제곱시켜 정규분포에 가깝게!\n",
        "\n",
        "for c in skew_columns:\n",
        "    df_train[c] = np.log1p(df_train[c].values)\n",
        "    df_test[c] = np.log1p(df_test[c].values)\n",
        "    \n",
        "for c in skew_columns2:\n",
        "    df_train[c] = np.power(df_train[c].values, 1/3)\n",
        "    df_test[c] = np.power(df_test[c].values, 1/3)"
      ],
      "execution_count": 0,
      "outputs": []
    },
    {
      "cell_type": "code",
      "metadata": {
        "id": "cveyqeX_legK",
        "colab_type": "code",
        "colab": {}
      },
      "source": [
        "# 처리 후 시각화"
      ],
      "execution_count": 0,
      "outputs": []
    },
    {
      "cell_type": "markdown",
      "metadata": {
        "id": "oQuQjVGD6aDl",
        "colab_type": "text"
      },
      "source": [
        "### 2.3 변수 생성\n",
        "이미 존재하는 특징을 바탕으로 새로운 특징을 만들어 추가해서 Polynomial한 특성을 더욱 늘려주도록 하겠습니다."
      ]
    },
    {
      "cell_type": "code",
      "metadata": {
        "id": "ZM41L8B_6t4e",
        "colab_type": "code",
        "colab": {}
      },
      "source": [
        "df_train.shape, df_test.shape"
      ],
      "execution_count": 0,
      "outputs": []
    },
    {
      "cell_type": "code",
      "metadata": {
        "id": "ahD1GXqV6yIB",
        "colab_type": "code",
        "colab": {}
      },
      "source": [
        "for df in [df_train, df_test]:\n",
        "    df['date'] = df['date'].apply(lambda x: x[0:8])\n",
        "    df['year'] = df['date'].apply(lambda x: int(x[0:4]))\n",
        "    df['month'] = df['date'].apply(lambda x: int(x[4:6]))\n",
        "    df['day'] = df['date'].apply(lambda x: int(x[6:8]))\n",
        "    \n",
        "    del df['date']\n",
        "    \n",
        "    df['yr_renovated'] = df['yr_renovated'].apply(lambda x: np.nan if x == 0 else x)\n",
        "    df['yr_renovated'] = df['yr_renovated'].fillna(df['yr_built'])"
      ],
      "execution_count": 0,
      "outputs": []
    },
    {
      "cell_type": "code",
      "metadata": {
        "id": "p0jZP3BdCoRg",
        "colab_type": "code",
        "colab": {}
      },
      "source": [
        "df_train.head()"
      ],
      "execution_count": 0,
      "outputs": []
    },
    {
      "cell_type": "code",
      "metadata": {
        "id": "IKDbWvb5Cqhz",
        "colab_type": "code",
        "colab": {}
      },
      "source": [
        "for df in [df_train, df_test]:\n",
        "    df['total_rooms'] = df['bedrooms'] + df['bathrooms']\n",
        "    # 거실의 비율\n",
        "    df['sqft_ratio'] = df['sqft_living'] / df['sqft_lot']\n",
        "    # 총 면적\n",
        "    df['sqft_total_size'] = df['sqft_living'] + df['sqft_lot'] + df['sqft_above'] + df['sqft_basement']\n",
        "    # 면적 대비 거실 비율\n",
        "    df['sqft_ratio_1'] = df['sqft_living'] / df['sqft_total_size']\n",
        "    # 15년도 면적 대비 거실 비율\n",
        "    df['sqft_total15'] = df['sqft_living15'] + df['sqft_lot15']\n",
        "    df['sqft_ratio_2'] = df['sqft_living15'] / df['sqft_total15']\n",
        "\n",
        "    df['is_renovated'] = df['yr_renovated'] - df['yr_built']\n",
        "    df['is_renovated'] = df['is_renovated'].apply(lambda x: 0 if x==0 else 1)"
      ],
      "execution_count": 0,
      "outputs": []
    },
    {
      "cell_type": "code",
      "metadata": {
        "id": "2ZVNnt8kDUid",
        "colab_type": "code",
        "colab": {}
      },
      "source": [
        "df_train['per_price'] = df_train['price'] / df_train['sqft_total_size']\n",
        "zipcode_price = df_train.groupby(['zipcode'])['per_price'].agg({'mean', 'var'}).reset_index()\n",
        "df_train = pd.merge(df_train, zipcode_price, how='left', on='zipcode')\n",
        "df_test = pd.merge(df_test, zipcode_price, how='left', on='zipcode')\n",
        "del df_train['per_price']"
      ],
      "execution_count": 0,
      "outputs": []
    },
    {
      "cell_type": "code",
      "metadata": {
        "id": "gTM5szXbDW3I",
        "colab_type": "code",
        "colab": {}
      },
      "source": [
        "df_train.head()"
      ],
      "execution_count": 0,
      "outputs": []
    },
    {
      "cell_type": "markdown",
      "metadata": {
        "id": "ZyI2ALpiEr9b",
        "colab_type": "text"
      },
      "source": [
        "## 4. 모델링\n",
        "저희가 얼마전에 배운 서포트 벡터 머신으로 모델링을 해보겠습니다."
      ]
    },
    {
      "cell_type": "code",
      "metadata": {
        "id": "-yN8LuclISpg",
        "colab_type": "code",
        "colab": {}
      },
      "source": [
        "from sklearn.model_selection import cross_val_score, KFold\n",
        "from sklearn.preprocessing import StandardScaler\n",
        "from sklearn.svm import SVR\n",
        "from sklearn.pipeline import make_pipeline"
      ],
      "execution_count": 0,
      "outputs": []
    },
    {
      "cell_type": "code",
      "metadata": {
        "id": "dhLVijO2NHnf",
        "colab_type": "code",
        "colab": {}
      },
      "source": [
        "# 데이터를 준비해봅시다\n",
        "X_reg = df_train.drop(['price', 'id'], axis=1)\n",
        "y_reg = df_train['price']\n",
        "X_test = df_test.drop(['id'], axis=1)\n",
        "train_id = df_train['id']\n",
        "test_id = df_test['id']"
      ],
      "execution_count": 0,
      "outputs": []
    },
    {
      "cell_type": "code",
      "metadata": {
        "id": "68WFIwH7Nkdv",
        "colab_type": "code",
        "colab": {}
      },
      "source": [
        "# 교차 검증 함수를 준비해 봅시다.\n",
        "kfolds = KFold(n_splits=5, shuffle=True, random_state=2019)\n",
        "\n",
        "def cv_rmse(model):\n",
        "  rmse = np.sqrt(-cross_val_score(estimator=model, X=X_reg, y=y_reg, scoring='neg_mean_squared_error', cv=kfolds))\n",
        "  return rmse"
      ],
      "execution_count": 0,
      "outputs": []
    },
    {
      "cell_type": "code",
      "metadata": {
        "id": "zLzZPOdtNlSX",
        "colab_type": "code",
        "colab": {}
      },
      "source": [
        "# 예측을 해보도록 합시다\n",
        "SVR_model = make_pipeline(StandardScaler(), SVR(C=1.0, verbose=1)).fit(X_reg, y_reg)"
      ],
      "execution_count": 0,
      "outputs": []
    },
    {
      "cell_type": "code",
      "metadata": {
        "id": "EhBg5IMjO-Gc",
        "colab_type": "code",
        "colab": {}
      },
      "source": [
        "print('Support Vector Regressor rmse :', cv_rmse(SVR_model).mean())"
      ],
      "execution_count": 0,
      "outputs": []
    },
    {
      "cell_type": "code",
      "metadata": {
        "id": "zOIsskwGPMdU",
        "colab_type": "code",
        "colab": {}
      },
      "source": [
        "Y_predict = SVR_model.predict(X_test)\n",
        "submission = pd.read_csv('sample_submission.csv')\n",
        "submission['price'] = np.expm1(Y_predict)"
      ],
      "execution_count": 0,
      "outputs": []
    },
    {
      "cell_type": "code",
      "metadata": {
        "id": "MVsCagqBRpcM",
        "colab_type": "code",
        "colab": {}
      },
      "source": [
        "# 제출파일 만들기\n",
        "submission.to_csv('SVR_submission.csv', index=False)"
      ],
      "execution_count": 0,
      "outputs": []
    },
    {
      "cell_type": "code",
      "metadata": {
        "id": "XXpWNkUjR9xV",
        "colab_type": "code",
        "colab": {}
      },
      "source": [
        ""
      ],
      "execution_count": 0,
      "outputs": []
    }
  ]
}