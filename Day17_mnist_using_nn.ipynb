{
  "nbformat": 4,
  "nbformat_minor": 0,
  "metadata": {
    "colab": {
      "name": "Day17_mnist_using_nn.ipynb",
      "version": "0.3.2",
      "provenance": [],
      "include_colab_link": true
    },
    "kernelspec": {
      "name": "python3",
      "display_name": "Python 3"
    },
    "accelerator": "GPU"
  },
  "cells": [
    {
      "cell_type": "markdown",
      "metadata": {
        "id": "view-in-github",
        "colab_type": "text"
      },
      "source": [
        "<a href=\"https://colab.research.google.com/github/DionKimmm/2019SummerML/blob/master/Day17_mnist_using_nn.ipynb\" target=\"_parent\"><img src=\"https://colab.research.google.com/assets/colab-badge.svg\" alt=\"Open In Colab\"/></a>"
      ]
    },
    {
      "cell_type": "markdown",
      "metadata": {
        "id": "qxi6k1G0ffiW",
        "colab_type": "text"
      },
      "source": [
        "##신경망을 사용한 MNIST Classification"
      ]
    },
    {
      "cell_type": "code",
      "metadata": {
        "id": "MeWLpLQF4bkt",
        "colab_type": "code",
        "colab": {}
      },
      "source": [
        "import numpy as np\n",
        "import time"
      ],
      "execution_count": 0,
      "outputs": []
    },
    {
      "cell_type": "code",
      "metadata": {
        "id": "6cIqOkx-laNQ",
        "colab_type": "code",
        "colab": {}
      },
      "source": [
        "import warnings\n",
        "warnings.filterwarnings('ignore')"
      ],
      "execution_count": 0,
      "outputs": []
    },
    {
      "cell_type": "code",
      "metadata": {
        "id": "HGGSjEl6n4Yl",
        "colab_type": "code",
        "colab": {
          "base_uri": "https://localhost:8080/",
          "height": 92
        },
        "outputId": "d94c954d-4f24-479a-d01a-ba8792123fed"
      },
      "source": [
        "from tensorflow.examples.tutorials.mnist import input_data\n",
        "mnist = input_data.read_data_sets(\"MNIST_data/\", one_hot=True)"
      ],
      "execution_count": 22,
      "outputs": [
        {
          "output_type": "stream",
          "text": [
            "Extracting MNIST_data/train-images-idx3-ubyte.gz\n",
            "Extracting MNIST_data/train-labels-idx1-ubyte.gz\n",
            "Extracting MNIST_data/t10k-images-idx3-ubyte.gz\n",
            "Extracting MNIST_data/t10k-labels-idx1-ubyte.gz\n"
          ],
          "name": "stdout"
        }
      ]
    },
    {
      "cell_type": "code",
      "metadata": {
        "id": "FS5NOwcmn5IN",
        "colab_type": "code",
        "outputId": "2a0438ac-f9e5-4e52-b2fd-b7beb9e4fade",
        "colab": {
          "base_uri": "https://localhost:8080/",
          "height": 36
        }
      },
      "source": [
        "x_train = mnist.train.images\n",
        "t_train = mnist.train.labels\n",
        "x_test = mnist.test.images\n",
        "t_test = mnist.test.labels\n",
        "\n",
        "print(t_test.shape)\n"
      ],
      "execution_count": 23,
      "outputs": [
        {
          "output_type": "stream",
          "text": [
            "(10000, 10)\n"
          ],
          "name": "stdout"
        }
      ]
    },
    {
      "cell_type": "code",
      "metadata": {
        "id": "7NsZIXxtIMwh",
        "colab_type": "code",
        "colab": {}
      },
      "source": [
        "def sigmoid(x):\n",
        "    return 1 / (1 + np.exp(-x))    "
      ],
      "execution_count": 0,
      "outputs": []
    },
    {
      "cell_type": "code",
      "metadata": {
        "id": "woDWLsuUINpf",
        "colab_type": "code",
        "colab": {}
      },
      "source": [
        "def softmax(x):\n",
        "    e_x = np.exp(x - np.max(x))\n",
        "    return e_x / e_x.sum()"
      ],
      "execution_count": 0,
      "outputs": []
    },
    {
      "cell_type": "code",
      "metadata": {
        "id": "Myo2oCUs5CLj",
        "colab_type": "code",
        "colab": {}
      },
      "source": [
        "def cross_entropy_error(y, t):\n",
        "    if y.ndim == 1:\n",
        "        t = t.reshape(1, t.size)\n",
        "        y = y.reshape(1, y.size)\n",
        "    batch_size = y.shape[0]\n",
        "    return -np.sum(t*np.log(y)/batch_size)"
      ],
      "execution_count": 0,
      "outputs": []
    },
    {
      "cell_type": "code",
      "metadata": {
        "id": "KLxUTJkoWQ4h",
        "colab_type": "code",
        "colab": {}
      },
      "source": [
        "def numerical_gradient_no_batch(f, x):\n",
        "    h = 1e-4\n",
        "    grad = np.zeros_like(x)\n",
        "   \n",
        "    for idx in range(x.size):\n",
        "        tmp_val = x[idx]\n",
        "        x[idx] = tmp_val + h\n",
        "        fxh1 = f(x)\n",
        "        \n",
        "        x[idx] = tmp_val-h\n",
        "        fxh2 = f(x)\n",
        "        \n",
        "        grad[idx] = (fxh1 - fxh2) / (2*h)\n",
        "        x[idx] = tmp_val\n",
        "    return grad"
      ],
      "execution_count": 0,
      "outputs": []
    },
    {
      "cell_type": "code",
      "metadata": {
        "id": "BHQcg2dDAWTb",
        "colab_type": "code",
        "colab": {}
      },
      "source": [
        "def numerical_gradient(f, X):\n",
        "    if X.ndim == 1:\n",
        "        return numerical_gradient_no_batch(f, X)\n",
        "    else:\n",
        "        grad = np.zeros_like(X)\n",
        "        for idx, x in enumerate(X):\n",
        "            grad[idx] = numerical_gradient_no_batch(f, x)\n",
        "        \n",
        "        return grad\n",
        "        "
      ],
      "execution_count": 0,
      "outputs": []
    },
    {
      "cell_type": "code",
      "metadata": {
        "id": "pOSkSkicl7zZ",
        "colab_type": "code",
        "colab": {}
      },
      "source": [
        "def init_network(input_size, hidden_size, output_size, weight_init_std=0.01):\n",
        "    network = {}\n",
        "    network['W1'] = weight_init_std * np.random.randn(input_size, output_size)\n",
        "    network['b1'] = np.zeros(output_size)\n",
        "#     network['W2'] = weight_init_std * np.random.randn(hidden_size, output_size)\n",
        "#     network['b2'] = np.zeros(output_size)\n",
        "    return network\n",
        "    "
      ],
      "execution_count": 0,
      "outputs": []
    },
    {
      "cell_type": "code",
      "metadata": {
        "id": "a0sLvCJWmJEl",
        "colab_type": "code",
        "colab": {}
      },
      "source": [
        "def predict(x):\n",
        "    W1 = network['W1']\n",
        "    b1 = network['b1']\n",
        "    \n",
        "    a1 = np.dot(x, W1) + b1\n",
        "#     z1 = sigmoid(a1)\n",
        "#     a2 = np.dot(z1, W2) + b2\n",
        "    y = softmax(a1)\n",
        "    \n",
        "    return y"
      ],
      "execution_count": 0,
      "outputs": []
    },
    {
      "cell_type": "code",
      "metadata": {
        "id": "lqjaRBNmmNKi",
        "colab_type": "code",
        "colab": {}
      },
      "source": [
        "def loss(x, t):\n",
        "    y = predict(x)\n",
        "    return cross_entropy_error(y, t)"
      ],
      "execution_count": 0,
      "outputs": []
    },
    {
      "cell_type": "code",
      "metadata": {
        "id": "smMeV8QumS0p",
        "colab_type": "code",
        "colab": {}
      },
      "source": [
        "def accuracy(x, t):\n",
        "    y = predict(x)\n",
        "    y = np.argmax(y, axis=1)\n",
        "    t = np.argmax(t, axis=1)\n",
        "    \n",
        "    accuracy = np.sum(y==t) / float(x.shape[0])\n",
        "    return accuracy"
      ],
      "execution_count": 0,
      "outputs": []
    },
    {
      "cell_type": "code",
      "metadata": {
        "id": "7urrUWJqmbjr",
        "colab_type": "code",
        "colab": {}
      },
      "source": [
        "def gradient(x, t):\n",
        "    loss_W = lambda W: loss(x, t)\n",
        "    \n",
        "    grads = {}\n",
        "    grads['W1'] = numerical_gradient(loss_W, network['W1'])\n",
        "    grads['b1'] = numerical_gradient(loss_W, network['b1'])\n",
        "#     grads['W2'] = numerical_gradient(loss_W, network['W2'])\n",
        "#     grads['b2'] = numerical_gradient(loss_W, network['b2'])\n",
        "    \n",
        "    return grads"
      ],
      "execution_count": 0,
      "outputs": []
    },
    {
      "cell_type": "code",
      "metadata": {
        "id": "KwOzSEP9m8Fg",
        "colab_type": "code",
        "outputId": "8fac72eb-a27f-447d-ec02-48cbf27e3b4d",
        "colab": {
          "base_uri": "https://localhost:8080/",
          "height": 36
        }
      },
      "source": [
        "network = init_network(input_size = 784, hidden_size=50, output_size= 10)\n",
        "network['W1'].shape"
      ],
      "execution_count": 34,
      "outputs": [
        {
          "output_type": "execute_result",
          "data": {
            "text/plain": [
              "(784, 10)"
            ]
          },
          "metadata": {
            "tags": []
          },
          "execution_count": 34
        }
      ]
    },
    {
      "cell_type": "code",
      "metadata": {
        "id": "I58XluzunNAv",
        "colab_type": "code",
        "outputId": "528547b1-9b74-4356-8275-45e94ffbfe3c",
        "colab": {
          "base_uri": "https://localhost:8080/",
          "height": 36
        }
      },
      "source": [
        "train_epochs = 50  # 반복 횟수를 적절히 설정한다.\n",
        "train_size = x_train.shape[0]\n",
        "batch_size = 100   # 미니배치 크기\n",
        "learning_rate = 0.1\n",
        "print(train_size)"
      ],
      "execution_count": 35,
      "outputs": [
        {
          "output_type": "stream",
          "text": [
            "55000\n"
          ],
          "name": "stdout"
        }
      ]
    },
    {
      "cell_type": "code",
      "metadata": {
        "id": "0VPXreqhnQMf",
        "colab_type": "code",
        "colab": {}
      },
      "source": [
        "train_loss_list = []\n",
        "train_acc_list = []\n",
        "test_acc_list = []\n"
      ],
      "execution_count": 0,
      "outputs": []
    },
    {
      "cell_type": "code",
      "metadata": {
        "id": "vcWP4qWMGfMb",
        "colab_type": "code",
        "outputId": "efd7ea43-443d-4a42-e429-91c49d09a75e",
        "colab": {
          "base_uri": "https://localhost:8080/",
          "height": 951
        }
      },
      "source": [
        "iter_per_epoch = max(train_size / batch_size, 1)\n",
        "\n",
        "for i in range(train_epochs):\n",
        "    batch_mask = np.random.choice(train_size, batch_size)\n",
        "    x_batch = x_train[batch_mask]\n",
        "    t_batch = t_train[batch_mask]\n",
        "\n",
        "    grads = gradient(x_batch, t_batch)\n",
        " \n",
        "    for key in ('W1', 'b1'):\n",
        "        network[key] -= learning_rate * grads[key]\n",
        "        \n",
        "    loss_val = loss(x_batch, t_batch)\n",
        "    train_loss_list.append(loss_val)\n",
        "    \n",
        "#     if i % iter_per_epoch == 0:\n",
        "    train_acc = accuracy(x_train, t_train)\n",
        "    test_acc = accuracy(x_test, t_test)\n",
        "    train_acc_list.append(train_acc)\n",
        "    test_acc_list.append(test_acc)\n",
        "    print(\"train acc, test acc | \" + str(train_acc) + \", \" + str(test_acc))"
      ],
      "execution_count": 37,
      "outputs": [
        {
          "output_type": "stream",
          "text": [
            "train acc, test acc | 0.21525454545454545, 0.2124\n",
            "train acc, test acc | 0.4127090909090909, 0.4109\n",
            "train acc, test acc | 0.4941090909090909, 0.4987\n",
            "train acc, test acc | 0.5165454545454545, 0.5264\n",
            "train acc, test acc | 0.593690909090909, 0.6004\n",
            "train acc, test acc | 0.6393636363636364, 0.6465\n",
            "train acc, test acc | 0.6903090909090909, 0.6945\n",
            "train acc, test acc | 0.7079454545454545, 0.7139\n",
            "train acc, test acc | 0.6235636363636363, 0.6292\n",
            "train acc, test acc | 0.7266727272727272, 0.7393\n",
            "train acc, test acc | 0.7376363636363636, 0.7436\n",
            "train acc, test acc | 0.7692363636363636, 0.7816\n",
            "train acc, test acc | 0.7580727272727272, 0.7724\n",
            "train acc, test acc | 0.7609272727272727, 0.7697\n",
            "train acc, test acc | 0.7634909090909091, 0.7767\n",
            "train acc, test acc | 0.7656, 0.7793\n",
            "train acc, test acc | 0.7558727272727273, 0.7707\n",
            "train acc, test acc | 0.7774, 0.7903\n",
            "train acc, test acc | 0.7960363636363637, 0.8114\n",
            "train acc, test acc | 0.7924909090909091, 0.8056\n",
            "train acc, test acc | 0.7935090909090909, 0.8051\n",
            "train acc, test acc | 0.7883636363636364, 0.8029\n",
            "train acc, test acc | 0.7948909090909091, 0.808\n",
            "train acc, test acc | 0.8008545454545455, 0.8125\n",
            "train acc, test acc | 0.8109636363636363, 0.8257\n",
            "train acc, test acc | 0.8043818181818182, 0.8138\n",
            "train acc, test acc | 0.8128363636363637, 0.8252\n",
            "train acc, test acc | 0.8187272727272727, 0.8323\n",
            "train acc, test acc | 0.8173636363636364, 0.8315\n",
            "train acc, test acc | 0.8188545454545455, 0.8308\n",
            "train acc, test acc | 0.8220545454545455, 0.8322\n",
            "train acc, test acc | 0.8258545454545455, 0.8402\n",
            "train acc, test acc | 0.8257818181818182, 0.8386\n",
            "train acc, test acc | 0.826, 0.8384\n",
            "train acc, test acc | 0.824709090909091, 0.8311\n",
            "train acc, test acc | 0.8323272727272727, 0.8453\n",
            "train acc, test acc | 0.8308363636363636, 0.8434\n",
            "train acc, test acc | 0.8346727272727272, 0.8477\n",
            "train acc, test acc | 0.8391090909090909, 0.8478\n",
            "train acc, test acc | 0.8398909090909091, 0.8511\n",
            "train acc, test acc | 0.8382363636363637, 0.8476\n",
            "train acc, test acc | 0.8295090909090909, 0.843\n",
            "train acc, test acc | 0.8285636363636364, 0.8408\n",
            "train acc, test acc | 0.8306, 0.8431\n",
            "train acc, test acc | 0.8358181818181818, 0.8488\n",
            "train acc, test acc | 0.8429090909090909, 0.8554\n",
            "train acc, test acc | 0.8459636363636364, 0.858\n",
            "train acc, test acc | 0.8436363636363636, 0.8557\n",
            "train acc, test acc | 0.841709090909091, 0.8512\n",
            "train acc, test acc | 0.834690909090909, 0.847\n"
          ],
          "name": "stdout"
        }
      ]
    },
    {
      "cell_type": "code",
      "metadata": {
        "id": "TvxtJZDW5F3H",
        "colab_type": "code",
        "outputId": "d112b0fb-1926-4e6f-afdd-3ffff802175c",
        "colab": {
          "base_uri": "https://localhost:8080/",
          "height": 36
        }
      },
      "source": [
        "print(train_acc)"
      ],
      "execution_count": 38,
      "outputs": [
        {
          "output_type": "stream",
          "text": [
            "0.834690909090909\n"
          ],
          "name": "stdout"
        }
      ]
    },
    {
      "cell_type": "code",
      "metadata": {
        "id": "t2vg5VxuKKNU",
        "colab_type": "code",
        "colab": {}
      },
      "source": [
        "from matplotlib import pyplot as plt"
      ],
      "execution_count": 0,
      "outputs": []
    },
    {
      "cell_type": "code",
      "metadata": {
        "id": "O6z2WFpTKaaN",
        "colab_type": "code",
        "outputId": "2ce2c045-4490-4199-8c8a-5d7009327e51",
        "colab": {
          "base_uri": "https://localhost:8080/",
          "height": 288
        }
      },
      "source": [
        "epochs = np.arange(train_epochs)\n",
        "plt.plot(epochs, train_acc_list, test_acc_list)\n",
        "plt.show"
      ],
      "execution_count": 40,
      "outputs": [
        {
          "output_type": "execute_result",
          "data": {
            "text/plain": [
              "<function matplotlib.pyplot.show>"
            ]
          },
          "metadata": {
            "tags": []
          },
          "execution_count": 40
        },
        {
          "output_type": "display_data",
          "data": {
            "image/png": "[encoded data removed]",
            "text/plain": [
              "<Figure size 432x288 with 1 Axes>"
            ]
          },
          "metadata": {
            "tags": []
          }
        }
      ]
    },
    {
      "cell_type": "markdown",
      "metadata": {
        "id": "zP1WACI9KdYD",
        "colab_type": "text"
      },
      "source": [
        ""
      ]
    }
  ]
}