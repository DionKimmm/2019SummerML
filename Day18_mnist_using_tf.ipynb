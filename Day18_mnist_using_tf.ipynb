{
  "nbformat": 4,
  "nbformat_minor": 0,
  "metadata": {
    "colab": {
      "name": "Day18_mnist_using_tf.ipynb",
      "version": "0.3.2",
      "provenance": [],
      "include_colab_link": true
    },
    "kernelspec": {
      "name": "python3",
      "display_name": "Python 3"
    }
  },
  "cells": [
    {
      "cell_type": "markdown",
      "metadata": {
        "id": "view-in-github",
        "colab_type": "text"
      },
      "source": [
        "<a href=\"https://colab.research.google.com/github/DionKimmm/2019SummerML/blob/master/Day18_mnist_using_tf.ipynb\" target=\"_parent\"><img src=\"https://colab.research.google.com/assets/colab-badge.svg\" alt=\"Open In Colab\"/></a>"
      ]
    },
    {
      "cell_type": "code",
      "metadata": {
        "id": "nZ4QfwvREq9G",
        "colab_type": "code",
        "colab": {}
      },
      "source": [
        "# 그래프가 왜 중요한가\n",
        "# 왜 GPU를 쓰는가\n",
        "# 일을 쪼개면 성능 좋은 코어 보다는 많은 코어가 좋다\n",
        "# CPU는 8개의 코어, GPU는 몇천개의 코어\n",
        "# 미분으로 학습을 시키니까 오래걸린다\n",
        "# 다른 방법으로 보완 -> back propagation"
      ],
      "execution_count": 0,
      "outputs": []
    },
    {
      "cell_type": "markdown",
      "metadata": {
        "id": "NCYrUXLmkppg",
        "colab_type": "text"
      },
      "source": [
        "## Tensorflow를 이용한 MNIST Classification"
      ]
    },
    {
      "cell_type": "code",
      "metadata": {
        "id": "GN2gkzqwf1UH",
        "colab_type": "code",
        "outputId": "79f4a71c-2bef-4dd4-92a5-bea872a8c1f6",
        "colab": {
          "base_uri": "https://localhost:8080/",
          "height": 84
        }
      },
      "source": [
        "from tensorflow.examples.tutorials.mnist import input_data\n",
        "mnist = input_data.read_data_sets(\"MNIST_data/\", one_hot=True)\n",
        "import tensorflow as tf"
      ],
      "execution_count": 0,
      "outputs": [
        {
          "output_type": "stream",
          "text": [
            "Extracting MNIST_data/train-images-idx3-ubyte.gz\n",
            "Extracting MNIST_data/train-labels-idx1-ubyte.gz\n",
            "Extracting MNIST_data/t10k-images-idx3-ubyte.gz\n",
            "Extracting MNIST_data/t10k-labels-idx1-ubyte.gz\n"
          ],
          "name": "stdout"
        }
      ]
    },
    {
      "cell_type": "code",
      "metadata": {
        "id": "5gS1Owg-lOtL",
        "colab_type": "code",
        "colab": {}
      },
      "source": [
        "import warnings\n",
        "warnings.filterwarnings('ignore')"
      ],
      "execution_count": 0,
      "outputs": []
    },
    {
      "cell_type": "code",
      "metadata": {
        "id": "0ShAbfWZf3_D",
        "colab_type": "code",
        "colab": {}
      },
      "source": [
        "#Settings\n",
        "learning_rate = 0.001\n",
        "training_epochs = 10\n",
        "batch_size = 100\n",
        "display_step = 1"
      ],
      "execution_count": 0,
      "outputs": []
    },
    {
      "cell_type": "code",
      "metadata": {
        "id": "bXuTsiEAf5i_",
        "colab_type": "code",
        "colab": {}
      },
      "source": [
        "#NN Parameters\n",
        "n_hidden_1 = 256 # Layer 1 has 256 neurons\n",
        "n_hidden_2 = 256 # Layer 2 has 256 neurons\n",
        "n_hidden_3 = 256 # Layer 3 has 256 neurons\n",
        "n_input = 784 # Input is 28*28 = 784\n",
        "n_classes = 10 # 10 possible outputs (0-9 digits)"
      ],
      "execution_count": 0,
      "outputs": []
    },
    {
      "cell_type": "code",
      "metadata": {
        "id": "xl3E5W-Rf8gI",
        "colab_type": "code",
        "colab": {}
      },
      "source": [
        "x = tf.placeholder(\"float\", [None, n_input])\n",
        "y = tf.placeholder(\"float\", [None, n_classes])"
      ],
      "execution_count": 0,
      "outputs": []
    },
    {
      "cell_type": "code",
      "metadata": {
        "id": "5Ol0XyCGf-Wb",
        "colab_type": "code",
        "colab": {}
      },
      "source": [
        "# Function to create a 3 layer perceptron using relu activation\n",
        "def generate_three_layer_perceptron(x, weights, biases):\n",
        "\tlayer_1 = tf.add(tf.matmul(x, weights['h1']), biases['b1'])\n",
        "\tlayer_1 = tf.nn.relu(layer_1)\n",
        "\n",
        "\tlayer_2 = tf.add(tf.matmul(layer_1, weights['h2']), biases['b2'])\n",
        "\tlayer_2 = tf.nn.relu(layer_2)\n",
        "\n",
        "\tlayer_3 = tf.add(tf.matmul(layer_2, weights['h3']), biases['b3'])\n",
        "\tlayer_3 = tf.nn.relu(layer_3)\n",
        "\n",
        "\tout_layer = tf.matmul(layer_3, weights['out']) + biases['out']\n",
        "\treturn out_layer"
      ],
      "execution_count": 0,
      "outputs": []
    },
    {
      "cell_type": "code",
      "metadata": {
        "id": "NdNTMW9AgAwm",
        "colab_type": "code",
        "colab": {}
      },
      "source": [
        "weights = {\n",
        "\t'h1': tf.Variable(tf.random_normal([n_input, n_hidden_1])),\n",
        "\t'h2': tf.Variable(tf.random_normal([n_hidden_1, n_hidden_2])),\n",
        "\t'h3': tf.Variable(tf.random_normal([n_hidden_2, n_hidden_3])),\n",
        "\t'out': tf.Variable(tf.random_normal([n_hidden_3, n_classes]))\n",
        "}\n",
        "biases = {\n",
        "\t'b1': tf.Variable(tf.random_normal([n_hidden_1])),\n",
        "\t'b2': tf.Variable(tf.random_normal([n_hidden_2])),\n",
        "\t'b3': tf.Variable(tf.random_normal([n_hidden_3])),\n",
        "\t'out': tf.Variable(tf.random_normal([n_classes]))\n",
        "}"
      ],
      "execution_count": 0,
      "outputs": []
    },
    {
      "cell_type": "code",
      "metadata": {
        "id": "xPvDtaQjgXZE",
        "colab_type": "code",
        "colab": {}
      },
      "source": [
        "# Create the perceptron\n",
        "pred = generate_three_layer_perceptron(x, weights, biases)\n"
      ],
      "execution_count": 0,
      "outputs": []
    },
    {
      "cell_type": "code",
      "metadata": {
        "id": "uN-mai8rgX-8",
        "colab_type": "code",
        "colab": {}
      },
      "source": [
        "# Cost function is avg softmax\n",
        "cost = tf.reduce_mean(tf.nn.softmax_cross_entropy_with_logits(logits=pred, labels=y))\n",
        "optimizer = tf.train.AdamOptimizer(learning_rate=learning_rate).minimize(cost)\n"
      ],
      "execution_count": 0,
      "outputs": []
    },
    {
      "cell_type": "code",
      "metadata": {
        "id": "l5UtrxBNgZlK",
        "colab_type": "code",
        "colab": {}
      },
      "source": [
        "sess = tf.Session()\n",
        "sess.run(tf.global_variables_initializer())"
      ],
      "execution_count": 0,
      "outputs": []
    },
    {
      "cell_type": "code",
      "metadata": {
        "id": "GgQi94wwXyGA",
        "colab_type": "code",
        "outputId": "f00562a6-3380-4c43-8bbb-16a9b5f2255f",
        "colab": {
          "base_uri": "https://localhost:8080/",
          "height": 235
        }
      },
      "source": [
        "init = tf.global_variables_initializer()\n",
        "saver = tf.train.Saver()\n",
        "\n",
        "with tf.Session() as sess:\n",
        "\tsess.run(init)\n",
        "\n",
        "\tfor epoch in range(training_epochs):\n",
        "\t\tavg_cost = 0.\n",
        "\t\ttotal_batch = int(mnist.train.num_examples/batch_size)\n",
        "\t\t\n",
        "\t\tfor i in range(total_batch):\n",
        "\t\t\tbatch_x, batch_y = mnist.train.next_batch(batch_size)\n",
        "\t\t\t_, c = sess.run([optimizer, cost], feed_dict={x: batch_x, y: batch_y})\n",
        "\t\t\tavg_cost += c/total_batch\n",
        "\n",
        "\t\tif epoch % display_step == 0:\n",
        "\t\t\tprint(\"Epoch:\", '%04d' % (epoch+1), \"cost=\", \"{:.9f}\".format(avg_cost))\n",
        "\n",
        "\tprint(\"Optimization Finished!\")\n",
        "\t\n",
        "\n",
        "\tprint(\"Beginning evaluation of model...\")\n",
        "\n",
        "\tcorrect_prediction = tf.equal(tf.argmax(pred, 1), tf.argmax(y, 1))\n",
        "\taccuracy = tf.reduce_mean(tf.cast(correct_prediction, \"float\"))\n",
        "\tprint(\"Accuracy:\", accuracy.eval({x: mnist.test.images, y: mnist.test.labels}))\n",
        "\n"
      ],
      "execution_count": 0,
      "outputs": [
        {
          "output_type": "stream",
          "text": [
            "Epoch: 0001 cost= 1304.081013544\n",
            "Epoch: 0002 cost= 339.329752072\n",
            "Epoch: 0003 cost= 208.180766054\n",
            "Epoch: 0004 cost= 138.337498103\n",
            "Epoch: 0005 cost= 96.135323123\n",
            "Epoch: 0006 cost= 68.163112141\n",
            "Epoch: 0007 cost= 49.396004987\n",
            "Epoch: 0008 cost= 34.806565150\n",
            "Epoch: 0009 cost= 26.791991973\n",
            "Epoch: 0010 cost= 19.342596144\n",
            "Optimization Finished!\n",
            "Beginning evaluation of model...\n",
            "Accuracy: 0.9361\n"
          ],
          "name": "stdout"
        }
      ]
    }
  ]
}