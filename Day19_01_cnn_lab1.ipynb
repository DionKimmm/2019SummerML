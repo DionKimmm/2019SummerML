{
  "nbformat": 4,
  "nbformat_minor": 0,
  "metadata": {
    "colab": {
      "name": "Day19_01_cnn_lab1.ipynb",
      "version": "0.3.2",
      "provenance": [],
      "include_colab_link": true
    },
    "kernelspec": {
      "name": "python3",
      "display_name": "Python 3"
    },
    "accelerator": "GPU"
  },
  "cells": [
    {
      "cell_type": "markdown",
      "metadata": {
        "id": "view-in-github",
        "colab_type": "text"
      },
      "source": [
        "<a href=\"https://colab.research.google.com/github/DionKimmm/2019SummerML/blob/master/Day19_01_cnn_lab1.ipynb\" target=\"_parent\"><img src=\"https://colab.research.google.com/assets/colab-badge.svg\" alt=\"Open In Colab\"/></a>"
      ]
    },
    {
      "cell_type": "code",
      "metadata": {
        "id": "IeAZ0qDx57rj",
        "colab_type": "code",
        "colab": {}
      },
      "source": [
        "import tensorflow as tf\n",
        "import numpy as np\n",
        "from matplotlib import pyplot as plt"
      ],
      "execution_count": 0,
      "outputs": []
    },
    {
      "cell_type": "code",
      "metadata": {
        "id": "1QjdBS5Z4WRb",
        "colab_type": "code",
        "outputId": "49d0d9e8-8e81-4018-923c-03acc50fbef2",
        "colab": {
          "base_uri": "https://localhost:8080/",
          "height": 307
        }
      },
      "source": [
        "sess = tf.InteractiveSession()\n",
        "image = np.array([[[[1],[2],[3]],\n",
        "                   [[4],[5],[6]],\n",
        "                   [[7],[8],[9]]]], dtype=np.float32)\n",
        "print(image.shape)\n",
        "plt.imshow(image.reshape(3,3), cmap='Greys')\n",
        "# plt.imshow(image.reshape(3,3))\n"
      ],
      "execution_count": 2,
      "outputs": [
        {
          "output_type": "stream",
          "text": [
            "(1, 3, 3, 1)\n"
          ],
          "name": "stdout"
        },
        {
          "output_type": "execute_result",
          "data": {
            "text/plain": [
              "<matplotlib.image.AxesImage at 0x7fc2301df5c0>"
            ]
          },
          "metadata": {
            "tags": []
          },
          "execution_count": 2
        },
        {
          "output_type": "display_data",
          "data": {
            "image/png": "[encoded data removed]",
            "text/plain": [
              "<Figure size 432x288 with 1 Axes>"
            ]
          },
          "metadata": {
            "tags": []
          }
        }
      ]
    },
    {
      "cell_type": "code",
      "metadata": {
        "id": "2Ctux-r2HMkK",
        "colab_type": "code",
        "colab": {
          "base_uri": "https://localhost:8080/",
          "height": 372
        },
        "outputId": "115fda5a-b3a3-4340-f31d-e9dbe450dcc0"
      },
      "source": [
        "print(image)\n",
        "print(image.reshape(3, 3))\n",
        "tem = np.array([1, 2, 3, 4, 5, 6, 7, 8])\n",
        "print(tem.reshape(2, 2, 2))\n"
      ],
      "execution_count": 12,
      "outputs": [
        {
          "output_type": "stream",
          "text": [
            "[[[[1.]\n",
            "   [2.]\n",
            "   [3.]]\n",
            "\n",
            "  [[4.]\n",
            "   [5.]\n",
            "   [6.]]\n",
            "\n",
            "  [[7.]\n",
            "   [8.]\n",
            "   [9.]]]]\n",
            "[[1. 2. 3.]\n",
            " [4. 5. 6.]\n",
            " [7. 8. 9.]]\n",
            "[[[1 2]\n",
            "  [3 4]]\n",
            "\n",
            " [[5 6]\n",
            "  [7 8]]]\n"
          ],
          "name": "stdout"
        }
      ]
    },
    {
      "cell_type": "markdown",
      "metadata": {
        "id": "pseCtKgu7jcH",
        "colab_type": "text"
      },
      "source": [
        "image\n",
        "1x3x3x1\n",
        "\n",
        "filter\n",
        "\n",
        "2x2x1x1"
      ]
    },
    {
      "cell_type": "code",
      "metadata": {
        "id": "h5BJ8SSU53Im",
        "colab_type": "code",
        "outputId": "15910035-d09a-42e1-9ce3-4fbe0a1ef85a",
        "colab": {
          "base_uri": "https://localhost:8080/",
          "height": 55
        }
      },
      "source": [
        "print(\"image.shape\", image.shape)\n",
        "weight = tf.constant([\n",
        "                      [\n",
        "                       [[1.]],[[1.]]\n",
        "                      ],\n",
        "                      [\n",
        "                       [[1.]],[[1.]]\n",
        "                      ]\n",
        "                     ])\n",
        "print(weight.shape)"
      ],
      "execution_count": 13,
      "outputs": [
        {
          "output_type": "stream",
          "text": [
            "image.shape (1, 3, 3, 1)\n",
            "(2, 2, 1, 1)\n"
          ],
          "name": "stdout"
        }
      ]
    },
    {
      "cell_type": "code",
      "metadata": {
        "id": "SklfTO2U8K16",
        "colab_type": "code",
        "outputId": "86962695-b693-418f-cdde-80564e5e0e1b",
        "colab": {
          "base_uri": "https://localhost:8080/",
          "height": 148
        }
      },
      "source": [
        "conv2d = tf.nn.conv2d(image, weight, strides=[1,1,1,1], padding='VALID')\n",
        "print(conv2d)\n",
        "conv2d_img = conv2d.eval()\n",
        "print(conv2d_img)\n",
        "print(\"conv2d_img.shape\", conv2d_img.shape)\n",
        "conv2d_img = np.swapaxes(conv2d_img, 0, 3)"
      ],
      "execution_count": 14,
      "outputs": [
        {
          "output_type": "stream",
          "text": [
            "Tensor(\"Conv2D_2:0\", shape=(1, 2, 2, 1), dtype=float32)\n",
            "[[[[12.]\n",
            "   [16.]]\n",
            "\n",
            "  [[24.]\n",
            "   [28.]]]]\n",
            "conv2d_img.shape (1, 2, 2, 1)\n"
          ],
          "name": "stdout"
        }
      ]
    },
    {
      "cell_type": "code",
      "metadata": {
        "id": "gd0aaSEF8p10",
        "colab_type": "code",
        "outputId": "6dea05eb-070a-4323-882d-e7634e4cd1e2",
        "colab": {
          "base_uri": "https://localhost:8080/",
          "height": 354
        }
      },
      "source": [
        "for i, one_img in enumerate(conv2d_img):\n",
        "    print(one_img.shape)\n",
        "    print(one_img)\n",
        "    print(one_img.reshape(2,2))\n",
        "    plt.subplot(1,2,i+1), plt.imshow(one_img.reshape(2,2), cmap='gray')"
      ],
      "execution_count": 15,
      "outputs": [
        {
          "output_type": "stream",
          "text": [
            "(2, 2, 1)\n",
            "[[[12.]\n",
            "  [16.]]\n",
            "\n",
            " [[24.]\n",
            "  [28.]]]\n",
            "[[12. 16.]\n",
            " [24. 28.]]\n"
          ],
          "name": "stdout"
        },
        {
          "output_type": "display_data",
          "data": {
            "image/png": "[encoded data removed]",
            "text/plain": [
              "<Figure size 432x288 with 1 Axes>"
            ]
          },
          "metadata": {
            "tags": []
          }
        }
      ]
    },
    {
      "cell_type": "code",
      "metadata": {
        "id": "ssWfrDTB9MIS",
        "colab_type": "code",
        "outputId": "2a20f6a2-08e4-472f-e8ba-4947639cc732",
        "colab": {
          "base_uri": "https://localhost:8080/",
          "height": 36
        }
      },
      "source": [
        "conv2d = tf.nn.conv2d(image, weight, strides=[1,1,1,1], padding='SAME')\n",
        "conv2d_img = conv2d.eval()\n",
        "print(\"conv2d_img.shape\", conv2d_img.shape)\n",
        "conv2d_img = np.swapaxes(conv2d_img, 0, 3)"
      ],
      "execution_count": 16,
      "outputs": [
        {
          "output_type": "stream",
          "text": [
            "conv2d_img.shape (1, 3, 3, 1)\n"
          ],
          "name": "stdout"
        }
      ]
    },
    {
      "cell_type": "code",
      "metadata": {
        "id": "fXGC4Lwe-Coq",
        "colab_type": "code",
        "outputId": "bcc43c6b-8b5d-4884-c0e3-f5663faf6370",
        "colab": {
          "base_uri": "https://localhost:8080/",
          "height": 485
        }
      },
      "source": [
        "for i, one_img in enumerate(conv2d_img):\n",
        "    print(one_img.shape)\n",
        "    print(one_img)\n",
        "    print(one_img.reshape(3,3))\n",
        "    plt.subplot(1,2,i+1), plt.imshow(one_img.reshape(3,3), cmap='gray')"
      ],
      "execution_count": 17,
      "outputs": [
        {
          "output_type": "stream",
          "text": [
            "(3, 3, 1)\n",
            "[[[12.]\n",
            "  [16.]\n",
            "  [ 9.]]\n",
            "\n",
            " [[24.]\n",
            "  [28.]\n",
            "  [15.]]\n",
            "\n",
            " [[15.]\n",
            "  [17.]\n",
            "  [ 9.]]]\n",
            "[[12. 16.  9.]\n",
            " [24. 28. 15.]\n",
            " [15. 17.  9.]]\n"
          ],
          "name": "stdout"
        },
        {
          "output_type": "display_data",
          "data": {
            "image/png": "[encoded data removed]",
            "text/plain": [
              "<Figure size 432x288 with 1 Axes>"
            ]
          },
          "metadata": {
            "tags": []
          }
        }
      ]
    },
    {
      "cell_type": "code",
      "metadata": {
        "id": "Zk_G0lt_-FE9",
        "colab_type": "code",
        "colab": {}
      },
      "source": [
        ""
      ],
      "execution_count": 0,
      "outputs": []
    }
  ]
}