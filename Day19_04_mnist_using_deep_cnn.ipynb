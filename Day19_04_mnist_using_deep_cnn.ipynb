{
  "nbformat": 4,
  "nbformat_minor": 0,
  "metadata": {
    "colab": {
      "name": "Day19_04_mnist_using_deep_cnn.ipynb",
      "version": "0.3.2",
      "provenance": [],
      "include_colab_link": true
    },
    "kernelspec": {
      "name": "python3",
      "display_name": "Python 3"
    }
  },
  "cells": [
    {
      "cell_type": "markdown",
      "metadata": {
        "id": "view-in-github",
        "colab_type": "text"
      },
      "source": [
        "<a href=\"https://colab.research.google.com/github/DionKimmm/2019SummerML/blob/master/Day19_04_mnist_using_deep_cnn.ipynb\" target=\"_parent\"><img src=\"https://colab.research.google.com/assets/colab-badge.svg\" alt=\"Open In Colab\"/></a>"
      ]
    },
    {
      "cell_type": "markdown",
      "metadata": {
        "id": "NCYrUXLmkppg",
        "colab_type": "text"
      },
      "source": [
        "## Deep Convolutional Neural Network를 이용한 MNIST Classification"
      ]
    },
    {
      "cell_type": "markdown",
      "metadata": {
        "id": "pq4L8PyW0cFr",
        "colab_type": "text"
      },
      "source": [
        "#MNIST 손글씨 인식하기\n",
        "* 미국 국립표준기술원(NIST)에서 고등학생과 인구조사국 직원 등이 쓴 손글씨를 수집하여 만든 70,000개의 숫자 손글씨 데이터셋\n",
        "\n",
        "![대체 텍스트](https://snowdeer.github.io/assets/machine-learning/024.png)\n",
        "\n",
        "* 총 70000개의 데이터 \n",
        "* 학습용데이터 60000\n",
        "* 테스트용 데이터 10000\n",
        "* 손글씨 한 장의 이미지는 28 x 28 = 784개의 픽셀로 구성"
      ]
    },
    {
      "cell_type": "code",
      "metadata": {
        "id": "b462dWoPYIQv",
        "colab_type": "code",
        "colab": {}
      },
      "source": [
        "import warnings\n",
        "warnings.filterwarnings('ignore')"
      ],
      "execution_count": 0,
      "outputs": []
    },
    {
      "cell_type": "code",
      "metadata": {
        "id": "PsKaBcgJYKeh",
        "colab_type": "code",
        "colab": {}
      },
      "source": [
        "import tensorflow as tf\n",
        "import random\n",
        "from matplotlib import pyplot as plt"
      ],
      "execution_count": 0,
      "outputs": []
    },
    {
      "cell_type": "code",
      "metadata": {
        "id": "PY0iZc1KYO2G",
        "colab_type": "code",
        "outputId": "a6c038b3-c412-4855-cb58-0071eba14b24",
        "colab": {
          "base_uri": "https://localhost:8080/",
          "height": 84
        }
      },
      "source": [
        "from tensorflow.examples.tutorials.mnist import input_data\n",
        "mnist = input_data.read_data_sets(\"MNIST_data/\", one_hot=True)"
      ],
      "execution_count": 0,
      "outputs": [
        {
          "output_type": "stream",
          "text": [
            "Extracting MNIST_data/train-images-idx3-ubyte.gz\n",
            "Extracting MNIST_data/train-labels-idx1-ubyte.gz\n",
            "Extracting MNIST_data/t10k-images-idx3-ubyte.gz\n",
            "Extracting MNIST_data/t10k-labels-idx1-ubyte.gz\n"
          ],
          "name": "stdout"
        }
      ]
    },
    {
      "cell_type": "code",
      "metadata": {
        "id": "HVdnmo3cYQp9",
        "colab_type": "code",
        "colab": {}
      },
      "source": [
        "# hyper parameters\n",
        "learning_rate = 0.001\n",
        "training_epochs = 15\n",
        "batch_size = 100"
      ],
      "execution_count": 0,
      "outputs": []
    },
    {
      "cell_type": "code",
      "metadata": {
        "id": "ddtPBRE1YWWL",
        "colab_type": "code",
        "colab": {}
      },
      "source": [
        "# dropout (keep_prob) rate  0.7~0.5 on training, but should be 1 for testing\n",
        "keep_prob = tf.placeholder(tf.float32)"
      ],
      "execution_count": 0,
      "outputs": []
    },
    {
      "cell_type": "code",
      "metadata": {
        "id": "PKyAJkz_Ylo8",
        "colab_type": "code",
        "colab": {}
      },
      "source": [
        "# input place holders\n",
        "X = tf.placeholder(tf.float32, [None, 784])\n",
        "X_img = tf.reshape(X, [-1, 28, 28, 1])   # img 28x28x1 (black/white)\n",
        "Y = tf.placeholder(tf.float32, [None, 10])"
      ],
      "execution_count": 0,
      "outputs": []
    },
    {
      "cell_type": "code",
      "metadata": {
        "id": "qTzkYSuvYs0r",
        "colab_type": "code",
        "outputId": "b69b8ac6-5516-4617-fb76-d1c185552a25",
        "colab": {
          "base_uri": "https://localhost:8080/",
          "height": 84
        }
      },
      "source": [
        "# L1 ImgIn shape=(?, 28, 28, 1)\n",
        "W1 = tf.Variable(tf.random_normal([3, 3, 1, 32], stddev=0.01))\n",
        "#    Conv     -> (?, 28, 28, 32)\n",
        "#    Pool     -> (?, 14, 14, 32)\n",
        "L1 = tf.nn.conv2d(X_img, W1, strides=[1, 1, 1, 1], padding='SAME')\n",
        "print(L1)\n",
        "L1 = tf.nn.relu(L1)\n",
        "print(L1)\n",
        "L1 = tf.nn.max_pool(L1, ksize=[1, 2, 2, 1],\n",
        "                    strides=[1, 2, 2, 1], padding='SAME')\n",
        "print(L1)\n",
        "L1 = tf.nn.dropout(L1, keep_prob=keep_prob)\n",
        "print(L1)"
      ],
      "execution_count": 0,
      "outputs": [
        {
          "output_type": "stream",
          "text": [
            "Tensor(\"Conv2D_6:0\", shape=(?, 28, 28, 32), dtype=float32)\n",
            "Tensor(\"Relu_8:0\", shape=(?, 28, 28, 32), dtype=float32)\n",
            "Tensor(\"MaxPool_6:0\", shape=(?, 14, 14, 32), dtype=float32)\n",
            "Tensor(\"dropout_8/mul_1:0\", shape=(?, 14, 14, 32), dtype=float32)\n"
          ],
          "name": "stdout"
        }
      ]
    },
    {
      "cell_type": "code",
      "metadata": {
        "id": "zdsFMz4yY9um",
        "colab_type": "code",
        "outputId": "274e1475-3f0a-4ab8-eeaa-4f4258e4d4d7",
        "colab": {
          "base_uri": "https://localhost:8080/",
          "height": 84
        }
      },
      "source": [
        "# L2 ImgIn shape=(?, 14, 14, 32)\n",
        "W2 = tf.Variable(tf.random_normal([3, 3, 32, 64], stddev=0.01))\n",
        "#    Conv      ->(?, 14, 14, 64)\n",
        "#    Pool      ->(?, 7, 7, 64)\n",
        "L2 = tf.nn.conv2d(L1, W2, strides=[1, 1, 1, 1], padding='SAME')\n",
        "print(L2)\n",
        "L2 = tf.nn.relu(L2)\n",
        "print(L2)\n",
        "L2 = tf.nn.max_pool(L2, ksize=[1, 2, 2, 1],\n",
        "                    strides=[1, 2, 2, 1], padding='SAME')\n",
        "print(L2)\n",
        "L2 = tf.nn.dropout(L2, keep_prob=keep_prob)\n",
        "print(L2)"
      ],
      "execution_count": 0,
      "outputs": [
        {
          "output_type": "stream",
          "text": [
            "Tensor(\"Conv2D_7:0\", shape=(?, 14, 14, 64), dtype=float32)\n",
            "Tensor(\"Relu_9:0\", shape=(?, 14, 14, 64), dtype=float32)\n",
            "Tensor(\"MaxPool_7:0\", shape=(?, 7, 7, 64), dtype=float32)\n",
            "Tensor(\"dropout_9/mul_1:0\", shape=(?, 7, 7, 64), dtype=float32)\n"
          ],
          "name": "stdout"
        }
      ]
    },
    {
      "cell_type": "code",
      "metadata": {
        "id": "X6r1ZCI_ZDpz",
        "colab_type": "code",
        "outputId": "8e8733b6-9ddc-428f-a50c-4401516a04a7",
        "colab": {
          "base_uri": "https://localhost:8080/",
          "height": 101
        }
      },
      "source": [
        "# L3 ImgIn shape=(?, 7, 7, 64)\n",
        "W3 = tf.Variable(tf.random_normal([3, 3, 64, 128], stddev=0.01))\n",
        "#    Conv      ->(?, 7, 7, 128)\n",
        "#    Pool      ->(?, 4, 4, 128)\n",
        "#    Reshape   ->(?, 4 * 4 * 128) # Flatten them for FC\n",
        "L3 = tf.nn.conv2d(L2, W3, strides=[1, 1, 1, 1], padding='SAME')\n",
        "print(L3)\n",
        "L3 = tf.nn.relu(L3)\n",
        "print(L3)\n",
        "L3 = tf.nn.max_pool(L3, ksize=[1, 2, 2, 1], strides=[\n",
        "                    1, 2, 2, 1], padding='SAME')\n",
        "print(L3)\n",
        "L3 = tf.nn.dropout(L3, keep_prob=keep_prob)\n",
        "print(L3)\n",
        "L3_flat = tf.reshape(L3, [-1, 128 * 4 * 4])\n",
        "print(L3_flat)"
      ],
      "execution_count": 0,
      "outputs": [
        {
          "output_type": "stream",
          "text": [
            "Tensor(\"Conv2D_8:0\", shape=(?, 7, 7, 128), dtype=float32)\n",
            "Tensor(\"Relu_10:0\", shape=(?, 7, 7, 128), dtype=float32)\n",
            "Tensor(\"MaxPool_8:0\", shape=(?, 4, 4, 128), dtype=float32)\n",
            "Tensor(\"dropout_10/mul_1:0\", shape=(?, 4, 4, 128), dtype=float32)\n",
            "Tensor(\"Reshape_5:0\", shape=(?, 2048), dtype=float32)\n"
          ],
          "name": "stdout"
        }
      ]
    },
    {
      "cell_type": "code",
      "metadata": {
        "id": "x59RsxVTZeer",
        "colab_type": "code",
        "outputId": "8e92a6fc-4a2c-40fb-9307-758aa9781264",
        "colab": {
          "base_uri": "https://localhost:8080/",
          "height": 50
        }
      },
      "source": [
        "# L4 FC 4x4x128 inputs -> 625 outputs\n",
        "W4 = tf.Variable(tf.random_normal([128 * 4 * 4, 625], stddev=0.01))\n",
        "b4 = tf.Variable(tf.random_normal([625]))\n",
        "\n",
        "L4 = tf.nn.relu(tf.matmul(L3_flat, W4) + b4)\n",
        "print(L4)\n",
        "L4 = tf.nn.dropout(L4, keep_prob=keep_prob)\n",
        "print(L4)"
      ],
      "execution_count": 0,
      "outputs": [
        {
          "output_type": "stream",
          "text": [
            "Tensor(\"Relu_11:0\", shape=(?, 625), dtype=float32)\n",
            "Tensor(\"dropout_11/mul_1:0\", shape=(?, 625), dtype=float32)\n"
          ],
          "name": "stdout"
        }
      ]
    },
    {
      "cell_type": "code",
      "metadata": {
        "id": "fh3gsoFTaR32",
        "colab_type": "code",
        "colab": {}
      },
      "source": [
        "# L5 Final FC 625 inputs -> 10 outputs\n",
        "W5 = tf.Variable(tf.random_normal([625, 10], stddev=0.01))\n",
        "b5 = tf.Variable(tf.random_normal([10]))\n",
        "logits = tf.matmul(L4, W5) + b5"
      ],
      "execution_count": 0,
      "outputs": []
    },
    {
      "cell_type": "code",
      "metadata": {
        "id": "Jfri7tgcaVmu",
        "colab_type": "code",
        "colab": {}
      },
      "source": [
        "\n",
        "# define cost/loss & optimizer\n",
        "cost = tf.reduce_mean(tf.nn.softmax_cross_entropy_with_logits(\n",
        "    logits=logits, labels=Y))\n",
        "optimizer = tf.train.AdamOptimizer(learning_rate=learning_rate).minimize(cost)"
      ],
      "execution_count": 0,
      "outputs": []
    },
    {
      "cell_type": "code",
      "metadata": {
        "id": "Mg4tVx-SaYXE",
        "colab_type": "code",
        "colab": {}
      },
      "source": [
        "# initialize\n",
        "sess = tf.Session()\n",
        "sess.run(tf.global_variables_initializer())"
      ],
      "execution_count": 0,
      "outputs": []
    },
    {
      "cell_type": "code",
      "metadata": {
        "id": "5xxvuuUwabGI",
        "colab_type": "code",
        "outputId": "2fe4b508-54af-4f57-a7fd-c01754ec9d68",
        "colab": {
          "base_uri": "https://localhost:8080/",
          "height": 302
        }
      },
      "source": [
        "# train my model\n",
        "print('Learning started. It takes sometime.')\n",
        "for epoch in range(training_epochs):\n",
        "    avg_cost = 0\n",
        "    total_batch = int(mnist.train.num_examples / batch_size)\n",
        "\n",
        "    for i in range(total_batch):\n",
        "        batch_xs, batch_ys = mnist.train.next_batch(batch_size)\n",
        "        feed_dict = {X: batch_xs, Y: batch_ys, keep_prob: 0.7}\n",
        "        c, _ = sess.run([cost, optimizer], feed_dict=feed_dict)\n",
        "        avg_cost += c / total_batch\n",
        "\n",
        "    print('Epoch:', '%04d' % (epoch + 1), 'cost =', '{:.9f}'.format(avg_cost))\n",
        "\n",
        "print('Learning Finished!')\n"
      ],
      "execution_count": 0,
      "outputs": [
        {
          "output_type": "stream",
          "text": [
            "Learning started. It takes sometime.\n",
            "Epoch: 0001 cost = 0.426037766\n",
            "Epoch: 0002 cost = 0.128814130\n",
            "Epoch: 0003 cost = 0.093549458\n",
            "Epoch: 0004 cost = 0.074811304\n",
            "Epoch: 0005 cost = 0.061511440\n",
            "Epoch: 0006 cost = 0.056096683\n",
            "Epoch: 0007 cost = 0.047921530\n",
            "Epoch: 0008 cost = 0.047003214\n",
            "Epoch: 0009 cost = 0.042372599\n",
            "Epoch: 0010 cost = 0.039125079\n",
            "Epoch: 0011 cost = 0.036310285\n",
            "Epoch: 0012 cost = 0.034987636\n",
            "Epoch: 0013 cost = 0.033004855\n",
            "Epoch: 0014 cost = 0.029688577\n",
            "Epoch: 0015 cost = 0.028339478\n",
            "Learning Finished!\n"
          ],
          "name": "stdout"
        }
      ]
    },
    {
      "cell_type": "code",
      "metadata": {
        "id": "vqwPrcA2Xr2D",
        "colab_type": "code",
        "outputId": "50b2edbd-a3e6-4507-e9cf-efa9041a35fb",
        "colab": {
          "base_uri": "https://localhost:8080/",
          "height": 34
        }
      },
      "source": [
        "# Test model and check accuracy\n",
        "\n",
        "# if you have a OOM error, please refer to lab-11-X-mnist_deep_cnn_low_memory.py\n",
        "\n",
        "correct_prediction = tf.equal(tf.argmax(logits, 1), tf.argmax(Y, 1))\n",
        "accuracy = tf.reduce_mean(tf.cast(correct_prediction, tf.float32))\n",
        "print('Accuracy:', sess.run(accuracy, feed_dict={\n",
        "      X: mnist.test.images, Y: mnist.test.labels, keep_prob: 1}))"
      ],
      "execution_count": 0,
      "outputs": [
        {
          "output_type": "stream",
          "text": [
            "Accuracy: 0.9927\n"
          ],
          "name": "stdout"
        }
      ]
    },
    {
      "cell_type": "code",
      "metadata": {
        "id": "Fgd7HxbfXyC9",
        "colab_type": "code",
        "outputId": "39bb7729-7a51-4b87-a1b7-9a210ab48622",
        "colab": {
          "base_uri": "https://localhost:8080/",
          "height": 302
        }
      },
      "source": [
        "# Get one and predict\n",
        "r = random.randint(0, mnist.test.num_examples - 1)\n",
        "print(\"Label: \", sess.run(tf.argmax(mnist.test.labels[r:r + 1], 1)))\n",
        "print(\"Prediction: \", sess.run(\n",
        "    tf.argmax(logits, 1), feed_dict={X: mnist.test.images[r:r + 1], keep_prob: 1}))\n",
        "\n",
        "plt.imshow(mnist.test.images[r:r + 1].\n",
        "          reshape(28, 28), cmap='Greys', interpolation='nearest')\n",
        "plt.show()"
      ],
      "execution_count": 0,
      "outputs": [
        {
          "output_type": "stream",
          "text": [
            "Label:  [8]\n",
            "Prediction:  [8]\n"
          ],
          "name": "stdout"
        },
        {
          "output_type": "display_data",
          "data": {
            "image/png": "[encoded data removed]",
            "text/plain": [
              "<Figure size 432x288 with 1 Axes>"
            ]
          },
          "metadata": {
            "tags": []
          }
        }
      ]
    }
  ]
}