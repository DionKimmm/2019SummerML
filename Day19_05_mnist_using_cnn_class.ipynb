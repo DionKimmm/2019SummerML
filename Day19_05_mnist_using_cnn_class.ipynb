{
  "nbformat": 4,
  "nbformat_minor": 0,
  "metadata": {
    "colab": {
      "name": "Day19_05_mnist_using_cnn_class.ipynb",
      "version": "0.3.2",
      "provenance": [],
      "include_colab_link": true
    },
    "kernelspec": {
      "name": "python3",
      "display_name": "Python 3"
    }
  },
  "cells": [
    {
      "cell_type": "markdown",
      "metadata": {
        "id": "view-in-github",
        "colab_type": "text"
      },
      "source": [
        "<a href=\"https://colab.research.google.com/github/DionKimmm/2019SummerML/blob/master/Day19_05_mnist_using_cnn_class.ipynb\" target=\"_parent\"><img src=\"https://colab.research.google.com/assets/colab-badge.svg\" alt=\"Open In Colab\"/></a>"
      ]
    },
    {
      "cell_type": "markdown",
      "metadata": {
        "id": "NCYrUXLmkppg",
        "colab_type": "text"
      },
      "source": [
        "## Convolutional Neural Network Class를 이용한 MNIST Classification"
      ]
    },
    {
      "cell_type": "markdown",
      "metadata": {
        "id": "pq4L8PyW0cFr",
        "colab_type": "text"
      },
      "source": [
        "#MNIST 손글씨 인식하기\n",
        "* 미국 국립표준기술원(NIST)에서 고등학생과 인구조사국 직원 등이 쓴 손글씨를 수집하여 만든 70,000개의 숫자 손글씨 데이터셋\n",
        "\n",
        "![대체 텍스트](https://snowdeer.github.io/assets/machine-learning/024.png)\n",
        "\n",
        "* 총 70000개의 데이터 \n",
        "* 학습용데이터 60000\n",
        "* 테스트용 데이터 10000\n",
        "* 손글씨 한 장의 이미지는 28 x 28 = 784개의 픽셀로 구성"
      ]
    },
    {
      "cell_type": "code",
      "metadata": {
        "id": "b462dWoPYIQv",
        "colab_type": "code",
        "colab": {}
      },
      "source": [
        "import warnings\n",
        "warnings.filterwarnings('ignore')"
      ],
      "execution_count": 0,
      "outputs": []
    },
    {
      "cell_type": "code",
      "metadata": {
        "id": "PsKaBcgJYKeh",
        "colab_type": "code",
        "colab": {}
      },
      "source": [
        "import tensorflow as tf\n",
        "import random\n",
        "from matplotlib import pyplot as plt"
      ],
      "execution_count": 0,
      "outputs": []
    },
    {
      "cell_type": "code",
      "metadata": {
        "id": "PY0iZc1KYO2G",
        "colab_type": "code",
        "outputId": "08cf2bc9-d7e2-4b8d-eccf-c1d6db000e0d",
        "colab": {
          "base_uri": "https://localhost:8080/",
          "height": 423
        }
      },
      "source": [
        "from tensorflow.examples.tutorials.mnist import input_data\n",
        "mnist = input_data.read_data_sets(\"MNIST_data/\", one_hot=True)"
      ],
      "execution_count": 0,
      "outputs": [
        {
          "output_type": "stream",
          "text": [
            "WARNING: Logging before flag parsing goes to stderr.\n",
            "W0722 06:54:38.642047 140193927972736 deprecation.py:323] From <ipython-input-3-8bf8ae5a5303>:2: read_data_sets (from tensorflow.contrib.learn.python.learn.datasets.mnist) is deprecated and will be removed in a future version.\n",
            "Instructions for updating:\n",
            "Please use alternatives such as official/mnist/dataset.py from tensorflow/models.\n",
            "W0722 06:54:38.643852 140193927972736 deprecation.py:323] From /usr/local/lib/python3.6/dist-packages/tensorflow/contrib/learn/python/learn/datasets/mnist.py:260: maybe_download (from tensorflow.contrib.learn.python.learn.datasets.base) is deprecated and will be removed in a future version.\n",
            "Instructions for updating:\n",
            "Please write your own downloading logic.\n",
            "W0722 06:54:38.645793 140193927972736 deprecation.py:323] From /usr/local/lib/python3.6/dist-packages/tensorflow/contrib/learn/python/learn/datasets/mnist.py:262: extract_images (from tensorflow.contrib.learn.python.learn.datasets.mnist) is deprecated and will be removed in a future version.\n",
            "Instructions for updating:\n",
            "Please use tf.data to implement this functionality.\n"
          ],
          "name": "stderr"
        },
        {
          "output_type": "stream",
          "text": [
            "Extracting MNIST_data/train-images-idx3-ubyte.gz\n"
          ],
          "name": "stdout"
        },
        {
          "output_type": "stream",
          "text": [
            "W0722 06:54:38.937980 140193927972736 deprecation.py:323] From /usr/local/lib/python3.6/dist-packages/tensorflow/contrib/learn/python/learn/datasets/mnist.py:267: extract_labels (from tensorflow.contrib.learn.python.learn.datasets.mnist) is deprecated and will be removed in a future version.\n",
            "Instructions for updating:\n",
            "Please use tf.data to implement this functionality.\n",
            "W0722 06:54:38.942141 140193927972736 deprecation.py:323] From /usr/local/lib/python3.6/dist-packages/tensorflow/contrib/learn/python/learn/datasets/mnist.py:110: dense_to_one_hot (from tensorflow.contrib.learn.python.learn.datasets.mnist) is deprecated and will be removed in a future version.\n",
            "Instructions for updating:\n",
            "Please use tf.one_hot on tensors.\n",
            "W0722 06:54:39.000531 140193927972736 deprecation.py:323] From /usr/local/lib/python3.6/dist-packages/tensorflow/contrib/learn/python/learn/datasets/mnist.py:290: DataSet.__init__ (from tensorflow.contrib.learn.python.learn.datasets.mnist) is deprecated and will be removed in a future version.\n",
            "Instructions for updating:\n",
            "Please use alternatives such as official/mnist/dataset.py from tensorflow/models.\n"
          ],
          "name": "stderr"
        },
        {
          "output_type": "stream",
          "text": [
            "Extracting MNIST_data/train-labels-idx1-ubyte.gz\n",
            "Extracting MNIST_data/t10k-images-idx3-ubyte.gz\n",
            "Extracting MNIST_data/t10k-labels-idx1-ubyte.gz\n"
          ],
          "name": "stdout"
        }
      ]
    },
    {
      "cell_type": "code",
      "metadata": {
        "id": "HVdnmo3cYQp9",
        "colab_type": "code",
        "colab": {}
      },
      "source": [
        "# hyper parameters\n",
        "learning_rate = 0.001\n",
        "training_epochs = 15\n",
        "batch_size = 100"
      ],
      "execution_count": 0,
      "outputs": []
    },
    {
      "cell_type": "code",
      "metadata": {
        "id": "_Vn0_70tdUpj",
        "colab_type": "code",
        "colab": {}
      },
      "source": [
        "class Model:\n",
        "\n",
        "    def __init__(self, sess, name):\n",
        "        self.sess = sess\n",
        "        self.name = name\n",
        "        self._build_net()\n",
        "\n",
        "    def _build_net(self):\n",
        "        with tf.variable_scope(self.name):\n",
        "            # dropout (keep_prob) rate  0.7~0.5 on training, but should be 1\n",
        "            # for testing\n",
        "            self.keep_prob = tf.placeholder(tf.float32)\n",
        "\n",
        "            # input place holders\n",
        "            self.X = tf.placeholder(tf.float32, [None, 784])\n",
        "            # img 28x28x1 (black/white)\n",
        "            X_img = tf.reshape(self.X, [-1, 28, 28, 1])\n",
        "            self.Y = tf.placeholder(tf.float32, [None, 10])\n",
        "\n",
        "            # L1 ImgIn shape=(?, 28, 28, 1)\n",
        "            W1 = tf.Variable(tf.random_normal([3, 3, 1, 32], stddev=0.01))\n",
        "            #    Conv     -> (?, 28, 28, 32)\n",
        "            #    Pool     -> (?, 14, 14, 32)\n",
        "            L1 = tf.nn.conv2d(X_img, W1, strides=[1, 1, 1, 1], padding='SAME')\n",
        "            L1 = tf.nn.relu(L1)\n",
        "            L1 = tf.nn.max_pool(L1, ksize=[1, 2, 2, 1],\n",
        "                                strides=[1, 2, 2, 1], padding='SAME')\n",
        "            L1 = tf.nn.dropout(L1, keep_prob=self.keep_prob)\n",
        "            '''\n",
        "            Tensor(\"Conv2D:0\", shape=(?, 28, 28, 32), dtype=float32)\n",
        "            Tensor(\"Relu:0\", shape=(?, 28, 28, 32), dtype=float32)\n",
        "            Tensor(\"MaxPool:0\", shape=(?, 14, 14, 32), dtype=float32)\n",
        "            Tensor(\"dropout/mul:0\", shape=(?, 14, 14, 32), dtype=float32)\n",
        "            '''\n",
        "\n",
        "            # L2 ImgIn shape=(?, 14, 14, 32)\n",
        "            W2 = tf.Variable(tf.random_normal([3, 3, 32, 64], stddev=0.01))\n",
        "            #    Conv      ->(?, 14, 14, 64)\n",
        "            #    Pool      ->(?, 7, 7, 64)\n",
        "            L2 = tf.nn.conv2d(L1, W2, strides=[1, 1, 1, 1], padding='SAME')\n",
        "            L2 = tf.nn.relu(L2)\n",
        "            L2 = tf.nn.max_pool(L2, ksize=[1, 2, 2, 1],\n",
        "                                strides=[1, 2, 2, 1], padding='SAME')\n",
        "            L2 = tf.nn.dropout(L2, keep_prob=self.keep_prob)\n",
        "            '''\n",
        "            Tensor(\"Conv2D_1:0\", shape=(?, 14, 14, 64), dtype=float32)\n",
        "            Tensor(\"Relu_1:0\", shape=(?, 14, 14, 64), dtype=float32)\n",
        "            Tensor(\"MaxPool_1:0\", shape=(?, 7, 7, 64), dtype=float32)\n",
        "            Tensor(\"dropout_1/mul:0\", shape=(?, 7, 7, 64), dtype=float32)\n",
        "            '''\n",
        "\n",
        "            # L3 ImgIn shape=(?, 7, 7, 64)\n",
        "            W3 = tf.Variable(tf.random_normal([3, 3, 64, 128], stddev=0.01))\n",
        "            #    Conv      ->(?, 7, 7, 128)\n",
        "            #    Pool      ->(?, 4, 4, 128)\n",
        "            #    Reshape   ->(?, 4 * 4 * 128) # Flatten them for FC\n",
        "            L3 = tf.nn.conv2d(L2, W3, strides=[1, 1, 1, 1], padding='SAME')\n",
        "            L3 = tf.nn.relu(L3)\n",
        "            L3 = tf.nn.max_pool(L3, ksize=[1, 2, 2, 1], strides=[\n",
        "                                1, 2, 2, 1], padding='SAME')\n",
        "            L3 = tf.nn.dropout(L3, keep_prob=self.keep_prob)\n",
        "\n",
        "            L3_flat = tf.reshape(L3, [-1, 128 * 4 * 4])\n",
        "            '''\n",
        "            Tensor(\"Conv2D_2:0\", shape=(?, 7, 7, 128), dtype=float32)\n",
        "            Tensor(\"Relu_2:0\", shape=(?, 7, 7, 128), dtype=float32)\n",
        "            Tensor(\"MaxPool_2:0\", shape=(?, 4, 4, 128), dtype=float32)\n",
        "            Tensor(\"dropout_2/mul:0\", shape=(?, 4, 4, 128), dtype=float32)\n",
        "            Tensor(\"Reshape_1:0\", shape=(?, 2048), dtype=float32)\n",
        "            '''\n",
        "\n",
        "            # L4 FC 4x4x128 inputs -> 625 outputs\n",
        "            W4 = tf.get_variable(\"W4\", shape=[128 * 4 * 4, 625],\n",
        "                                 initializer=tf.contrib.layers.xavier_initializer())\n",
        "            b4 = tf.Variable(tf.random_normal([625]))\n",
        "            L4 = tf.nn.relu(tf.matmul(L3_flat, W4) + b4)\n",
        "            L4 = tf.nn.dropout(L4, keep_prob=self.keep_prob)\n",
        "            '''\n",
        "            Tensor(\"Relu_3:0\", shape=(?, 625), dtype=float32)\n",
        "            Tensor(\"dropout_3/mul:0\", shape=(?, 625), dtype=float32)\n",
        "            '''\n",
        "\n",
        "            # L5 Final FC 625 inputs -> 10 outputs\n",
        "            W5 = tf.get_variable(\"W5\", shape=[625, 10],\n",
        "                                 initializer=tf.contrib.layers.xavier_initializer())\n",
        "            b5 = tf.Variable(tf.random_normal([10]))\n",
        "            self.logits = tf.matmul(L4, W5) + b5\n",
        "            '''\n",
        "            Tensor(\"add_1:0\", shape=(?, 10), dtype=float32)\n",
        "            '''\n",
        "\n",
        "        # define cost/loss & optimizer\n",
        "        self.cost = tf.reduce_mean(tf.nn.softmax_cross_entropy_with_logits(\n",
        "            logits=self.logits, labels=self.Y))\n",
        "        self.optimizer = tf.train.AdamOptimizer(\n",
        "            learning_rate=learning_rate).minimize(self.cost)\n",
        "\n",
        "        correct_prediction = tf.equal(\n",
        "            tf.argmax(self.logits, 1), tf.argmax(self.Y, 1))\n",
        "        self.accuracy = tf.reduce_mean(tf.cast(correct_prediction, tf.float32))\n",
        "\n",
        "    def predict(self, x_test, keep_prop=1.0):\n",
        "        return self.sess.run(self.logits, feed_dict={self.X: x_test, self.keep_prob: keep_prop})\n",
        "\n",
        "    def get_accuracy(self, x_test, y_test, keep_prop=1.0):\n",
        "        return self.sess.run(self.accuracy, feed_dict={self.X: x_test, self.Y: y_test, self.keep_prob: keep_prop})\n",
        "\n",
        "    def train(self, x_data, y_data, keep_prop=0.7):\n",
        "        return self.sess.run([self.cost, self.optimizer], feed_dict={\n",
        "            self.X: x_data, self.Y: y_data, self.keep_prob: keep_prop})"
      ],
      "execution_count": 0,
      "outputs": []
    },
    {
      "cell_type": "code",
      "metadata": {
        "id": "ddtPBRE1YWWL",
        "colab_type": "code",
        "outputId": "1fbb21c9-9173-4d64-817a-e6037409130f",
        "colab": {
          "base_uri": "https://localhost:8080/",
          "height": 222
        }
      },
      "source": [
        "\n",
        "\n",
        "# initialize\n",
        "sess = tf.Session()\n",
        "m1 = Model(sess, \"m1\")\n",
        "\n",
        "sess.run(tf.global_variables_initializer())\n",
        "\n"
      ],
      "execution_count": 0,
      "outputs": [
        {
          "output_type": "stream",
          "text": [
            "W0722 06:54:39.509083 140193927972736 deprecation.py:506] From <ipython-input-5-dec618978d11>:28: calling dropout (from tensorflow.python.ops.nn_ops) with keep_prob is deprecated and will be removed in a future version.\n",
            "Instructions for updating:\n",
            "Please use `rate` instead of `keep_prob`. Rate should be set to `rate = 1 - keep_prob`.\n",
            "W0722 06:54:39.619359 140193927972736 deprecation.py:323] From <ipython-input-5-dec618978d11>:94: softmax_cross_entropy_with_logits (from tensorflow.python.ops.nn_ops) is deprecated and will be removed in a future version.\n",
            "Instructions for updating:\n",
            "\n",
            "Future major versions of TensorFlow will allow gradients to flow\n",
            "into the labels input on backprop by default.\n",
            "\n",
            "See `tf.nn.softmax_cross_entropy_with_logits_v2`.\n",
            "\n"
          ],
          "name": "stderr"
        }
      ]
    },
    {
      "cell_type": "code",
      "metadata": {
        "id": "MEsz-d7udXNu",
        "colab_type": "code",
        "outputId": "04ff0dbc-096c-4aff-830d-2abe8ee05da9",
        "colab": {
          "base_uri": "https://localhost:8080/",
          "height": 302
        }
      },
      "source": [
        "print('Learning Started!')\n",
        "\n",
        "# train my model\n",
        "for epoch in range(training_epochs):\n",
        "    avg_cost = 0\n",
        "    total_batch = int(mnist.train.num_examples / batch_size)\n",
        "\n",
        "    for i in range(total_batch):\n",
        "        batch_xs, batch_ys = mnist.train.next_batch(batch_size)\n",
        "        c, _ = m1.train(batch_xs, batch_ys)\n",
        "        avg_cost += c / total_batch\n",
        "\n",
        "    print('Epoch:', '%04d' % (epoch + 1), 'cost =', '{:.9f}'.format(avg_cost))\n",
        "\n",
        "print('Learning Finished!')\n"
      ],
      "execution_count": 0,
      "outputs": [
        {
          "output_type": "stream",
          "text": [
            "Learning Started!\n",
            "Epoch: 0001 cost = 0.368709098\n",
            "Epoch: 0002 cost = 0.093371111\n",
            "Epoch: 0003 cost = 0.071228620\n",
            "Epoch: 0004 cost = 0.056813984\n",
            "Epoch: 0005 cost = 0.049435653\n",
            "Epoch: 0006 cost = 0.045391965\n",
            "Epoch: 0007 cost = 0.040557530\n",
            "Epoch: 0008 cost = 0.039365858\n",
            "Epoch: 0009 cost = 0.037672801\n",
            "Epoch: 0010 cost = 0.032882162\n",
            "Epoch: 0011 cost = 0.031097731\n",
            "Epoch: 0012 cost = 0.030819789\n",
            "Epoch: 0013 cost = 0.027237054\n",
            "Epoch: 0014 cost = 0.024719113\n",
            "Epoch: 0015 cost = 0.026572880\n",
            "Learning Finished!\n"
          ],
          "name": "stdout"
        }
      ]
    },
    {
      "cell_type": "code",
      "metadata": {
        "id": "eBoIvj3HdXti",
        "colab_type": "code",
        "outputId": "d36db57e-9202-408e-eed6-45cc2ddc475a",
        "colab": {
          "base_uri": "https://localhost:8080/",
          "height": 34
        }
      },
      "source": [
        "\n",
        "# Test model and check accuracy\n",
        "print('Accuracy:', m1.get_accuracy(mnist.test.images, mnist.test.labels))\n"
      ],
      "execution_count": 0,
      "outputs": [
        {
          "output_type": "stream",
          "text": [
            "Accuracy: 0.9927\n"
          ],
          "name": "stdout"
        }
      ]
    },
    {
      "cell_type": "code",
      "metadata": {
        "id": "24Yi-W-cdZGJ",
        "colab_type": "code",
        "outputId": "86b3daa2-c198-40c0-b9ec-20c5552cc16a",
        "colab": {
          "base_uri": "https://localhost:8080/",
          "height": 302
        }
      },
      "source": [
        "# Get one and predict\n",
        "r = random.randint(0, mnist.test.num_examples - 1)\n",
        "print(\"Label: \", sess.run(tf.argmax(mnist.test.labels[r:r + 1], 1)))\n",
        "print(\"Prediction: \", sess.run(\n",
        "    tf.argmax(m1.logits, 1), feed_dict={m1.X: mnist.test.images[r:r + 1], m1.keep_prob: 1}))\n",
        "\n",
        "plt.imshow(mnist.test.images[r:r + 1].\n",
        "          reshape(28, 28), cmap='Greys', interpolation='nearest')\n",
        "plt.show()"
      ],
      "execution_count": 0,
      "outputs": [
        {
          "output_type": "stream",
          "text": [
            "Label:  [9]\n",
            "Prediction:  [9]\n"
          ],
          "name": "stdout"
        },
        {
          "output_type": "display_data",
          "data": {
            "image/png": "[encoded data removed]",
            "text/plain": [
              "<Figure size 432x288 with 1 Axes>"
            ]
          },
          "metadata": {
            "tags": []
          }
        }
      ]
    },
    {
      "cell_type": "code",
      "metadata": {
        "id": "eSDoI0PxeEyt",
        "colab_type": "code",
        "colab": {}
      },
      "source": [
        ""
      ],
      "execution_count": 0,
      "outputs": []
    }
  ]
}