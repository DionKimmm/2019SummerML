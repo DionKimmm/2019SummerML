{
  "nbformat": 4,
  "nbformat_minor": 0,
  "metadata": {
    "colab": {
      "name": "Day23_01_RNN_test.ipynb",
      "version": "0.3.2",
      "provenance": [],
      "include_colab_link": true
    },
    "kernelspec": {
      "name": "python3",
      "display_name": "Python 3"
    },
    "accelerator": "GPU"
  },
  "cells": [
    {
      "cell_type": "markdown",
      "metadata": {
        "id": "view-in-github",
        "colab_type": "text"
      },
      "source": [
        "<a href=\"https://colab.research.google.com/github/DionKimmm/2019SummerML/blob/master/Day23_01_RNN_test.ipynb\" target=\"_parent\"><img src=\"https://colab.research.google.com/assets/colab-badge.svg\" alt=\"Open In Colab\"/></a>"
      ]
    },
    {
      "cell_type": "markdown",
      "metadata": {
        "id": "cvAu3aciwZyx",
        "colab_type": "text"
      },
      "source": [
        "![대체 텍스트](http://drive.google.com/uc?export=view&id=1-yNJvsVyZCFvOONiyv0Ra0GKqzHs-PwS)"
      ]
    },
    {
      "cell_type": "code",
      "metadata": {
        "id": "bNTaeofkit8x",
        "colab_type": "code",
        "colab": {}
      },
      "source": [
        "import warnings\n",
        "warnings.filterwarnings(action='ignore') "
      ],
      "execution_count": 0,
      "outputs": []
    },
    {
      "cell_type": "code",
      "metadata": {
        "id": "btbNLKaXa5UQ",
        "colab_type": "code",
        "colab": {}
      },
      "source": [
        "import tensorflow as tf\n",
        "import numpy as np\n",
        "tf.set_random_seed(777)  # reproducibility\n"
      ],
      "execution_count": 0,
      "outputs": []
    },
    {
      "cell_type": "code",
      "metadata": {
        "id": "wdGQc4Ahh8y6",
        "colab_type": "code",
        "colab": {}
      },
      "source": [
        "tf.reset_default_graph()\n",
        "sess = tf.InteractiveSession()"
      ],
      "execution_count": 0,
      "outputs": []
    },
    {
      "cell_type": "code",
      "metadata": {
        "id": "0kxgQJMPkV3r",
        "colab_type": "code",
        "outputId": "309d1f5d-2e71-4d7c-8dc4-cbfa564e07c4",
        "colab": {
          "base_uri": "https://localhost:8080/",
          "height": 141
        }
      },
      "source": [
        "h = [1,0,0,0,0]\n",
        "i = [0,1,0,0,0]\n",
        "e = [0,0,1,0,0]\n",
        "l = [0,0,0,1,0]\n",
        "o = [0,0,0,0,1]\n",
        "\n",
        "x_data = np.array([[h,i,h,e,l,l]], dtype=np.float32)\n",
        "\n",
        "# x_data = np.array([[h,e,l,l,o],\n",
        "#                    [e,o,l,l,l],\n",
        "#                    [l,l,e,e,l]], dtype=np.float32)\n",
        "print(x_data)\n",
        "print(x_data.shape)"
      ],
      "execution_count": 0,
      "outputs": [
        {
          "output_type": "stream",
          "text": [
            "[[[1. 0. 0. 0. 0.]\n",
            "  [0. 1. 0. 0. 0.]\n",
            "  [1. 0. 0. 0. 0.]\n",
            "  [0. 0. 1. 0. 0.]\n",
            "  [0. 0. 0. 1. 0.]\n",
            "  [0. 0. 0. 1. 0.]]]\n",
            "(1, 6, 5)\n"
          ],
          "name": "stdout"
        }
      ]
    },
    {
      "cell_type": "markdown",
      "metadata": {
        "id": "WXXOhAlzurBl",
        "colab_type": "text"
      },
      "source": [
        "* x_data.shape >> (시퀀스 데이터의 개수, 시퀀스의 길이, 원핫 요소의 개수)입니다."
      ]
    },
    {
      "cell_type": "code",
      "metadata": {
        "id": "nSLEA1sIbPOq",
        "colab_type": "code",
        "colab": {}
      },
      "source": [
        "hidden_size = 5\n",
        "sequence_length = 6\n",
        "cell = tf.contrib.rnn.BasicRNNCell(num_units=hidden_size)"
      ],
      "execution_count": 0,
      "outputs": []
    },
    {
      "cell_type": "code",
      "metadata": {
        "id": "_8skV6bmgLFu",
        "colab_type": "code",
        "outputId": "fa683d36-601c-449b-f004-a91df18f92dd",
        "colab": {
          "base_uri": "https://localhost:8080/",
          "height": 35
        }
      },
      "source": [
        "\n",
        "# x_data = np.array([[[1,0,0,0]]], dtype = np.float32)\n",
        "outputs, _states = tf.nn.dynamic_rnn(cell, x_data, dtype=tf.float32)\n",
        "print(outputs)"
      ],
      "execution_count": 0,
      "outputs": [
        {
          "output_type": "stream",
          "text": [
            "Tensor(\"rnn/transpose_1:0\", shape=(1, 6, 5), dtype=float32)\n"
          ],
          "name": "stdout"
        }
      ]
    },
    {
      "cell_type": "code",
      "metadata": {
        "id": "N4kNsQnghXAF",
        "colab_type": "code",
        "outputId": "a4c1651d-ca5e-4a79-d47f-cc07451f73e7",
        "colab": {
          "base_uri": "https://localhost:8080/",
          "height": 123
        }
      },
      "source": [
        "\n",
        "sess.run(tf.global_variables_initializer())\n",
        "print(outputs.eval())"
      ],
      "execution_count": 0,
      "outputs": [
        {
          "output_type": "stream",
          "text": [
            "[[[-0.54487395  0.51879334 -0.13921815 -0.27288058 -0.10411536]\n",
            "  [ 0.32000193 -0.4719932  -0.5871584  -0.44938266 -0.42658788]\n",
            "  [-0.6841308   0.10090849 -0.283207    0.04200775 -0.05635734]\n",
            "  [-0.3914819  -0.05141543 -0.40481237  0.24005753 -0.07192027]\n",
            "  [-0.30995372 -0.37773475  0.01134454  0.22347264 -0.06164647]\n",
            "  [-0.15240254 -0.1087274   0.29754725  0.17276976 -0.38839933]]]\n"
          ],
          "name": "stdout"
        }
      ]
    },
    {
      "cell_type": "code",
      "metadata": {
        "id": "qUtXXZpqhjk-",
        "colab_type": "code",
        "colab": {}
      },
      "source": [
        ""
      ],
      "execution_count": 0,
      "outputs": []
    }
  ]
}