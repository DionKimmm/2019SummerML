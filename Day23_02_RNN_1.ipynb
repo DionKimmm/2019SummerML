{
  "nbformat": 4,
  "nbformat_minor": 0,
  "metadata": {
    "colab": {
      "name": "Day23_02_RNN_1.ipynb",
      "version": "0.3.2",
      "provenance": [],
      "include_colab_link": true
    },
    "kernelspec": {
      "name": "python3",
      "display_name": "Python 3"
    }
  },
  "cells": [
    {
      "cell_type": "markdown",
      "metadata": {
        "id": "view-in-github",
        "colab_type": "text"
      },
      "source": [
        "<a href=\"https://colab.research.google.com/github/DionKimmm/2019SummerML/blob/master/Day23_02_RNN_1.ipynb\" target=\"_parent\"><img src=\"https://colab.research.google.com/assets/colab-badge.svg\" alt=\"Open In Colab\"/></a>"
      ]
    },
    {
      "cell_type": "markdown",
      "metadata": {
        "id": "kXnPORpQmiYy",
        "colab_type": "text"
      },
      "source": [
        "![대체 텍스트](http://drive.google.com/uc?export=view&id=1-yNJvsVyZCFvOONiyv0Ra0GKqzHs-PwS)"
      ]
    },
    {
      "cell_type": "code",
      "metadata": {
        "id": "msrgCNyss2qT",
        "colab_type": "code",
        "colab": {}
      },
      "source": [
        "import warnings\n",
        "warnings.filterwarnings(action='ignore') "
      ],
      "execution_count": 0,
      "outputs": []
    },
    {
      "cell_type": "code",
      "metadata": {
        "id": "wvVhDF-rfYNq",
        "colab_type": "code",
        "colab": {}
      },
      "source": [
        "import tensorflow as tf\n",
        "import numpy as np\n",
        "tf.set_random_seed(777)  # reproducibility"
      ],
      "execution_count": 0,
      "outputs": []
    },
    {
      "cell_type": "code",
      "metadata": {
        "id": "pJd8p5Q7kitA",
        "colab_type": "code",
        "colab": {}
      },
      "source": [
        "idx2char = ['h', 'i', 'e', 'l', 'o']\n",
        "# Teach hello: hihell -> ihello\n",
        "x_data = [[0, 1, 0, 2, 3, 3]]   # hihell\n",
        "x_one_hot = [[[1, 0, 0, 0, 0],   # h 0\n",
        "              [0, 1, 0, 0, 0],   # i 1\n",
        "              [1, 0, 0, 0, 0],   # h 0\n",
        "              [0, 0, 1, 0, 0],   # e 2\n",
        "              [0, 0, 0, 1, 0],   # l 3\n",
        "              [0, 0, 0, 1, 0]]]  # l 3\n",
        "\n",
        "y_data = [[1, 0, 2, 3, 3, 4]]    # ihello"
      ],
      "execution_count": 0,
      "outputs": []
    },
    {
      "cell_type": "code",
      "metadata": {
        "id": "hbuflADsfhID",
        "colab_type": "code",
        "colab": {}
      },
      "source": [
        "num_classes = 5\n",
        "input_dim = 5  # one-hot size\n",
        "hidden_size = 5  # output from the LSTM. 5 to directly predict one-hot\n",
        "batch_size = 1   # one sentence\n",
        "sequence_length = 6  # |ihello| == 6\n",
        "learning_rate = 0.1"
      ],
      "execution_count": 0,
      "outputs": []
    },
    {
      "cell_type": "code",
      "metadata": {
        "id": "zZ1F0ocBf12j",
        "colab_type": "code",
        "colab": {}
      },
      "source": [
        "X = tf.placeholder(\n",
        "    tf.float32, [None, sequence_length, input_dim])  # X one-hot\n",
        "Y = tf.placeholder(tf.int32, [None, sequence_length])  # Y label"
      ],
      "execution_count": 0,
      "outputs": []
    },
    {
      "cell_type": "code",
      "metadata": {
        "id": "-aArlQ48ZIUK",
        "colab_type": "code",
        "outputId": "fc530927-387f-49a5-8af5-0384a7f698c5",
        "colab": {
          "base_uri": "https://localhost:8080/",
          "height": 199
        }
      },
      "source": [
        "# cell = tf.contrib.rnn.BasicRNNCell(num_units=hidden_size, state_is_tuple=True)\n",
        "cell = tf.contrib.rnn.BasicRNNCell(num_units=hidden_size)\n",
        "\n",
        "initial_state = cell.zero_state(batch_size, tf.float32)\n",
        "outputs, _states = tf.nn.dynamic_rnn(\n",
        "    cell, X, initial_state=initial_state, dtype=tf.float32)"
      ],
      "execution_count": 0,
      "outputs": [
        {
          "output_type": "stream",
          "text": [
            "W0726 05:15:30.083613 140605836806016 deprecation.py:323] From <ipython-input-12-b6a5cf1e6790>:5: dynamic_rnn (from tensorflow.python.ops.rnn) is deprecated and will be removed in a future version.\n",
            "Instructions for updating:\n",
            "Please use `keras.layers.RNN(cell)`, which is equivalent to this API\n",
            "W0726 05:15:30.147392 140605836806016 deprecation.py:506] From /usr/local/lib/python3.6/dist-packages/tensorflow/python/ops/init_ops.py:1251: calling VarianceScaling.__init__ (from tensorflow.python.ops.init_ops) with dtype is deprecated and will be removed in a future version.\n",
            "Instructions for updating:\n",
            "Call initializer instance with the dtype argument instead of passing it to the constructor\n",
            "W0726 05:15:30.158490 140605836806016 deprecation.py:506] From /usr/local/lib/python3.6/dist-packages/tensorflow/python/ops/rnn_cell_impl.py:459: calling Zeros.__init__ (from tensorflow.python.ops.init_ops) with dtype is deprecated and will be removed in a future version.\n",
            "Instructions for updating:\n",
            "Call initializer instance with the dtype argument instead of passing it to the constructor\n"
          ],
          "name": "stderr"
        }
      ]
    },
    {
      "cell_type": "code",
      "metadata": {
        "id": "2aULLo0mZMXr",
        "colab_type": "code",
        "colab": {}
      },
      "source": [
        "# Fully Connected layer\n",
        "X_for_fc = tf.reshape(outputs, [-1, hidden_size])\n",
        "# fc_w = tf.get_variable(\"fc_w\", [hidden_size, num_classes])\n",
        "# fc_b = tf.get_variable(\"fc_b\", [num_classes])\n",
        "# outputs = tf.matmul(X_for_fc, fc_w) + fc_b\n",
        "outputs = tf.contrib.layers.fully_connected(\n",
        "    inputs=X_for_fc, num_outputs=num_classes, activation_fn=None)"
      ],
      "execution_count": 0,
      "outputs": []
    },
    {
      "cell_type": "code",
      "metadata": {
        "id": "f1XaSCLvZV80",
        "colab_type": "code",
        "colab": {}
      },
      "source": [
        "# reshape out for sequence_loss\n",
        "outputs = tf.reshape(outputs, [batch_size, sequence_length, num_classes])\n"
      ],
      "execution_count": 0,
      "outputs": []
    },
    {
      "cell_type": "code",
      "metadata": {
        "id": "zVqwJXOPZXg2",
        "colab_type": "code",
        "colab": {}
      },
      "source": [
        "weights = tf.ones([batch_size, sequence_length])\n",
        "sequence_loss = tf.contrib.seq2seq.sequence_loss(\n",
        "    logits=outputs, targets=Y, weights=weights)\n",
        "loss = tf.reduce_mean(sequence_loss)\n",
        "train = tf.train.AdamOptimizer(learning_rate=learning_rate).minimize(loss)"
      ],
      "execution_count": 0,
      "outputs": []
    },
    {
      "cell_type": "code",
      "metadata": {
        "id": "3r9SyWxNZZxW",
        "colab_type": "code",
        "colab": {}
      },
      "source": [
        "prediction = tf.argmax(outputs, axis=2)"
      ],
      "execution_count": 0,
      "outputs": []
    },
    {
      "cell_type": "code",
      "metadata": {
        "id": "m8VXr94sZa9_",
        "colab_type": "code",
        "outputId": "6cee9b63-fc0a-49ed-a2dd-77b6036a17f5",
        "colab": {
          "base_uri": "https://localhost:8080/",
          "height": 1000
        }
      },
      "source": [
        "with tf.Session() as sess:\n",
        "    sess.run(tf.global_variables_initializer())\n",
        "    for i in range(50):\n",
        "        l, _ = sess.run([loss, train], feed_dict={X: x_one_hot, Y: y_data})\n",
        "        result = sess.run(prediction, feed_dict={X: x_one_hot})\n",
        "        print(i, \"loss:\", l, \"prediction: \", result, \"true Y: \", y_data)\n",
        "\n",
        "        # print char using dic\n",
        "        result_str = [idx2char[c] for c in np.squeeze(result)]\n",
        "        print(\"\\tPrediction str: \", ''.join(result_str))"
      ],
      "execution_count": 0,
      "outputs": [
        {
          "output_type": "stream",
          "text": [
            "0 loss: 1.5407909 prediction:  [[1 0 3 3 3 4]] true Y:  [[1, 0, 2, 3, 3, 4]]\n",
            "\tPrediction str:  ihlllo\n",
            "1 loss: 1.2292438 prediction:  [[1 0 3 3 3 4]] true Y:  [[1, 0, 2, 3, 3, 4]]\n",
            "\tPrediction str:  ihlllo\n",
            "2 loss: 1.0267211 prediction:  [[1 0 2 3 3 4]] true Y:  [[1, 0, 2, 3, 3, 4]]\n",
            "\tPrediction str:  ihello\n",
            "3 loss: 0.84361213 prediction:  [[1 0 2 3 3 4]] true Y:  [[1, 0, 2, 3, 3, 4]]\n",
            "\tPrediction str:  ihello\n",
            "4 loss: 0.6749494 prediction:  [[1 0 2 3 3 4]] true Y:  [[1, 0, 2, 3, 3, 4]]\n",
            "\tPrediction str:  ihello\n",
            "5 loss: 0.5172732 prediction:  [[1 0 2 3 3 4]] true Y:  [[1, 0, 2, 3, 3, 4]]\n",
            "\tPrediction str:  ihello\n",
            "6 loss: 0.38234678 prediction:  [[1 0 2 3 3 4]] true Y:  [[1, 0, 2, 3, 3, 4]]\n",
            "\tPrediction str:  ihello\n",
            "7 loss: 0.27190125 prediction:  [[1 0 2 3 3 4]] true Y:  [[1, 0, 2, 3, 3, 4]]\n",
            "\tPrediction str:  ihello\n",
            "8 loss: 0.19192022 prediction:  [[1 0 2 3 3 4]] true Y:  [[1, 0, 2, 3, 3, 4]]\n",
            "\tPrediction str:  ihello\n",
            "9 loss: 0.1361299 prediction:  [[1 0 2 3 3 4]] true Y:  [[1, 0, 2, 3, 3, 4]]\n",
            "\tPrediction str:  ihello\n",
            "10 loss: 0.09692907 prediction:  [[1 0 2 3 3 4]] true Y:  [[1, 0, 2, 3, 3, 4]]\n",
            "\tPrediction str:  ihello\n",
            "11 loss: 0.06945014 prediction:  [[1 0 2 3 3 4]] true Y:  [[1, 0, 2, 3, 3, 4]]\n",
            "\tPrediction str:  ihello\n",
            "12 loss: 0.049981568 prediction:  [[1 0 2 3 3 4]] true Y:  [[1, 0, 2, 3, 3, 4]]\n",
            "\tPrediction str:  ihello\n",
            "13 loss: 0.036529317 prediction:  [[1 0 2 3 3 4]] true Y:  [[1, 0, 2, 3, 3, 4]]\n",
            "\tPrediction str:  ihello\n",
            "14 loss: 0.027160028 prediction:  [[1 0 2 3 3 4]] true Y:  [[1, 0, 2, 3, 3, 4]]\n",
            "\tPrediction str:  ihello\n",
            "15 loss: 0.020350961 prediction:  [[1 0 2 3 3 4]] true Y:  [[1, 0, 2, 3, 3, 4]]\n",
            "\tPrediction str:  ihello\n",
            "16 loss: 0.015756216 prediction:  [[1 0 2 3 3 4]] true Y:  [[1, 0, 2, 3, 3, 4]]\n",
            "\tPrediction str:  ihello\n",
            "17 loss: 0.012384515 prediction:  [[1 0 2 3 3 4]] true Y:  [[1, 0, 2, 3, 3, 4]]\n",
            "\tPrediction str:  ihello\n",
            "18 loss: 0.0098281875 prediction:  [[1 0 2 3 3 4]] true Y:  [[1, 0, 2, 3, 3, 4]]\n",
            "\tPrediction str:  ihello\n",
            "19 loss: 0.007964541 prediction:  [[1 0 2 3 3 4]] true Y:  [[1, 0, 2, 3, 3, 4]]\n",
            "\tPrediction str:  ihello\n",
            "20 loss: 0.0066386494 prediction:  [[1 0 2 3 3 4]] true Y:  [[1, 0, 2, 3, 3, 4]]\n",
            "\tPrediction str:  ihello\n",
            "21 loss: 0.0055967513 prediction:  [[1 0 2 3 3 4]] true Y:  [[1, 0, 2, 3, 3, 4]]\n",
            "\tPrediction str:  ihello\n",
            "22 loss: 0.0047227275 prediction:  [[1 0 2 3 3 4]] true Y:  [[1, 0, 2, 3, 3, 4]]\n",
            "\tPrediction str:  ihello\n",
            "23 loss: 0.0040503554 prediction:  [[1 0 2 3 3 4]] true Y:  [[1, 0, 2, 3, 3, 4]]\n",
            "\tPrediction str:  ihello\n",
            "24 loss: 0.0035458023 prediction:  [[1 0 2 3 3 4]] true Y:  [[1, 0, 2, 3, 3, 4]]\n",
            "\tPrediction str:  ihello\n",
            "25 loss: 0.0031454118 prediction:  [[1 0 2 3 3 4]] true Y:  [[1, 0, 2, 3, 3, 4]]\n",
            "\tPrediction str:  ihello\n",
            "26 loss: 0.0028092696 prediction:  [[1 0 2 3 3 4]] true Y:  [[1, 0, 2, 3, 3, 4]]\n",
            "\tPrediction str:  ihello\n",
            "27 loss: 0.0025209067 prediction:  [[1 0 2 3 3 4]] true Y:  [[1, 0, 2, 3, 3, 4]]\n",
            "\tPrediction str:  ihello\n",
            "28 loss: 0.002276324 prediction:  [[1 0 2 3 3 4]] true Y:  [[1, 0, 2, 3, 3, 4]]\n",
            "\tPrediction str:  ihello\n",
            "29 loss: 0.0020746537 prediction:  [[1 0 2 3 3 4]] true Y:  [[1, 0, 2, 3, 3, 4]]\n",
            "\tPrediction str:  ihello\n",
            "30 loss: 0.001912253 prediction:  [[1 0 2 3 3 4]] true Y:  [[1, 0, 2, 3, 3, 4]]\n",
            "\tPrediction str:  ihello\n",
            "31 loss: 0.0017791096 prediction:  [[1 0 2 3 3 4]] true Y:  [[1, 0, 2, 3, 3, 4]]\n",
            "\tPrediction str:  ihello\n",
            "32 loss: 0.0016619316 prediction:  [[1 0 2 3 3 4]] true Y:  [[1, 0, 2, 3, 3, 4]]\n",
            "\tPrediction str:  ihello\n",
            "33 loss: 0.0015533526 prediction:  [[1 0 2 3 3 4]] true Y:  [[1, 0, 2, 3, 3, 4]]\n",
            "\tPrediction str:  ihello\n",
            "34 loss: 0.0014551656 prediction:  [[1 0 2 3 3 4]] true Y:  [[1, 0, 2, 3, 3, 4]]\n",
            "\tPrediction str:  ihello\n",
            "35 loss: 0.0013710292 prediction:  [[1 0 2 3 3 4]] true Y:  [[1, 0, 2, 3, 3, 4]]\n",
            "\tPrediction str:  ihello\n",
            "36 loss: 0.0013005934 prediction:  [[1 0 2 3 3 4]] true Y:  [[1, 0, 2, 3, 3, 4]]\n",
            "\tPrediction str:  ihello\n",
            "37 loss: 0.0012407281 prediction:  [[1 0 2 3 3 4]] true Y:  [[1, 0, 2, 3, 3, 4]]\n",
            "\tPrediction str:  ihello\n",
            "38 loss: 0.0011878841 prediction:  [[1 0 2 3 3 4]] true Y:  [[1, 0, 2, 3, 3, 4]]\n",
            "\tPrediction str:  ihello\n",
            "39 loss: 0.0011394831 prediction:  [[1 0 2 3 3 4]] true Y:  [[1, 0, 2, 3, 3, 4]]\n",
            "\tPrediction str:  ihello\n",
            "40 loss: 0.001094553 prediction:  [[1 0 2 3 3 4]] true Y:  [[1, 0, 2, 3, 3, 4]]\n",
            "\tPrediction str:  ihello\n",
            "41 loss: 0.0010528555 prediction:  [[1 0 2 3 3 4]] true Y:  [[1, 0, 2, 3, 3, 4]]\n",
            "\tPrediction str:  ihello\n",
            "42 loss: 0.0010150851 prediction:  [[1 0 2 3 3 4]] true Y:  [[1, 0, 2, 3, 3, 4]]\n",
            "\tPrediction str:  ihello\n",
            "43 loss: 0.0009815593 prediction:  [[1 0 2 3 3 4]] true Y:  [[1, 0, 2, 3, 3, 4]]\n",
            "\tPrediction str:  ihello\n",
            "44 loss: 0.0009523376 prediction:  [[1 0 2 3 3 4]] true Y:  [[1, 0, 2, 3, 3, 4]]\n",
            "\tPrediction str:  ihello\n",
            "45 loss: 0.0009267053 prediction:  [[1 0 2 3 3 4]] true Y:  [[1, 0, 2, 3, 3, 4]]\n",
            "\tPrediction str:  ihello\n",
            "46 loss: 0.00090339244 prediction:  [[1 0 2 3 3 4]] true Y:  [[1, 0, 2, 3, 3, 4]]\n",
            "\tPrediction str:  ihello\n",
            "47 loss: 0.0008813076 prediction:  [[1 0 2 3 3 4]] true Y:  [[1, 0, 2, 3, 3, 4]]\n",
            "\tPrediction str:  ihello\n",
            "48 loss: 0.0008600542 prediction:  [[1 0 2 3 3 4]] true Y:  [[1, 0, 2, 3, 3, 4]]\n",
            "\tPrediction str:  ihello\n",
            "49 loss: 0.0008400891 prediction:  [[1 0 2 3 3 4]] true Y:  [[1, 0, 2, 3, 3, 4]]\n",
            "\tPrediction str:  ihello\n"
          ],
          "name": "stdout"
        }
      ]
    },
    {
      "cell_type": "code",
      "metadata": {
        "id": "xIg8o56eZcVA",
        "colab_type": "code",
        "colab": {}
      },
      "source": [
        ""
      ],
      "execution_count": 0,
      "outputs": []
    }
  ]
}