{
  "nbformat": 4,
  "nbformat_minor": 0,
  "metadata": {
    "colab": {
      "name": "Day23_03_RNN_BasicLSTMCell.ipynb",
      "version": "0.3.2",
      "provenance": [],
      "include_colab_link": true
    },
    "kernelspec": {
      "name": "python3",
      "display_name": "Python 3"
    },
    "accelerator": "GPU"
  },
  "cells": [
    {
      "cell_type": "markdown",
      "metadata": {
        "id": "view-in-github",
        "colab_type": "text"
      },
      "source": [
        "<a href=\"https://colab.research.google.com/github/DionKimmm/2019SummerML/blob/master/Day23_03_RNN_BasicLSTMCell.ipynb\" target=\"_parent\"><img src=\"https://colab.research.google.com/assets/colab-badge.svg\" alt=\"Open In Colab\"/></a>"
      ]
    },
    {
      "cell_type": "markdown",
      "metadata": {
        "id": "kXnPORpQmiYy",
        "colab_type": "text"
      },
      "source": [
        "![대체 텍스트](http://drive.google.com/uc?export=view&id=1-yNJvsVyZCFvOONiyv0Ra0GKqzHs-PwS)"
      ]
    },
    {
      "cell_type": "code",
      "metadata": {
        "id": "msrgCNyss2qT",
        "colab_type": "code",
        "colab": {}
      },
      "source": [
        "import warnings\n",
        "warnings.filterwarnings(action='ignore') "
      ],
      "execution_count": 0,
      "outputs": []
    },
    {
      "cell_type": "code",
      "metadata": {
        "id": "wvVhDF-rfYNq",
        "colab_type": "code",
        "colab": {}
      },
      "source": [
        "import tensorflow as tf\n",
        "import numpy as np\n",
        "tf.set_random_seed(777)  # reproducibility"
      ],
      "execution_count": 0,
      "outputs": []
    },
    {
      "cell_type": "code",
      "metadata": {
        "id": "pJd8p5Q7kitA",
        "colab_type": "code",
        "outputId": "9a0c086c-1068-4d19-e429-43b0fc23ea7a",
        "colab": {
          "base_uri": "https://localhost:8080/",
          "height": 55
        }
      },
      "source": [
        "# sample = \"The grass is always greener on the other side of the fence.\"\n",
        "sample = \"낮 말은 새가 듣고 밤 말은 쥐가 듣는다\"\n",
        "# sample = \"남의 떡이 더 커 보이고 남이 잡은 일감이 더 헐어 보인다.\"\n",
        "idx2char = list(set(sample))  # index -> char\n",
        "char2idx = {c: i for i, c in enumerate(idx2char)}  # char -> idex\n",
        "print(idx2char)\n",
        "print(char2idx)"
      ],
      "execution_count": 3,
      "outputs": [
        {
          "output_type": "stream",
          "text": [
            "[' ', '밤', '낮', '다', '새', '고', '쥐', '는', '가', '은', '말', '듣']\n",
            "{' ': 0, '밤': 1, '낮': 2, '다': 3, '새': 4, '고': 5, '쥐': 6, '는': 7, '가': 8, '은': 9, '말': 10, '듣': 11}\n"
          ],
          "name": "stdout"
        }
      ]
    },
    {
      "cell_type": "code",
      "metadata": {
        "id": "hbuflADsfhID",
        "colab_type": "code",
        "colab": {}
      },
      "source": [
        "# hyper parameters\n",
        "dic_size = len(char2idx)  # RNN input size (one hot size)\n",
        "hidden_size = len(char2idx)  # RNN output size\n",
        "num_classes = len(char2idx)  # final output size (RNN or softmax, etc.)\n",
        "batch_size = 1  # one sample data, one batch\n",
        "sequence_length = len(sample) - 1  # number of lstm rollings (unit #)\n",
        "learning_rate = 0.1"
      ],
      "execution_count": 0,
      "outputs": []
    },
    {
      "cell_type": "code",
      "metadata": {
        "id": "zZ1F0ocBf12j",
        "colab_type": "code",
        "outputId": "11b0f589-7968-4f6d-fb95-9accf9978cb4",
        "colab": {
          "base_uri": "https://localhost:8080/",
          "height": 73
        }
      },
      "source": [
        "sample_idx = [char2idx[c] for c in sample]  # char to index\n",
        "print(sample_idx)\n",
        "x_data = [sample_idx[:-1]]  # X data sample (0 ~ n-1) hello: hell\n",
        "print(x_data)\n",
        "y_data = [sample_idx[1:]]   # Y label sample (1 ~ n) hello: ello\n",
        "print(y_data)"
      ],
      "execution_count": 5,
      "outputs": [
        {
          "output_type": "stream",
          "text": [
            "[2, 0, 10, 9, 0, 4, 8, 0, 11, 5, 0, 1, 0, 10, 9, 0, 6, 8, 0, 11, 7, 3]\n",
            "[[2, 0, 10, 9, 0, 4, 8, 0, 11, 5, 0, 1, 0, 10, 9, 0, 6, 8, 0, 11, 7]]\n",
            "[[0, 10, 9, 0, 4, 8, 0, 11, 5, 0, 1, 0, 10, 9, 0, 6, 8, 0, 11, 7, 3]]\n"
          ],
          "name": "stdout"
        }
      ]
    },
    {
      "cell_type": "code",
      "metadata": {
        "id": "ozwkdctQ3nTs",
        "colab_type": "code",
        "colab": {}
      },
      "source": [
        "tf.reset_default_graph()"
      ],
      "execution_count": 0,
      "outputs": []
    },
    {
      "cell_type": "code",
      "metadata": {
        "id": "5ajkFIQp2dOw",
        "colab_type": "code",
        "colab": {}
      },
      "source": [
        "X = tf.placeholder(tf.int32, [None, sequence_length])  # X data\n",
        "Y = tf.placeholder(tf.int32, [None, sequence_length])  # Y label"
      ],
      "execution_count": 0,
      "outputs": []
    },
    {
      "cell_type": "code",
      "metadata": {
        "id": "-aArlQ48ZIUK",
        "colab_type": "code",
        "colab": {
          "base_uri": "https://localhost:8080/",
          "height": 429
        },
        "outputId": "828e1073-e808-4cc1-ffa2-8ea401bae247"
      },
      "source": [
        "x_one_hot = tf.one_hot(X, num_classes)  # one hot: 1 -> 0 1 0 0 0 0 0 0 0 0\n",
        "cell = tf.contrib.rnn.BasicLSTMCell(\n",
        "    num_units=hidden_size, state_is_tuple=True)\n",
        "initial_state = cell.zero_state(batch_size, tf.float32)\n",
        "outputs, _states = tf.nn.dynamic_rnn(\n",
        "    cell, x_one_hot, initial_state=initial_state, dtype=tf.float32)"
      ],
      "execution_count": 8,
      "outputs": [
        {
          "output_type": "stream",
          "text": [
            "WARNING: Logging before flag parsing goes to stderr.\n",
            "W0726 11:05:35.559121 140290909833088 lazy_loader.py:50] \n",
            "The TensorFlow contrib module will not be included in TensorFlow 2.0.\n",
            "For more information, please see:\n",
            "  * https://github.com/tensorflow/community/blob/master/rfcs/20180907-contrib-sunset.md\n",
            "  * https://github.com/tensorflow/addons\n",
            "  * https://github.com/tensorflow/io (for I/O related ops)\n",
            "If you depend on functionality not listed there, please file an issue.\n",
            "\n",
            "W0726 11:05:35.561034 140290909833088 deprecation.py:323] From <ipython-input-8-552346adc015>:3: BasicLSTMCell.__init__ (from tensorflow.python.ops.rnn_cell_impl) is deprecated and will be removed in a future version.\n",
            "Instructions for updating:\n",
            "This class is equivalent as tf.keras.layers.LSTMCell, and will be replaced by that in Tensorflow 2.0.\n",
            "W0726 11:05:35.580603 140290909833088 deprecation.py:323] From <ipython-input-8-552346adc015>:6: dynamic_rnn (from tensorflow.python.ops.rnn) is deprecated and will be removed in a future version.\n",
            "Instructions for updating:\n",
            "Please use `keras.layers.RNN(cell)`, which is equivalent to this API\n",
            "W0726 11:05:35.638468 140290909833088 deprecation.py:506] From /usr/local/lib/python3.6/dist-packages/tensorflow/python/ops/init_ops.py:1251: calling VarianceScaling.__init__ (from tensorflow.python.ops.init_ops) with dtype is deprecated and will be removed in a future version.\n",
            "Instructions for updating:\n",
            "Call initializer instance with the dtype argument instead of passing it to the constructor\n",
            "W0726 11:05:35.648105 140290909833088 deprecation.py:506] From /usr/local/lib/python3.6/dist-packages/tensorflow/python/ops/rnn_cell_impl.py:738: calling Zeros.__init__ (from tensorflow.python.ops.init_ops) with dtype is deprecated and will be removed in a future version.\n",
            "Instructions for updating:\n",
            "Call initializer instance with the dtype argument instead of passing it to the constructor\n"
          ],
          "name": "stderr"
        }
      ]
    },
    {
      "cell_type": "code",
      "metadata": {
        "id": "2aULLo0mZMXr",
        "colab_type": "code",
        "colab": {}
      },
      "source": [
        "# FC layer\n",
        "X_for_fc = tf.reshape(outputs, [-1, hidden_size])\n",
        "outputs = tf.contrib.layers.fully_connected\\\n",
        "        (X_for_fc, num_classes, activation_fn=None)"
      ],
      "execution_count": 0,
      "outputs": []
    },
    {
      "cell_type": "code",
      "metadata": {
        "id": "f1XaSCLvZV80",
        "colab_type": "code",
        "colab": {}
      },
      "source": [
        "# reshape out for sequence_loss\n",
        "outputs = tf.reshape(outputs, [batch_size, sequence_length, num_classes])"
      ],
      "execution_count": 0,
      "outputs": []
    },
    {
      "cell_type": "code",
      "metadata": {
        "id": "zVqwJXOPZXg2",
        "colab_type": "code",
        "colab": {}
      },
      "source": [
        "weights = tf.ones([batch_size, sequence_length])\n",
        "sequence_loss = tf.contrib.seq2seq.sequence_loss(\n",
        "    logits=outputs, targets=Y, weights=weights)\n",
        "loss = tf.reduce_mean(sequence_loss)\n",
        "train = tf.train.AdamOptimizer(learning_rate=learning_rate).minimize(loss)"
      ],
      "execution_count": 0,
      "outputs": []
    },
    {
      "cell_type": "code",
      "metadata": {
        "id": "3r9SyWxNZZxW",
        "colab_type": "code",
        "colab": {}
      },
      "source": [
        "prediction = tf.argmax(outputs, axis=2)"
      ],
      "execution_count": 0,
      "outputs": []
    },
    {
      "cell_type": "code",
      "metadata": {
        "id": "m8VXr94sZa9_",
        "colab_type": "code",
        "colab": {
          "base_uri": "https://localhost:8080/",
          "height": 951
        },
        "outputId": "acdb9ea2-3b5d-4649-d227-2a83c4ef5546"
      },
      "source": [
        "with tf.Session() as sess:\n",
        "    sess.run(tf.global_variables_initializer())\n",
        "    for i in range(50):\n",
        "        l, _ = sess.run([loss, train], feed_dict={X: x_data, Y: y_data})\n",
        "        result = sess.run(prediction, feed_dict={X: x_data})\n",
        "\n",
        "        # print char using dic\n",
        "        result_str = [idx2char[c] for c in np.squeeze(result)]\n",
        "\n",
        "        print(i, \"loss:\", l, \"Prediction:\", ''.join(result_str))"
      ],
      "execution_count": 13,
      "outputs": [
        {
          "output_type": "stream",
          "text": [
            "0 loss: 2.5095203 Prediction:                      \n",
            "1 loss: 2.3214223 Prediction:                      \n",
            "2 loss: 2.1264899 Prediction:                      \n",
            "3 loss: 2.0504367 Prediction:                      \n",
            "4 loss: 1.8998662 Prediction:                      \n",
            "5 loss: 1.7392294 Prediction:        듣고   말     듣고다\n",
            "6 loss: 1.5304724 Prediction:        듣고 말 말     듣고다\n",
            "7 loss: 1.2960448 Prediction:  말은    듣고 말 말은    듣고다\n",
            "8 loss: 1.064335 Prediction:  말은  가 듣고 말 말은 은가 듣는다\n",
            "9 loss: 0.8342992 Prediction:  말은 새가 듣는 밤 말은 은가 듣는다\n",
            "10 loss: 0.6083646 Prediction:  말은 새가 듣는 밤 말은 쥐가 듣는다\n",
            "11 loss: 0.44654456 Prediction:  말은 새가 듣는 밤 말은 쥐가 듣는다\n",
            "12 loss: 0.33415475 Prediction:  말은 새가 듣는 밤 말은 쥐가 듣는다\n",
            "13 loss: 0.2552515 Prediction:  말은 새가 듣고 밤 말은 쥐가 듣고다\n",
            "14 loss: 0.20063464 Prediction:  말은 새가 듣고 밤 말은 쥐가 듣고다\n",
            "15 loss: 0.16205163 Prediction:  말은 새가 듣고 밤 말은 쥐가 듣고다\n",
            "16 loss: 0.13069604 Prediction:  말은 새가 듣고 밤 말은 쥐가 듣는다\n",
            "17 loss: 0.11061658 Prediction:  말은 새가 듣고 밤 말은 새가 듣는다\n",
            "18 loss: 0.110831305 Prediction:  말은 새가 듣고 밤 말은 쥐가 듣는다\n",
            "19 loss: 0.06918112 Prediction:  말은 새가 듣고 밤 말은 쥐가 듣는다\n",
            "20 loss: 0.06273738 Prediction:  말은 새가 듣고 밤 말은 쥐가 듣는다\n",
            "21 loss: 0.04729294 Prediction:  말은 새가 듣고 밤 말은 쥐가 듣는다\n",
            "22 loss: 0.037470594 Prediction:  말은 새가 듣고 밤 말은 쥐가 듣는다\n",
            "23 loss: 0.027670525 Prediction:  말은 새가 듣고 밤 말은 쥐가 듣는다\n",
            "24 loss: 0.019513449 Prediction:  말은 새가 듣고 밤 말은 쥐가 듣는다\n",
            "25 loss: 0.014135501 Prediction:  말은 새가 듣고 밤 말은 쥐가 듣는다\n",
            "26 loss: 0.010848018 Prediction:  말은 새가 듣고 밤 말은 쥐가 듣는다\n",
            "27 loss: 0.008831875 Prediction:  말은 새가 듣고 밤 말은 쥐가 듣는다\n",
            "28 loss: 0.00750258 Prediction:  말은 새가 듣고 밤 말은 쥐가 듣는다\n",
            "29 loss: 0.0064504812 Prediction:  말은 새가 듣고 밤 말은 쥐가 듣는다\n",
            "30 loss: 0.0055065537 Prediction:  말은 새가 듣고 밤 말은 쥐가 듣는다\n",
            "31 loss: 0.004705389 Prediction:  말은 새가 듣고 밤 말은 쥐가 듣는다\n",
            "32 loss: 0.0040781824 Prediction:  말은 새가 듣고 밤 말은 쥐가 듣는다\n",
            "33 loss: 0.003566418 Prediction:  말은 새가 듣고 밤 말은 쥐가 듣는다\n",
            "34 loss: 0.0031102116 Prediction:  말은 새가 듣고 밤 말은 쥐가 듣는다\n",
            "35 loss: 0.002716212 Prediction:  말은 새가 듣고 밤 말은 쥐가 듣는다\n",
            "36 loss: 0.0024009952 Prediction:  말은 새가 듣고 밤 말은 쥐가 듣는다\n",
            "37 loss: 0.0021525873 Prediction:  말은 새가 듣고 밤 말은 쥐가 듣는다\n",
            "38 loss: 0.0019482761 Prediction:  말은 새가 듣고 밤 말은 쥐가 듣는다\n",
            "39 loss: 0.0017721134 Prediction:  말은 새가 듣고 밤 말은 쥐가 듣는다\n",
            "40 loss: 0.0016179194 Prediction:  말은 새가 듣고 밤 말은 쥐가 듣는다\n",
            "41 loss: 0.0014848119 Prediction:  말은 새가 듣고 밤 말은 쥐가 듣는다\n",
            "42 loss: 0.0013728704 Prediction:  말은 새가 듣고 밤 말은 쥐가 듣는다\n",
            "43 loss: 0.0012805525 Prediction:  말은 새가 듣고 밤 말은 쥐가 듣는다\n",
            "44 loss: 0.0012044992 Prediction:  말은 새가 듣고 밤 말은 쥐가 듣는다\n",
            "45 loss: 0.001140203 Prediction:  말은 새가 듣고 밤 말은 쥐가 듣는다\n",
            "46 loss: 0.0010832469 Prediction:  말은 새가 듣고 밤 말은 쥐가 듣는다\n",
            "47 loss: 0.0010303651 Prediction:  말은 새가 듣고 밤 말은 쥐가 듣는다\n",
            "48 loss: 0.0009800277 Prediction:  말은 새가 듣고 밤 말은 쥐가 듣는다\n",
            "49 loss: 0.0009318641 Prediction:  말은 새가 듣고 밤 말은 쥐가 듣는다\n"
          ],
          "name": "stdout"
        }
      ]
    },
    {
      "cell_type": "code",
      "metadata": {
        "id": "xIg8o56eZcVA",
        "colab_type": "code",
        "colab": {}
      },
      "source": [
        ""
      ],
      "execution_count": 0,
      "outputs": []
    }
  ]
}