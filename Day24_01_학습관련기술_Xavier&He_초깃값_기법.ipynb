{
  "nbformat": 4,
  "nbformat_minor": 0,
  "metadata": {
    "colab": {
      "name": "Day24_01_weight_init.ipynb",
      "version": "0.3.2",
      "provenance": [],
      "collapsed_sections": [],
      "include_colab_link": true
    },
    "kernelspec": {
      "name": "python3",
      "display_name": "Python 3"
    },
    "accelerator": "GPU"
  },
  "cells": [
    {
      "cell_type": "markdown",
      "metadata": {
        "id": "view-in-github",
        "colab_type": "text"
      },
      "source": [
        "<a href=\"https://colab.research.google.com/github/DionKimmm/2019SummerML/blob/master/Day24_01_%ED%95%99%EC%8A%B5%EA%B4%80%EB%A0%A8%EA%B8%B0%EC%88%A0_Xavier%26He_%EC%B4%88%EA%B9%83%EA%B0%92_%EA%B8%B0%EB%B2%95.ipynb\" target=\"_parent\"><img src=\"https://colab.research.google.com/assets/colab-badge.svg\" alt=\"Open In Colab\"/></a>"
      ]
    },
    {
      "cell_type": "markdown",
      "metadata": {
        "id": "yqqD1BXrk5V6",
        "colab_type": "text"
      },
      "source": [
        "# 초기화 방법에 따른 출력의 분포"
      ]
    },
    {
      "cell_type": "markdown",
      "metadata": {
        "id": "vj3c61_mALtj",
        "colab_type": "text"
      },
      "source": [
        "\n",
        "# 가중치의 초깃값\n",
        "* 신경망 학습에서 특히 중요한 것이 가중치의 초깃값입니다. 가중치의 초깃값을 무엇으로 설정하느냐가 신경망 학습의 성패가 갈라지는 일이 많다고 합니다.\n",
        "* ppt에서 보았듯이, 활성화값은 적당히 고루 분포되어, 층과 층 사이에 적당하게 다양한 데이터가 흐르게 해야 신경망 학습이 효율적으로 이뤄집니다.\n",
        "* 대표적으로 Xavier 또는 He 초깃값 기법을 이용하면 다양한 값을 표현하여 학습이 효율적으로 이루어집니다."
      ]
    },
    {
      "cell_type": "code",
      "metadata": {
        "id": "sqv9JfCRG4de",
        "colab_type": "code",
        "colab": {}
      },
      "source": [
        "import numpy as np\n",
        "import matplotlib.pyplot as plt"
      ],
      "execution_count": 0,
      "outputs": []
    },
    {
      "cell_type": "code",
      "metadata": {
        "id": "chWreQBoHb5X",
        "colab_type": "code",
        "colab": {}
      },
      "source": [
        "def sigmoid(x):\n",
        "    return 1 / (1 + np.exp(-x))\n"
      ],
      "execution_count": 0,
      "outputs": []
    },
    {
      "cell_type": "code",
      "metadata": {
        "id": "aYbT0SNaHcaD",
        "colab_type": "code",
        "colab": {}
      },
      "source": [
        "def ReLU(x):\n",
        "    return np.maximum(0, x)\n"
      ],
      "execution_count": 0,
      "outputs": []
    },
    {
      "cell_type": "code",
      "metadata": {
        "id": "2jOIB_1JHcSp",
        "colab_type": "code",
        "colab": {}
      },
      "source": [
        "def tanh(x):\n",
        "    return np.tanh(x)\n"
      ],
      "execution_count": 0,
      "outputs": []
    },
    {
      "cell_type": "code",
      "metadata": {
        "id": "tZX_iFkvHg47",
        "colab_type": "code",
        "colab": {}
      },
      "source": [
        "input_data = np.random.randn(1000, 100)  # 1000개의 데이터\n",
        "node_num = 100  # 각 은닉층의 노드(뉴런) 수\n",
        "hidden_layer_size = 10  # 은닉층이 5개\n",
        "activations = {}  # 이곳에 활성화 결과를 저장\n"
      ],
      "execution_count": 0,
      "outputs": []
    },
    {
      "cell_type": "code",
      "metadata": {
        "id": "BH7d-NN8HhbP",
        "colab_type": "code",
        "colab": {}
      },
      "source": [
        "x = input_data"
      ],
      "execution_count": 0,
      "outputs": []
    },
    {
      "cell_type": "code",
      "metadata": {
        "id": "x94qSy11HhSm",
        "colab_type": "code",
        "colab": {}
      },
      "source": [
        "for i in range(hidden_layer_size):\n",
        "    if i != 0:\n",
        "        x = activations[i-1]\n",
        "\n",
        "    # 초깃값을 다양하게 바꿔가며 실험해보자！\n",
        "    w = np.random.randn(node_num, node_num) * 1\n",
        "#     w = np.random.randn(node_num, node_num) * 0.01\n",
        "\n",
        "# Xavier init\n",
        "#     w = np.random.randn(node_num, node_num) * np.sqrt(1.0 / node_num)\n",
        "\n",
        "# He init\n",
        "#     w = np.random.randn(node_num, node_num) * np.sqrt(2.0 / node_num)\n",
        "\n",
        "   \n",
        "    a = np.dot(x, w)\n",
        "\n",
        "\n",
        "    # 활성화 함수도 바꿔가며 실험해보자！\n",
        "    z = sigmoid(a)\n",
        "#     z = ReLU(a)\n",
        "    # z = tanh(a)\n",
        "\n",
        "    activations[i] = z\n",
        " "
      ],
      "execution_count": 0,
      "outputs": []
    },
    {
      "cell_type": "code",
      "metadata": {
        "id": "8YAVJtCXKdMK",
        "colab_type": "code",
        "colab": {}
      },
      "source": [
        ""
      ],
      "execution_count": 0,
      "outputs": []
    },
    {
      "cell_type": "code",
      "metadata": {
        "id": "6MFVVTuJHm9-",
        "colab_type": "code",
        "colab": {
          "base_uri": "https://localhost:8080/",
          "height": 337
        },
        "outputId": "0b901338-82c2-4a81-d093-2275a39a1964"
      },
      "source": [
        "plt.figure(figsize=(10,5))\n",
        "# 히스토그램 그리기\n",
        "for i, a in activations.items():\n",
        "    plt.subplot(1, len(activations), i+1)\n",
        "    plt.title(str(i+1) + \"-layer\")\n",
        "    if i != 0: plt.yticks([], [])\n",
        "    plt.xlim(0.1, 1)\n",
        "    plt.ylim(0, 7000)\n",
        "    plt.hist(a.flatten(), 50, range=(0,1))\n",
        "plt.show()\n"
      ],
      "execution_count": 8,
      "outputs": [
        {
          "output_type": "display_data",
          "data": {
            "image/png": "[encoded data removed]",
            "text/plain": [
              "<Figure size 720x360 with 10 Axes>"
            ]
          },
          "metadata": {
            "tags": []
          }
        }
      ]
    }
  ]
}