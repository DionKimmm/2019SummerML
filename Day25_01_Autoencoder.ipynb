{
  "nbformat": 4,
  "nbformat_minor": 0,
  "metadata": {
    "colab": {
      "name": "Day25_01_Autoencoder.ipynb",
      "version": "0.3.2",
      "provenance": [],
      "collapsed_sections": [],
      "include_colab_link": true
    },
    "kernelspec": {
      "name": "python3",
      "display_name": "Python 3"
    },
    "accelerator": "GPU"
  },
  "cells": [
    {
      "cell_type": "markdown",
      "metadata": {
        "id": "view-in-github",
        "colab_type": "text"
      },
      "source": [
        "<a href=\"https://colab.research.google.com/github/DionKimmm/2019SummerML/blob/master/Day25_01_Autoencoder.ipynb\" target=\"_parent\"><img src=\"https://colab.research.google.com/assets/colab-badge.svg\" alt=\"Open In Colab\"/></a>"
      ]
    },
    {
      "cell_type": "markdown",
      "metadata": {
        "id": "bVGylCKwFVnj",
        "colab_type": "text"
      },
      "source": [
        "#Auto Encoder\n",
        "![대체 텍스트](http://drive.google.com/uc?export=view&id=18bvpRnrlfaWdt2MYgvMbo5igeMXApkns)"
      ]
    },
    {
      "cell_type": "code",
      "metadata": {
        "id": "ccWXAl53HsL1",
        "colab_type": "code",
        "colab": {}
      },
      "source": [
        "import warnings\n",
        "warnings.filterwarnings(action='ignore') "
      ],
      "execution_count": 0,
      "outputs": []
    },
    {
      "cell_type": "code",
      "metadata": {
        "id": "n_uFL_BjHLe3",
        "colab_type": "code",
        "colab": {}
      },
      "source": [
        ""
      ],
      "execution_count": 0,
      "outputs": []
    },
    {
      "cell_type": "code",
      "metadata": {
        "id": "uOpDkW3rDaq0",
        "colab_type": "code",
        "colab": {}
      },
      "source": [
        "import tensorflow as tf\n",
        "import numpy as np\n",
        "import matplotlib.pyplot as plt"
      ],
      "execution_count": 0,
      "outputs": []
    },
    {
      "cell_type": "code",
      "metadata": {
        "id": "1o976UEjDhUl",
        "colab_type": "code",
        "colab": {}
      },
      "source": [
        "# Import MINST data\n",
        "from tensorflow.examples.tutorials.mnist import input_data\n",
        "mnist = input_data.read_data_sets(\"MNIST_data/\", one_hot=True)\n"
      ],
      "execution_count": 0,
      "outputs": []
    },
    {
      "cell_type": "code",
      "metadata": {
        "id": "WucOK8eTDj0L",
        "colab_type": "code",
        "colab": {}
      },
      "source": [
        "# Parameters\n",
        "learning_rate = 0.01\n",
        "training_epochs = 50\n",
        "batch_size = 256\n",
        "display_step = 1\n",
        "examples_to_show = 10"
      ],
      "execution_count": 0,
      "outputs": []
    },
    {
      "cell_type": "code",
      "metadata": {
        "id": "E7FnVSlBDoQ9",
        "colab_type": "code",
        "colab": {}
      },
      "source": [
        "# Network Parameters\n",
        "n_hidden_1 = 256 # 1st layer num features\n",
        "n_hidden_2 = 128 # 2nd layer num features\n",
        "n_input = 784 # MNIST data input (img shape: 28*28)"
      ],
      "execution_count": 0,
      "outputs": []
    },
    {
      "cell_type": "code",
      "metadata": {
        "id": "xbQ8K4t-DqGN",
        "colab_type": "code",
        "colab": {}
      },
      "source": [
        "# tf Graph input (only pictures)\n",
        "X = tf.placeholder(\"float\", [None, n_input])\n"
      ],
      "execution_count": 0,
      "outputs": []
    },
    {
      "cell_type": "markdown",
      "metadata": {
        "id": "MXzntyI3GTHS",
        "colab_type": "text"
      },
      "source": [
        "![대체 텍스트](http://drive.google.com/uc?export=view&id=1wtuVn2nQrC1-E5-Koy9-g2GU9sI3LHJp)"
      ]
    },
    {
      "cell_type": "code",
      "metadata": {
        "id": "791r8iTXDsdv",
        "colab_type": "code",
        "colab": {}
      },
      "source": [
        "weights = {\n",
        "    'encoder_h1': tf.Variable\\\n",
        "    (tf.random_normal([n_input, n_hidden_1])),\n",
        "    'encoder_h2': tf.Variable\\\n",
        "    (tf.random_normal([n_hidden_1, n_hidden_2])),\n",
        "    'decoder_h1': tf.Variable\\\n",
        "    (tf.random_normal([n_hidden_2, n_hidden_1])),\n",
        "    'decoder_h2': tf.Variable\\\n",
        "    (tf.random_normal([n_hidden_1, n_input])),\n",
        "}"
      ],
      "execution_count": 0,
      "outputs": []
    },
    {
      "cell_type": "code",
      "metadata": {
        "id": "WLtheZDqDvZI",
        "colab_type": "code",
        "colab": {}
      },
      "source": [
        "biases = {\n",
        "    'encoder_b1': tf.Variable\\\n",
        "    (tf.random_normal([n_hidden_1])),\n",
        "    'encoder_b2': tf.Variable\\\n",
        "    (tf.random_normal([n_hidden_2])),\n",
        "    'decoder_b1': tf.Variable\\\n",
        "    (tf.random_normal([n_hidden_1])),\n",
        "    'decoder_b2': tf.Variable\\\n",
        "    (tf.random_normal([n_input])),\n",
        "}"
      ],
      "execution_count": 0,
      "outputs": []
    },
    {
      "cell_type": "code",
      "metadata": {
        "id": "6942o2RPDx03",
        "colab_type": "code",
        "colab": {}
      },
      "source": [
        "# Encoder Hidden layer with sigmoid activation #1\n",
        "encoder_in = tf.nn.sigmoid(tf.add\\\n",
        "                           (tf.matmul(X, \\\n",
        "                                      weights['encoder_h1']),\\\n",
        "                            biases['encoder_b1']))"
      ],
      "execution_count": 0,
      "outputs": []
    },
    {
      "cell_type": "code",
      "metadata": {
        "id": "5hXvUbzwD1ke",
        "colab_type": "code",
        "colab": {}
      },
      "source": [
        "# Decoder Hidden layer with sigmoid activation #2\n",
        "encoder_out = tf.nn.sigmoid(tf.add\\\n",
        "                            (tf.matmul(encoder_in,\\\n",
        "                                       weights['encoder_h2']),\\\n",
        "                             biases['encoder_b2']))\n"
      ],
      "execution_count": 0,
      "outputs": []
    },
    {
      "cell_type": "code",
      "metadata": {
        "id": "toOT221GD31r",
        "colab_type": "code",
        "colab": {}
      },
      "source": [
        "# Encoder Hidden layer with sigmoid activation #1\n",
        "decoder_in = tf.nn.sigmoid(tf.add\\\n",
        "                           (tf.matmul(encoder_out,\\\n",
        "                                      weights['decoder_h1']),\\\n",
        "                            biases['decoder_b1']))"
      ],
      "execution_count": 0,
      "outputs": []
    },
    {
      "cell_type": "code",
      "metadata": {
        "id": "PFmaTJoHD5Xw",
        "colab_type": "code",
        "colab": {}
      },
      "source": [
        "# Decoder Hidden layer with sigmoid activation #2\n",
        "decoder_out = tf.nn.sigmoid(tf.add\\\n",
        "                            (tf.matmul(decoder_in,\\\n",
        "                                       weights['decoder_h2']),\\\n",
        "                             biases['decoder_b2']))"
      ],
      "execution_count": 0,
      "outputs": []
    },
    {
      "cell_type": "code",
      "metadata": {
        "id": "BW7dkbcmD6z2",
        "colab_type": "code",
        "colab": {}
      },
      "source": [
        "# Prediction\n",
        "y_pred = decoder_out\n",
        "# Targets (Labels) are the input data.\n",
        "y_true = X"
      ],
      "execution_count": 0,
      "outputs": []
    },
    {
      "cell_type": "code",
      "metadata": {
        "id": "bq_kIhIpEA8E",
        "colab_type": "code",
        "outputId": "6dc190a8-6ef7-4b79-9906-c8f0eb30084f",
        "colab": {
          "base_uri": "https://localhost:8080/",
          "height": 91
        }
      },
      "source": [
        "# Define loss and optimizer, minimize the squared error\n",
        "cost = tf.reduce_mean(tf.pow(y_true - y_pred, 2))\n",
        "optimizer = tf.train.AdamOptimizer(learning_rate).minimize(cost)"
      ],
      "execution_count": 0,
      "outputs": [
        {
          "output_type": "stream",
          "text": [
            "W0729 09:00:00.271901 140343960500096 deprecation.py:323] From /usr/local/lib/python3.6/dist-packages/tensorflow/python/ops/math_grad.py:1205: add_dispatch_support.<locals>.wrapper (from tensorflow.python.ops.array_ops) is deprecated and will be removed in a future version.\n",
            "Instructions for updating:\n",
            "Use tf.where in 2.0, which has the same broadcast rule as np.where\n"
          ],
          "name": "stderr"
        }
      ]
    },
    {
      "cell_type": "code",
      "metadata": {
        "id": "V0Gux2f0ECbr",
        "colab_type": "code",
        "colab": {}
      },
      "source": [
        "# Launch the graph\n",
        "sess = tf.Session()\n",
        "sess.run(tf.global_variables_initializer())\n",
        "total_batch = int(mnist.train.num_examples/batch_size)\n",
        "# Training cycle\n",
        "for epoch in range(training_epochs):\n",
        "    # Loop over all batches\n",
        "    for i in range(total_batch):\n",
        "        batch_xs, batch_ys =\\\n",
        "                  mnist.train.next_batch(batch_size)\n",
        "        # Run optimization op (backprop) and cost op (to get loss value)\n",
        "        _, c = sess.run([optimizer, cost],\\\n",
        "                        feed_dict={X: batch_xs})\n",
        "    # Display logs per epoch step\n",
        "    if epoch % display_step == 0:\n",
        "        print(\"Epoch:\", '%04d' % (epoch+1),\n",
        "              \"cost=\", \"{:.9f}\".format(c))\n",
        "\n",
        "print(\"Optimization Finished!\")"
      ],
      "execution_count": 0,
      "outputs": []
    },
    {
      "cell_type": "code",
      "metadata": {
        "id": "sx7x6ycaEFRG",
        "colab_type": "code",
        "outputId": "e826369e-bc28-43ab-eb57-a039d869eaec",
        "colab": {
          "base_uri": "https://localhost:8080/",
          "height": 159
        }
      },
      "source": [
        "# Applying encode and decode over test set\n",
        "encode_decode = sess.run(\n",
        "    y_pred, feed_dict=\\\n",
        "    {X: mnist.test.images[:examples_to_show]})\n",
        "# Compare original images with their reconstructions\n",
        "f, a = plt.subplots(2, 10, figsize=(10, 2))\n",
        "for i in range(examples_to_show):\n",
        "    a[0][i].imshow(np.reshape(mnist.test.images[i], (28, 28)))\n",
        "    a[1][i].imshow(np.reshape(encode_decode[i], (28, 28)))\n",
        "f.show()\n",
        "plt.draw()\n",
        "plt.show()"
      ],
      "execution_count": 0,
      "outputs": [
        {
          "output_type": "display_data",
          "data": {
            "image/png": "[encoded data removed]",
            "text/plain": [
              "<Figure size 720x144 with 20 Axes>"
            ]
          },
          "metadata": {
            "tags": []
          }
        }
      ]
    },
    {
      "cell_type": "code",
      "metadata": {
        "id": "hAbGsMz9-INr",
        "colab_type": "code",
        "colab": {}
      },
      "source": [
        ""
      ],
      "execution_count": 0,
      "outputs": []
    }
  ]
}