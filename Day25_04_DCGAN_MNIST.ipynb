{
  "nbformat": 4,
  "nbformat_minor": 0,
  "metadata": {
    "colab": {
      "name": "Day25_04_DCGAN_MNIST.ipynb",
      "version": "0.3.2",
      "provenance": [],
      "collapsed_sections": [],
      "include_colab_link": true
    },
    "kernelspec": {
      "name": "python3",
      "display_name": "Python 3"
    },
    "accelerator": "GPU"
  },
  "cells": [
    {
      "cell_type": "markdown",
      "metadata": {
        "id": "view-in-github",
        "colab_type": "text"
      },
      "source": [
        "<a href=\"https://colab.research.google.com/github/DionKimmm/2019SummerML/blob/master/Day25_04_DCGAN_MNIST.ipynb\" target=\"_parent\"><img src=\"https://colab.research.google.com/assets/colab-badge.svg\" alt=\"Open In Colab\"/></a>"
      ]
    },
    {
      "cell_type": "markdown",
      "metadata": {
        "id": "tTWhDuIn1U5G",
        "colab_type": "text"
      },
      "source": [
        "# Deep Convolutional GAN 을 이용한 MNIST 이미지 생성"
      ]
    },
    {
      "cell_type": "code",
      "metadata": {
        "id": "RgfFMBVXw8db",
        "colab_type": "code",
        "colab": {}
      },
      "source": [
        "import warnings\n",
        "warnings.filterwarnings(action='ignore') "
      ],
      "execution_count": 0,
      "outputs": []
    },
    {
      "cell_type": "code",
      "metadata": {
        "id": "x-J9aBORlP9a",
        "colab_type": "code",
        "colab": {}
      },
      "source": [
        "import matplotlib.pyplot as plt\n",
        "import numpy as np\n",
        "import tensorflow as tf\n"
      ],
      "execution_count": 0,
      "outputs": []
    },
    {
      "cell_type": "code",
      "metadata": {
        "id": "iYSi6si0lU1z",
        "colab_type": "code",
        "outputId": "13e63597-c7ec-4be4-c54f-37010443edf2",
        "colab": {
          "base_uri": "https://localhost:8080/",
          "height": 89
        }
      },
      "source": [
        "# Import MNIST data\n",
        "from tensorflow.examples.tutorials.mnist import input_data\n",
        "mnist = input_data.read_data_sets(\"/tmp/data/\", one_hot=True)"
      ],
      "execution_count": 0,
      "outputs": [
        {
          "output_type": "stream",
          "text": [
            "Extracting /tmp/data/train-images-idx3-ubyte.gz\n",
            "Extracting /tmp/data/train-labels-idx1-ubyte.gz\n",
            "Extracting /tmp/data/t10k-images-idx3-ubyte.gz\n",
            "Extracting /tmp/data/t10k-labels-idx1-ubyte.gz\n"
          ],
          "name": "stdout"
        }
      ]
    },
    {
      "cell_type": "code",
      "metadata": {
        "id": "xDmbcCp7lV3r",
        "colab_type": "code",
        "colab": {}
      },
      "source": [
        "# Training Params\n",
        "num_steps = 10000\n",
        "batch_size = 128\n",
        "lr_generator = 0.002\n",
        "lr_discriminator = 0.002\n",
        "\n",
        "# Network Params\n",
        "image_dim = 784 # 28*28 pixels * 1 channel\n",
        "noise_dim = 100 # Noise data points"
      ],
      "execution_count": 0,
      "outputs": []
    },
    {
      "cell_type": "code",
      "metadata": {
        "id": "YZVeqhOHzaPA",
        "colab_type": "code",
        "colab": {}
      },
      "source": [
        "tf.reset_default_graph()"
      ],
      "execution_count": 0,
      "outputs": []
    },
    {
      "cell_type": "code",
      "metadata": {
        "id": "QVpFaCi7xE_8",
        "colab_type": "code",
        "colab": {}
      },
      "source": [
        "# Build Networks\n",
        "# Network Inputs\n",
        "noise_input = tf.placeholder(tf.float32, shape=[None, noise_dim])\n",
        "real_image_input = tf.placeholder(tf.float32, shape=[None, 28, 28, 1])\n",
        "# A boolean to indicate batch normalization if it is training or inference time\n",
        "is_training = tf.placeholder(tf.bool)"
      ],
      "execution_count": 0,
      "outputs": []
    },
    {
      "cell_type": "code",
      "metadata": {
        "id": "CT-SNVtMxIlY",
        "colab_type": "code",
        "colab": {}
      },
      "source": [
        "#LeakyReLU activation\n",
        "def leakyrelu(x, alpha=0.2):\n",
        "    return 0.5 * (1 + alpha) * x + 0.5 * (1 - alpha) * abs(x)"
      ],
      "execution_count": 0,
      "outputs": []
    },
    {
      "cell_type": "code",
      "metadata": {
        "id": "5eaucZK6xLTv",
        "colab_type": "code",
        "colab": {}
      },
      "source": [
        "# Generator Network\n",
        "# Input: Noise, Output: Image\n",
        "# Note that batch normalization has different behavior at training and inference time,\n",
        "# we then use a placeholder to indicates the layer if we are training or not.\n",
        "def generator(x, reuse=False):\n",
        "    with tf.variable_scope('Generator', reuse=reuse):\n",
        "        # TensorFlow Layers automatically create variables and calculate their\n",
        "        # shape, based on the input.\n",
        "        x = tf.layers.dense(x, units=7 * 7 * 128)\n",
        "        x = tf.layers.batch_normalization(x, training=is_training)\n",
        "        x = tf.nn.relu(x)\n",
        "        # Reshape to a 4-D array of images: (batch, height, width, channels)\n",
        "        # New shape: (batch, 7, 7, 128)\n",
        "        x = tf.reshape(x, shape=[-1, 7, 7, 128])\n",
        "        # Deconvolution, image shape: (batch, 14, 14, 64)\n",
        "        x = tf.layers.conv2d_transpose(x, 64, 5, strides=2, padding='same')\n",
        "        x = tf.layers.batch_normalization(x, training=is_training)\n",
        "        x = tf.nn.relu(x)\n",
        "        # Deconvolution, image shape: (batch, 28, 28, 1)\n",
        "        x = tf.layers.conv2d_transpose(x, 1, 5, strides=2, padding='same')\n",
        "        # Apply tanh for better stability - clip values to [-1, 1].\n",
        "        x = tf.nn.tanh(x)\n",
        "        return x"
      ],
      "execution_count": 0,
      "outputs": []
    },
    {
      "cell_type": "code",
      "metadata": {
        "id": "F4QunUaRx4py",
        "colab_type": "code",
        "colab": {}
      },
      "source": [
        "# Discriminator Network\n",
        "# Input: Image, Output: Prediction Real/Fake Image\n",
        "def discriminator(x, reuse=False):\n",
        "    with tf.variable_scope('Discriminator', reuse=reuse):\n",
        "        # Typical convolutional neural network to classify images.\n",
        "        x = tf.layers.conv2d(x, 64, 5, strides=2, padding='same')\n",
        "        x = tf.layers.batch_normalization(x, training=is_training)\n",
        "        x = leakyrelu(x)\n",
        "        x = tf.layers.conv2d(x, 128, 5, strides=2, padding='same')\n",
        "        x = tf.layers.batch_normalization(x, training=is_training)\n",
        "        x = leakyrelu(x)\n",
        "        # Flatten\n",
        "        x = tf.reshape(x, shape=[-1, 7*7*128])\n",
        "        x = tf.layers.dense(x, 1024)\n",
        "        x = tf.layers.batch_normalization(x, training=is_training)\n",
        "        x = leakyrelu(x)\n",
        "        # Output 2 classes: Real and Fake images\n",
        "        x = tf.layers.dense(x, 2)\n",
        "    return x"
      ],
      "execution_count": 0,
      "outputs": []
    },
    {
      "cell_type": "code",
      "metadata": {
        "id": "4NwHW9CvyaP1",
        "colab_type": "code",
        "colab": {}
      },
      "source": [
        "# Build Generator Network\n",
        "gen_sample = generator(noise_input)\n",
        "\n",
        "# Build 2 Discriminator Networks (one from noise input, one from generated samples)\n",
        "disc_real = discriminator(real_image_input)\n",
        "disc_fake = discriminator(gen_sample, reuse=True)\n",
        "\n",
        "# Build the stacked generator/discriminator\n",
        "stacked_gan = discriminator(gen_sample, reuse=True)"
      ],
      "execution_count": 0,
      "outputs": []
    },
    {
      "cell_type": "code",
      "metadata": {
        "id": "6UMxNSVsydgA",
        "colab_type": "code",
        "colab": {}
      },
      "source": [
        "# Build Loss (Labels for real images: 1, for fake images: 0)\n",
        "# Discriminator Loss for real and fake samples\n",
        "disc_loss_real = tf.reduce_mean(tf.nn.sparse_softmax_cross_entropy_with_logits(\n",
        "    logits=disc_real, labels=tf.ones([batch_size], dtype=tf.int32)))\n",
        "disc_loss_fake = tf.reduce_mean(tf.nn.sparse_softmax_cross_entropy_with_logits(\n",
        "    logits=disc_fake, labels=tf.zeros([batch_size], dtype=tf.int32)))\n",
        "# Sum both loss\n",
        "disc_loss = disc_loss_real + disc_loss_fake\n",
        "# Generator Loss (The generator tries to fool the discriminator, thus labels are 1)\n",
        "gen_loss = tf.reduce_mean(tf.nn.sparse_softmax_cross_entropy_with_logits(\n",
        "    logits=stacked_gan, labels=tf.ones([batch_size], dtype=tf.int32)))"
      ],
      "execution_count": 0,
      "outputs": []
    },
    {
      "cell_type": "code",
      "metadata": {
        "id": "OELZHi3wyqL8",
        "colab_type": "code",
        "colab": {}
      },
      "source": [
        "# Build Optimizers\n",
        "optimizer_gen = tf.train.AdamOptimizer(learning_rate=lr_generator, beta1=0.5, beta2=0.999)\n",
        "optimizer_disc = tf.train.AdamOptimizer(learning_rate=lr_discriminator, beta1=0.5, beta2=0.999)"
      ],
      "execution_count": 0,
      "outputs": []
    },
    {
      "cell_type": "code",
      "metadata": {
        "id": "tnKuKp8ayqDA",
        "colab_type": "code",
        "colab": {}
      },
      "source": [
        "# Training Variables for each optimizer\n",
        "# By default in TensorFlow, all variables are updated by each optimizer, so we\n",
        "# need to precise for each one of them the specific variables to update.\n",
        "# Generator Network Variables\n",
        "gen_vars = tf.get_collection(tf.GraphKeys.TRAINABLE_VARIABLES, scope='Generator')\n",
        "# Discriminator Network Variables\n",
        "disc_vars = tf.get_collection(tf.GraphKeys.TRAINABLE_VARIABLES, scope='Discriminator')"
      ],
      "execution_count": 0,
      "outputs": []
    },
    {
      "cell_type": "code",
      "metadata": {
        "id": "eO52eNT6ld_4",
        "colab_type": "code",
        "colab": {}
      },
      "source": [
        "# Create training operations\n",
        "# TensorFlow UPDATE_OPS collection holds all batch norm operation to update the moving mean/stddev\n",
        "gen_update_ops = tf.get_collection(tf.GraphKeys.UPDATE_OPS, scope='Generator')\n",
        "# `control_dependencies` ensure that the `gen_update_ops` will be run before the `minimize` op (backprop)\n",
        "with tf.control_dependencies(gen_update_ops):\n",
        "    train_gen = optimizer_gen.minimize(gen_loss, var_list=gen_vars)\n",
        "disc_update_ops = tf.get_collection(tf.GraphKeys.UPDATE_OPS, scope='Discriminator')\n",
        "with tf.control_dependencies(disc_update_ops):\n",
        "    train_disc = optimizer_disc.minimize(disc_loss, var_list=disc_vars)\n",
        "    "
      ],
      "execution_count": 0,
      "outputs": []
    },
    {
      "cell_type": "code",
      "metadata": {
        "id": "QSX2go3Ulg1S",
        "colab_type": "code",
        "colab": {}
      },
      "source": [
        "# Start Training\n",
        "# Start a new TF session\n",
        "sess = tf.Session()\n",
        "\n",
        "# Run the initializer\n",
        "sess.run(tf.global_variables_initializer())\n",
        "    \n",
        "# Training\n",
        "for i in range(1, num_steps+1):\n",
        "\n",
        "    # Prepare Input Data\n",
        "    # Get the next batch of MNIST data (only images are needed, not labels)\n",
        "    batch_x, _ = mnist.train.next_batch(batch_size)\n",
        "    batch_x = np.reshape(batch_x, newshape=[-1, 28, 28, 1])\n",
        "    # Rescale to [-1, 1], the input range of the discriminator\n",
        "    batch_x = batch_x * 2. - 1.\n",
        "\n",
        "    # Discriminator Training\n",
        "    # Generate noise to feed to the generator\n",
        "    z = np.random.uniform(-1., 1., size=[batch_size, noise_dim])\n",
        "    _, dl = sess.run([train_disc, disc_loss], feed_dict={real_image_input: batch_x, noise_input: z, is_training:True})\n",
        "    \n",
        "    # Generator Training\n",
        "    # Generate noise to feed to the generator\n",
        "    z = np.random.uniform(-1., 1., size=[batch_size, noise_dim])\n",
        "    _, gl = sess.run([train_gen, gen_loss], feed_dict={noise_input: z, is_training:True})\n",
        "    \n",
        "    if i % 500 == 0 or i == 1:\n",
        "        print('Step %i: Generator Loss: %f, Discriminator Loss: %f' % (i, gl, dl))\n"
      ],
      "execution_count": 0,
      "outputs": []
    },
    {
      "cell_type": "code",
      "metadata": {
        "id": "SEBzq6Maltf-",
        "colab_type": "code",
        "outputId": "928fe1a2-ea35-4520-a990-e8a2eee9b92e",
        "colab": {
          "base_uri": "https://localhost:8080/",
          "height": 379
        }
      },
      "source": [
        "# Testing\n",
        "# Generate images from noise, using the generator network.\n",
        "n = 6\n",
        "canvas = np.empty((28 * n, 28 * n))\n",
        "for i in range(n):\n",
        "    # Noise input.\n",
        "    z = np.random.uniform(-1., 1., size=[n, noise_dim])\n",
        "    # Generate image from noise.\n",
        "    g = sess.run(gen_sample, feed_dict={noise_input: z, is_training:False})\n",
        "    # Rescale values to the original [0, 1] (from tanh -> [-1, 1])\n",
        "#     g = (g + 1.) / 2.\n",
        "    # Reverse colours for better display\n",
        "    g = -1 * (g - 1)\n",
        "    for j in range(n):\n",
        "        # Draw the generated digits\n",
        "        canvas[i * 28:(i + 1) * 28, j * 28:(j + 1) * 28] = g[j].reshape([28, 28])\n",
        "\n",
        "plt.figure(figsize=(n, n))\n",
        "plt.imshow(canvas, origin=\"upper\", cmap=\"gray\")\n",
        "plt.show()"
      ],
      "execution_count": 0,
      "outputs": [
        {
          "output_type": "display_data",
          "data": {
            "image/png": "[encoded data removed]",
            "text/plain": [
              "<Figure size 432x432 with 1 Axes>"
            ]
          },
          "metadata": {
            "tags": []
          }
        }
      ]
    },
    {
      "cell_type": "code",
      "metadata": {
        "id": "60sb7kt_luKg",
        "colab_type": "code",
        "colab": {}
      },
      "source": [
        ""
      ],
      "execution_count": 0,
      "outputs": []
    }
  ]
}