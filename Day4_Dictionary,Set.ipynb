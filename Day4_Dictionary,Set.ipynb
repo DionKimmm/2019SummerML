{
  "nbformat": 4,
  "nbformat_minor": 0,
  "metadata": {
    "colab": {
      "name": "Day4_Dictionary,Set.ipynb",
      "version": "0.3.2",
      "provenance": [],
      "include_colab_link": true
    },
    "kernelspec": {
      "name": "python3",
      "display_name": "Python 3"
    },
    "accelerator": "GPU"
  },
  "cells": [
    {
      "cell_type": "markdown",
      "metadata": {
        "id": "view-in-github",
        "colab_type": "text"
      },
      "source": [
        "<a href=\"https://colab.research.google.com/github/DionKimmm/2019SummerML/blob/master/Day4_Dictionary%2CSet.ipynb\" target=\"_parent\"><img src=\"https://colab.research.google.com/assets/colab-badge.svg\" alt=\"Open In Colab\"/></a>"
      ]
    },
    {
      "cell_type": "markdown",
      "metadata": {
        "id": "GLMcaYy9a-Sq",
        "colab_type": "text"
      },
      "source": [
        "# Dictionary\n",
        "\n",
        "* 키(key)-값(value)로 연관된 데이터들이 순서 없이 모인 자료형 \n",
        "* 키를 통해서 데이터에 접근 가능 \n",
        "* { } 를 사용하고 키:값 형식으로 저장하고 ‘,’(쉼표)로 구분한다. \n",
        "* 키는 중복될 수 없다. \n"
      ]
    },
    {
      "cell_type": "code",
      "metadata": {
        "id": "6PAh_tmabelU",
        "colab_type": "code",
        "outputId": "ac08ff87-9834-4486-deb1-9566f6d23e67",
        "colab": {
          "base_uri": "https://localhost:8080/",
          "height": 53
        }
      },
      "source": [
        "student = {'name':'홍길동', 'major':'정보통신공학과', 'score':3.5} \n",
        "print(student) \n",
        "scores = {1:3.5, 2:4.0, 3:4.3, 4:4.2} \n",
        "print(scores)"
      ],
      "execution_count": 0,
      "outputs": [
        {
          "output_type": "stream",
          "text": [
            "{'name': '홍길동', 'major': '정보통신공학과', 'score': 3.5}\n",
            "{1: 3.5, 2: 4.0, 3: 4.3, 4: 4.2}\n"
          ],
          "name": "stdout"
        }
      ]
    },
    {
      "cell_type": "markdown",
      "metadata": {
        "id": "MiWprs4obwD-",
        "colab_type": "text"
      },
      "source": [
        "## 생성\n",
        "{ } 사용할 때는 { 'key' : 'value' } 로 중괄호와 :를 사용하고,\n",
        "생성자를 이용할 때는 ( key = value ) 로 소괄호를 사용한다."
      ]
    },
    {
      "cell_type": "code",
      "metadata": {
        "id": "RDEJ_1HCbkXY",
        "colab_type": "code",
        "outputId": "10d9dcf6-27ce-4814-98c6-2f1c539b1583",
        "colab": {
          "base_uri": "https://localhost:8080/",
          "height": 71
        }
      },
      "source": [
        "dic1 = {} #빈 딕셔너리 생성\n",
        "print(dic1)\n",
        "dic2 = dict() #생성자를 이용해서 딕셔너리 생성\n",
        "dic3 = {'name':'item', 1:3.5, False:[1,2,3]}\n",
        "print(dic3)\n",
        "dic4 = dict(name='홍길동', height=180, age=20)\n",
        "print(dic4)"
      ],
      "execution_count": 0,
      "outputs": [
        {
          "output_type": "stream",
          "text": [
            "{}\n",
            "{'name': 'item', 1: 3.5, False: [1, 2, 3]}\n",
            "{'name': '홍길동', 'height': 180, 'age': 20}\n"
          ],
          "name": "stdout"
        }
      ]
    },
    {
      "cell_type": "markdown",
      "metadata": {
        "id": "qOwJq_AhcYBZ",
        "colab_type": "text"
      },
      "source": [
        "## 아이템 값가져오기\n"
      ]
    },
    {
      "cell_type": "code",
      "metadata": {
        "id": "kGU9dnuJczS1",
        "colab_type": "code",
        "outputId": "dc04e011-39e0-4632-df64-a07b7ff8b835",
        "colab": {
          "base_uri": "https://localhost:8080/",
          "height": 53
        }
      },
      "source": [
        "student = {'name':'홍길동', 'major':'정통과', 'score':3.5}\n",
        "print(student['name'])\n",
        "print(student['score'])"
      ],
      "execution_count": 0,
      "outputs": [
        {
          "output_type": "stream",
          "text": [
            "홍길동\n",
            "3.5\n"
          ],
          "name": "stdout"
        }
      ]
    },
    {
      "cell_type": "markdown",
      "metadata": {
        "id": "OLMzJOxic4Lq",
        "colab_type": "text"
      },
      "source": [
        "## 수정, 추가, 삭제"
      ]
    },
    {
      "cell_type": "code",
      "metadata": {
        "id": "62JMvX75dDXK",
        "colab_type": "code",
        "outputId": "d330583e-4cd0-481f-a5a3-d0bec7621b62",
        "colab": {
          "base_uri": "https://localhost:8080/",
          "height": 35
        }
      },
      "source": [
        "student['major'] = '정보통신과'\n",
        "student['grade'] = 4\n",
        "del student['name']\n",
        "print(student)"
      ],
      "execution_count": 0,
      "outputs": [
        {
          "output_type": "stream",
          "text": [
            "{'major': '정보통신과', 'score': 3.5, 'grade': 4}\n"
          ],
          "name": "stdout"
        }
      ]
    },
    {
      "cell_type": "markdown",
      "metadata": {
        "id": "bxA6W6J9fRyO",
        "colab_type": "text"
      },
      "source": [
        "## 실습) 딕셔너리의 Value 를 List화 하여 값 가져오기"
      ]
    },
    {
      "cell_type": "code",
      "metadata": {
        "id": "cFeAkKFKe80w",
        "colab_type": "code",
        "outputId": "480e4dd5-9fe5-424f-b51a-083ad67fa2c0",
        "colab": {
          "base_uri": "https://localhost:8080/",
          "height": 89
        }
      },
      "source": [
        "student = {'name':'홍길동', 'major':'정통과', 'score':3.5}\n",
        "\n",
        "keys = list(student.keys())\n",
        "print(keys)\n",
        "\n",
        "for key in keys:\n",
        "  print(key, student[key])"
      ],
      "execution_count": 0,
      "outputs": [
        {
          "output_type": "stream",
          "text": [
            "['name', 'major', 'score']\n",
            "name 홍길동\n",
            "major 정통과\n",
            "score 3.5\n"
          ],
          "name": "stdout"
        }
      ]
    },
    {
      "cell_type": "markdown",
      "metadata": {
        "id": "66DEe-lRdNP1",
        "colab_type": "text"
      },
      "source": [
        "## Key, Value 가져오기\n"
      ]
    },
    {
      "cell_type": "code",
      "metadata": {
        "id": "s_noUrSydhi4",
        "colab_type": "code",
        "outputId": "2f34589d-0a81-4d2a-9082-1642e2a25e00",
        "colab": {
          "base_uri": "https://localhost:8080/",
          "height": 89
        }
      },
      "source": [
        "print(type(student))\n",
        "print(student.items())\n",
        "print(student.keys())\n",
        "print(student.values())"
      ],
      "execution_count": 0,
      "outputs": [
        {
          "output_type": "stream",
          "text": [
            "<class 'dict'>\n",
            "dict_items([('major', '정보통신과'), ('score', 3.5), ('grade', 4)])\n",
            "dict_keys(['major', 'score', 'grade'])\n",
            "dict_values(['정보통신과', 3.5, 4])\n"
          ],
          "name": "stdout"
        }
      ]
    },
    {
      "cell_type": "markdown",
      "metadata": {
        "id": "Pwj4mkAedroL",
        "colab_type": "text"
      },
      "source": [
        "# Set\n",
        "* 중복되지 않은 데이터들이 모인 집합 형태의 자료형\n",
        "* 순서가 없음\n",
        "* { } 를 사용하고 아이템들은 ' , ' (쉼표)로 구분"
      ]
    },
    {
      "cell_type": "code",
      "metadata": {
        "id": "Pyt-WyLpd1qZ",
        "colab_type": "code",
        "outputId": "7a4d725a-865f-43f2-9c8c-df1e1b634eaa",
        "colab": {
          "base_uri": "https://localhost:8080/",
          "height": 53
        }
      },
      "source": [
        "fruits = {'banana', 'apple', 'cherry', 'kiwi'}\n",
        "print(fruits)\n",
        "numbers = {1, 2, 3, 4, 5}\n",
        "print(numbers)"
      ],
      "execution_count": 0,
      "outputs": [
        {
          "output_type": "stream",
          "text": [
            "{'banana', 'apple', 'kiwi', 'cherry'}\n",
            "{1, 2, 3, 4, 5}\n"
          ],
          "name": "stdout"
        }
      ]
    },
    {
      "cell_type": "markdown",
      "metadata": {
        "id": "Yy3oaMl9eR_g",
        "colab_type": "text"
      },
      "source": [
        "## 아이템 추가, 수정, 삭제\n",
        "* 1개 값을 추가하는 add(), 여러개의 값 추가를 하는 update(), 값 삭제하는 remove()\n"
      ]
    },
    {
      "cell_type": "code",
      "metadata": {
        "id": "SK19FMPDh5pV",
        "colab_type": "code",
        "outputId": "e5f11027-364b-4643-87bf-b3cf20586f6a",
        "colab": {
          "base_uri": "https://localhost:8080/",
          "height": 71
        }
      },
      "source": [
        "set1 = {1, 2, 3}\n",
        "set1.add(4)\n",
        "print(set1)\n",
        "\n",
        "set1.update([4, 5, 6])\n",
        "print(set1)\n",
        "\n",
        "set1.remove(5) #값 자체\n",
        "print(set1)"
      ],
      "execution_count": 0,
      "outputs": [
        {
          "output_type": "stream",
          "text": [
            "{1, 2, 3, 4}\n",
            "{1, 2, 3, 4, 5, 6}\n",
            "{1, 2, 3, 4, 6}\n"
          ],
          "name": "stdout"
        }
      ]
    },
    {
      "cell_type": "markdown",
      "metadata": {
        "id": "7Bwwbd8ciEKR",
        "colab_type": "text"
      },
      "source": [
        "## 집합의 연산\n",
        "* & : 교집합, | : 합집합, - : 차집합"
      ]
    },
    {
      "cell_type": "code",
      "metadata": {
        "id": "85cv14eGincO",
        "colab_type": "code",
        "outputId": "2d72f88f-bf33-4730-80e4-6420cf265d4c",
        "colab": {
          "base_uri": "https://localhost:8080/",
          "height": 125
        }
      },
      "source": [
        "set1 = set([0, 1, 2, 3, 4, 5, 6]) #생성자로 생성\n",
        "set2 = set([4, 5, 6, 7, 8, 9, 10])\n",
        "\n",
        "print(set1 & set2) # 교집합\n",
        "print(set1.intersection(set2))\n",
        "\n",
        "print(set1 | set2) # 합집합\n",
        "print(set1.union(set2))\n",
        "\n",
        "print(set1 - set2) # 차집합\n",
        "print(set1.difference(set2))"
      ],
      "execution_count": 0,
      "outputs": [
        {
          "output_type": "stream",
          "text": [
            "{4, 5, 6}\n",
            "{4, 5, 6}\n",
            "{0, 1, 2, 3, 4, 5, 6, 7, 8, 9, 10}\n",
            "{0, 1, 2, 3, 4, 5, 6, 7, 8, 9, 10}\n",
            "{0, 1, 2, 3}\n",
            "{0, 1, 2, 3}\n"
          ],
          "name": "stdout"
        }
      ]
    },
    {
      "cell_type": "markdown",
      "metadata": {
        "id": "cUu9C60SpXj4",
        "colab_type": "text"
      },
      "source": [
        "** tuple을 dict로 변환하기"
      ]
    },
    {
      "cell_type": "code",
      "metadata": {
        "id": "uwM7kf2apdFk",
        "colab_type": "code",
        "outputId": "654f8807-b181-4273-dc64-a5b68fab8029",
        "colab": {
          "base_uri": "https://localhost:8080/",
          "height": 71
        }
      },
      "source": [
        "t = (('a', 1), ('b', 2))\n",
        "ret = dict(map(reversed, t))\n",
        "print(ret)"
      ],
      "execution_count": 0,
      "outputs": [
        {
          "output_type": "stream",
          "text": [
            "{1: 'a', 2: 'b'}\n",
            "dict_items([(1, 'a'), (2, 'b')])\n",
            "dict_keys([1, 2])\n"
          ],
          "name": "stdout"
        }
      ]
    },
    {
      "cell_type": "markdown",
      "metadata": {
        "id": "2fPpvLm8jCsw",
        "colab_type": "text"
      },
      "source": [
        "# Unpacking"
      ]
    },
    {
      "cell_type": "code",
      "metadata": {
        "id": "3q30sHDYlwp9",
        "colab_type": "code",
        "outputId": "ccf49343-7fba-4d45-8c7d-7eee1782b415",
        "colab": {
          "base_uri": "https://localhost:8080/",
          "height": 197
        }
      },
      "source": [
        "nums = [1, 2, 3, 4, 5] #list 선언\n",
        "num1, num2, num3, num4, num5 = nums\n",
        "print(num1, num2, num3, num4, num5)\n",
        "num1, *num2, num3 = nums\n",
        "print(num1, num2, num3)\n",
        "*num1, num2, num3 = nums\n",
        "print(num1, num2, num3)\n",
        "num1, num2, *num3 = nums\n",
        "print(num1, num2, num3)\n",
        "\n",
        "nums = [1, 2, 3, 4, 5, 7, 8, 10] #list 선언\n",
        "num1, *num2, num3 = nums\n",
        "print(num1, num2, num3)\n",
        "*num1, num2, num3 = nums\n",
        "print(num1, num2, num3)\n",
        "num1, num2, *num3 = nums\n",
        "print(num1, num2, num3)\n",
        "\n",
        "nums = (1, 2, 3) #tuple 선언\n",
        "num1, num2, num3 = nums\n",
        "print(num1, num2, num3)\n",
        "num1, num2, _ = nums #1,2번째 만 받겠다\n",
        "print(num1, num2)\n",
        "_, _, num3 = nums #3번째만 받겠다\n",
        "print(num3)"
      ],
      "execution_count": 0,
      "outputs": [
        {
          "output_type": "stream",
          "text": [
            "1 2 3 4 5\n",
            "1 [2, 3, 4] 5\n",
            "[1, 2, 3] 4 5\n",
            "1 2 [3, 4, 5]\n",
            "1 [2, 3, 4, 5, 7, 8] 10\n",
            "[1, 2, 3, 4, 5, 7] 8 10\n",
            "1 2 [3, 4, 5, 7, 8, 10]\n",
            "1 2 3\n",
            "1 2\n",
            "3\n"
          ],
          "name": "stdout"
        }
      ]
    },
    {
      "cell_type": "markdown",
      "metadata": {
        "id": "On8Q_8ennO_4",
        "colab_type": "text"
      },
      "source": [
        "## 딕셔너리를 언패킹하면 key값이 저장된다."
      ]
    },
    {
      "cell_type": "code",
      "metadata": {
        "id": "Hu8gSpWkl5Of",
        "colab_type": "code",
        "outputId": "da6491d2-b516-4048-e6bf-0f06fe1494ed",
        "colab": {
          "base_uri": "https://localhost:8080/",
          "height": 35
        }
      },
      "source": [
        "student = {'name':'홍길동', 'major':'정보통신', 'grade':3}\n",
        "a, b, c = student\n",
        "print(a, b, c)"
      ],
      "execution_count": 0,
      "outputs": [
        {
          "output_type": "stream",
          "text": [
            "name major grade\n"
          ],
          "name": "stdout"
        }
      ]
    },
    {
      "cell_type": "markdown",
      "metadata": {
        "id": "oDRx4mD1nWfv",
        "colab_type": "text"
      },
      "source": [
        "# 함수 실습\n",
        "두 수와 연산자(문자열형)를 입력받아서 사칙연산을 수행하는 함수를 만드시오."
      ]
    },
    {
      "cell_type": "code",
      "metadata": {
        "id": "YkqwYG1Kn_NM",
        "colab_type": "code",
        "outputId": "06e77d06-dc7c-4947-ba01-24f78a98293f",
        "colab": {
          "base_uri": "https://localhost:8080/",
          "height": 53
        }
      },
      "source": [
        "def calculator(first, operand, second) :\n",
        "  if operand == '+':\n",
        "    return first + second\n",
        "  elif operand == '-':\n",
        "    return first - second\n",
        "  elif operand == '*':\n",
        "    return first * second\n",
        "  elif operand == '/':\n",
        "    return first / second\n",
        "  else:\n",
        "    return 0\n",
        "  \n",
        "first, operand, second = input().split(' ')\n",
        "first = int(first)\n",
        "second = int(second)\n",
        "calculator(first, operand, second)\n",
        "    "
      ],
      "execution_count": 0,
      "outputs": [
        {
          "output_type": "stream",
          "text": [
            "3 * 5\n"
          ],
          "name": "stdout"
        },
        {
          "output_type": "execute_result",
          "data": {
            "text/plain": [
              "15"
            ]
          },
          "metadata": {
            "tags": []
          },
          "execution_count": 38
        }
      ]
    },
    {
      "cell_type": "markdown",
      "metadata": {
        "id": "hrvfatIYooj6",
        "colab_type": "text"
      },
      "source": [
        "# 반환형이 콜렉션일때 unpacking"
      ]
    },
    {
      "cell_type": "code",
      "metadata": {
        "id": "JS4tJ1gOql7N",
        "colab_type": "code",
        "outputId": "c97e027e-b5ec-43a4-d500-4339849e4112",
        "colab": {
          "base_uri": "https://localhost:8080/",
          "height": 71
        }
      },
      "source": [
        "def ret_list() :\n",
        "  return [1, 2]\n",
        "l = ret_list()\n",
        "print(l)\n",
        "n1, n2 = ret_list()\n",
        "print(n1, n2)\n",
        "n1, _ = ret_list()\n",
        "print(n1)"
      ],
      "execution_count": 0,
      "outputs": [
        {
          "output_type": "stream",
          "text": [
            "[1, 2]\n",
            "1 2\n",
            "1\n"
          ],
          "name": "stdout"
        }
      ]
    },
    {
      "cell_type": "markdown",
      "metadata": {
        "id": "_CyrjPtuquxa",
        "colab_type": "text"
      },
      "source": [
        "# 실습\n",
        "젯수와 피젯수(정수형)을 입력받아 몫과 나머지를 튜플로 반환하는 함수를 만드시오.\n",
        "divide(15, 4) 실행하면 (3, 3)을 반환하는 식으로 만드시오."
      ]
    },
    {
      "cell_type": "code",
      "metadata": {
        "id": "OAAMhO8QrUuK",
        "colab_type": "code",
        "outputId": "970c7ea2-d4d1-4ac1-ebf7-01626a5d77dd",
        "colab": {
          "base_uri": "https://localhost:8080/",
          "height": 53
        }
      },
      "source": [
        "def divide(first, second):\n",
        "  return (first//second, first%second) # 소괄호를 씀으로써 튜플 반환\n",
        "\n",
        "a, b = input().split(' ')\n",
        "a = int(a)\n",
        "b = int(b)\n",
        "divide(a, b)"
      ],
      "execution_count": 0,
      "outputs": [
        {
          "output_type": "stream",
          "text": [
            "15 4\n"
          ],
          "name": "stdout"
        },
        {
          "output_type": "execute_result",
          "data": {
            "text/plain": [
              "(3, 3)"
            ]
          },
          "metadata": {
            "tags": []
          },
          "execution_count": 51
        }
      ]
    },
    {
      "cell_type": "code",
      "metadata": {
        "id": "YgOGgDXgrjmZ",
        "colab_type": "code",
        "colab": {}
      },
      "source": [
        ""
      ],
      "execution_count": 0,
      "outputs": []
    }
  ]
}