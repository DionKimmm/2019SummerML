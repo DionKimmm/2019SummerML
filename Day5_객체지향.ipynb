{
  "nbformat": 4,
  "nbformat_minor": 0,
  "metadata": {
    "colab": {
      "name": "Day5_객체지향.ipynb",
      "version": "0.3.2",
      "provenance": [],
      "collapsed_sections": [],
      "include_colab_link": true
    },
    "kernelspec": {
      "name": "python3",
      "display_name": "Python 3"
    },
    "accelerator": "GPU"
  },
  "cells": [
    {
      "cell_type": "markdown",
      "metadata": {
        "id": "view-in-github",
        "colab_type": "text"
      },
      "source": [
        "<a href=\"https://colab.research.google.com/github/DionKimmm/2019SummerML/blob/master/Day5_%EA%B0%9D%EC%B2%B4%EC%A7%80%ED%96%A5.ipynb\" target=\"_parent\"><img src=\"https://colab.research.google.com/assets/colab-badge.svg\" alt=\"Open In Colab\"/></a>"
      ]
    },
    {
      "cell_type": "markdown",
      "metadata": {
        "id": "sSJ3sWDgcscc",
        "colab_type": "text"
      },
      "source": [
        "# 객체지향 프로그래밍\n",
        "* 잘 설계된 클래스를 이용하여 객체(오브젝트)를 만들고\n",
        "* 클래스는 속성(인스턴스 변수)과 행위(메소드)를 가지도록 설계하고\n",
        "* 객체는 클래스에서 정의한 속성(state)과 행위(behavior)를 수행한다.\n",
        "* 소프트웨어상에서 객체의 상태 또는 속성은 인스턴스 변수로 표현\n",
        "* 행위 혹은 동작은 메소드로 표현함."
      ]
    },
    {
      "cell_type": "markdown",
      "metadata": {
        "id": "7XrQGhmZdSV4",
        "colab_type": "text"
      },
      "source": [
        "## 객체지향의 용어\n",
        "* 객체 : 데이터, 행위, 아이덴티티를 가지고 있는 것\n",
        "* 클래스 : 클래스란 객체를 생성하는 틀이다\n",
        "* 캡슐화 : 행위와 상태를 포장하고 외부에 노출할 것과 감출 것을 결정하는 것\n",
        "* 상속 : 코드의 재사용성과 계층구조의 표현\n",
        "* 다형성 : 캡슐화, 상속과 함께 동작 함으로써 객체지향 프로그램의 흐름 제어를 단순화 하는 것"
      ]
    },
    {
      "cell_type": "markdown",
      "metadata": {
        "id": "K-1SyxdvdpmN",
        "colab_type": "text"
      },
      "source": [
        "# 인스턴스(instance)의 이해\n",
        "## 클래스(class)\n",
        "*인스턴스 변수와 메소드들을 모아 놓은 집합체로, 객체의 설계도(혹은 템플릿)이다. 형틀(template) 또는 청사진(blueprint)이라고도 한다.\n",
        "## 인스턴스 \n",
        "* 클래스로부터 만들어지는 각각의 객체를 그 클래스의 인스턴스라고 한다.\n",
        "* 서로 다른 인스턴스는 서로 다른 속성 값을 가질 수 있다.\n"
      ]
    },
    {
      "cell_type": "markdown",
      "metadata": {
        "id": "RSSmE935eIWg",
        "colab_type": "text"
      },
      "source": [
        "# 클래스의 정의\n"
      ]
    },
    {
      "cell_type": "code",
      "metadata": {
        "id": "iUH0XL80eMo9",
        "colab_type": "code",
        "colab": {
          "base_uri": "https://localhost:8080/",
          "height": 53
        },
        "outputId": "d3ef2841-e55f-41d2-884f-f5318f5fb823"
      },
      "source": [
        "class Person:\n",
        "  def hello(self):\n",
        "    print('Hello')\n",
        "    \n",
        "person = Person()\n",
        "person.hello()\n",
        "person1 = Person()\n",
        "person1.hello()"
      ],
      "execution_count": 1,
      "outputs": [
        {
          "output_type": "stream",
          "text": [
            "Hello\n",
            "Hello\n"
          ],
          "name": "stdout"
        }
      ]
    },
    {
      "cell_type": "markdown",
      "metadata": {
        "id": "rJQn6eo1eXDw",
        "colab_type": "text"
      },
      "source": [
        "# 속성 정의\n"
      ]
    },
    {
      "cell_type": "code",
      "metadata": {
        "id": "DFJyuXvYedKw",
        "colab_type": "code",
        "colab": {
          "base_uri": "https://localhost:8080/",
          "height": 53
        },
        "outputId": "6af2cb18-3f92-4a01-d3c8-228495cbd0d2"
      },
      "source": [
        "class Person:\n",
        "  def __init__(self):\n",
        "    self.hi = 'Hello'\n",
        "    \n",
        "  def hello(self):\n",
        "    print(self.hi)\n",
        "\n",
        "person = Person()\n",
        "person.hello()\n",
        "print(person.hi)"
      ],
      "execution_count": 22,
      "outputs": [
        {
          "output_type": "stream",
          "text": [
            "Hello\n",
            "Hello\n"
          ],
          "name": "stdout"
        }
      ]
    },
    {
      "cell_type": "code",
      "metadata": {
        "id": "T-aqvvubeoqi",
        "colab_type": "code",
        "colab": {
          "base_uri": "https://localhost:8080/",
          "height": 53
        },
        "outputId": "09296c55-7205-4186-e97a-c056be5defe0"
      },
      "source": [
        "class Person:\n",
        "  def __init__(self, name, age):\n",
        "    self.name = name\n",
        "    self.age = age\n",
        "    \n",
        "  def hello(self):\n",
        "    print('Hello ' + self.name)\n",
        "    print('당신은 {}살입니다'.format(self.age))\n",
        "    \n",
        "person = Person('홍길동', 20)\n",
        "person.hello()"
      ],
      "execution_count": 3,
      "outputs": [
        {
          "output_type": "stream",
          "text": [
            "Hello 홍길동\n",
            "당신은 20살입니다\n"
          ],
          "name": "stdout"
        }
      ]
    },
    {
      "cell_type": "markdown",
      "metadata": {
        "id": "lFZamp2rf4g1",
        "colab_type": "text"
      },
      "source": [
        "# 비공개 속성 정의와 사용\n",
        "* 생성자에 언더바 두개 변수 명으로 한다 ( __age )\n",
        "* 비공개 속성은 그 속성을 프린트하거나 값 수정을 할 수 없다."
      ]
    },
    {
      "cell_type": "code",
      "metadata": {
        "id": "dJz-zeP2fepc",
        "colab_type": "code",
        "colab": {
          "base_uri": "https://localhost:8080/",
          "height": 89
        },
        "outputId": "1d7b2c17-e1d0-4046-bcc7-d11592dc479d"
      },
      "source": [
        "class Person:\n",
        "  def __init__(self, name, age):\n",
        "    self.name = name\n",
        "    self.__age = age\n",
        "    \n",
        "  def hello(self):\n",
        "    print('Hello ' + self.name)\n",
        "    print('당신은 {}살입니다'.format(self.__age))\n",
        "  \n",
        "  def incrementAge(self):\n",
        "    self.__age+=1\n",
        "    \n",
        "  def info(self):\n",
        "    print(self.name)\n",
        "    print(self.__age)\n",
        "    \n",
        "person = Person(name='홍길동', age=20)\n",
        "person.hello()\n",
        "person.info()\n",
        "# print(person.__age) # 에러\n",
        "# person.__age = 100 # 에러"
      ],
      "execution_count": 7,
      "outputs": [
        {
          "output_type": "stream",
          "text": [
            "Hello 홍길동\n",
            "당신은 20살입니다\n",
            "홍길동\n",
            "20\n"
          ],
          "name": "stdout"
        }
      ]
    },
    {
      "cell_type": "markdown",
      "metadata": {
        "id": "BZaxnJiihMaA",
        "colab_type": "text"
      },
      "source": [
        "# 클래스 속성 사용\n",
        "* 호출될 때 마다 속성이 바뀌는 예시"
      ]
    },
    {
      "cell_type": "code",
      "metadata": {
        "id": "woFzvA_Vg99w",
        "colab_type": "code",
        "colab": {
          "base_uri": "https://localhost:8080/",
          "height": 89
        },
        "outputId": "eeb56cee-8136-440d-b81f-5f20518df21b"
      },
      "source": [
        "class Person:\n",
        "  count = 0\n",
        "  \n",
        "  def __init__(self, name):\n",
        "    self.name = name\n",
        "    Person.count += 1\n",
        "    self.count += 1\n",
        "    \n",
        "person1 = Person('홍길동')\n",
        "print(Person.count)\n",
        "print(person1.count)\n",
        "person2 = Person('허균')\n",
        "print(Person.count)\n",
        "print(person2.count)"
      ],
      "execution_count": 33,
      "outputs": [
        {
          "output_type": "stream",
          "text": [
            "1\n",
            "2\n",
            "2\n",
            "3\n"
          ],
          "name": "stdout"
        }
      ]
    },
    {
      "cell_type": "markdown",
      "metadata": {
        "id": "5u9iDxi5hc4b",
        "colab_type": "text"
      },
      "source": [
        "# 정적(static) 메서드 정의\n",
        "* 정적메서드는 클래스에서 바로 호출할 수 있는 메서드\n",
        "* 클래스명.메서드명()으로 호출\n",
        "* 메서드 위에 @staticmethod를 붙임\n",
        "* 매개변수에 self를 사용하지 않음"
      ]
    },
    {
      "cell_type": "code",
      "metadata": {
        "id": "rET1FRuihqOp",
        "colab_type": "code",
        "colab": {
          "base_uri": "https://localhost:8080/",
          "height": 89
        },
        "outputId": "b3ea1912-1bac-4bf3-9723-f64ca2cc454e"
      },
      "source": [
        "class Math:\n",
        "  @staticmethod\n",
        "  def add(a, b):\n",
        "    return a + b\n",
        "  \n",
        "  @staticmethod\n",
        "  def sub(a, b):\n",
        "    return a - b\n",
        "  \n",
        "  def __init__(self, a, b):\n",
        "    self.a = a\n",
        "    self.b = b\n",
        "  \n",
        "  def minus(self):\n",
        "    return self.a - self.b\n",
        "  \n",
        "  \n",
        "# 원래의 방법\n",
        "math = Math(4, 5)\n",
        "print(math.add(4, 5))\n",
        "print(math.minus())\n",
        "\n",
        "# Static Method를 활용한 방법 : 클래스명.메서드명()으로 바로 호출\n",
        "print(Math.add(4, 5))\n",
        "print(Math.sub(9, 5))\n"
      ],
      "execution_count": 29,
      "outputs": [
        {
          "output_type": "stream",
          "text": [
            "9\n",
            "-1\n",
            "9\n",
            "4\n"
          ],
          "name": "stdout"
        }
      ]
    },
    {
      "cell_type": "code",
      "metadata": {
        "id": "-K775n-P3V5w",
        "colab_type": "code",
        "colab": {}
      },
      "source": [
        "c="
      ],
      "execution_count": 0,
      "outputs": []
    },
    {
      "cell_type": "markdown",
      "metadata": {
        "id": "cVEvr1c1h1bv",
        "colab_type": "text"
      },
      "source": [
        "# 클래스의 상속\n",
        "## class SubClass(SuperClass)"
      ]
    },
    {
      "cell_type": "code",
      "metadata": {
        "id": "x5Rz0A_sijCi",
        "colab_type": "code",
        "colab": {}
      },
      "source": [
        "class Vehicle:\n",
        "  def __init__(self, speed):\n",
        "    self.speed = speed\n",
        "    \n",
        "  def speed_up(self):\n",
        "    self.speed += 10\n",
        "    \n",
        "  def speed_dn(self):\n",
        "    self.speed -= 10"
      ],
      "execution_count": 0,
      "outputs": []
    },
    {
      "cell_type": "code",
      "metadata": {
        "id": "ZsOFk9J7ivnf",
        "colab_type": "code",
        "colab": {
          "base_uri": "https://localhost:8080/",
          "height": 35
        },
        "outputId": "75bc2046-ec11-4b1f-b8a1-348c43aa265f"
      },
      "source": [
        "class Car(Vehicle): # Vehicle을 상속받은 Car 클래스\n",
        "  def __init__(self, speed, wheels, seats):\n",
        "    Vehicle.__init__(self, speed)\n",
        "    self.wheels = wheels\n",
        "    self.seats = seats\n",
        "    \n",
        "  def info(self):\n",
        "    print(self.speed, self.wheels, self.seats)\n",
        "\n",
        "\n",
        "car = Car(100, 4, 4)\n",
        "car.speed_up()\n",
        "car.info()"
      ],
      "execution_count": 12,
      "outputs": [
        {
          "output_type": "stream",
          "text": [
            "110 4 4\n"
          ],
          "name": "stdout"
        }
      ]
    },
    {
      "cell_type": "markdown",
      "metadata": {
        "id": "wE-ymPBHzuVv",
        "colab_type": "text"
      },
      "source": [
        "# 클래스 상속 실습\n",
        "* Car Class를 상속받는 Truck class를 정의하라\n",
        "* 적재량을 관리하는 loadage 변수를 정의하라\n",
        "* 'load'를 화면에 인쇄하는 load 메쏘드를 정의하라.\n",
        "* 'unload'를 화면에 인쇄하는 unload 메쏘드를 정의하라."
      ]
    },
    {
      "cell_type": "code",
      "metadata": {
        "id": "_2o92LUBjDTn",
        "colab_type": "code",
        "colab": {
          "base_uri": "https://localhost:8080/",
          "height": 71
        },
        "outputId": "d6386b6a-0173-4ba0-9cdb-e0878b647cb6"
      },
      "source": [
        "class Truck(Car):\n",
        "  def __init__(self, speed, wheels, seats, loadage): #loadage : 트럭의 적재량\n",
        "    Car.__init__(self, speed, wheels, seats) # 새로운 변수를 제외하고 모두 Car의 생성자에 넣는다.\n",
        "    self.loadage = loadage\n",
        "\n",
        "  def info(self):\n",
        "    print(self.speed, self.wheels, self.seats, self.loadage)\n",
        "    \n",
        "  def load(self):\n",
        "    print('load')\n",
        "    \n",
        "  def unload(self):\n",
        "    print('unload')\n",
        "\n",
        "truck = Truck(100, 6, 2, 300)\n",
        "truck.load()\n",
        "truck.unload()\n",
        "truck.info()"
      ],
      "execution_count": 24,
      "outputs": [
        {
          "output_type": "stream",
          "text": [
            "load\n",
            "unload\n",
            "100 6 2 300\n"
          ],
          "name": "stdout"
        }
      ]
    }
  ]
}