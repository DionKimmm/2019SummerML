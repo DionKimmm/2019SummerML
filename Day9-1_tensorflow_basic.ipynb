{
  "nbformat": 4,
  "nbformat_minor": 0,
  "metadata": {
    "colab": {
      "name": "Day9-1_tensorflow_basic.ipynb",
      "version": "0.3.2",
      "provenance": [],
      "include_colab_link": true
    },
    "kernelspec": {
      "name": "python3",
      "display_name": "Python 3"
    }
  },
  "cells": [
    {
      "cell_type": "markdown",
      "metadata": {
        "id": "view-in-github",
        "colab_type": "text"
      },
      "source": [
        "<a href=\"https://colab.research.google.com/github/DionKimmm/2019SummerML/blob/master/Day9-1_tensorflow_basic.ipynb\" target=\"_parent\"><img src=\"https://colab.research.google.com/assets/colab-badge.svg\" alt=\"Open In Colab\"/></a>"
      ]
    },
    {
      "cell_type": "markdown",
      "metadata": {
        "id": "Cue2MffbOubu",
        "colab_type": "text"
      },
      "source": [
        "# Tensorflow 데이터형"
      ]
    },
    {
      "cell_type": "code",
      "metadata": {
        "id": "lnmWMsHzQd-a",
        "colab_type": "code",
        "colab": {}
      },
      "source": [
        "3 # a rank 0 tensor; this is a scalar with shape []\n",
        "[1. ,2., 3.] # a rank 1 tensor; this is a vector with shape [3]\n",
        "[[1., 2., 3.], [4., 5., 6.]] # a rank 2 tensor; a matrix with shape [2, 3]\n",
        "[[[1., 2., 3.]], [[7., 8., 9.]]] # a rank 3 tensor with shape [2, 1, 3]\n",
        "import tensorflow as tf"
      ],
      "execution_count": 0,
      "outputs": []
    },
    {
      "cell_type": "markdown",
      "metadata": {
        "id": "Tqw5FmkHQsU0",
        "colab_type": "text"
      },
      "source": [
        "# Constant (상수) 만들기\n",
        "* 실제로 많이 쓰지는 않음"
      ]
    },
    {
      "cell_type": "code",
      "metadata": {
        "id": "FdHAfhMiQtOz",
        "colab_type": "code",
        "colab": {
          "base_uri": "https://localhost:8080/",
          "height": 36
        },
        "outputId": "48e3b9e3-bd8e-403e-ab80-e5e62e88da18"
      },
      "source": [
        "hello = tf.constant(\"Hello, TensorFlow!\")\n",
        "\n",
        "sess = tf.Session()\n",
        "\n",
        "print(sess.run(hello))"
      ],
      "execution_count": 2,
      "outputs": [
        {
          "output_type": "stream",
          "text": [
            "b'Hello, TensorFlow!'\n"
          ],
          "name": "stdout"
        }
      ]
    },
    {
      "cell_type": "markdown",
      "metadata": {
        "id": "3aDmO57lQy6f",
        "colab_type": "text"
      },
      "source": [
        "# Computational Graph"
      ]
    },
    {
      "cell_type": "code",
      "metadata": {
        "id": "fizJgBhzRCCN",
        "colab_type": "code",
        "colab": {}
      },
      "source": [
        "node1 = tf.constant(3.0, tf.float32)\n",
        "node2 = tf.constant(4.0) # also tf.float32 implicitly\n",
        "node3 = tf.add(node1, node2)"
      ],
      "execution_count": 0,
      "outputs": []
    },
    {
      "cell_type": "code",
      "metadata": {
        "id": "cTsWQebhRJ1k",
        "colab_type": "code",
        "colab": {
          "base_uri": "https://localhost:8080/",
          "height": 75
        },
        "outputId": "f0283c95-cac1-47aa-cb35-37633b2c7567"
      },
      "source": [
        "print(\"node1:\", node1, \"node2\", node2)\n",
        "print(\"node3:\", node3)"
      ],
      "execution_count": 5,
      "outputs": [
        {
          "output_type": "stream",
          "text": [
            "node1: Tensor(\"Const_1:0\", shape=(), dtype=float32) node2 Tensor(\"Const_2:0\", shape=(), dtype=float32)\n",
            "node3: Tensor(\"Add:0\", shape=(), dtype=float32)\n"
          ],
          "name": "stdout"
        }
      ]
    },
    {
      "cell_type": "markdown",
      "metadata": {
        "id": "ohYZe3TDglFa",
        "colab_type": "text"
      },
      "source": [
        "![Graph](https://www.tensorflow.org/images/getting_started_adder.png)"
      ]
    },
    {
      "cell_type": "code",
      "metadata": {
        "id": "DIdEzVP3RYmA",
        "colab_type": "code",
        "colab": {
          "base_uri": "https://localhost:8080/",
          "height": 55
        },
        "outputId": "91e44893-a663-4498-ac17-a8d2bd85842e"
      },
      "source": [
        "sess = tf.Session()\n",
        "print(\"sess.run(node1, node2): \", sess.run([node1, node2]))\n",
        "print(\"sess.run(node3): \", sess.run(node3))"
      ],
      "execution_count": 7,
      "outputs": [
        {
          "output_type": "stream",
          "text": [
            "sess.run(node1, node2):  [3.0, 4.0]\n",
            "sess.run(node3):  7.0\n"
          ],
          "name": "stdout"
        }
      ]
    },
    {
      "cell_type": "markdown",
      "metadata": {
        "id": "iro1xOQaRyYD",
        "colab_type": "text"
      },
      "source": [
        "## placeholder"
      ]
    },
    {
      "cell_type": "code",
      "metadata": {
        "id": "dVaYGWlKR3U2",
        "colab_type": "code",
        "colab": {
          "base_uri": "https://localhost:8080/",
          "height": 55
        },
        "outputId": "c00b74fe-5d48-4412-c149-b810326f4f7c"
      },
      "source": [
        "a = tf.placeholder(tf.float32)\n",
        "b = tf.placeholder(tf.float32)\n",
        "adder_node = a + b # + provides a shortcut for tf.add(a, b)\n",
        "\n",
        "print(sess.run(adder_node, feed_dict={a: 3, b: 4.5})) # dictionary\n",
        "print(sess.run(adder_node, feed_dict={a: [1, 3], b: [2, 4]}))"
      ],
      "execution_count": 8,
      "outputs": [
        {
          "output_type": "stream",
          "text": [
            "7.5\n",
            "[3. 7.]\n"
          ],
          "name": "stdout"
        }
      ]
    },
    {
      "cell_type": "code",
      "metadata": {
        "id": "Ix6-kEvYSJCd",
        "colab_type": "code",
        "colab": {}
      },
      "source": [
        "add_and_triple = adder_node * 3."
      ],
      "execution_count": 0,
      "outputs": []
    },
    {
      "cell_type": "code",
      "metadata": {
        "id": "XgkoN73WSNaw",
        "colab_type": "code",
        "colab": {
          "base_uri": "https://localhost:8080/",
          "height": 36
        },
        "outputId": "938cbdc5-c6df-4443-e38c-911edcf69f93"
      },
      "source": [
        "print(sess.run(add_and_triple, feed_dict={a: 3, b: 4.5}))"
      ],
      "execution_count": 10,
      "outputs": [
        {
          "output_type": "stream",
          "text": [
            "22.5\n"
          ],
          "name": "stdout"
        }
      ]
    },
    {
      "cell_type": "markdown",
      "metadata": {
        "id": "a1oGvyeNSSnn",
        "colab_type": "text"
      },
      "source": [
        "## Variable"
      ]
    },
    {
      "cell_type": "code",
      "metadata": {
        "id": "OEz3oNu2S46J",
        "colab_type": "code",
        "colab": {
          "base_uri": "https://localhost:8080/",
          "height": 55
        },
        "outputId": "c7384531-a6df-480c-e8a5-a35e9fc37a8b"
      },
      "source": [
        "W = tf.Variable(tf.random_normal([1]))\n",
        "b = tf.Variable(tf.random_normal([3]))\n",
        "sess.run(tf.global_variables_initializer()) # 변수 초기화\n",
        "print(sess.run(W))\n",
        "print(sess.run(b))"
      ],
      "execution_count": 11,
      "outputs": [
        {
          "output_type": "stream",
          "text": [
            "[-0.25769755]\n",
            "[-0.19052541 -1.5912712   0.5790076 ]\n"
          ],
          "name": "stdout"
        }
      ]
    },
    {
      "cell_type": "code",
      "metadata": {
        "id": "mkzX4SYBTKYB",
        "colab_type": "code",
        "colab": {}
      },
      "source": [
        ""
      ],
      "execution_count": 0,
      "outputs": []
    }
  ]
}