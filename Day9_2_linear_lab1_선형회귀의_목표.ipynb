{
  "nbformat": 4,
  "nbformat_minor": 0,
  "metadata": {
    "colab": {
      "name": "Day9-2_linear_lab1_선형회귀의 목표.ipynb",
      "version": "0.3.2",
      "provenance": [],
      "collapsed_sections": [],
      "include_colab_link": true
    },
    "kernelspec": {
      "name": "python3",
      "display_name": "Python 3"
    },
    "accelerator": "GPU"
  },
  "cells": [
    {
      "cell_type": "markdown",
      "metadata": {
        "id": "view-in-github",
        "colab_type": "text"
      },
      "source": [
        "<a href=\"https://colab.research.google.com/github/DionKimmm/2019SummerML/blob/master/Day9_2_linear_lab1_%EC%84%A0%ED%98%95%ED%9A%8C%EA%B7%80%EC%9D%98_%EB%AA%A9%ED%91%9C.ipynb\" target=\"_parent\"><img src=\"https://colab.research.google.com/assets/colab-badge.svg\" alt=\"Open In Colab\"/></a>"
      ]
    },
    {
      "cell_type": "markdown",
      "metadata": {
        "id": "9pHQdWzG1TG6",
        "colab_type": "text"
      },
      "source": [
        "오늘은 지도학습의 머신러닝 방법 중 LinearRegression (선형 회귀)에 대해 공부했습니다.\n",
        "\n",
        "\n",
        " 지도학습이라는 말의 의미는 많은 데이터를 훈련(train)시키는 것입이고, 회귀라는 의미는 다음 수를 예측하는 것이고, 선형이라는 의미는 그 예측하는 그래프가 단순한 일직선인 것을 의미합니다.\n",
        "\n",
        "\n",
        " 그래서 오늘 내용은 y = ax + b에서 주어진 x값과 x값에 대응하는 y값이 주어졌을 때, a와 b를 구하는 간단한 수학문제를 컴퓨터가 직접 값을 예측해보게끔 실습해보았습니다.\n",
        "\n",
        "\n",
        " 오늘 배운 내용 중에서 꼭 기억하셔야 할 중요한 내용은 다음 두 가지입니다.\n",
        "cost함수의 개념이 중요합니다. 그리고 학습의 목표는 cost의 값을 최소화 시키는 것입니다.\n",
        "learning_rate(수식에서 a(알파))의 의미는 다음 W값으로 이동할 때 얼만큼의 폭으로 이동하냐 입니다.\n",
        "\n",
        "\n",
        " -- 강사님 설명 중.."
      ]
    },
    {
      "cell_type": "code",
      "metadata": {
        "id": "DuIPyTgpXu7b",
        "colab_type": "code",
        "colab": {}
      },
      "source": [
        "import tensorflow as tf\n",
        "from matplotlib import pyplot as plt"
      ],
      "execution_count": 0,
      "outputs": []
    },
    {
      "cell_type": "markdown",
      "metadata": {
        "id": "9LkxFXH1eQUZ",
        "colab_type": "text"
      },
      "source": [
        "## y = ax + b 의 그래프에서 a = 1, b"
      ]
    },
    {
      "cell_type": "code",
      "metadata": {
        "id": "KocQ3-DKX34S",
        "colab_type": "code",
        "colab": {}
      },
      "source": [
        "x_train = [0, 1, 2, 3]\n",
        "y_train = [1, 2, 3, 4]"
      ],
      "execution_count": 0,
      "outputs": []
    },
    {
      "cell_type": "code",
      "metadata": {
        "id": "vyIk_n-gX9JZ",
        "colab_type": "code",
        "outputId": "b476796f-812b-491b-e313-59d45f022a3b",
        "colab": {
          "base_uri": "https://localhost:8080/",
          "height": 56
        }
      },
      "source": [
        "W = tf.Variable(tf.random_normal([1]))\n",
        "b = tf.Variable(tf.random_normal([1]))\n",
        "print(W, b)"
      ],
      "execution_count": 0,
      "outputs": [
        {
          "output_type": "stream",
          "text": [
            "<tf.Variable 'Variable:0' shape=(1,) dtype=float32_ref> <tf.Variable 'Variable_1:0' shape=(1,) dtype=float32_ref>\n"
          ],
          "name": "stdout"
        }
      ]
    },
    {
      "cell_type": "code",
      "metadata": {
        "id": "nKpuc9fiYCiS",
        "colab_type": "code",
        "colab": {}
      },
      "source": [
        "hypothesis = x_train * W + b"
      ],
      "execution_count": 0,
      "outputs": []
    },
    {
      "cell_type": "code",
      "metadata": {
        "id": "zj63nBfrYIxo",
        "colab_type": "code",
        "colab": {}
      },
      "source": [
        "# 손실 함수\n",
        "cost = tf.reduce_mean(tf.square(hypothesis - y_train))"
      ],
      "execution_count": 0,
      "outputs": []
    },
    {
      "cell_type": "markdown",
      "metadata": {
        "id": "2H6LaJ6meG6p",
        "colab_type": "text"
      },
      "source": [
        "![image](https://user-images.githubusercontent.com/38340645/60962398-2201e380-a349-11e9-8770-f05bc417e5d3.png)\n"
      ]
    },
    {
      "cell_type": "code",
      "metadata": {
        "id": "WNp3J9vXYPlv",
        "colab_type": "code",
        "colab": {}
      },
      "source": [
        "optimizer = tf.train.GradientDescentOptimizer(learning_rate=0.01)\n",
        "train = optimizer.minimize(cost)"
      ],
      "execution_count": 0,
      "outputs": []
    },
    {
      "cell_type": "markdown",
      "metadata": {
        "id": "fR04AL1EYrYD",
        "colab_type": "text"
      },
      "source": [
        "목 표 : 손실 함수 cost를 최소화 하는 것"
      ]
    },
    {
      "cell_type": "code",
      "metadata": {
        "id": "acdK_mV8YxSA",
        "colab_type": "code",
        "colab": {}
      },
      "source": [
        "sess = tf.Session()\n",
        "sess.run(tf.global_variables_initializer())"
      ],
      "execution_count": 0,
      "outputs": []
    },
    {
      "cell_type": "code",
      "metadata": {
        "id": "rcT-TQivZkB_",
        "colab_type": "code",
        "outputId": "2e3b6d26-9cf0-4fde-9749-2d57e3233ba2",
        "colab": {
          "base_uri": "https://localhost:8080/",
          "height": 409
        }
      },
      "source": [
        "for step in range(2001):\n",
        "  sess.run(train)\n",
        "  if step % 100 == 0:\n",
        "    print(step, sess.run(cost), sess.run(W), sess.run(b))"
      ],
      "execution_count": 0,
      "outputs": [
        {
          "output_type": "stream",
          "text": [
            "0 11.999812 [-0.7311189] [0.7237277]\n",
            "100 0.021133991 [0.8867038] [1.2412812]\n",
            "200 0.006408112 [0.9377424] [1.1329225]\n",
            "300 0.0019430626 [0.9657177] [1.0731941]\n",
            "400 0.0005891674 [0.9811223] [1.0403044]\n",
            "500 0.0001786476 [0.98960495] [1.0221938]\n",
            "600 5.4166674e-05 [0.9942761] [1.0122209]\n",
            "700 1.6425216e-05 [0.9968479] [1.0067296]\n",
            "800 4.9807786e-06 [0.99826425] [1.0037057]\n",
            "900 1.5106004e-06 [0.9990442] [1.0020409]\n",
            "1000 4.5814e-07 [0.9994736] [1.0011239]\n",
            "1100 1.3897949e-07 [0.9997101] [1.000619]\n",
            "1200 4.218393e-08 [0.9998402] [1.000341]\n",
            "1300 1.2796434e-08 [0.9999119] [1.0001879]\n",
            "1400 3.935071e-09 [0.9999512] [1.0001042]\n",
            "1500 1.2178312e-09 [0.999973] [1.000058]\n",
            "1600 3.6490633e-10 [0.9999851] [1.0000317]\n",
            "1700 1.3132251e-10 [0.99999136] [1.0000191]\n",
            "1800 3.6109782e-11 [0.9999953] [1.00001]\n",
            "1900 3.6109782e-11 [0.9999953] [1.00001]\n",
            "2000 3.6109782e-11 [0.9999953] [1.00001]\n"
          ],
          "name": "stdout"
        }
      ]
    },
    {
      "cell_type": "code",
      "metadata": {
        "id": "XA2aOZrOZwb4",
        "colab_type": "code",
        "outputId": "cb36986d-7ad3-466a-e38e-c3a1b90192bf",
        "colab": {
          "base_uri": "https://localhost:8080/",
          "height": 36
        }
      },
      "source": [
        "sess.run(4 * W + b)"
      ],
      "execution_count": 0,
      "outputs": [
        {
          "output_type": "execute_result",
          "data": {
            "text/plain": [
              "array([4.9999914], dtype=float32)"
            ]
          },
          "metadata": {
            "tags": []
          },
          "execution_count": 11
        }
      ]
    },
    {
      "cell_type": "code",
      "metadata": {
        "id": "YQ642NuQaAPn",
        "colab_type": "code",
        "outputId": "31322acb-d10b-43c8-e5d0-b55c71fd54c6",
        "colab": {
          "base_uri": "https://localhost:8080/",
          "height": 36
        }
      },
      "source": [
        "sess.run([2, 3, 11, 5] * W + b)"
      ],
      "execution_count": 0,
      "outputs": [
        {
          "output_type": "execute_result",
          "data": {
            "text/plain": [
              "array([ 3.0000005,  3.999996 , 11.999958 ,  5.9999866], dtype=float32)"
            ]
          },
          "metadata": {
            "tags": []
          },
          "execution_count": 12
        }
      ]
    },
    {
      "cell_type": "markdown",
      "metadata": {
        "id": "D874pHnzaCsX",
        "colab_type": "text"
      },
      "source": [
        "![image](https://user-images.githubusercontent.com/38340645/60962398-2201e380-a349-11e9-8770-f05bc417e5d3.png)\n"
      ]
    },
    {
      "cell_type": "code",
      "metadata": {
        "id": "gkRWB0DAbwVB",
        "colab_type": "code",
        "colab": {}
      },
      "source": [
        ""
      ],
      "execution_count": 0,
      "outputs": []
    }
  ]
}